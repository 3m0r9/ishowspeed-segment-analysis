{
 "cells": [
  {
   "metadata": {},
   "cell_type": "markdown",
   "source": "# Twitter Data Scraper",
   "id": "f660501247b9d619"
  },
  {
   "metadata": {
    "ExecuteTime": {
     "end_time": "2024-10-10T02:03:53.177841Z",
     "start_time": "2024-10-10T02:03:53.162925Z"
    }
   },
   "cell_type": "code",
   "source": [
    "import pandas as pd\n",
    "import json\n",
    "import re\n",
    "\n",
    "# Load the dataset\n",
    "with open(\"dataset_easy-twitter-search-scraper_2024-10-10_01-56-24-056.json\", \"r\", encoding=\"utf-8\") as file:\n",
    "    data = json.load(file)"
   ],
   "id": "bfdb07fcf725b1d5",
   "outputs": [],
   "execution_count": 8
  },
  {
   "metadata": {
    "ExecuteTime": {
     "end_time": "2024-10-10T02:03:54.247836Z",
     "start_time": "2024-10-10T02:03:54.231434Z"
    }
   },
   "cell_type": "code",
   "source": [
    "# Convert the JSON data to a pandas DataFrame\n",
    "df = pd.DataFrame(data)\n",
    "\n",
    "# Display the first few rows of the dataset to understand its structure\n",
    "print(\"Original Dataset:\")\n",
    "print(df.head())"
   ],
   "id": "d3b00cafc7c8494",
   "outputs": [
    {
     "name": "stdout",
     "output_type": "stream",
     "text": [
      "Original Dataset:\n",
      "                    id                                                url  \\\n",
      "0  1844183629653737485  https://twitter.com/IStopSpeed/status/18441836...   \n",
      "1  1844171042832646341  https://twitter.com/kindalornso816/status/1844...   \n",
      "2  1844034407159701602  https://twitter.com/WINTER_THAILAND/status/184...   \n",
      "3  1844128223300551170  https://twitter.com/ugetnofunds/status/1844128...   \n",
      "4  1844122745422159957  https://twitter.com/aliawan6421/status/1844122...   \n",
      "\n",
      "   verified                 timestamp  \\\n",
      "0     False  2024-10-10T01:10:00.000Z   \n",
      "1     False  2024-10-10T00:20:00.000Z   \n",
      "2      True  2024-10-09T15:17:00.000Z   \n",
      "3     False  2024-10-09T21:30:00.000Z   \n",
      "4     False  2024-10-09T21:08:00.000Z   \n",
      "\n",
      "                                                text  \\\n",
      "0  selagi gak masuk indonesia mah bodo amat.\\nber...   \n",
      "1  Gak sabar nunggu update selanjutnya tentang ak...   \n",
      "2  การ์ดน้องหนาว จากอัลบั้ม aespa 에스파 The 5th Min...   \n",
      "3                                    speed indonesia   \n",
      "4  Gue banget yang ikutin perjalanan Speed di Ind...   \n",
      "\n",
      "                                               links  isQuote  isRetweet  \\\n",
      "0                                                 []    False      False   \n",
      "1                                                 []    False      False   \n",
      "2  [https://twitter.com/search?q=%23WINTER, https...    False       True   \n",
      "3                                                 []    False      False   \n",
      "4                                                 []    False      False   \n",
      "\n",
      "   isReply          replyingTo  ...  replies  retweets  quotes  \\\n",
      "0     True        [/daddyyuki]  ...        0         0       0   \n",
      "1     True   [/kegblgnunfaedh]  ...        0         0       0   \n",
      "2    False                 NaN  ...        0       378       0   \n",
      "3     True   [/funnyhoodvidss]  ...        0         0       0   \n",
      "4     True  [/dompetdhuafaorg]  ...        0         0       0   \n",
      "\n",
      "        searchQuery                                               user  \\\n",
      "0  speed Indonesia   {'avatar': 'https://cdn.xcancel.comhttps://pbs...   \n",
      "1  speed Indonesia   {'avatar': 'https://cdn.xcancel.comhttps://pbs...   \n",
      "2  speed Indonesia   {'avatar': 'https://cdn.xcancel.comhttps://pbs...   \n",
      "3  speed Indonesia   {'avatar': 'https://cdn.xcancel.comhttps://pbs...   \n",
      "4  speed Indonesia   {'avatar': 'https://cdn.xcancel.comhttps://pbs...   \n",
      "\n",
      "                                              images quotedTweet username  \\\n",
      "0                                                NaN         NaN      NaN   \n",
      "1                                                NaN         NaN      NaN   \n",
      "2  [https://cdn.xcancel.comhttps://pbs.twimg.com/...         NaN      NaN   \n",
      "3                                                NaN         NaN      NaN   \n",
      "4                                                NaN         NaN      NaN   \n",
      "\n",
      "  fullname avatar  \n",
      "0      NaN    NaN  \n",
      "1      NaN    NaN  \n",
      "2      NaN    NaN  \n",
      "3      NaN    NaN  \n",
      "4      NaN    NaN  \n",
      "\n",
      "[5 rows x 21 columns]\n"
     ]
    }
   ],
   "execution_count": 9
  },
  {
   "metadata": {
    "ExecuteTime": {
     "end_time": "2024-10-10T02:05:16.372164Z",
     "start_time": "2024-10-10T02:05:16.367048Z"
    }
   },
   "cell_type": "code",
   "source": [
    "# Here is columns of interest like 'username', 'content', 'date', etc.\n",
    "df = df[['id', 'timestamp', 'text', 'searchQuery']]"
   ],
   "id": "b81edb5bdfd1488e",
   "outputs": [],
   "execution_count": 11
  },
  {
   "metadata": {
    "ExecuteTime": {
     "end_time": "2024-10-10T02:05:25.759901Z",
     "start_time": "2024-10-10T02:05:25.753399Z"
    }
   },
   "cell_type": "code",
   "source": [
    "# Convert 'date' column to datetime format for better time-based analysis\n",
    "df['timestamp'] = pd.to_datetime(df['timestamp'])"
   ],
   "id": "8fd97c941b203fe1",
   "outputs": [
    {
     "name": "stderr",
     "output_type": "stream",
     "text": [
      "C:\\Users\\IMRAN\\AppData\\Local\\Temp\\ipykernel_35452\\1412423069.py:2: SettingWithCopyWarning: \n",
      "A value is trying to be set on a copy of a slice from a DataFrame.\n",
      "Try using .loc[row_indexer,col_indexer] = value instead\n",
      "\n",
      "See the caveats in the documentation: https://pandas.pydata.org/pandas-docs/stable/user_guide/indexing.html#returning-a-view-versus-a-copy\n",
      "  df['timestamp'] = pd.to_datetime(df['timestamp'])\n"
     ]
    }
   ],
   "execution_count": 12
  },
  {
   "metadata": {
    "ExecuteTime": {
     "end_time": "2024-10-10T02:06:58.721064Z",
     "start_time": "2024-10-10T02:06:58.711198Z"
    }
   },
   "cell_type": "code",
   "source": [
    "# Clean the 'text' column: remove URLs, hashtags, mentions, and unnecessary characters from the tweets\n",
    "def clean_text(text):\n",
    "    if not isinstance(text, str):\n",
    "        text = ''\n",
    "    # Remove URLs\n",
    "    text = re.sub(r\"http\\S+|www\\S+|https\\S+\", '', text, flags=re.MULTILINE)\n",
    "    # Remove mentions\n",
    "    text = re.sub(r'\\@\\w+|\\#', '', text)\n",
    "    # Remove non-alphanumeric characters\n",
    "    text = re.sub(r'[^\\w\\s]', '', text)\n",
    "    return text\n",
    "\n",
    "df['clean_content'] = df['text'].apply(clean_text)\n",
    "\n",
    "# Display the first few rows of the cleaned dataset\n",
    "print(\"Cleaned Dataset:\")\n",
    "print(df.head())"
   ],
   "id": "37ffacb10e88537e",
   "outputs": [
    {
     "name": "stdout",
     "output_type": "stream",
     "text": [
      "Cleaned Dataset:\n",
      "                    id                 timestamp  \\\n",
      "0  1844183629653737485 2024-10-10 01:10:00+00:00   \n",
      "1  1844171042832646341 2024-10-10 00:20:00+00:00   \n",
      "2  1844034407159701602 2024-10-09 15:17:00+00:00   \n",
      "3  1844128223300551170 2024-10-09 21:30:00+00:00   \n",
      "4  1844122745422159957 2024-10-09 21:08:00+00:00   \n",
      "\n",
      "                                                text       searchQuery  \\\n",
      "0  selagi gak masuk indonesia mah bodo amat.\\nber...  speed Indonesia    \n",
      "1  Gak sabar nunggu update selanjutnya tentang ak...  speed Indonesia    \n",
      "2  การ์ดน้องหนาว จากอัลบั้ม aespa 에스파 The 5th Min...  speed Indonesia    \n",
      "3                                    speed indonesia  speed Indonesia    \n",
      "4  Gue banget yang ikutin perjalanan Speed di Ind...  speed Indonesia    \n",
      "\n",
      "                                       clean_content  \n",
      "0  selagi gak masuk indonesia mah bodo amat\\nbera...  \n",
      "1  Gak sabar nunggu update selanjutnya tentang ak...  \n",
      "2  การดนองหนาว จากอลบม aespa 에스파 The 5th Mini Alb...  \n",
      "3                                    speed indonesia  \n",
      "4  Gue banget yang ikutin perjalanan Speed di Ind...  \n"
     ]
    }
   ],
   "execution_count": 16
  },
  {
   "metadata": {
    "ExecuteTime": {
     "end_time": "2024-10-10T02:07:15.393563Z",
     "start_time": "2024-10-10T02:07:15.389762Z"
    }
   },
   "cell_type": "code",
   "source": [
    "# Check for duplicates and remove them\n",
    "df.drop_duplicates(subset=['clean_content'], inplace=True)"
   ],
   "id": "ebea9c92d10aa521",
   "outputs": [],
   "execution_count": 17
  },
  {
   "metadata": {
    "ExecuteTime": {
     "end_time": "2024-10-10T02:07:17.287959Z",
     "start_time": "2024-10-10T02:07:17.284237Z"
    }
   },
   "cell_type": "code",
   "source": [
    "# Optionally, drop rows where the 'content' is empty after cleaning\n",
    "df = df[df['clean_content'].str.strip() != '']"
   ],
   "id": "bed98cefa7c69d03",
   "outputs": [],
   "execution_count": 18
  },
  {
   "metadata": {
    "ExecuteTime": {
     "end_time": "2024-10-10T02:07:19.812383Z",
     "start_time": "2024-10-10T02:07:19.796657Z"
    }
   },
   "cell_type": "code",
   "source": [
    "# Save the cleaned dataset for further analysis\n",
    "df.to_csv(\"cleaned_twitter_data.csv\", index=False)\n",
    "\n",
    "# Display the first few rows of the cleaned dataset\n",
    "print(\"Cleaned Dataset:\")\n",
    "print(df.head())\n"
   ],
   "id": "22c9635aba17ef02",
   "outputs": [
    {
     "name": "stdout",
     "output_type": "stream",
     "text": [
      "Cleaned Dataset:\n",
      "                    id                 timestamp  \\\n",
      "0  1844183629653737485 2024-10-10 01:10:00+00:00   \n",
      "1  1844171042832646341 2024-10-10 00:20:00+00:00   \n",
      "2  1844034407159701602 2024-10-09 15:17:00+00:00   \n",
      "3  1844128223300551170 2024-10-09 21:30:00+00:00   \n",
      "4  1844122745422159957 2024-10-09 21:08:00+00:00   \n",
      "\n",
      "                                                text       searchQuery  \\\n",
      "0  selagi gak masuk indonesia mah bodo amat.\\nber...  speed Indonesia    \n",
      "1  Gak sabar nunggu update selanjutnya tentang ak...  speed Indonesia    \n",
      "2  การ์ดน้องหนาว จากอัลบั้ม aespa 에스파 The 5th Min...  speed Indonesia    \n",
      "3                                    speed indonesia  speed Indonesia    \n",
      "4  Gue banget yang ikutin perjalanan Speed di Ind...  speed Indonesia    \n",
      "\n",
      "                                       clean_content  \n",
      "0  selagi gak masuk indonesia mah bodo amat\\nbera...  \n",
      "1  Gak sabar nunggu update selanjutnya tentang ak...  \n",
      "2  การดนองหนาว จากอลบม aespa 에스파 The 5th Mini Alb...  \n",
      "3                                    speed indonesia  \n",
      "4  Gue banget yang ikutin perjalanan Speed di Ind...  \n"
     ]
    }
   ],
   "execution_count": 19
  },
  {
   "metadata": {
    "ExecuteTime": {
     "end_time": "2024-10-10T02:07:53.603162Z",
     "start_time": "2024-10-10T02:07:53.598517Z"
    }
   },
   "cell_type": "code",
   "source": [
    "# count the number of tweets per search query\n",
    "tweet_count = df['searchQuery'].value_counts()\n",
    "\n",
    "# Display the number of tweets per search query\n",
    "print(\"Tweet Count per Search Query:\")\n",
    "print(tweet_count)\n"
   ],
   "id": "6fae0f238022c2b8",
   "outputs": [
    {
     "name": "stdout",
     "output_type": "stream",
     "text": [
      "Tweet Count per Search Query:\n",
      "searchQuery\n",
      "speed Indonesia     1053\n",
      "Name: count, dtype: int64\n"
     ]
    }
   ],
   "execution_count": 21
  },
  {
   "metadata": {},
   "cell_type": "markdown",
   "source": "# import data (english tweets) ",
   "id": "fa0b75a68bef29a5"
  },
  {
   "metadata": {
    "ExecuteTime": {
     "end_time": "2024-10-10T02:29:47.592942Z",
     "start_time": "2024-10-10T02:29:47.583845Z"
    }
   },
   "cell_type": "code",
   "source": [
    "# Load english dataset\n",
    "with open(\"dataset_easy-twitter-search-scraper_2024-10-10_02-26-27-098.json\", \"r\", encoding=\"utf-8\") as file:\n",
    "    data = json.load(file)"
   ],
   "id": "88d7fcd134e5f7ea",
   "outputs": [],
   "execution_count": 22
  },
  {
   "metadata": {
    "ExecuteTime": {
     "end_time": "2024-10-10T02:29:58.763811Z",
     "start_time": "2024-10-10T02:29:58.753379Z"
    }
   },
   "cell_type": "code",
   "source": [
    "# Convert the JSON data to a pandas DataFrame\n",
    "df = pd.DataFrame(data)\n",
    "\n",
    "# Display the first few rows of the dataset to understand its structure\n",
    "print(\"Original Dataset:\")\n",
    "print(df.head())"
   ],
   "id": "57dcb03d0dcada15",
   "outputs": [
    {
     "name": "stdout",
     "output_type": "stream",
     "text": [
      "Original Dataset:\n",
      "                    id                                                url  \\\n",
      "0  1839287616509722900  https://twitter.com/SpeedUpdates1/status/18392...   \n",
      "1  1844034158705983798  https://twitter.com/aucrum/status/184403415870...   \n",
      "2  1844031182419497008  https://twitter.com/GarrySpeed47253/status/184...   \n",
      "3  1844028133567345151  https://twitter.com/aucrum/status/184402813356...   \n",
      "4  1836718975578690012  https://twitter.com/SpeedUpdates1/status/18367...   \n",
      "\n",
      "   verified                                             images  \\\n",
      "0      True  [https://cdn.xcancel.comhttps://pbs.twimg.com/...   \n",
      "1     False                                                NaN   \n",
      "2     False                                                NaN   \n",
      "3     False                                                NaN   \n",
      "4      True                                                NaN   \n",
      "\n",
      "                  timestamp  \\\n",
      "0  2024-09-26T12:55:00.000Z   \n",
      "1  2024-10-09T15:16:00.000Z   \n",
      "2  2024-10-09T15:04:00.000Z   \n",
      "3  2024-10-09T14:52:00.000Z   \n",
      "4  2024-09-19T10:48:00.000Z   \n",
      "\n",
      "                                                text  \\\n",
      "0  Indonesian fan makes a memorial poster of Spee...   \n",
      "1  Minister Of Communication And Information, Bud...   \n",
      "2  So in your words you think he is the same as s...   \n",
      "3  Minister of Communication and Information, Bud...   \n",
      "4  Speed is currently just having fun & doing sid...   \n",
      "\n",
      "                                               links  isQuote  isRetweet  \\\n",
      "0                                                 []    False       True   \n",
      "1  [https://twitter.com/search?q=%23WestPapuan, h...    False      False   \n",
      "2                                                 []    False      False   \n",
      "3  [https://twitter.com/search?q=%23WestPapuan, h...    False      False   \n",
      "4                                                 []    False       True   \n",
      "\n",
      "   isReply  ...  replies  retweets  quotes          searchQuery  \\\n",
      "0    False  ...      327      4183     129  speed in Indonesia    \n",
      "1    False  ...        0         0       0  speed in Indonesia    \n",
      "2     True  ...        0         0       0  speed in Indonesia    \n",
      "3    False  ...        0         0       0  speed in Indonesia    \n",
      "4    False  ...      487      4616     728  speed in Indonesia    \n",
      "\n",
      "                                                user  \\\n",
      "0  {'avatar': 'https://cdn.xcancel.comhttps://pbs...   \n",
      "1  {'avatar': 'https://cdn.xcancel.comhttps://pbs...   \n",
      "2  {'avatar': 'https://cdn.xcancel.comhttps://pbs...   \n",
      "3  {'avatar': 'https://cdn.xcancel.comhttps://pbs...   \n",
      "4  {'avatar': 'https://cdn.xcancel.comhttps://pbs...   \n",
      "\n",
      "                           replyingTo username fullname avatar quotedTweet  \n",
      "0                                 NaN      NaN      NaN    NaN         NaN  \n",
      "1                                 NaN      NaN      NaN    NaN         NaN  \n",
      "2  [/grimsbyred1981, /DaytrippingRed]      NaN      NaN    NaN         NaN  \n",
      "3                                 NaN      NaN      NaN    NaN         NaN  \n",
      "4                                 NaN      NaN      NaN    NaN         NaN  \n",
      "\n",
      "[5 rows x 21 columns]\n"
     ]
    }
   ],
   "execution_count": 23
  },
  {
   "metadata": {
    "ExecuteTime": {
     "end_time": "2024-10-10T02:30:12.536390Z",
     "start_time": "2024-10-10T02:30:12.531889Z"
    }
   },
   "cell_type": "code",
   "source": [
    "# Here is columns of interest like 'username', 'content', 'date', etc.\n",
    "df = df[['id', 'timestamp', 'text', 'searchQuery']]\n",
    "\n",
    "# Convert 'date' column to datetime format for better time-based analysis\n",
    "df['timestamp'] = pd.to_datetime(df['timestamp'])"
   ],
   "id": "6487181a56ed6117",
   "outputs": [],
   "execution_count": 24
  },
  {
   "metadata": {
    "ExecuteTime": {
     "end_time": "2024-10-10T02:30:26.017112Z",
     "start_time": "2024-10-10T02:30:26.010369Z"
    }
   },
   "cell_type": "code",
   "source": [
    "# Clean the 'text' column: remove URLs, hashtags, mentions, and unnecessary characters from the tweets\n",
    "def clean_text(text):\n",
    "    if not isinstance(text, str):\n",
    "        text = ''\n",
    "    # Remove URLs\n",
    "    text = re.sub(r\"http\\S+|www\\S+|https\\S+\", '', text, flags=re.MULTILINE)\n",
    "    # Remove mentions\n",
    "    text = re.sub(r'\\@\\w+|\\#', '', text)\n",
    "    # Remove non-alphanumeric characters\n",
    "    text = re.sub(r'[^\\w\\s]', '', text)\n",
    "    return text\n",
    "\n",
    "df['clean_content'] = df['text'].apply(clean_text)\n",
    "\n",
    "# Display the first few rows of the cleaned dataset\n",
    "print(\"Cleaned Dataset:\")\n",
    "print(df.head())"
   ],
   "id": "a81dc8e8eaeea1f1",
   "outputs": [
    {
     "name": "stdout",
     "output_type": "stream",
     "text": [
      "Cleaned Dataset:\n",
      "                    id                 timestamp  \\\n",
      "0  1839287616509722900 2024-09-26 12:55:00+00:00   \n",
      "1  1844034158705983798 2024-10-09 15:16:00+00:00   \n",
      "2  1844031182419497008 2024-10-09 15:04:00+00:00   \n",
      "3  1844028133567345151 2024-10-09 14:52:00+00:00   \n",
      "4  1836718975578690012 2024-09-19 10:48:00+00:00   \n",
      "\n",
      "                                                text          searchQuery  \\\n",
      "0  Indonesian fan makes a memorial poster of Spee...  speed in Indonesia    \n",
      "1  Minister Of Communication And Information, Bud...  speed in Indonesia    \n",
      "2  So in your words you think he is the same as s...  speed in Indonesia    \n",
      "3  Minister of Communication and Information, Bud...  speed in Indonesia    \n",
      "4  Speed is currently just having fun & doing sid...  speed in Indonesia    \n",
      "\n",
      "                                       clean_content  \n",
      "0  Indonesian fan makes a memorial poster of Spee...  \n",
      "1  Minister Of Communication And Information Budi...  \n",
      "2  So in your words you think he is the same as s...  \n",
      "3  Minister of Communication and Information Budi...  \n",
      "4  Speed is currently just having fun  doing side...  \n"
     ]
    }
   ],
   "execution_count": 25
  },
  {
   "metadata": {
    "ExecuteTime": {
     "end_time": "2024-10-10T02:30:29.896856Z",
     "start_time": "2024-10-10T02:30:29.893721Z"
    }
   },
   "cell_type": "code",
   "source": [
    "# Check for duplicates and remove them\n",
    "df.drop_duplicates(subset=['clean_content'], inplace=True)"
   ],
   "id": "e97dfc8e8503a6f2",
   "outputs": [],
   "execution_count": 26
  },
  {
   "metadata": {
    "ExecuteTime": {
     "end_time": "2024-10-10T02:30:36.707178Z",
     "start_time": "2024-10-10T02:30:36.703257Z"
    }
   },
   "cell_type": "code",
   "source": [
    "# Optionally, drop rows where the 'content' is empty after cleaning\n",
    "df = df[df['clean_content'].str.strip() != '']\n"
   ],
   "id": "9d8c9a0829bb8606",
   "outputs": [],
   "execution_count": 27
  },
  {
   "metadata": {
    "ExecuteTime": {
     "end_time": "2024-10-10T02:30:45.887935Z",
     "start_time": "2024-10-10T02:30:45.880187Z"
    }
   },
   "cell_type": "code",
   "source": [
    "# Save the cleaned dataset for further analysis\n",
    "df.to_csv(\"cleaned_twitter_data_english.csv\", index=False)\n",
    "\n",
    "# Display the first few rows of the cleaned dataset\n",
    "print(\"Cleaned Dataset:\")\n",
    "print(df.head())"
   ],
   "id": "19369636ae094f03",
   "outputs": [
    {
     "name": "stdout",
     "output_type": "stream",
     "text": [
      "Cleaned Dataset:\n",
      "                    id                 timestamp  \\\n",
      "0  1839287616509722900 2024-09-26 12:55:00+00:00   \n",
      "1  1844034158705983798 2024-10-09 15:16:00+00:00   \n",
      "2  1844031182419497008 2024-10-09 15:04:00+00:00   \n",
      "3  1844028133567345151 2024-10-09 14:52:00+00:00   \n",
      "4  1836718975578690012 2024-09-19 10:48:00+00:00   \n",
      "\n",
      "                                                text          searchQuery  \\\n",
      "0  Indonesian fan makes a memorial poster of Spee...  speed in Indonesia    \n",
      "1  Minister Of Communication And Information, Bud...  speed in Indonesia    \n",
      "2  So in your words you think he is the same as s...  speed in Indonesia    \n",
      "3  Minister of Communication and Information, Bud...  speed in Indonesia    \n",
      "4  Speed is currently just having fun & doing sid...  speed in Indonesia    \n",
      "\n",
      "                                       clean_content  \n",
      "0  Indonesian fan makes a memorial poster of Spee...  \n",
      "1  Minister Of Communication And Information Budi...  \n",
      "2  So in your words you think he is the same as s...  \n",
      "3  Minister of Communication and Information Budi...  \n",
      "4  Speed is currently just having fun  doing side...  \n"
     ]
    }
   ],
   "execution_count": 28
  },
  {
   "metadata": {
    "ExecuteTime": {
     "end_time": "2024-10-10T02:31:02.093584Z",
     "start_time": "2024-10-10T02:31:02.089481Z"
    }
   },
   "cell_type": "code",
   "source": [
    "# count the number of tweets per search query\n",
    "tweet_count = df['searchQuery'].value_counts()\n",
    "# Display the number of tweets per search query\n",
    "print(\"Tweet Count per Search Query:\")\n",
    "print(tweet_count)"
   ],
   "id": "a30ccdcbda6f7336",
   "outputs": [
    {
     "name": "stdout",
     "output_type": "stream",
     "text": [
      "Tweet Count per Search Query:\n",
      "searchQuery\n",
      "speed in Indonesia     257\n",
      "#SpeedIndonesia         14\n",
      "Name: count, dtype: int64\n"
     ]
    }
   ],
   "execution_count": 30
  },
  {
   "metadata": {},
   "cell_type": "markdown",
   "source": "# merge datasets together",
   "id": "8c0cd922e708d263"
  },
  {
   "metadata": {
    "ExecuteTime": {
     "end_time": "2024-10-10T02:31:58.088616Z",
     "start_time": "2024-10-10T02:31:58.068454Z"
    }
   },
   "cell_type": "code",
   "source": [
    "# Load the cleaned datasets\n",
    "df1 = pd.read_csv(\"cleaned_twitter_data.csv\")\n",
    "df2 = pd.read_csv(\"cleaned_twitter_data_english.csv\")\n",
    "\n",
    "# Merge the two datasets\n",
    "df_combined = pd.concat([df1, df2], ignore_index=True)"
   ],
   "id": "6da448407fa7a3b3",
   "outputs": [],
   "execution_count": 31
  },
  {
   "metadata": {
    "ExecuteTime": {
     "end_time": "2024-10-10T02:32:25.790624Z",
     "start_time": "2024-10-10T02:32:25.786981Z"
    }
   },
   "cell_type": "code",
   "source": [
    "# view the combined dataset\n",
    "print(\"Combined Dataset:\")\n",
    "print(df_combined.head())"
   ],
   "id": "9755e052b482e30a",
   "outputs": [
    {
     "name": "stdout",
     "output_type": "stream",
     "text": [
      "Combined Dataset:\n",
      "                    id                  timestamp  \\\n",
      "0  1844183629653737485  2024-10-10 01:10:00+00:00   \n",
      "1  1844171042832646341  2024-10-10 00:20:00+00:00   \n",
      "2  1844034407159701602  2024-10-09 15:17:00+00:00   \n",
      "3  1844128223300551170  2024-10-09 21:30:00+00:00   \n",
      "4  1844122745422159957  2024-10-09 21:08:00+00:00   \n",
      "\n",
      "                                                text       searchQuery  \\\n",
      "0  selagi gak masuk indonesia mah bodo amat.\\nber...  speed Indonesia    \n",
      "1  Gak sabar nunggu update selanjutnya tentang ak...  speed Indonesia    \n",
      "2  การ์ดน้องหนาว จากอัลบั้ม aespa 에스파 The 5th Min...  speed Indonesia    \n",
      "3                                    speed indonesia  speed Indonesia    \n",
      "4  Gue banget yang ikutin perjalanan Speed di Ind...  speed Indonesia    \n",
      "\n",
      "                                       clean_content  \n",
      "0  selagi gak masuk indonesia mah bodo amat\\nbera...  \n",
      "1  Gak sabar nunggu update selanjutnya tentang ak...  \n",
      "2  การดนองหนาว จากอลบม aespa 에스파 The 5th Mini Alb...  \n",
      "3                                    speed indonesia  \n",
      "4  Gue banget yang ikutin perjalanan Speed di Ind...  \n"
     ]
    }
   ],
   "execution_count": 33
  },
  {
   "metadata": {
    "ExecuteTime": {
     "end_time": "2024-10-10T02:32:36.898256Z",
     "start_time": "2024-10-10T02:32:36.890180Z"
    }
   },
   "cell_type": "code",
   "source": [
    "# Save the combined dataset\n",
    "df_combined.to_csv(\"combined_cleaned_twitter_data.csv\", index=False)\n"
   ],
   "id": "4fe83e9aefd3bd79",
   "outputs": [],
   "execution_count": 34
  },
  {
   "metadata": {
    "ExecuteTime": {
     "end_time": "2024-10-10T02:33:17.034422Z",
     "start_time": "2024-10-10T02:33:17.030426Z"
    }
   },
   "cell_type": "code",
   "source": [
    "# count the number of tweets per search query\n",
    "tweet_count = df_combined['searchQuery'].value_counts()\n",
    "\n",
    "# Display the number of tweets per search query\n",
    "print(\"Tweet Count per Search Query:\")\n",
    "print(tweet_count)\n",
    "# count the total number of tweets \n",
    "print(\"Total Number of Tweets:\", len(df_combined))"
   ],
   "id": "adff41a617ff1cb0",
   "outputs": [
    {
     "name": "stdout",
     "output_type": "stream",
     "text": [
      "Tweet Count per Search Query:\n",
      "searchQuery\n",
      "speed Indonesia        1053\n",
      "speed in Indonesia      257\n",
      "#SpeedIndonesia          14\n",
      "Name: count, dtype: int64\n",
      "Total Number of Tweets: 1324\n"
     ]
    }
   ],
   "execution_count": 36
  }
 ],
 "metadata": {
  "kernelspec": {
   "display_name": "Python 3",
   "language": "python",
   "name": "python3"
  },
  "language_info": {
   "codemirror_mode": {
    "name": "ipython",
    "version": 2
   },
   "file_extension": ".py",
   "mimetype": "text/x-python",
   "name": "python",
   "nbconvert_exporter": "python",
   "pygments_lexer": "ipython2",
   "version": "2.7.6"
  }
 },
 "nbformat": 4,
 "nbformat_minor": 5
}
