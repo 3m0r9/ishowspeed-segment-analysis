{
 "cells": [
  {
   "metadata": {},
   "cell_type": "markdown",
   "source": "# Data Preprocessing",
   "id": "aec36a8f6c0f7796"
  },
  {
   "cell_type": "code",
   "id": "initial_id",
   "metadata": {
    "collapsed": true,
    "ExecuteTime": {
     "end_time": "2024-10-10T02:56:36.376920Z",
     "start_time": "2024-10-10T02:56:36.372860Z"
    }
   },
   "source": [
    "# import libraries\n",
    "import pandas as pd\n",
    "import numpy as np\n",
    "import nltk \n",
    "from nltk.corpus import stopwords\n",
    "from nltk.stem import WordNetLemmatizer\n",
    "from nltk.tokenize import word_tokenize\n",
    "import re\n",
    "import torch\n",
    "from transformers import pipeline"
   ],
   "outputs": [],
   "execution_count": 2
  },
  {
   "metadata": {
    "ExecuteTime": {
     "end_time": "2024-10-10T02:56:37.049463Z",
     "start_time": "2024-10-10T02:56:37.038879Z"
    }
   },
   "cell_type": "code",
   "source": [
    "# load data\n",
    "import pandas as pd\n",
    "\n",
    "# Load the dataset\n",
    "df = pd.read_csv('combined_cleaned_twitter_data.csv')  # Adjust the file path as necessary"
   ],
   "id": "75272963dd4c9562",
   "outputs": [],
   "execution_count": 3
  },
  {
   "metadata": {
    "ExecuteTime": {
     "end_time": "2024-10-10T02:56:38.319408Z",
     "start_time": "2024-10-10T02:56:38.309664Z"
    }
   },
   "cell_type": "code",
   "source": [
    "# remove noise\n",
    "import re\n",
    "\n",
    "def clean_text(text):\n",
    "    # Remove URLs\n",
    "    text = re.sub(r'http\\S+|www\\S+|https\\S+', '', text, flags=re.MULTILINE)\n",
    "    # Remove special characters and numbers\n",
    "    text = re.sub(r'\\@\\w+|\\#', '', text)  # Remove mentions and hashtags\n",
    "    text = re.sub(r'[^A-Za-z\\s]', '', text)  # Keep only letters and spaces\n",
    "    text = text.strip()  # Remove leading/trailing whitespace\n",
    "    return text\n",
    "\n",
    "df['clean_content'] = df['text'].apply(clean_text)"
   ],
   "id": "534a64b56863c122",
   "outputs": [],
   "execution_count": 4
  },
  {
   "metadata": {
    "ExecuteTime": {
     "end_time": "2024-10-10T02:56:39.631227Z",
     "start_time": "2024-10-10T02:56:38.966523Z"
    }
   },
   "cell_type": "code",
   "source": [
    "# Tokenization\n",
    "from nltk.tokenize import word_tokenize\n",
    "import nltk\n",
    "\n",
    "# Download the punkt tokenizer\n",
    "nltk.download('punkt')\n",
    "\n",
    "df['tokens'] = df['clean_content'].apply(word_tokenize)"
   ],
   "id": "129b81bd6c1150dc",
   "outputs": [
    {
     "name": "stderr",
     "output_type": "stream",
     "text": [
      "[nltk_data] Downloading package punkt to\n",
      "[nltk_data]     C:\\Users\\IMRAN\\AppData\\Roaming\\nltk_data...\n",
      "[nltk_data]   Package punkt is already up-to-date!\n"
     ]
    }
   ],
   "execution_count": 5
  },
  {
   "metadata": {
    "ExecuteTime": {
     "end_time": "2024-10-10T02:56:41.059712Z",
     "start_time": "2024-10-10T02:56:41.046055Z"
    }
   },
   "cell_type": "code",
   "source": [
    "# Remove stopwords\n",
    "from nltk.corpus import stopwords\n",
    "\n",
    "# Download the stopwords\n",
    "nltk.download('stopwords')\n",
    "\n",
    "# Get the English stopwords\n",
    "stop_words = set(stopwords.words('english'))\n",
    "\n",
    "def remove_stopwords(tokens):\n",
    "    return [word for word in tokens if word.lower() not in stop_words]\n",
    "\n",
    "df['tokens'] = df['tokens'].apply(remove_stopwords)\n",
    "\n",
    "# get bahasa indonesia stopwords\n",
    "from nltk.corpus import stopwords\n",
    "nltk.download('stopwords')\n",
    "stop_words_id = set(stopwords.words('indonesian'))\n",
    "\n",
    "def remove_stopwords_id(tokens):\n",
    "    return [word for word in tokens if word.lower() not in stop_words_id]\n",
    "\n",
    "df['tokens'] = df['tokens'].apply(remove_stopwords_id)\n"
   ],
   "id": "ecbced4d165e41a7",
   "outputs": [
    {
     "name": "stderr",
     "output_type": "stream",
     "text": [
      "[nltk_data] Downloading package stopwords to\n",
      "[nltk_data]     C:\\Users\\IMRAN\\AppData\\Roaming\\nltk_data...\n",
      "[nltk_data]   Package stopwords is already up-to-date!\n",
      "[nltk_data] Downloading package stopwords to\n",
      "[nltk_data]     C:\\Users\\IMRAN\\AppData\\Roaming\\nltk_data...\n",
      "[nltk_data]   Package stopwords is already up-to-date!\n"
     ]
    }
   ],
   "execution_count": 6
  },
  {
   "metadata": {
    "ExecuteTime": {
     "end_time": "2024-10-10T02:56:41.871794Z",
     "start_time": "2024-10-10T02:56:41.863842Z"
    }
   },
   "cell_type": "code",
   "source": [
    "# Ensure Data Quality\n",
    "# Remove empty tokens\n",
    "df['tokens'] = df['tokens'].apply(lambda x: [token for token in x if token])\n",
    "\n",
    "# Optionally, remove stopwords (if required)\n",
    "from nltk.corpus import stopwords\n",
    "\n",
    "nltk.download('stopwords')\n",
    "stop_words = set(stopwords.words('indonesian'))  # Use 'english' for English texts\n",
    "\n",
    "df['tokens'] = df['tokens'].apply(lambda x: [token for token in x if token.lower() not in stop_words])"
   ],
   "id": "2dc56e727b4f29b7",
   "outputs": [
    {
     "name": "stderr",
     "output_type": "stream",
     "text": [
      "[nltk_data] Downloading package stopwords to\n",
      "[nltk_data]     C:\\Users\\IMRAN\\AppData\\Roaming\\nltk_data...\n",
      "[nltk_data]   Package stopwords is already up-to-date!\n"
     ]
    }
   ],
   "execution_count": 7
  },
  {
   "metadata": {
    "ExecuteTime": {
     "end_time": "2024-10-10T02:56:43.213639Z",
     "start_time": "2024-10-10T02:56:42.515504Z"
    }
   },
   "cell_type": "code",
   "source": [
    "# Lemmatization\n",
    "from nltk.stem import WordNetLemmatizer\n",
    "\n",
    "# Download the WordNet lemmatizer\n",
    "nltk.download('wordnet')\n",
    "\n",
    "# Initialize the lemmatizer\n",
    "lemmatizer = WordNetLemmatizer()\n",
    "\n",
    "def lemmatize(tokens):\n",
    "    return [lemmatizer.lemmatize(token) for token in tokens]\n",
    "\n",
    "df['tokens'] = df['tokens'].apply(lemmatize)"
   ],
   "id": "94f61e5a8fa9ee1f",
   "outputs": [
    {
     "name": "stderr",
     "output_type": "stream",
     "text": [
      "[nltk_data] Downloading package wordnet to\n",
      "[nltk_data]     C:\\Users\\IMRAN\\AppData\\Roaming\\nltk_data...\n",
      "[nltk_data]   Package wordnet is already up-to-date!\n"
     ]
    }
   ],
   "execution_count": 8
  },
  {
   "metadata": {
    "ExecuteTime": {
     "end_time": "2024-10-10T02:56:43.997479Z",
     "start_time": "2024-10-10T02:56:43.987643Z"
    }
   },
   "cell_type": "code",
   "source": [
    "# Review the Cleaned Data\n",
    "df.head()"
   ],
   "id": "7c013880d1ad3d33",
   "outputs": [
    {
     "data": {
      "text/plain": [
       "                    id                  timestamp  \\\n",
       "0  1844183629653737485  2024-10-10 01:10:00+00:00   \n",
       "1  1844171042832646341  2024-10-10 00:20:00+00:00   \n",
       "2  1844034407159701602  2024-10-09 15:17:00+00:00   \n",
       "3  1844128223300551170  2024-10-09 21:30:00+00:00   \n",
       "4  1844122745422159957  2024-10-09 21:08:00+00:00   \n",
       "\n",
       "                                                text       searchQuery  \\\n",
       "0  selagi gak masuk indonesia mah bodo amat.\\nber...  speed Indonesia    \n",
       "1  Gak sabar nunggu update selanjutnya tentang ak...  speed Indonesia    \n",
       "2  การ์ดน้องหนาว จากอัลบั้ม aespa 에스파 The 5th Min...  speed Indonesia    \n",
       "3                                    speed indonesia  speed Indonesia    \n",
       "4  Gue banget yang ikutin perjalanan Speed di Ind...  speed Indonesia    \n",
       "\n",
       "                                       clean_content  \\\n",
       "0  selagi gak masuk indonesia mah bodo amat\\nbera...   \n",
       "1  Gak sabar nunggu update selanjutnya tentang ak...   \n",
       "2  aespa  The th Mini AlbumWhiplash \\n\\n Beat Ver...   \n",
       "3                                    speed indonesia   \n",
       "4  Gue banget yang ikutin perjalanan Speed di Ind...   \n",
       "\n",
       "                                              tokens  \n",
       "0  [selagi, gak, masuk, indonesia, mah, bodo, ber...  \n",
       "1  [Gak, sabar, nunggu, update, aktivitas, Speed,...  \n",
       "2  [aespa, th, Mini, AlbumWhiplash, Beat, Ver, Sp...  \n",
       "3                                 [speed, indonesia]  \n",
       "4  [Gue, banget, ikutin, perjalanan, Speed, Indon...  "
      ],
      "text/html": [
       "<div>\n",
       "<style scoped>\n",
       "    .dataframe tbody tr th:only-of-type {\n",
       "        vertical-align: middle;\n",
       "    }\n",
       "\n",
       "    .dataframe tbody tr th {\n",
       "        vertical-align: top;\n",
       "    }\n",
       "\n",
       "    .dataframe thead th {\n",
       "        text-align: right;\n",
       "    }\n",
       "</style>\n",
       "<table border=\"1\" class=\"dataframe\">\n",
       "  <thead>\n",
       "    <tr style=\"text-align: right;\">\n",
       "      <th></th>\n",
       "      <th>id</th>\n",
       "      <th>timestamp</th>\n",
       "      <th>text</th>\n",
       "      <th>searchQuery</th>\n",
       "      <th>clean_content</th>\n",
       "      <th>tokens</th>\n",
       "    </tr>\n",
       "  </thead>\n",
       "  <tbody>\n",
       "    <tr>\n",
       "      <th>0</th>\n",
       "      <td>1844183629653737485</td>\n",
       "      <td>2024-10-10 01:10:00+00:00</td>\n",
       "      <td>selagi gak masuk indonesia mah bodo amat.\\nber...</td>\n",
       "      <td>speed Indonesia</td>\n",
       "      <td>selagi gak masuk indonesia mah bodo amat\\nbera...</td>\n",
       "      <td>[selagi, gak, masuk, indonesia, mah, bodo, ber...</td>\n",
       "    </tr>\n",
       "    <tr>\n",
       "      <th>1</th>\n",
       "      <td>1844171042832646341</td>\n",
       "      <td>2024-10-10 00:20:00+00:00</td>\n",
       "      <td>Gak sabar nunggu update selanjutnya tentang ak...</td>\n",
       "      <td>speed Indonesia</td>\n",
       "      <td>Gak sabar nunggu update selanjutnya tentang ak...</td>\n",
       "      <td>[Gak, sabar, nunggu, update, aktivitas, Speed,...</td>\n",
       "    </tr>\n",
       "    <tr>\n",
       "      <th>2</th>\n",
       "      <td>1844034407159701602</td>\n",
       "      <td>2024-10-09 15:17:00+00:00</td>\n",
       "      <td>การ์ดน้องหนาว จากอัลบั้ม aespa 에스파 The 5th Min...</td>\n",
       "      <td>speed Indonesia</td>\n",
       "      <td>aespa  The th Mini AlbumWhiplash \\n\\n Beat Ver...</td>\n",
       "      <td>[aespa, th, Mini, AlbumWhiplash, Beat, Ver, Sp...</td>\n",
       "    </tr>\n",
       "    <tr>\n",
       "      <th>3</th>\n",
       "      <td>1844128223300551170</td>\n",
       "      <td>2024-10-09 21:30:00+00:00</td>\n",
       "      <td>speed indonesia</td>\n",
       "      <td>speed Indonesia</td>\n",
       "      <td>speed indonesia</td>\n",
       "      <td>[speed, indonesia]</td>\n",
       "    </tr>\n",
       "    <tr>\n",
       "      <th>4</th>\n",
       "      <td>1844122745422159957</td>\n",
       "      <td>2024-10-09 21:08:00+00:00</td>\n",
       "      <td>Gue banget yang ikutin perjalanan Speed di Ind...</td>\n",
       "      <td>speed Indonesia</td>\n",
       "      <td>Gue banget yang ikutin perjalanan Speed di Ind...</td>\n",
       "      <td>[Gue, banget, ikutin, perjalanan, Speed, Indon...</td>\n",
       "    </tr>\n",
       "  </tbody>\n",
       "</table>\n",
       "</div>"
      ]
     },
     "execution_count": 9,
     "metadata": {},
     "output_type": "execute_result"
    }
   ],
   "execution_count": 9
  },
  {
   "metadata": {
    "ExecuteTime": {
     "end_time": "2024-10-10T02:59:13.499078Z",
     "start_time": "2024-10-10T02:57:05.047678Z"
    }
   },
   "cell_type": "code",
   "source": [
    "# Initialize the Sentiment Classifier\n",
    "# Initialize the sentiment analysis pipeline\n",
    "sentiment_classifier = pipeline(\n",
    "    model=\"lxyuan/distilbert-base-multilingual-cased-sentiments-student\",\n",
    "    return_all_scores=True\n",
    ")\n"
   ],
   "id": "a36b51ab7b449284",
   "outputs": [
    {
     "data": {
      "text/plain": [
       "config.json:   0%|          | 0.00/759 [00:00<?, ?B/s]"
      ],
      "application/vnd.jupyter.widget-view+json": {
       "version_major": 2,
       "version_minor": 0,
       "model_id": "3730b83ba3f744e48a37478af1fb1d25"
      }
     },
     "metadata": {},
     "output_type": "display_data"
    },
    {
     "name": "stdout",
     "output_type": "stream",
     "text": [
      "WARNING:tensorflow:From C:\\ProgramData\\anaconda3\\Lib\\site-packages\\tf_keras\\src\\losses.py:2976: The name tf.losses.sparse_softmax_cross_entropy is deprecated. Please use tf.compat.v1.losses.sparse_softmax_cross_entropy instead.\n",
      "\n"
     ]
    },
    {
     "data": {
      "text/plain": [
       "model.safetensors:   0%|          | 0.00/541M [00:00<?, ?B/s]"
      ],
      "application/vnd.jupyter.widget-view+json": {
       "version_major": 2,
       "version_minor": 0,
       "model_id": "e4c7e166876446e8bb59ec3153d47680"
      }
     },
     "metadata": {},
     "output_type": "display_data"
    },
    {
     "data": {
      "text/plain": [
       "tokenizer_config.json:   0%|          | 0.00/373 [00:00<?, ?B/s]"
      ],
      "application/vnd.jupyter.widget-view+json": {
       "version_major": 2,
       "version_minor": 0,
       "model_id": "acda409a2bef48feb6f96a456f759844"
      }
     },
     "metadata": {},
     "output_type": "display_data"
    },
    {
     "data": {
      "text/plain": [
       "vocab.txt:   0%|          | 0.00/996k [00:00<?, ?B/s]"
      ],
      "application/vnd.jupyter.widget-view+json": {
       "version_major": 2,
       "version_minor": 0,
       "model_id": "65897a78007e4438b62e2647489e910e"
      }
     },
     "metadata": {},
     "output_type": "display_data"
    },
    {
     "data": {
      "text/plain": [
       "tokenizer.json:   0%|          | 0.00/2.92M [00:00<?, ?B/s]"
      ],
      "application/vnd.jupyter.widget-view+json": {
       "version_major": 2,
       "version_minor": 0,
       "model_id": "63cebddf92f1430c92712c7f6ac060b4"
      }
     },
     "metadata": {},
     "output_type": "display_data"
    },
    {
     "data": {
      "text/plain": [
       "special_tokens_map.json:   0%|          | 0.00/125 [00:00<?, ?B/s]"
      ],
      "application/vnd.jupyter.widget-view+json": {
       "version_major": 2,
       "version_minor": 0,
       "model_id": "db6407abdceb4fc9ac56bdbe55c1c297"
      }
     },
     "metadata": {},
     "output_type": "display_data"
    },
    {
     "name": "stderr",
     "output_type": "stream",
     "text": [
      "Hardware accelerator e.g. GPU is available in the environment, but no `device` argument is passed to the `Pipeline` object. Model will be on CPU.\n",
      "C:\\ProgramData\\anaconda3\\Lib\\site-packages\\transformers\\pipelines\\text_classification.py:104: UserWarning: `return_all_scores` is now deprecated,  if want a similar functionality use `top_k=None` instead of `return_all_scores=True` or `top_k=1` instead of `return_all_scores=False`.\n",
      "  warnings.warn(\n"
     ]
    }
   ],
   "execution_count": 10
  },
  {
   "metadata": {
    "ExecuteTime": {
     "end_time": "2024-10-10T03:00:02.009233Z",
     "start_time": "2024-10-10T02:59:37.405262Z"
    }
   },
   "cell_type": "code",
   "source": [
    "# Perform Sentiment Analysis\n",
    "# Perform sentiment analysis on the first 5 rows\n",
    "df['sentiment'] = df['clean_content'].apply(lambda x: sentiment_classifier(x)[0])"
   ],
   "id": "91b18037558992e7",
   "outputs": [],
   "execution_count": 11
  },
  {
   "metadata": {
    "ExecuteTime": {
     "end_time": "2024-10-10T03:00:04.706417Z",
     "start_time": "2024-10-10T03:00:03.761688Z"
    }
   },
   "cell_type": "code",
   "source": [
    "# Extract the sentiment label\n",
    "df['sentiment_label'] = df['sentiment'].apply(lambda x: x['label'])\n",
    "\n",
    "# Extract the sentiment score\n",
    "df['sentiment_score'] = df['sentiment'].apply(lambda x: x['score'])\n"
   ],
   "id": "265dc1f477f8f7",
   "outputs": [
    {
     "ename": "TypeError",
     "evalue": "list indices must be integers or slices, not str",
     "output_type": "error",
     "traceback": [
      "\u001B[1;31m---------------------------------------------------------------------------\u001B[0m",
      "\u001B[1;31mTypeError\u001B[0m                                 Traceback (most recent call last)",
      "Cell \u001B[1;32mIn[12], line 2\u001B[0m\n\u001B[0;32m      1\u001B[0m \u001B[38;5;66;03m# Extract the sentiment label\u001B[39;00m\n\u001B[1;32m----> 2\u001B[0m df[\u001B[38;5;124m'\u001B[39m\u001B[38;5;124msentiment_label\u001B[39m\u001B[38;5;124m'\u001B[39m] \u001B[38;5;241m=\u001B[39m df[\u001B[38;5;124m'\u001B[39m\u001B[38;5;124msentiment\u001B[39m\u001B[38;5;124m'\u001B[39m]\u001B[38;5;241m.\u001B[39mapply(\u001B[38;5;28;01mlambda\u001B[39;00m x: x[\u001B[38;5;124m'\u001B[39m\u001B[38;5;124mlabel\u001B[39m\u001B[38;5;124m'\u001B[39m])\n\u001B[0;32m      4\u001B[0m \u001B[38;5;66;03m# Extract the sentiment score\u001B[39;00m\n\u001B[0;32m      5\u001B[0m df[\u001B[38;5;124m'\u001B[39m\u001B[38;5;124msentiment_score\u001B[39m\u001B[38;5;124m'\u001B[39m] \u001B[38;5;241m=\u001B[39m df[\u001B[38;5;124m'\u001B[39m\u001B[38;5;124msentiment\u001B[39m\u001B[38;5;124m'\u001B[39m]\u001B[38;5;241m.\u001B[39mapply(\u001B[38;5;28;01mlambda\u001B[39;00m x: x[\u001B[38;5;124m'\u001B[39m\u001B[38;5;124mscore\u001B[39m\u001B[38;5;124m'\u001B[39m])\n",
      "File \u001B[1;32mC:\\ProgramData\\anaconda3\\Lib\\site-packages\\pandas\\core\\series.py:4924\u001B[0m, in \u001B[0;36mSeries.apply\u001B[1;34m(self, func, convert_dtype, args, by_row, **kwargs)\u001B[0m\n\u001B[0;32m   4789\u001B[0m \u001B[38;5;28;01mdef\u001B[39;00m \u001B[38;5;21mapply\u001B[39m(\n\u001B[0;32m   4790\u001B[0m     \u001B[38;5;28mself\u001B[39m,\n\u001B[0;32m   4791\u001B[0m     func: AggFuncType,\n\u001B[1;32m   (...)\u001B[0m\n\u001B[0;32m   4796\u001B[0m     \u001B[38;5;241m*\u001B[39m\u001B[38;5;241m*\u001B[39mkwargs,\n\u001B[0;32m   4797\u001B[0m ) \u001B[38;5;241m-\u001B[39m\u001B[38;5;241m>\u001B[39m DataFrame \u001B[38;5;241m|\u001B[39m Series:\n\u001B[0;32m   4798\u001B[0m \u001B[38;5;250m    \u001B[39m\u001B[38;5;124;03m\"\"\"\u001B[39;00m\n\u001B[0;32m   4799\u001B[0m \u001B[38;5;124;03m    Invoke function on values of Series.\u001B[39;00m\n\u001B[0;32m   4800\u001B[0m \n\u001B[1;32m   (...)\u001B[0m\n\u001B[0;32m   4915\u001B[0m \u001B[38;5;124;03m    dtype: float64\u001B[39;00m\n\u001B[0;32m   4916\u001B[0m \u001B[38;5;124;03m    \"\"\"\u001B[39;00m\n\u001B[0;32m   4917\u001B[0m     \u001B[38;5;28;01mreturn\u001B[39;00m SeriesApply(\n\u001B[0;32m   4918\u001B[0m         \u001B[38;5;28mself\u001B[39m,\n\u001B[0;32m   4919\u001B[0m         func,\n\u001B[0;32m   4920\u001B[0m         convert_dtype\u001B[38;5;241m=\u001B[39mconvert_dtype,\n\u001B[0;32m   4921\u001B[0m         by_row\u001B[38;5;241m=\u001B[39mby_row,\n\u001B[0;32m   4922\u001B[0m         args\u001B[38;5;241m=\u001B[39margs,\n\u001B[0;32m   4923\u001B[0m         kwargs\u001B[38;5;241m=\u001B[39mkwargs,\n\u001B[1;32m-> 4924\u001B[0m     )\u001B[38;5;241m.\u001B[39mapply()\n",
      "File \u001B[1;32mC:\\ProgramData\\anaconda3\\Lib\\site-packages\\pandas\\core\\apply.py:1427\u001B[0m, in \u001B[0;36mSeriesApply.apply\u001B[1;34m(self)\u001B[0m\n\u001B[0;32m   1424\u001B[0m     \u001B[38;5;28;01mreturn\u001B[39;00m \u001B[38;5;28mself\u001B[39m\u001B[38;5;241m.\u001B[39mapply_compat()\n\u001B[0;32m   1426\u001B[0m \u001B[38;5;66;03m# self.func is Callable\u001B[39;00m\n\u001B[1;32m-> 1427\u001B[0m \u001B[38;5;28;01mreturn\u001B[39;00m \u001B[38;5;28mself\u001B[39m\u001B[38;5;241m.\u001B[39mapply_standard()\n",
      "File \u001B[1;32mC:\\ProgramData\\anaconda3\\Lib\\site-packages\\pandas\\core\\apply.py:1507\u001B[0m, in \u001B[0;36mSeriesApply.apply_standard\u001B[1;34m(self)\u001B[0m\n\u001B[0;32m   1501\u001B[0m \u001B[38;5;66;03m# row-wise access\u001B[39;00m\n\u001B[0;32m   1502\u001B[0m \u001B[38;5;66;03m# apply doesn't have a `na_action` keyword and for backward compat reasons\u001B[39;00m\n\u001B[0;32m   1503\u001B[0m \u001B[38;5;66;03m# we need to give `na_action=\"ignore\"` for categorical data.\u001B[39;00m\n\u001B[0;32m   1504\u001B[0m \u001B[38;5;66;03m# TODO: remove the `na_action=\"ignore\"` when that default has been changed in\u001B[39;00m\n\u001B[0;32m   1505\u001B[0m \u001B[38;5;66;03m#  Categorical (GH51645).\u001B[39;00m\n\u001B[0;32m   1506\u001B[0m action \u001B[38;5;241m=\u001B[39m \u001B[38;5;124m\"\u001B[39m\u001B[38;5;124mignore\u001B[39m\u001B[38;5;124m\"\u001B[39m \u001B[38;5;28;01mif\u001B[39;00m \u001B[38;5;28misinstance\u001B[39m(obj\u001B[38;5;241m.\u001B[39mdtype, CategoricalDtype) \u001B[38;5;28;01melse\u001B[39;00m \u001B[38;5;28;01mNone\u001B[39;00m\n\u001B[1;32m-> 1507\u001B[0m mapped \u001B[38;5;241m=\u001B[39m obj\u001B[38;5;241m.\u001B[39m_map_values(\n\u001B[0;32m   1508\u001B[0m     mapper\u001B[38;5;241m=\u001B[39mcurried, na_action\u001B[38;5;241m=\u001B[39maction, convert\u001B[38;5;241m=\u001B[39m\u001B[38;5;28mself\u001B[39m\u001B[38;5;241m.\u001B[39mconvert_dtype\n\u001B[0;32m   1509\u001B[0m )\n\u001B[0;32m   1511\u001B[0m \u001B[38;5;28;01mif\u001B[39;00m \u001B[38;5;28mlen\u001B[39m(mapped) \u001B[38;5;129;01mand\u001B[39;00m \u001B[38;5;28misinstance\u001B[39m(mapped[\u001B[38;5;241m0\u001B[39m], ABCSeries):\n\u001B[0;32m   1512\u001B[0m     \u001B[38;5;66;03m# GH#43986 Need to do list(mapped) in order to get treated as nested\u001B[39;00m\n\u001B[0;32m   1513\u001B[0m     \u001B[38;5;66;03m#  See also GH#25959 regarding EA support\u001B[39;00m\n\u001B[0;32m   1514\u001B[0m     \u001B[38;5;28;01mreturn\u001B[39;00m obj\u001B[38;5;241m.\u001B[39m_constructor_expanddim(\u001B[38;5;28mlist\u001B[39m(mapped), index\u001B[38;5;241m=\u001B[39mobj\u001B[38;5;241m.\u001B[39mindex)\n",
      "File \u001B[1;32mC:\\ProgramData\\anaconda3\\Lib\\site-packages\\pandas\\core\\base.py:921\u001B[0m, in \u001B[0;36mIndexOpsMixin._map_values\u001B[1;34m(self, mapper, na_action, convert)\u001B[0m\n\u001B[0;32m    918\u001B[0m \u001B[38;5;28;01mif\u001B[39;00m \u001B[38;5;28misinstance\u001B[39m(arr, ExtensionArray):\n\u001B[0;32m    919\u001B[0m     \u001B[38;5;28;01mreturn\u001B[39;00m arr\u001B[38;5;241m.\u001B[39mmap(mapper, na_action\u001B[38;5;241m=\u001B[39mna_action)\n\u001B[1;32m--> 921\u001B[0m \u001B[38;5;28;01mreturn\u001B[39;00m algorithms\u001B[38;5;241m.\u001B[39mmap_array(arr, mapper, na_action\u001B[38;5;241m=\u001B[39mna_action, convert\u001B[38;5;241m=\u001B[39mconvert)\n",
      "File \u001B[1;32mC:\\ProgramData\\anaconda3\\Lib\\site-packages\\pandas\\core\\algorithms.py:1743\u001B[0m, in \u001B[0;36mmap_array\u001B[1;34m(arr, mapper, na_action, convert)\u001B[0m\n\u001B[0;32m   1741\u001B[0m values \u001B[38;5;241m=\u001B[39m arr\u001B[38;5;241m.\u001B[39mastype(\u001B[38;5;28mobject\u001B[39m, copy\u001B[38;5;241m=\u001B[39m\u001B[38;5;28;01mFalse\u001B[39;00m)\n\u001B[0;32m   1742\u001B[0m \u001B[38;5;28;01mif\u001B[39;00m na_action \u001B[38;5;129;01mis\u001B[39;00m \u001B[38;5;28;01mNone\u001B[39;00m:\n\u001B[1;32m-> 1743\u001B[0m     \u001B[38;5;28;01mreturn\u001B[39;00m lib\u001B[38;5;241m.\u001B[39mmap_infer(values, mapper, convert\u001B[38;5;241m=\u001B[39mconvert)\n\u001B[0;32m   1744\u001B[0m \u001B[38;5;28;01melse\u001B[39;00m:\n\u001B[0;32m   1745\u001B[0m     \u001B[38;5;28;01mreturn\u001B[39;00m lib\u001B[38;5;241m.\u001B[39mmap_infer_mask(\n\u001B[0;32m   1746\u001B[0m         values, mapper, mask\u001B[38;5;241m=\u001B[39misna(values)\u001B[38;5;241m.\u001B[39mview(np\u001B[38;5;241m.\u001B[39muint8), convert\u001B[38;5;241m=\u001B[39mconvert\n\u001B[0;32m   1747\u001B[0m     )\n",
      "File \u001B[1;32mlib.pyx:2972\u001B[0m, in \u001B[0;36mpandas._libs.lib.map_infer\u001B[1;34m()\u001B[0m\n",
      "Cell \u001B[1;32mIn[12], line 2\u001B[0m, in \u001B[0;36m<lambda>\u001B[1;34m(x)\u001B[0m\n\u001B[0;32m      1\u001B[0m \u001B[38;5;66;03m# Extract the sentiment label\u001B[39;00m\n\u001B[1;32m----> 2\u001B[0m df[\u001B[38;5;124m'\u001B[39m\u001B[38;5;124msentiment_label\u001B[39m\u001B[38;5;124m'\u001B[39m] \u001B[38;5;241m=\u001B[39m df[\u001B[38;5;124m'\u001B[39m\u001B[38;5;124msentiment\u001B[39m\u001B[38;5;124m'\u001B[39m]\u001B[38;5;241m.\u001B[39mapply(\u001B[38;5;28;01mlambda\u001B[39;00m x: x[\u001B[38;5;124m'\u001B[39m\u001B[38;5;124mlabel\u001B[39m\u001B[38;5;124m'\u001B[39m])\n\u001B[0;32m      4\u001B[0m \u001B[38;5;66;03m# Extract the sentiment score\u001B[39;00m\n\u001B[0;32m      5\u001B[0m df[\u001B[38;5;124m'\u001B[39m\u001B[38;5;124msentiment_score\u001B[39m\u001B[38;5;124m'\u001B[39m] \u001B[38;5;241m=\u001B[39m df[\u001B[38;5;124m'\u001B[39m\u001B[38;5;124msentiment\u001B[39m\u001B[38;5;124m'\u001B[39m]\u001B[38;5;241m.\u001B[39mapply(\u001B[38;5;28;01mlambda\u001B[39;00m x: x[\u001B[38;5;124m'\u001B[39m\u001B[38;5;124mscore\u001B[39m\u001B[38;5;124m'\u001B[39m])\n",
      "\u001B[1;31mTypeError\u001B[0m: list indices must be integers or slices, not str"
     ]
    }
   ],
   "execution_count": 12
  },
  {
   "metadata": {
    "ExecuteTime": {
     "end_time": "2024-10-10T03:01:25.245156Z",
     "start_time": "2024-10-10T03:01:01.384236Z"
    }
   },
   "cell_type": "code",
   "source": [
    "# Classify Sentiment\n",
    "def classify_sentiment(text):\n",
    "    results = sentiment_classifier(text)\n",
    "    # Extract the sentiment with the highest score\n",
    "    sentiment = max(results[0], key=lambda x: x['score'])\n",
    "    return sentiment['label'], sentiment['score']\n",
    "\n",
    "# Apply sentiment classification to the 'clean_content' column\n",
    "df[['sentiment_label', 'sentiment_score']] = df['clean_content'].apply(classify_sentiment).apply(pd.Series)"
   ],
   "id": "ce0f048e93f41a3a",
   "outputs": [],
   "execution_count": 13
  },
  {
   "metadata": {
    "ExecuteTime": {
     "end_time": "2024-10-10T03:01:27.104796Z",
     "start_time": "2024-10-10T03:01:27.094689Z"
    }
   },
   "cell_type": "code",
   "source": [
    "# Review the Results\n",
    "df.head()"
   ],
   "id": "e6953375f17ef52b",
   "outputs": [
    {
     "data": {
      "text/plain": [
       "                    id                  timestamp  \\\n",
       "0  1844183629653737485  2024-10-10 01:10:00+00:00   \n",
       "1  1844171042832646341  2024-10-10 00:20:00+00:00   \n",
       "2  1844034407159701602  2024-10-09 15:17:00+00:00   \n",
       "3  1844128223300551170  2024-10-09 21:30:00+00:00   \n",
       "4  1844122745422159957  2024-10-09 21:08:00+00:00   \n",
       "\n",
       "                                                text       searchQuery  \\\n",
       "0  selagi gak masuk indonesia mah bodo amat.\\nber...  speed Indonesia    \n",
       "1  Gak sabar nunggu update selanjutnya tentang ak...  speed Indonesia    \n",
       "2  การ์ดน้องหนาว จากอัลบั้ม aespa 에스파 The 5th Min...  speed Indonesia    \n",
       "3                                    speed indonesia  speed Indonesia    \n",
       "4  Gue banget yang ikutin perjalanan Speed di Ind...  speed Indonesia    \n",
       "\n",
       "                                       clean_content  \\\n",
       "0  selagi gak masuk indonesia mah bodo amat\\nbera...   \n",
       "1  Gak sabar nunggu update selanjutnya tentang ak...   \n",
       "2  aespa  The th Mini AlbumWhiplash \\n\\n Beat Ver...   \n",
       "3                                    speed indonesia   \n",
       "4  Gue banget yang ikutin perjalanan Speed di Ind...   \n",
       "\n",
       "                                              tokens  \\\n",
       "0  [selagi, gak, masuk, indonesia, mah, bodo, ber...   \n",
       "1  [Gak, sabar, nunggu, update, aktivitas, Speed,...   \n",
       "2  [aespa, th, Mini, AlbumWhiplash, Beat, Ver, Sp...   \n",
       "3                                 [speed, indonesia]   \n",
       "4  [Gue, banget, ikutin, perjalanan, Speed, Indon...   \n",
       "\n",
       "                                           sentiment sentiment_label  \\\n",
       "0  [{'label': 'positive', 'score': 0.198922902345...        negative   \n",
       "1  [{'label': 'positive', 'score': 0.102577842772...        negative   \n",
       "2  [{'label': 'positive', 'score': 0.675740599632...        positive   \n",
       "3  [{'label': 'positive', 'score': 0.660719275474...        positive   \n",
       "4  [{'label': 'positive', 'score': 0.858708798885...        positive   \n",
       "\n",
       "   sentiment_score  \n",
       "0         0.674750  \n",
       "1         0.818184  \n",
       "2         0.675741  \n",
       "3         0.660719  \n",
       "4         0.858709  "
      ],
      "text/html": [
       "<div>\n",
       "<style scoped>\n",
       "    .dataframe tbody tr th:only-of-type {\n",
       "        vertical-align: middle;\n",
       "    }\n",
       "\n",
       "    .dataframe tbody tr th {\n",
       "        vertical-align: top;\n",
       "    }\n",
       "\n",
       "    .dataframe thead th {\n",
       "        text-align: right;\n",
       "    }\n",
       "</style>\n",
       "<table border=\"1\" class=\"dataframe\">\n",
       "  <thead>\n",
       "    <tr style=\"text-align: right;\">\n",
       "      <th></th>\n",
       "      <th>id</th>\n",
       "      <th>timestamp</th>\n",
       "      <th>text</th>\n",
       "      <th>searchQuery</th>\n",
       "      <th>clean_content</th>\n",
       "      <th>tokens</th>\n",
       "      <th>sentiment</th>\n",
       "      <th>sentiment_label</th>\n",
       "      <th>sentiment_score</th>\n",
       "    </tr>\n",
       "  </thead>\n",
       "  <tbody>\n",
       "    <tr>\n",
       "      <th>0</th>\n",
       "      <td>1844183629653737485</td>\n",
       "      <td>2024-10-10 01:10:00+00:00</td>\n",
       "      <td>selagi gak masuk indonesia mah bodo amat.\\nber...</td>\n",
       "      <td>speed Indonesia</td>\n",
       "      <td>selagi gak masuk indonesia mah bodo amat\\nbera...</td>\n",
       "      <td>[selagi, gak, masuk, indonesia, mah, bodo, ber...</td>\n",
       "      <td>[{'label': 'positive', 'score': 0.198922902345...</td>\n",
       "      <td>negative</td>\n",
       "      <td>0.674750</td>\n",
       "    </tr>\n",
       "    <tr>\n",
       "      <th>1</th>\n",
       "      <td>1844171042832646341</td>\n",
       "      <td>2024-10-10 00:20:00+00:00</td>\n",
       "      <td>Gak sabar nunggu update selanjutnya tentang ak...</td>\n",
       "      <td>speed Indonesia</td>\n",
       "      <td>Gak sabar nunggu update selanjutnya tentang ak...</td>\n",
       "      <td>[Gak, sabar, nunggu, update, aktivitas, Speed,...</td>\n",
       "      <td>[{'label': 'positive', 'score': 0.102577842772...</td>\n",
       "      <td>negative</td>\n",
       "      <td>0.818184</td>\n",
       "    </tr>\n",
       "    <tr>\n",
       "      <th>2</th>\n",
       "      <td>1844034407159701602</td>\n",
       "      <td>2024-10-09 15:17:00+00:00</td>\n",
       "      <td>การ์ดน้องหนาว จากอัลบั้ม aespa 에스파 The 5th Min...</td>\n",
       "      <td>speed Indonesia</td>\n",
       "      <td>aespa  The th Mini AlbumWhiplash \\n\\n Beat Ver...</td>\n",
       "      <td>[aespa, th, Mini, AlbumWhiplash, Beat, Ver, Sp...</td>\n",
       "      <td>[{'label': 'positive', 'score': 0.675740599632...</td>\n",
       "      <td>positive</td>\n",
       "      <td>0.675741</td>\n",
       "    </tr>\n",
       "    <tr>\n",
       "      <th>3</th>\n",
       "      <td>1844128223300551170</td>\n",
       "      <td>2024-10-09 21:30:00+00:00</td>\n",
       "      <td>speed indonesia</td>\n",
       "      <td>speed Indonesia</td>\n",
       "      <td>speed indonesia</td>\n",
       "      <td>[speed, indonesia]</td>\n",
       "      <td>[{'label': 'positive', 'score': 0.660719275474...</td>\n",
       "      <td>positive</td>\n",
       "      <td>0.660719</td>\n",
       "    </tr>\n",
       "    <tr>\n",
       "      <th>4</th>\n",
       "      <td>1844122745422159957</td>\n",
       "      <td>2024-10-09 21:08:00+00:00</td>\n",
       "      <td>Gue banget yang ikutin perjalanan Speed di Ind...</td>\n",
       "      <td>speed Indonesia</td>\n",
       "      <td>Gue banget yang ikutin perjalanan Speed di Ind...</td>\n",
       "      <td>[Gue, banget, ikutin, perjalanan, Speed, Indon...</td>\n",
       "      <td>[{'label': 'positive', 'score': 0.858708798885...</td>\n",
       "      <td>positive</td>\n",
       "      <td>0.858709</td>\n",
       "    </tr>\n",
       "  </tbody>\n",
       "</table>\n",
       "</div>"
      ]
     },
     "execution_count": 14,
     "metadata": {},
     "output_type": "execute_result"
    }
   ],
   "execution_count": 14
  },
  {
   "metadata": {
    "ExecuteTime": {
     "end_time": "2024-10-10T03:02:52.907873Z",
     "start_time": "2024-10-10T03:02:52.887773Z"
    }
   },
   "cell_type": "code",
   "source": [
    "# Save the def classify_sentiment df to a new CSV file\n",
    "df.to_csv('sentiments.csv', index=False)"
   ],
   "id": "d1e512f7260ab673",
   "outputs": [],
   "execution_count": 15
  },
  {
   "metadata": {},
   "cell_type": "markdown",
   "source": "# Data Analysis",
   "id": "64d52bb785f7ebec"
  },
  {
   "metadata": {
    "ExecuteTime": {
     "end_time": "2024-10-10T03:03:55.831563Z",
     "start_time": "2024-10-10T03:03:55.827325Z"
    }
   },
   "cell_type": "code",
   "source": [
    "# all sentiments statistics\n",
    "df['sentiment_label'].value_counts()\n"
   ],
   "id": "b7aff6530da76b4c",
   "outputs": [
    {
     "data": {
      "text/plain": [
       "sentiment_label\n",
       "positive    861\n",
       "negative    446\n",
       "neutral      17\n",
       "Name: count, dtype: int64"
      ]
     },
     "execution_count": 16,
     "metadata": {},
     "output_type": "execute_result"
    }
   ],
   "execution_count": 16
  },
  {
   "metadata": {
    "ExecuteTime": {
     "end_time": "2024-10-10T03:04:52.773007Z",
     "start_time": "2024-10-10T03:04:52.767881Z"
    }
   },
   "cell_type": "code",
   "source": [
    "# all sentiments statistics\n",
    "df['sentiment_label'].value_counts(normalize=True)"
   ],
   "id": "af37573a2fb56d80",
   "outputs": [
    {
     "data": {
      "text/plain": [
       "sentiment_label\n",
       "positive    0.650302\n",
       "negative    0.336858\n",
       "neutral     0.012840\n",
       "Name: proportion, dtype: float64"
      ]
     },
     "execution_count": 20,
     "metadata": {},
     "output_type": "execute_result"
    }
   ],
   "execution_count": 20
  },
  {
   "metadata": {},
   "cell_type": "markdown",
   "source": "# Data Visualization",
   "id": "4ee1660d8dba67b2"
  },
  {
   "metadata": {
    "ExecuteTime": {
     "end_time": "2024-10-10T03:10:10.313360Z",
     "start_time": "2024-10-10T03:10:10.025981Z"
    }
   },
   "cell_type": "code",
   "source": [
    "import plotly.express as px\n",
    "import wordcloud"
   ],
   "id": "167c86e402189707",
   "outputs": [],
   "execution_count": 22
  },
  {
   "metadata": {
    "ExecuteTime": {
     "end_time": "2024-10-10T03:10:28.183815Z",
     "start_time": "2024-10-10T03:10:27.465861Z"
    }
   },
   "cell_type": "code",
   "source": [
    "# Plot the Word Cloud\n",
    "# Create a word cloud\n",
    "wordcloud = wordcloud.WordCloud(width=800, height=400, background_color='white').generate(' '.join(df['clean_content']))\n",
    "\n",
    "# Display the word cloud\n",
    "plt.figure(figsize=(10, 6))\n",
    "plt.imshow(wordcloud, interpolation='bilinear')\n",
    "plt.axis('off')\n",
    "plt.show()"
   ],
   "id": "a107fc5db2881b66",
   "outputs": [
    {
     "data": {
      "text/plain": [
       "<Figure size 1000x600 with 1 Axes>"
      ],
      "image/png": "[encoded data removed]"
     },
     "metadata": {},
     "output_type": "display_data"
    }
   ],
   "execution_count": 23
  },
  {
   "metadata": {
    "ExecuteTime": {
     "end_time": "2024-10-10T03:10:40.013811Z",
     "start_time": "2024-10-10T03:10:39.783382Z"
    }
   },
   "cell_type": "code",
   "source": [
    "# Save the word cloud as an image\n",
    "wordcloud.to_file('wordcloud.png')"
   ],
   "id": "33f1d9ad7627c093",
   "outputs": [
    {
     "data": {
      "text/plain": [
       "<wordcloud.wordcloud.WordCloud at 0x239c88ef8f0>"
      ]
     },
     "execution_count": 24,
     "metadata": {},
     "output_type": "execute_result"
    }
   ],
   "execution_count": 24
  },
  {
   "metadata": {
    "ExecuteTime": {
     "end_time": "2024-10-10T04:06:17.103629Z",
     "start_time": "2024-10-10T04:06:17.076716Z"
    }
   },
   "cell_type": "code",
   "source": [
    "# Sentiment Distribution\n",
    "sentiment_counts = df['sentiment_label'].value_counts().reset_index()\n",
    "sentiment_counts.columns = ['Sentiment', 'Count']\n",
    "\n",
    "fig = px.bar(sentiment_counts, x='Sentiment', y='Count', title='Sentiment Distribution')\n",
    "fig.show()"
   ],
   "id": "a8e744caef7ca6e7",
   "outputs": [
    {
     "data": {
      "application/vnd.plotly.v1+json": {
       "data": [
        {
         "alignmentgroup": "True",
         "hovertemplate": "Sentiment=%{x}<br>Count=%{y}<extra></extra>",
         "legendgroup": "",
         "marker": {
          "color": "#636efa",
          "pattern": {
           "shape": ""
          }
         },
         "name": "",
         "offsetgroup": "",
         "orientation": "v",
         "showlegend": false,
         "textposition": "auto",
         "x": [
          "positive",
          "negative",
          "neutral"
         ],
         "xaxis": "x",
         "y": [
          861,
          446,
          17
         ],
         "yaxis": "y",
         "type": "bar"
        }
       ],
       "layout": {
        "template": {
         "data": {
          "histogram2dcontour": [
           {
            "type": "histogram2dcontour",
            "colorbar": {
             "outlinewidth": 0,
             "ticks": ""
            },
            "colorscale": [
             [
              0.0,
              "#0d0887"
             ],
             [
              0.1111111111111111,
              "#46039f"
             ],
             [
              0.2222222222222222,
              "#7201a8"
             ],
             [
              0.3333333333333333,
              "#9c179e"
             ],
             [
              0.4444444444444444,
              "#bd3786"
             ],
             [
              0.5555555555555556,
              "#d8576b"
             ],
             [
              0.6666666666666666,
              "#ed7953"
             ],
             [
              0.7777777777777778,
              "#fb9f3a"
             ],
             [
              0.8888888888888888,
              "#fdca26"
             ],
             [
              1.0,
              "#f0f921"
             ]
            ]
           }
          ],
          "choropleth": [
           {
            "type": "choropleth",
            "colorbar": {
             "outlinewidth": 0,
             "ticks": ""
            }
           }
          ],
          "histogram2d": [
           {
            "type": "histogram2d",
            "colorbar": {
             "outlinewidth": 0,
             "ticks": ""
            },
            "colorscale": [
             [
              0.0,
              "#0d0887"
             ],
             [
              0.1111111111111111,
              "#46039f"
             ],
             [
              0.2222222222222222,
              "#7201a8"
             ],
             [
              0.3333333333333333,
              "#9c179e"
             ],
             [
              0.4444444444444444,
              "#bd3786"
             ],
             [
              0.5555555555555556,
              "#d8576b"
             ],
             [
              0.6666666666666666,
              "#ed7953"
             ],
             [
              0.7777777777777778,
              "#fb9f3a"
             ],
             [
              0.8888888888888888,
              "#fdca26"
             ],
             [
              1.0,
              "#f0f921"
             ]
            ]
           }
          ],
          "heatmap": [
           {
            "type": "heatmap",
            "colorbar": {
             "outlinewidth": 0,
             "ticks": ""
            },
            "colorscale": [
             [
              0.0,
              "#0d0887"
             ],
             [
              0.1111111111111111,
              "#46039f"
             ],
             [
              0.2222222222222222,
              "#7201a8"
             ],
             [
              0.3333333333333333,
              "#9c179e"
             ],
             [
              0.4444444444444444,
              "#bd3786"
             ],
             [
              0.5555555555555556,
              "#d8576b"
             ],
             [
              0.6666666666666666,
              "#ed7953"
             ],
             [
              0.7777777777777778,
              "#fb9f3a"
             ],
             [
              0.8888888888888888,
              "#fdca26"
             ],
             [
              1.0,
              "#f0f921"
             ]
            ]
           }
          ],
          "heatmapgl": [
           {
            "type": "heatmapgl",
            "colorbar": {
             "outlinewidth": 0,
             "ticks": ""
            },
            "colorscale": [
             [
              0.0,
              "#0d0887"
             ],
             [
              0.1111111111111111,
              "#46039f"
             ],
             [
              0.2222222222222222,
              "#7201a8"
             ],
             [
              0.3333333333333333,
              "#9c179e"
             ],
             [
              0.4444444444444444,
              "#bd3786"
             ],
             [
              0.5555555555555556,
              "#d8576b"
             ],
             [
              0.6666666666666666,
              "#ed7953"
             ],
             [
              0.7777777777777778,
              "#fb9f3a"
             ],
             [
              0.8888888888888888,
              "#fdca26"
             ],
             [
              1.0,
              "#f0f921"
             ]
            ]
           }
          ],
          "contourcarpet": [
           {
            "type": "contourcarpet",
            "colorbar": {
             "outlinewidth": 0,
             "ticks": ""
            }
           }
          ],
          "contour": [
           {
            "type": "contour",
            "colorbar": {
             "outlinewidth": 0,
             "ticks": ""
            },
            "colorscale": [
             [
              0.0,
              "#0d0887"
             ],
             [
              0.1111111111111111,
              "#46039f"
             ],
             [
              0.2222222222222222,
              "#7201a8"
             ],
             [
              0.3333333333333333,
              "#9c179e"
             ],
             [
              0.4444444444444444,
              "#bd3786"
             ],
             [
              0.5555555555555556,
              "#d8576b"
             ],
             [
              0.6666666666666666,
              "#ed7953"
             ],
             [
              0.7777777777777778,
              "#fb9f3a"
             ],
             [
              0.8888888888888888,
              "#fdca26"
             ],
             [
              1.0,
              "#f0f921"
             ]
            ]
           }
          ],
          "surface": [
           {
            "type": "surface",
            "colorbar": {
             "outlinewidth": 0,
             "ticks": ""
            },
            "colorscale": [
             [
              0.0,
              "#0d0887"
             ],
             [
              0.1111111111111111,
              "#46039f"
             ],
             [
              0.2222222222222222,
              "#7201a8"
             ],
             [
              0.3333333333333333,
              "#9c179e"
             ],
             [
              0.4444444444444444,
              "#bd3786"
             ],
             [
              0.5555555555555556,
              "#d8576b"
             ],
             [
              0.6666666666666666,
              "#ed7953"
             ],
             [
              0.7777777777777778,
              "#fb9f3a"
             ],
             [
              0.8888888888888888,
              "#fdca26"
             ],
             [
              1.0,
              "#f0f921"
             ]
            ]
           }
          ],
          "mesh3d": [
           {
            "type": "mesh3d",
            "colorbar": {
             "outlinewidth": 0,
             "ticks": ""
            }
           }
          ],
          "scatter": [
           {
            "fillpattern": {
             "fillmode": "overlay",
             "size": 10,
             "solidity": 0.2
            },
            "type": "scatter"
           }
          ],
          "parcoords": [
           {
            "type": "parcoords",
            "line": {
             "colorbar": {
              "outlinewidth": 0,
              "ticks": ""
             }
            }
           }
          ],
          "scatterpolargl": [
           {
            "type": "scatterpolargl",
            "marker": {
             "colorbar": {
              "outlinewidth": 0,
              "ticks": ""
             }
            }
           }
          ],
          "bar": [
           {
            "error_x": {
             "color": "#2a3f5f"
            },
            "error_y": {
             "color": "#2a3f5f"
            },
            "marker": {
             "line": {
              "color": "#E5ECF6",
              "width": 0.5
             },
             "pattern": {
              "fillmode": "overlay",
              "size": 10,
              "solidity": 0.2
             }
            },
            "type": "bar"
           }
          ],
          "scattergeo": [
           {
            "type": "scattergeo",
            "marker": {
             "colorbar": {
              "outlinewidth": 0,
              "ticks": ""
             }
            }
           }
          ],
          "scatterpolar": [
           {
            "type": "scatterpolar",
            "marker": {
             "colorbar": {
              "outlinewidth": 0,
              "ticks": ""
             }
            }
           }
          ],
          "histogram": [
           {
            "marker": {
             "pattern": {
              "fillmode": "overlay",
              "size": 10,
              "solidity": 0.2
             }
            },
            "type": "histogram"
           }
          ],
          "scattergl": [
           {
            "type": "scattergl",
            "marker": {
             "colorbar": {
              "outlinewidth": 0,
              "ticks": ""
             }
            }
           }
          ],
          "scatter3d": [
           {
            "type": "scatter3d",
            "line": {
             "colorbar": {
              "outlinewidth": 0,
              "ticks": ""
             }
            },
            "marker": {
             "colorbar": {
              "outlinewidth": 0,
              "ticks": ""
             }
            }
           }
          ],
          "scattermapbox": [
           {
            "type": "scattermapbox",
            "marker": {
             "colorbar": {
              "outlinewidth": 0,
              "ticks": ""
             }
            }
           }
          ],
          "scatterternary": [
           {
            "type": "scatterternary",
            "marker": {
             "colorbar": {
              "outlinewidth": 0,
              "ticks": ""
             }
            }
           }
          ],
          "scattercarpet": [
           {
            "type": "scattercarpet",
            "marker": {
             "colorbar": {
              "outlinewidth": 0,
              "ticks": ""
             }
            }
           }
          ],
          "carpet": [
           {
            "aaxis": {
             "endlinecolor": "#2a3f5f",
             "gridcolor": "white",
             "linecolor": "white",
             "minorgridcolor": "white",
             "startlinecolor": "#2a3f5f"
            },
            "baxis": {
             "endlinecolor": "#2a3f5f",
             "gridcolor": "white",
             "linecolor": "white",
             "minorgridcolor": "white",
             "startlinecolor": "#2a3f5f"
            },
            "type": "carpet"
           }
          ],
          "table": [
           {
            "cells": {
             "fill": {
              "color": "#EBF0F8"
             },
             "line": {
              "color": "white"
             }
            },
            "header": {
             "fill": {
              "color": "#C8D4E3"
             },
             "line": {
              "color": "white"
             }
            },
            "type": "table"
           }
          ],
          "barpolar": [
           {
            "marker": {
             "line": {
              "color": "#E5ECF6",
              "width": 0.5
             },
             "pattern": {
              "fillmode": "overlay",
              "size": 10,
              "solidity": 0.2
             }
            },
            "type": "barpolar"
           }
          ],
          "pie": [
           {
            "automargin": true,
            "type": "pie"
           }
          ]
         },
         "layout": {
          "autotypenumbers": "strict",
          "colorway": [
           "#636efa",
           "#EF553B",
           "#00cc96",
           "#ab63fa",
           "#FFA15A",
           "#19d3f3",
           "#FF6692",
           "#B6E880",
           "#FF97FF",
           "#FECB52"
          ],
          "font": {
           "color": "#2a3f5f"
          },
          "hovermode": "closest",
          "hoverlabel": {
           "align": "left"
          },
          "paper_bgcolor": "white",
          "plot_bgcolor": "#E5ECF6",
          "polar": {
           "bgcolor": "#E5ECF6",
           "angularaxis": {
            "gridcolor": "white",
            "linecolor": "white",
            "ticks": ""
           },
           "radialaxis": {
            "gridcolor": "white",
            "linecolor": "white",
            "ticks": ""
           }
          },
          "ternary": {
           "bgcolor": "#E5ECF6",
           "aaxis": {
            "gridcolor": "white",
            "linecolor": "white",
            "ticks": ""
           },
           "baxis": {
            "gridcolor": "white",
            "linecolor": "white",
            "ticks": ""
           },
           "caxis": {
            "gridcolor": "white",
            "linecolor": "white",
            "ticks": ""
           }
          },
          "coloraxis": {
           "colorbar": {
            "outlinewidth": 0,
            "ticks": ""
           }
          },
          "colorscale": {
           "sequential": [
            [
             0.0,
             "#0d0887"
            ],
            [
             0.1111111111111111,
             "#46039f"
            ],
            [
             0.2222222222222222,
             "#7201a8"
            ],
            [
             0.3333333333333333,
             "#9c179e"
            ],
            [
             0.4444444444444444,
             "#bd3786"
            ],
            [
             0.5555555555555556,
             "#d8576b"
            ],
            [
             0.6666666666666666,
             "#ed7953"
            ],
            [
             0.7777777777777778,
             "#fb9f3a"
            ],
            [
             0.8888888888888888,
             "#fdca26"
            ],
            [
             1.0,
             "#f0f921"
            ]
           ],
           "sequentialminus": [
            [
             0.0,
             "#0d0887"
            ],
            [
             0.1111111111111111,
             "#46039f"
            ],
            [
             0.2222222222222222,
             "#7201a8"
            ],
            [
             0.3333333333333333,
             "#9c179e"
            ],
            [
             0.4444444444444444,
             "#bd3786"
            ],
            [
             0.5555555555555556,
             "#d8576b"
            ],
            [
             0.6666666666666666,
             "#ed7953"
            ],
            [
             0.7777777777777778,
             "#fb9f3a"
            ],
            [
             0.8888888888888888,
             "#fdca26"
            ],
            [
             1.0,
             "#f0f921"
            ]
           ],
           "diverging": [
            [
             0,
             "#8e0152"
            ],
            [
             0.1,
             "#c51b7d"
            ],
            [
             0.2,
             "#de77ae"
            ],
            [
             0.3,
             "#f1b6da"
            ],
            [
             0.4,
             "#fde0ef"
            ],
            [
             0.5,
             "#f7f7f7"
            ],
            [
             0.6,
             "#e6f5d0"
            ],
            [
             0.7,
             "#b8e186"
            ],
            [
             0.8,
             "#7fbc41"
            ],
            [
             0.9,
             "#4d9221"
            ],
            [
             1,
             "#276419"
            ]
           ]
          },
          "xaxis": {
           "gridcolor": "white",
           "linecolor": "white",
           "ticks": "",
           "title": {
            "standoff": 15
           },
           "zerolinecolor": "white",
           "automargin": true,
           "zerolinewidth": 2
          },
          "yaxis": {
           "gridcolor": "white",
           "linecolor": "white",
           "ticks": "",
           "title": {
            "standoff": 15
           },
           "zerolinecolor": "white",
           "automargin": true,
           "zerolinewidth": 2
          },
          "scene": {
           "xaxis": {
            "backgroundcolor": "#E5ECF6",
            "gridcolor": "white",
            "linecolor": "white",
            "showbackground": true,
            "ticks": "",
            "zerolinecolor": "white",
            "gridwidth": 2
           },
           "yaxis": {
            "backgroundcolor": "#E5ECF6",
            "gridcolor": "white",
            "linecolor": "white",
            "showbackground": true,
            "ticks": "",
            "zerolinecolor": "white",
            "gridwidth": 2
           },
           "zaxis": {
            "backgroundcolor": "#E5ECF6",
            "gridcolor": "white",
            "linecolor": "white",
            "showbackground": true,
            "ticks": "",
            "zerolinecolor": "white",
            "gridwidth": 2
           }
          },
          "shapedefaults": {
           "line": {
            "color": "#2a3f5f"
           }
          },
          "annotationdefaults": {
           "arrowcolor": "#2a3f5f",
           "arrowhead": 0,
           "arrowwidth": 1
          },
          "geo": {
           "bgcolor": "white",
           "landcolor": "#E5ECF6",
           "subunitcolor": "white",
           "showland": true,
           "showlakes": true,
           "lakecolor": "white"
          },
          "title": {
           "x": 0.05
          },
          "mapbox": {
           "style": "light"
          }
         }
        },
        "xaxis": {
         "anchor": "y",
         "domain": [
          0.0,
          1.0
         ],
         "title": {
          "text": "Sentiment"
         }
        },
        "yaxis": {
         "anchor": "x",
         "domain": [
          0.0,
          1.0
         ],
         "title": {
          "text": "Count"
         }
        },
        "legend": {
         "tracegroupgap": 0
        },
        "title": {
         "text": "Sentiment Distribution"
        },
        "barmode": "relative"
       },
       "config": {
        "plotlyServerURL": "https://plot.ly"
       }
      },
      "text/html": [
       "<div>                            <div id=\"5afa9416-4bbb-49a2-9ed1-6552075e55a7\" class=\"plotly-graph-div\" style=\"height:525px; width:100%;\"></div>            <script type=\"text/javascript\">                require([\"plotly\"], function(Plotly) {                    window.PLOTLYENV=window.PLOTLYENV || {};                                    if (document.getElementById(\"5afa9416-4bbb-49a2-9ed1-6552075e55a7\")) {                    Plotly.newPlot(                        \"5afa9416-4bbb-49a2-9ed1-6552075e55a7\",                        [{\"alignmentgroup\":\"True\",\"hovertemplate\":\"Sentiment=%{x}\\u003cbr\\u003eCount=%{y}\\u003cextra\\u003e\\u003c\\u002fextra\\u003e\",\"legendgroup\":\"\",\"marker\":{\"color\":\"#636efa\",\"pattern\":{\"shape\":\"\"}},\"name\":\"\",\"offsetgroup\":\"\",\"orientation\":\"v\",\"showlegend\":false,\"textposition\":\"auto\",\"x\":[\"positive\",\"negative\",\"neutral\"],\"xaxis\":\"x\",\"y\":[861,446,17],\"yaxis\":\"y\",\"type\":\"bar\"}],                        {\"template\":{\"data\":{\"histogram2dcontour\":[{\"type\":\"histogram2dcontour\",\"colorbar\":{\"outlinewidth\":0,\"ticks\":\"\"},\"colorscale\":[[0.0,\"#0d0887\"],[0.1111111111111111,\"#46039f\"],[0.2222222222222222,\"#7201a8\"],[0.3333333333333333,\"#9c179e\"],[0.4444444444444444,\"#bd3786\"],[0.5555555555555556,\"#d8576b\"],[0.6666666666666666,\"#ed7953\"],[0.7777777777777778,\"#fb9f3a\"],[0.8888888888888888,\"#fdca26\"],[1.0,\"#f0f921\"]]}],\"choropleth\":[{\"type\":\"choropleth\",\"colorbar\":{\"outlinewidth\":0,\"ticks\":\"\"}}],\"histogram2d\":[{\"type\":\"histogram2d\",\"colorbar\":{\"outlinewidth\":0,\"ticks\":\"\"},\"colorscale\":[[0.0,\"#0d0887\"],[0.1111111111111111,\"#46039f\"],[0.2222222222222222,\"#7201a8\"],[0.3333333333333333,\"#9c179e\"],[0.4444444444444444,\"#bd3786\"],[0.5555555555555556,\"#d8576b\"],[0.6666666666666666,\"#ed7953\"],[0.7777777777777778,\"#fb9f3a\"],[0.8888888888888888,\"#fdca26\"],[1.0,\"#f0f921\"]]}],\"heatmap\":[{\"type\":\"heatmap\",\"colorbar\":{\"outlinewidth\":0,\"ticks\":\"\"},\"colorscale\":[[0.0,\"#0d0887\"],[0.1111111111111111,\"#46039f\"],[0.2222222222222222,\"#7201a8\"],[0.3333333333333333,\"#9c179e\"],[0.4444444444444444,\"#bd3786\"],[0.5555555555555556,\"#d8576b\"],[0.6666666666666666,\"#ed7953\"],[0.7777777777777778,\"#fb9f3a\"],[0.8888888888888888,\"#fdca26\"],[1.0,\"#f0f921\"]]}],\"heatmapgl\":[{\"type\":\"heatmapgl\",\"colorbar\":{\"outlinewidth\":0,\"ticks\":\"\"},\"colorscale\":[[0.0,\"#0d0887\"],[0.1111111111111111,\"#46039f\"],[0.2222222222222222,\"#7201a8\"],[0.3333333333333333,\"#9c179e\"],[0.4444444444444444,\"#bd3786\"],[0.5555555555555556,\"#d8576b\"],[0.6666666666666666,\"#ed7953\"],[0.7777777777777778,\"#fb9f3a\"],[0.8888888888888888,\"#fdca26\"],[1.0,\"#f0f921\"]]}],\"contourcarpet\":[{\"type\":\"contourcarpet\",\"colorbar\":{\"outlinewidth\":0,\"ticks\":\"\"}}],\"contour\":[{\"type\":\"contour\",\"colorbar\":{\"outlinewidth\":0,\"ticks\":\"\"},\"colorscale\":[[0.0,\"#0d0887\"],[0.1111111111111111,\"#46039f\"],[0.2222222222222222,\"#7201a8\"],[0.3333333333333333,\"#9c179e\"],[0.4444444444444444,\"#bd3786\"],[0.5555555555555556,\"#d8576b\"],[0.6666666666666666,\"#ed7953\"],[0.7777777777777778,\"#fb9f3a\"],[0.8888888888888888,\"#fdca26\"],[1.0,\"#f0f921\"]]}],\"surface\":[{\"type\":\"surface\",\"colorbar\":{\"outlinewidth\":0,\"ticks\":\"\"},\"colorscale\":[[0.0,\"#0d0887\"],[0.1111111111111111,\"#46039f\"],[0.2222222222222222,\"#7201a8\"],[0.3333333333333333,\"#9c179e\"],[0.4444444444444444,\"#bd3786\"],[0.5555555555555556,\"#d8576b\"],[0.6666666666666666,\"#ed7953\"],[0.7777777777777778,\"#fb9f3a\"],[0.8888888888888888,\"#fdca26\"],[1.0,\"#f0f921\"]]}],\"mesh3d\":[{\"type\":\"mesh3d\",\"colorbar\":{\"outlinewidth\":0,\"ticks\":\"\"}}],\"scatter\":[{\"fillpattern\":{\"fillmode\":\"overlay\",\"size\":10,\"solidity\":0.2},\"type\":\"scatter\"}],\"parcoords\":[{\"type\":\"parcoords\",\"line\":{\"colorbar\":{\"outlinewidth\":0,\"ticks\":\"\"}}}],\"scatterpolargl\":[{\"type\":\"scatterpolargl\",\"marker\":{\"colorbar\":{\"outlinewidth\":0,\"ticks\":\"\"}}}],\"bar\":[{\"error_x\":{\"color\":\"#2a3f5f\"},\"error_y\":{\"color\":\"#2a3f5f\"},\"marker\":{\"line\":{\"color\":\"#E5ECF6\",\"width\":0.5},\"pattern\":{\"fillmode\":\"overlay\",\"size\":10,\"solidity\":0.2}},\"type\":\"bar\"}],\"scattergeo\":[{\"type\":\"scattergeo\",\"marker\":{\"colorbar\":{\"outlinewidth\":0,\"ticks\":\"\"}}}],\"scatterpolar\":[{\"type\":\"scatterpolar\",\"marker\":{\"colorbar\":{\"outlinewidth\":0,\"ticks\":\"\"}}}],\"histogram\":[{\"marker\":{\"pattern\":{\"fillmode\":\"overlay\",\"size\":10,\"solidity\":0.2}},\"type\":\"histogram\"}],\"scattergl\":[{\"type\":\"scattergl\",\"marker\":{\"colorbar\":{\"outlinewidth\":0,\"ticks\":\"\"}}}],\"scatter3d\":[{\"type\":\"scatter3d\",\"line\":{\"colorbar\":{\"outlinewidth\":0,\"ticks\":\"\"}},\"marker\":{\"colorbar\":{\"outlinewidth\":0,\"ticks\":\"\"}}}],\"scattermapbox\":[{\"type\":\"scattermapbox\",\"marker\":{\"colorbar\":{\"outlinewidth\":0,\"ticks\":\"\"}}}],\"scatterternary\":[{\"type\":\"scatterternary\",\"marker\":{\"colorbar\":{\"outlinewidth\":0,\"ticks\":\"\"}}}],\"scattercarpet\":[{\"type\":\"scattercarpet\",\"marker\":{\"colorbar\":{\"outlinewidth\":0,\"ticks\":\"\"}}}],\"carpet\":[{\"aaxis\":{\"endlinecolor\":\"#2a3f5f\",\"gridcolor\":\"white\",\"linecolor\":\"white\",\"minorgridcolor\":\"white\",\"startlinecolor\":\"#2a3f5f\"},\"baxis\":{\"endlinecolor\":\"#2a3f5f\",\"gridcolor\":\"white\",\"linecolor\":\"white\",\"minorgridcolor\":\"white\",\"startlinecolor\":\"#2a3f5f\"},\"type\":\"carpet\"}],\"table\":[{\"cells\":{\"fill\":{\"color\":\"#EBF0F8\"},\"line\":{\"color\":\"white\"}},\"header\":{\"fill\":{\"color\":\"#C8D4E3\"},\"line\":{\"color\":\"white\"}},\"type\":\"table\"}],\"barpolar\":[{\"marker\":{\"line\":{\"color\":\"#E5ECF6\",\"width\":0.5},\"pattern\":{\"fillmode\":\"overlay\",\"size\":10,\"solidity\":0.2}},\"type\":\"barpolar\"}],\"pie\":[{\"automargin\":true,\"type\":\"pie\"}]},\"layout\":{\"autotypenumbers\":\"strict\",\"colorway\":[\"#636efa\",\"#EF553B\",\"#00cc96\",\"#ab63fa\",\"#FFA15A\",\"#19d3f3\",\"#FF6692\",\"#B6E880\",\"#FF97FF\",\"#FECB52\"],\"font\":{\"color\":\"#2a3f5f\"},\"hovermode\":\"closest\",\"hoverlabel\":{\"align\":\"left\"},\"paper_bgcolor\":\"white\",\"plot_bgcolor\":\"#E5ECF6\",\"polar\":{\"bgcolor\":\"#E5ECF6\",\"angularaxis\":{\"gridcolor\":\"white\",\"linecolor\":\"white\",\"ticks\":\"\"},\"radialaxis\":{\"gridcolor\":\"white\",\"linecolor\":\"white\",\"ticks\":\"\"}},\"ternary\":{\"bgcolor\":\"#E5ECF6\",\"aaxis\":{\"gridcolor\":\"white\",\"linecolor\":\"white\",\"ticks\":\"\"},\"baxis\":{\"gridcolor\":\"white\",\"linecolor\":\"white\",\"ticks\":\"\"},\"caxis\":{\"gridcolor\":\"white\",\"linecolor\":\"white\",\"ticks\":\"\"}},\"coloraxis\":{\"colorbar\":{\"outlinewidth\":0,\"ticks\":\"\"}},\"colorscale\":{\"sequential\":[[0.0,\"#0d0887\"],[0.1111111111111111,\"#46039f\"],[0.2222222222222222,\"#7201a8\"],[0.3333333333333333,\"#9c179e\"],[0.4444444444444444,\"#bd3786\"],[0.5555555555555556,\"#d8576b\"],[0.6666666666666666,\"#ed7953\"],[0.7777777777777778,\"#fb9f3a\"],[0.8888888888888888,\"#fdca26\"],[1.0,\"#f0f921\"]],\"sequentialminus\":[[0.0,\"#0d0887\"],[0.1111111111111111,\"#46039f\"],[0.2222222222222222,\"#7201a8\"],[0.3333333333333333,\"#9c179e\"],[0.4444444444444444,\"#bd3786\"],[0.5555555555555556,\"#d8576b\"],[0.6666666666666666,\"#ed7953\"],[0.7777777777777778,\"#fb9f3a\"],[0.8888888888888888,\"#fdca26\"],[1.0,\"#f0f921\"]],\"diverging\":[[0,\"#8e0152\"],[0.1,\"#c51b7d\"],[0.2,\"#de77ae\"],[0.3,\"#f1b6da\"],[0.4,\"#fde0ef\"],[0.5,\"#f7f7f7\"],[0.6,\"#e6f5d0\"],[0.7,\"#b8e186\"],[0.8,\"#7fbc41\"],[0.9,\"#4d9221\"],[1,\"#276419\"]]},\"xaxis\":{\"gridcolor\":\"white\",\"linecolor\":\"white\",\"ticks\":\"\",\"title\":{\"standoff\":15},\"zerolinecolor\":\"white\",\"automargin\":true,\"zerolinewidth\":2},\"yaxis\":{\"gridcolor\":\"white\",\"linecolor\":\"white\",\"ticks\":\"\",\"title\":{\"standoff\":15},\"zerolinecolor\":\"white\",\"automargin\":true,\"zerolinewidth\":2},\"scene\":{\"xaxis\":{\"backgroundcolor\":\"#E5ECF6\",\"gridcolor\":\"white\",\"linecolor\":\"white\",\"showbackground\":true,\"ticks\":\"\",\"zerolinecolor\":\"white\",\"gridwidth\":2},\"yaxis\":{\"backgroundcolor\":\"#E5ECF6\",\"gridcolor\":\"white\",\"linecolor\":\"white\",\"showbackground\":true,\"ticks\":\"\",\"zerolinecolor\":\"white\",\"gridwidth\":2},\"zaxis\":{\"backgroundcolor\":\"#E5ECF6\",\"gridcolor\":\"white\",\"linecolor\":\"white\",\"showbackground\":true,\"ticks\":\"\",\"zerolinecolor\":\"white\",\"gridwidth\":2}},\"shapedefaults\":{\"line\":{\"color\":\"#2a3f5f\"}},\"annotationdefaults\":{\"arrowcolor\":\"#2a3f5f\",\"arrowhead\":0,\"arrowwidth\":1},\"geo\":{\"bgcolor\":\"white\",\"landcolor\":\"#E5ECF6\",\"subunitcolor\":\"white\",\"showland\":true,\"showlakes\":true,\"lakecolor\":\"white\"},\"title\":{\"x\":0.05},\"mapbox\":{\"style\":\"light\"}}},\"xaxis\":{\"anchor\":\"y\",\"domain\":[0.0,1.0],\"title\":{\"text\":\"Sentiment\"}},\"yaxis\":{\"anchor\":\"x\",\"domain\":[0.0,1.0],\"title\":{\"text\":\"Count\"}},\"legend\":{\"tracegroupgap\":0},\"title\":{\"text\":\"Sentiment Distribution\"},\"barmode\":\"relative\"},                        {\"responsive\": true}                    ).then(function(){\n",
       "                            \n",
       "var gd = document.getElementById('5afa9416-4bbb-49a2-9ed1-6552075e55a7');\n",
       "var x = new MutationObserver(function (mutations, observer) {{\n",
       "        var display = window.getComputedStyle(gd).display;\n",
       "        if (!display || display === 'none') {{\n",
       "            console.log([gd, 'removed!']);\n",
       "            Plotly.purge(gd);\n",
       "            observer.disconnect();\n",
       "        }}\n",
       "}});\n",
       "\n",
       "// Listen for the removal of the full notebook cells\n",
       "var notebookContainer = gd.closest('#notebook-container');\n",
       "if (notebookContainer) {{\n",
       "    x.observe(notebookContainer, {childList: true});\n",
       "}}\n",
       "\n",
       "// Listen for the clearing of the current output cell\n",
       "var outputEl = gd.closest('.output');\n",
       "if (outputEl) {{\n",
       "    x.observe(outputEl, {childList: true});\n",
       "}}\n",
       "\n",
       "                        })                };                });            </script>        </div>"
      ]
     },
     "metadata": {},
     "output_type": "display_data"
    }
   ],
   "execution_count": 36
  },
  {
   "metadata": {
    "ExecuteTime": {
     "end_time": "2024-10-10T04:06:17.968554Z",
     "start_time": "2024-10-10T04:06:17.938601Z"
    }
   },
   "cell_type": "code",
   "source": [
    "# save the sentiment distribution as an image\n",
    "fig.write_image('sentiment_distribution.png')"
   ],
   "id": "8a0f5215bf9b04df",
   "outputs": [
    {
     "ename": "ValueError",
     "evalue": "\nImage export using the \"kaleido\" engine requires the kaleido package,\nwhich can be installed using pip:\n    $ pip install -U kaleido\n",
     "output_type": "error",
     "traceback": [
      "\u001B[1;31m---------------------------------------------------------------------------\u001B[0m",
      "\u001B[1;31mValueError\u001B[0m                                Traceback (most recent call last)",
      "Cell \u001B[1;32mIn[37], line 2\u001B[0m\n\u001B[0;32m      1\u001B[0m \u001B[38;5;66;03m# save the sentiment distribution as an image\u001B[39;00m\n\u001B[1;32m----> 2\u001B[0m fig\u001B[38;5;241m.\u001B[39mwrite_image(\u001B[38;5;124m'\u001B[39m\u001B[38;5;124msentiment_distribution.png\u001B[39m\u001B[38;5;124m'\u001B[39m)\n",
      "File \u001B[1;32mC:\\ProgramData\\anaconda3\\Lib\\site-packages\\plotly\\basedatatypes.py:3841\u001B[0m, in \u001B[0;36mBaseFigure.write_image\u001B[1;34m(self, *args, **kwargs)\u001B[0m\n\u001B[0;32m   3781\u001B[0m \u001B[38;5;250m\u001B[39m\u001B[38;5;124;03m\"\"\"\u001B[39;00m\n\u001B[0;32m   3782\u001B[0m \u001B[38;5;124;03mConvert a figure to a static image and write it to a file or writeable\u001B[39;00m\n\u001B[0;32m   3783\u001B[0m \u001B[38;5;124;03mobject\u001B[39;00m\n\u001B[1;32m   (...)\u001B[0m\n\u001B[0;32m   3837\u001B[0m \u001B[38;5;124;03mNone\u001B[39;00m\n\u001B[0;32m   3838\u001B[0m \u001B[38;5;124;03m\"\"\"\u001B[39;00m\n\u001B[0;32m   3839\u001B[0m \u001B[38;5;28;01mimport\u001B[39;00m \u001B[38;5;21;01mplotly\u001B[39;00m\u001B[38;5;21;01m.\u001B[39;00m\u001B[38;5;21;01mio\u001B[39;00m \u001B[38;5;28;01mas\u001B[39;00m \u001B[38;5;21;01mpio\u001B[39;00m\n\u001B[1;32m-> 3841\u001B[0m \u001B[38;5;28;01mreturn\u001B[39;00m pio\u001B[38;5;241m.\u001B[39mwrite_image(\u001B[38;5;28mself\u001B[39m, \u001B[38;5;241m*\u001B[39margs, \u001B[38;5;241m*\u001B[39m\u001B[38;5;241m*\u001B[39mkwargs)\n",
      "File \u001B[1;32mC:\\ProgramData\\anaconda3\\Lib\\site-packages\\plotly\\io\\_kaleido.py:266\u001B[0m, in \u001B[0;36mwrite_image\u001B[1;34m(fig, file, format, scale, width, height, validate, engine)\u001B[0m\n\u001B[0;32m    250\u001B[0m             \u001B[38;5;28;01mraise\u001B[39;00m \u001B[38;5;167;01mValueError\u001B[39;00m(\n\u001B[0;32m    251\u001B[0m \u001B[38;5;250m                \u001B[39m\u001B[38;5;124;03m\"\"\"\u001B[39;00m\n\u001B[0;32m    252\u001B[0m \u001B[38;5;124;03mCannot infer image type from output path '{file}'.\u001B[39;00m\n\u001B[1;32m   (...)\u001B[0m\n\u001B[0;32m    260\u001B[0m                 )\n\u001B[0;32m    261\u001B[0m             )\n\u001B[0;32m    263\u001B[0m     \u001B[38;5;66;03m# Request image\u001B[39;00m\n\u001B[0;32m    264\u001B[0m     \u001B[38;5;66;03m# -------------\u001B[39;00m\n\u001B[0;32m    265\u001B[0m     \u001B[38;5;66;03m# Do this first so we don't create a file if image conversion fails\u001B[39;00m\n\u001B[1;32m--> 266\u001B[0m     img_data \u001B[38;5;241m=\u001B[39m to_image(\n\u001B[0;32m    267\u001B[0m         fig,\n\u001B[0;32m    268\u001B[0m         \u001B[38;5;28mformat\u001B[39m\u001B[38;5;241m=\u001B[39m\u001B[38;5;28mformat\u001B[39m,\n\u001B[0;32m    269\u001B[0m         scale\u001B[38;5;241m=\u001B[39mscale,\n\u001B[0;32m    270\u001B[0m         width\u001B[38;5;241m=\u001B[39mwidth,\n\u001B[0;32m    271\u001B[0m         height\u001B[38;5;241m=\u001B[39mheight,\n\u001B[0;32m    272\u001B[0m         validate\u001B[38;5;241m=\u001B[39mvalidate,\n\u001B[0;32m    273\u001B[0m         engine\u001B[38;5;241m=\u001B[39mengine,\n\u001B[0;32m    274\u001B[0m     )\n\u001B[0;32m    276\u001B[0m     \u001B[38;5;66;03m# Open file\u001B[39;00m\n\u001B[0;32m    277\u001B[0m     \u001B[38;5;66;03m# ---------\u001B[39;00m\n\u001B[0;32m    278\u001B[0m     \u001B[38;5;28;01mif\u001B[39;00m path \u001B[38;5;129;01mis\u001B[39;00m \u001B[38;5;28;01mNone\u001B[39;00m:\n\u001B[0;32m    279\u001B[0m         \u001B[38;5;66;03m# We previously failed to make sense of `file` as a pathlib object.\u001B[39;00m\n\u001B[0;32m    280\u001B[0m         \u001B[38;5;66;03m# Attempt to write to `file` as an open file descriptor.\u001B[39;00m\n",
      "File \u001B[1;32mC:\\ProgramData\\anaconda3\\Lib\\site-packages\\plotly\\io\\_kaleido.py:132\u001B[0m, in \u001B[0;36mto_image\u001B[1;34m(fig, format, width, height, scale, validate, engine)\u001B[0m\n\u001B[0;32m    130\u001B[0m     \u001B[38;5;66;03m# Raise informative error message if Kaleido is not installed\u001B[39;00m\n\u001B[0;32m    131\u001B[0m     \u001B[38;5;28;01mif\u001B[39;00m scope \u001B[38;5;129;01mis\u001B[39;00m \u001B[38;5;28;01mNone\u001B[39;00m:\n\u001B[1;32m--> 132\u001B[0m         \u001B[38;5;28;01mraise\u001B[39;00m \u001B[38;5;167;01mValueError\u001B[39;00m(\n\u001B[0;32m    133\u001B[0m \u001B[38;5;250m            \u001B[39m\u001B[38;5;124;03m\"\"\"\u001B[39;00m\n\u001B[0;32m    134\u001B[0m \u001B[38;5;124;03mImage export using the \"kaleido\" engine requires the kaleido package,\u001B[39;00m\n\u001B[0;32m    135\u001B[0m \u001B[38;5;124;03mwhich can be installed using pip:\u001B[39;00m\n\u001B[0;32m    136\u001B[0m \u001B[38;5;124;03m    $ pip install -U kaleido\u001B[39;00m\n\u001B[0;32m    137\u001B[0m \u001B[38;5;124;03m\"\"\"\u001B[39;00m\n\u001B[0;32m    138\u001B[0m         )\n\u001B[0;32m    140\u001B[0m     \u001B[38;5;66;03m# Validate figure\u001B[39;00m\n\u001B[0;32m    141\u001B[0m     \u001B[38;5;66;03m# ---------------\u001B[39;00m\n\u001B[0;32m    142\u001B[0m     fig_dict \u001B[38;5;241m=\u001B[39m validate_coerce_fig_to_dict(fig, validate)\n",
      "\u001B[1;31mValueError\u001B[0m: \nImage export using the \"kaleido\" engine requires the kaleido package,\nwhich can be installed using pip:\n    $ pip install -U kaleido\n"
     ]
    }
   ],
   "execution_count": 37
  },
  {
   "metadata": {},
   "cell_type": "markdown",
   "source": "# Sentiment Trend Over Time",
   "id": "95fe2dc687128a2e"
  },
  {
   "metadata": {
    "ExecuteTime": {
     "end_time": "2024-10-10T03:14:51.352343Z",
     "start_time": "2024-10-10T03:14:51.282135Z"
    }
   },
   "cell_type": "code",
   "source": [
    "# Trend Analysis by Date using plotly\n",
    "df['timestamp'] = pd.to_datetime(df['timestamp'])\n",
    "sentiment_trend = df.groupby(['timestamp', 'sentiment_label']).size().reset_index()\n",
    "sentiment_trend.columns = ['Date', 'Sentiment', 'Count']\n",
    "\n",
    "fig = px.line(sentiment_trend, x='Date', y='Count', color='Sentiment', title='Sentiment Trend Over Time')\n",
    "fig.show()\n"
   ],
   "id": "decb2aca94d44e62",
   "outputs": [
    {
     "data": {
      "application/vnd.plotly.v1+json": {
       "data": [
        {
         "hovertemplate": "Sentiment=positive<br>Date=%{x}<br>Count=%{y}<extra></extra>",
         "legendgroup": "positive",
         "line": {
          "color": "#636efa",
          "dash": "solid"
         },
         "marker": {
          "symbol": "circle"
         },
         "mode": "lines",
         "name": "positive",
         "showlegend": true,
         "x": [
          "2022-08-22T10:34:00+00:00",
          "2023-10-02T09:00:00+00:00",
          "2023-11-17T03:36:00+00:00",
          "2024-03-03T15:14:00+00:00",
          "2024-05-19T16:27:00+00:00",
          "2024-08-08T20:45:00+00:00",
          "2024-08-17T06:28:00+00:00",
          "2024-09-18T05:09:00+00:00",
          "2024-09-18T10:11:00+00:00",
          "2024-09-18T11:02:00+00:00",
          "2024-09-18T11:26:00+00:00",
          "2024-09-18T13:50:00+00:00",
          "2024-09-19T01:03:00+00:00",
          "2024-09-19T01:39:00+00:00",
          "2024-09-19T09:00:00+00:00",
          "2024-09-19T10:48:00+00:00",
          "2024-09-20T03:08:00+00:00",
          "2024-09-20T03:50:00+00:00",
          "2024-09-20T05:59:00+00:00",
          "2024-09-20T06:45:00+00:00",
          "2024-09-20T06:48:00+00:00",
          "2024-09-20T09:19:00+00:00",
          "2024-09-20T11:43:00+00:00",
          "2024-09-20T13:48:00+00:00",
          "2024-09-20T20:42:00+00:00",
          "2024-09-21T10:16:00+00:00",
          "2024-09-21T10:21:00+00:00",
          "2024-09-21T11:50:00+00:00",
          "2024-09-21T12:27:00+00:00",
          "2024-09-21T13:03:00+00:00",
          "2024-09-21T13:33:00+00:00",
          "2024-09-21T13:52:00+00:00",
          "2024-09-21T14:44:00+00:00",
          "2024-09-21T14:52:00+00:00",
          "2024-09-21T14:53:00+00:00",
          "2024-09-21T14:54:00+00:00",
          "2024-09-21T14:55:00+00:00",
          "2024-09-21T14:58:00+00:00",
          "2024-09-21T14:59:00+00:00",
          "2024-09-21T15:04:00+00:00",
          "2024-09-21T15:07:00+00:00",
          "2024-09-21T15:16:00+00:00",
          "2024-09-21T15:23:00+00:00",
          "2024-09-21T15:26:00+00:00",
          "2024-09-21T15:40:00+00:00",
          "2024-09-21T15:56:00+00:00",
          "2024-09-21T16:01:00+00:00",
          "2024-09-21T16:04:00+00:00",
          "2024-09-21T16:19:00+00:00",
          "2024-09-21T16:21:00+00:00",
          "2024-09-21T16:26:00+00:00",
          "2024-09-21T16:30:00+00:00",
          "2024-09-21T16:31:00+00:00",
          "2024-09-21T16:47:00+00:00",
          "2024-09-21T17:00:00+00:00",
          "2024-09-21T18:07:00+00:00",
          "2024-09-21T18:15:00+00:00",
          "2024-09-21T18:23:00+00:00",
          "2024-09-21T18:29:00+00:00",
          "2024-09-21T18:31:00+00:00",
          "2024-09-21T18:59:00+00:00",
          "2024-09-21T20:16:00+00:00",
          "2024-09-21T23:26:00+00:00",
          "2024-09-21T23:36:00+00:00",
          "2024-09-22T00:55:00+00:00",
          "2024-09-22T01:32:00+00:00",
          "2024-09-22T01:38:00+00:00",
          "2024-09-22T02:26:00+00:00",
          "2024-09-22T04:47:00+00:00",
          "2024-09-22T05:00:00+00:00",
          "2024-09-22T06:21:00+00:00",
          "2024-09-22T06:49:00+00:00",
          "2024-09-22T06:51:00+00:00",
          "2024-09-22T08:08:00+00:00",
          "2024-09-22T08:11:00+00:00",
          "2024-09-22T08:39:00+00:00",
          "2024-09-22T08:50:00+00:00",
          "2024-09-22T09:23:00+00:00",
          "2024-09-22T10:19:00+00:00",
          "2024-09-22T10:22:00+00:00",
          "2024-09-22T10:35:00+00:00",
          "2024-09-22T10:36:00+00:00",
          "2024-09-22T10:37:00+00:00",
          "2024-09-22T10:38:00+00:00",
          "2024-09-22T10:40:00+00:00",
          "2024-09-22T10:42:00+00:00",
          "2024-09-22T10:51:00+00:00",
          "2024-09-22T10:53:00+00:00",
          "2024-09-22T11:00:00+00:00",
          "2024-09-22T11:03:00+00:00",
          "2024-09-22T11:13:00+00:00",
          "2024-09-22T11:23:00+00:00",
          "2024-09-22T11:30:00+00:00",
          "2024-09-22T11:33:00+00:00",
          "2024-09-22T11:37:00+00:00",
          "2024-09-22T11:38:00+00:00",
          "2024-09-22T11:39:00+00:00",
          "2024-09-22T11:40:00+00:00",
          "2024-09-22T11:43:00+00:00",
          "2024-09-22T11:44:00+00:00",
          "2024-09-22T11:46:00+00:00",
          "2024-09-22T11:50:00+00:00",
          "2024-09-22T11:51:00+00:00",
          "2024-09-22T11:54:00+00:00",
          "2024-09-22T11:57:00+00:00",
          "2024-09-22T12:00:00+00:00",
          "2024-09-22T12:03:00+00:00",
          "2024-09-22T12:05:00+00:00",
          "2024-09-22T12:06:00+00:00",
          "2024-09-22T12:07:00+00:00",
          "2024-09-22T12:08:00+00:00",
          "2024-09-22T12:09:00+00:00",
          "2024-09-22T12:10:00+00:00",
          "2024-09-22T12:12:00+00:00",
          "2024-09-22T12:13:00+00:00",
          "2024-09-22T12:15:00+00:00",
          "2024-09-22T12:16:00+00:00",
          "2024-09-22T12:17:00+00:00",
          "2024-09-22T12:18:00+00:00",
          "2024-09-22T12:20:00+00:00",
          "2024-09-22T12:21:00+00:00",
          "2024-09-22T12:22:00+00:00",
          "2024-09-22T12:23:00+00:00",
          "2024-09-22T12:26:00+00:00",
          "2024-09-22T12:28:00+00:00",
          "2024-09-22T12:30:00+00:00",
          "2024-09-22T12:33:00+00:00",
          "2024-09-22T12:38:00+00:00",
          "2024-09-22T12:40:00+00:00",
          "2024-09-22T12:42:00+00:00",
          "2024-09-22T12:44:00+00:00",
          "2024-09-22T12:48:00+00:00",
          "2024-09-22T12:51:00+00:00",
          "2024-09-22T12:53:00+00:00",
          "2024-09-22T12:54:00+00:00",
          "2024-09-22T12:59:00+00:00",
          "2024-09-22T13:01:00+00:00",
          "2024-09-22T13:02:00+00:00",
          "2024-09-22T13:04:00+00:00",
          "2024-09-22T13:06:00+00:00",
          "2024-09-22T13:07:00+00:00",
          "2024-09-22T13:09:00+00:00",
          "2024-09-22T13:10:00+00:00",
          "2024-09-22T13:13:00+00:00",
          "2024-09-22T13:14:00+00:00",
          "2024-09-22T13:15:00+00:00",
          "2024-09-22T13:18:00+00:00",
          "2024-09-22T13:22:00+00:00",
          "2024-09-22T13:25:00+00:00",
          "2024-09-22T13:26:00+00:00",
          "2024-09-22T13:27:00+00:00",
          "2024-09-22T13:29:00+00:00",
          "2024-09-22T13:30:00+00:00",
          "2024-09-22T13:33:00+00:00",
          "2024-09-22T13:34:00+00:00",
          "2024-09-22T13:39:00+00:00",
          "2024-09-22T13:41:00+00:00",
          "2024-09-22T13:45:00+00:00",
          "2024-09-22T13:49:00+00:00",
          "2024-09-22T13:50:00+00:00",
          "2024-09-22T13:51:00+00:00",
          "2024-09-22T13:52:00+00:00",
          "2024-09-22T13:55:00+00:00",
          "2024-09-22T13:56:00+00:00",
          "2024-09-22T13:58:00+00:00",
          "2024-09-22T14:02:00+00:00",
          "2024-09-22T14:06:00+00:00",
          "2024-09-22T14:12:00+00:00",
          "2024-09-22T14:14:00+00:00",
          "2024-09-22T14:19:00+00:00",
          "2024-09-22T14:24:00+00:00",
          "2024-09-22T14:29:00+00:00",
          "2024-09-22T14:32:00+00:00",
          "2024-09-22T14:33:00+00:00",
          "2024-09-22T14:34:00+00:00",
          "2024-09-22T14:37:00+00:00",
          "2024-09-22T14:47:00+00:00",
          "2024-09-22T14:59:00+00:00",
          "2024-09-22T15:09:00+00:00",
          "2024-09-22T15:12:00+00:00",
          "2024-09-22T15:13:00+00:00",
          "2024-09-22T15:17:00+00:00",
          "2024-09-22T15:25:00+00:00",
          "2024-09-22T15:30:00+00:00",
          "2024-09-22T15:32:00+00:00",
          "2024-09-22T15:33:00+00:00",
          "2024-09-22T15:41:00+00:00",
          "2024-09-22T15:42:00+00:00",
          "2024-09-22T15:48:00+00:00",
          "2024-09-22T15:51:00+00:00",
          "2024-09-22T15:59:00+00:00",
          "2024-09-22T16:09:00+00:00",
          "2024-09-22T16:17:00+00:00",
          "2024-09-22T16:33:00+00:00",
          "2024-09-22T16:50:00+00:00",
          "2024-09-22T16:54:00+00:00",
          "2024-09-22T16:56:00+00:00",
          "2024-09-22T16:58:00+00:00",
          "2024-09-22T17:03:00+00:00",
          "2024-09-22T17:07:00+00:00",
          "2024-09-22T17:08:00+00:00",
          "2024-09-22T17:16:00+00:00",
          "2024-09-22T17:20:00+00:00",
          "2024-09-22T17:26:00+00:00",
          "2024-09-22T17:27:00+00:00",
          "2024-09-22T17:31:00+00:00",
          "2024-09-22T17:36:00+00:00",
          "2024-09-22T17:53:00+00:00",
          "2024-09-22T18:17:00+00:00",
          "2024-09-22T18:26:00+00:00",
          "2024-09-22T18:37:00+00:00",
          "2024-09-22T18:44:00+00:00",
          "2024-09-22T19:07:00+00:00",
          "2024-09-22T19:16:00+00:00",
          "2024-09-22T19:56:00+00:00",
          "2024-09-22T21:34:00+00:00",
          "2024-09-22T22:10:00+00:00",
          "2024-09-22T22:47:00+00:00",
          "2024-09-22T23:30:00+00:00",
          "2024-09-22T23:37:00+00:00",
          "2024-09-22T23:44:00+00:00",
          "2024-09-22T23:58:00+00:00",
          "2024-09-23T00:13:00+00:00",
          "2024-09-23T00:18:00+00:00",
          "2024-09-23T00:35:00+00:00",
          "2024-09-23T00:38:00+00:00",
          "2024-09-23T00:41:00+00:00",
          "2024-09-23T00:47:00+00:00",
          "2024-09-23T00:48:00+00:00",
          "2024-09-23T00:51:00+00:00",
          "2024-09-23T01:03:00+00:00",
          "2024-09-23T01:14:00+00:00",
          "2024-09-23T01:20:00+00:00",
          "2024-09-23T01:37:00+00:00",
          "2024-09-23T01:39:00+00:00",
          "2024-09-23T01:54:00+00:00",
          "2024-09-23T01:58:00+00:00",
          "2024-09-23T02:01:00+00:00",
          "2024-09-23T02:45:00+00:00",
          "2024-09-23T02:48:00+00:00",
          "2024-09-23T03:24:00+00:00",
          "2024-09-23T03:28:00+00:00",
          "2024-09-23T03:48:00+00:00",
          "2024-09-23T03:58:00+00:00",
          "2024-09-23T04:15:00+00:00",
          "2024-09-23T04:36:00+00:00",
          "2024-09-23T04:53:00+00:00",
          "2024-09-23T05:08:00+00:00",
          "2024-09-23T05:45:00+00:00",
          "2024-09-23T05:56:00+00:00",
          "2024-09-23T06:23:00+00:00",
          "2024-09-23T06:32:00+00:00",
          "2024-09-23T06:39:00+00:00",
          "2024-09-23T06:44:00+00:00",
          "2024-09-23T06:47:00+00:00",
          "2024-09-23T07:03:00+00:00",
          "2024-09-23T07:42:00+00:00",
          "2024-09-23T07:57:00+00:00",
          "2024-09-23T08:56:00+00:00",
          "2024-09-23T09:06:00+00:00",
          "2024-09-23T09:14:00+00:00",
          "2024-09-23T09:16:00+00:00",
          "2024-09-23T09:17:00+00:00",
          "2024-09-23T09:19:00+00:00",
          "2024-09-23T09:20:00+00:00",
          "2024-09-23T09:22:00+00:00",
          "2024-09-23T09:27:00+00:00",
          "2024-09-23T09:30:00+00:00",
          "2024-09-23T09:35:00+00:00",
          "2024-09-23T09:45:00+00:00",
          "2024-09-23T09:47:00+00:00",
          "2024-09-23T09:49:00+00:00",
          "2024-09-23T09:50:00+00:00",
          "2024-09-23T09:52:00+00:00",
          "2024-09-23T09:53:00+00:00",
          "2024-09-23T09:56:00+00:00",
          "2024-09-23T10:03:00+00:00",
          "2024-09-23T10:20:00+00:00",
          "2024-09-23T10:21:00+00:00",
          "2024-09-23T10:22:00+00:00",
          "2024-09-23T10:30:00+00:00",
          "2024-09-23T10:31:00+00:00",
          "2024-09-23T10:33:00+00:00",
          "2024-09-23T10:37:00+00:00",
          "2024-09-23T10:49:00+00:00",
          "2024-09-23T10:51:00+00:00",
          "2024-09-23T10:55:00+00:00",
          "2024-09-23T10:58:00+00:00",
          "2024-09-23T10:59:00+00:00",
          "2024-09-23T11:05:00+00:00",
          "2024-09-23T11:07:00+00:00",
          "2024-09-23T11:10:00+00:00",
          "2024-09-23T11:14:00+00:00",
          "2024-09-23T11:21:00+00:00",
          "2024-09-23T11:23:00+00:00",
          "2024-09-23T11:27:00+00:00",
          "2024-09-23T11:28:00+00:00",
          "2024-09-23T11:33:00+00:00",
          "2024-09-23T11:35:00+00:00",
          "2024-09-23T11:40:00+00:00",
          "2024-09-23T11:50:00+00:00",
          "2024-09-23T11:52:00+00:00",
          "2024-09-23T11:59:00+00:00",
          "2024-09-23T12:02:00+00:00",
          "2024-09-23T12:03:00+00:00",
          "2024-09-23T12:04:00+00:00",
          "2024-09-23T12:05:00+00:00",
          "2024-09-23T12:10:00+00:00",
          "2024-09-23T12:11:00+00:00",
          "2024-09-23T12:12:00+00:00",
          "2024-09-23T12:21:00+00:00",
          "2024-09-23T12:24:00+00:00",
          "2024-09-23T12:36:00+00:00",
          "2024-09-23T12:42:00+00:00",
          "2024-09-23T12:46:00+00:00",
          "2024-09-23T12:50:00+00:00",
          "2024-09-23T12:53:00+00:00",
          "2024-09-23T12:57:00+00:00",
          "2024-09-23T13:04:00+00:00",
          "2024-09-23T13:08:00+00:00",
          "2024-09-23T13:11:00+00:00",
          "2024-09-23T13:15:00+00:00",
          "2024-09-23T13:17:00+00:00",
          "2024-09-23T13:20:00+00:00",
          "2024-09-23T13:25:00+00:00",
          "2024-09-23T13:28:00+00:00",
          "2024-09-23T13:29:00+00:00",
          "2024-09-23T13:31:00+00:00",
          "2024-09-23T13:35:00+00:00",
          "2024-09-23T13:41:00+00:00",
          "2024-09-23T13:45:00+00:00",
          "2024-09-23T13:46:00+00:00",
          "2024-09-23T14:10:00+00:00",
          "2024-09-23T14:14:00+00:00",
          "2024-09-23T14:23:00+00:00",
          "2024-09-23T14:45:00+00:00",
          "2024-09-23T14:49:00+00:00",
          "2024-09-23T14:52:00+00:00",
          "2024-09-23T14:54:00+00:00",
          "2024-09-23T15:15:00+00:00",
          "2024-09-23T15:21:00+00:00",
          "2024-09-23T15:26:00+00:00",
          "2024-09-23T15:32:00+00:00",
          "2024-09-23T15:40:00+00:00",
          "2024-09-23T16:09:00+00:00",
          "2024-09-23T16:14:00+00:00",
          "2024-09-23T16:20:00+00:00",
          "2024-09-23T16:28:00+00:00",
          "2024-09-23T16:51:00+00:00",
          "2024-09-23T17:05:00+00:00",
          "2024-09-23T18:28:00+00:00",
          "2024-09-23T19:07:00+00:00",
          "2024-09-23T19:21:00+00:00",
          "2024-09-23T19:48:00+00:00",
          "2024-09-23T20:55:00+00:00",
          "2024-09-23T21:23:00+00:00",
          "2024-09-23T23:18:00+00:00",
          "2024-09-23T23:46:00+00:00",
          "2024-09-24T00:00:00+00:00",
          "2024-09-24T00:52:00+00:00",
          "2024-09-24T00:58:00+00:00",
          "2024-09-24T01:41:00+00:00",
          "2024-09-24T01:54:00+00:00",
          "2024-09-24T02:48:00+00:00",
          "2024-09-24T02:51:00+00:00",
          "2024-09-24T02:59:00+00:00",
          "2024-09-24T03:12:00+00:00",
          "2024-09-24T03:48:00+00:00",
          "2024-09-24T04:51:00+00:00",
          "2024-09-24T05:29:00+00:00",
          "2024-09-24T05:36:00+00:00",
          "2024-09-24T06:36:00+00:00",
          "2024-09-24T07:53:00+00:00",
          "2024-09-24T08:12:00+00:00",
          "2024-09-24T08:39:00+00:00",
          "2024-09-24T08:41:00+00:00",
          "2024-09-24T08:48:00+00:00",
          "2024-09-24T09:14:00+00:00",
          "2024-09-24T09:18:00+00:00",
          "2024-09-24T09:24:00+00:00",
          "2024-09-24T09:52:00+00:00",
          "2024-09-24T10:00:00+00:00",
          "2024-09-24T10:40:00+00:00",
          "2024-09-24T10:51:00+00:00",
          "2024-09-24T10:57:00+00:00",
          "2024-09-24T11:16:00+00:00",
          "2024-09-24T11:17:00+00:00",
          "2024-09-24T11:26:00+00:00",
          "2024-09-24T11:27:00+00:00",
          "2024-09-24T11:31:00+00:00",
          "2024-09-24T11:40:00+00:00",
          "2024-09-24T11:53:00+00:00",
          "2024-09-24T12:01:00+00:00",
          "2024-09-24T12:03:00+00:00",
          "2024-09-24T12:27:00+00:00",
          "2024-09-24T12:37:00+00:00",
          "2024-09-24T12:42:00+00:00",
          "2024-09-24T12:50:00+00:00",
          "2024-09-24T12:54:00+00:00",
          "2024-09-24T12:59:00+00:00",
          "2024-09-24T13:00:00+00:00",
          "2024-09-24T13:03:00+00:00",
          "2024-09-24T13:05:00+00:00",
          "2024-09-24T13:14:00+00:00",
          "2024-09-24T13:22:00+00:00",
          "2024-09-24T13:23:00+00:00",
          "2024-09-24T13:26:00+00:00",
          "2024-09-24T13:28:00+00:00",
          "2024-09-24T13:35:00+00:00",
          "2024-09-24T13:45:00+00:00",
          "2024-09-24T13:55:00+00:00",
          "2024-09-24T14:01:00+00:00",
          "2024-09-24T14:04:00+00:00",
          "2024-09-24T14:26:00+00:00",
          "2024-09-24T14:33:00+00:00",
          "2024-09-24T14:40:00+00:00",
          "2024-09-24T14:52:00+00:00",
          "2024-09-24T16:02:00+00:00",
          "2024-09-25T00:19:00+00:00",
          "2024-09-25T04:55:00+00:00",
          "2024-09-25T05:28:00+00:00",
          "2024-09-25T05:48:00+00:00",
          "2024-09-25T07:37:00+00:00",
          "2024-09-25T08:45:00+00:00",
          "2024-09-25T09:00:00+00:00",
          "2024-09-25T09:36:00+00:00",
          "2024-09-25T10:05:00+00:00",
          "2024-09-25T10:18:00+00:00",
          "2024-09-25T10:24:00+00:00",
          "2024-09-25T10:44:00+00:00",
          "2024-09-25T11:01:00+00:00",
          "2024-09-25T11:08:00+00:00",
          "2024-09-25T11:12:00+00:00",
          "2024-09-25T11:39:00+00:00",
          "2024-09-25T12:14:00+00:00",
          "2024-09-25T12:20:00+00:00",
          "2024-09-25T12:31:00+00:00",
          "2024-09-25T12:38:00+00:00",
          "2024-09-25T12:40:00+00:00",
          "2024-09-25T12:42:00+00:00",
          "2024-09-25T12:45:00+00:00",
          "2024-09-25T12:46:00+00:00",
          "2024-09-25T12:54:00+00:00",
          "2024-09-25T12:55:00+00:00",
          "2024-09-25T12:58:00+00:00",
          "2024-09-25T13:00:00+00:00",
          "2024-09-25T13:04:00+00:00",
          "2024-09-25T13:07:00+00:00",
          "2024-09-25T13:11:00+00:00",
          "2024-09-25T13:15:00+00:00",
          "2024-09-25T13:21:00+00:00",
          "2024-09-25T13:22:00+00:00",
          "2024-09-25T13:23:00+00:00",
          "2024-09-25T13:34:00+00:00",
          "2024-09-25T13:52:00+00:00",
          "2024-09-25T14:27:00+00:00",
          "2024-09-25T14:32:00+00:00",
          "2024-09-25T14:35:00+00:00",
          "2024-09-25T14:59:00+00:00",
          "2024-09-25T15:17:00+00:00",
          "2024-09-25T15:56:00+00:00",
          "2024-09-25T16:39:00+00:00",
          "2024-09-25T22:00:00+00:00",
          "2024-09-25T22:21:00+00:00",
          "2024-09-25T23:19:00+00:00",
          "2024-09-26T00:46:00+00:00",
          "2024-09-26T01:43:00+00:00",
          "2024-09-26T03:55:00+00:00",
          "2024-09-26T05:35:00+00:00",
          "2024-09-26T09:49:00+00:00",
          "2024-09-26T10:38:00+00:00",
          "2024-09-26T11:04:00+00:00",
          "2024-09-26T11:20:00+00:00",
          "2024-09-26T11:23:00+00:00",
          "2024-09-26T11:30:00+00:00",
          "2024-09-26T12:55:00+00:00",
          "2024-09-26T12:56:00+00:00",
          "2024-09-26T13:08:00+00:00",
          "2024-09-26T13:14:00+00:00",
          "2024-09-26T13:20:00+00:00",
          "2024-09-26T14:25:00+00:00",
          "2024-09-26T15:30:00+00:00",
          "2024-09-26T16:14:00+00:00",
          "2024-09-26T16:58:00+00:00",
          "2024-09-26T17:24:00+00:00",
          "2024-09-27T00:03:00+00:00",
          "2024-09-27T02:28:00+00:00",
          "2024-09-27T02:36:00+00:00",
          "2024-09-27T05:23:00+00:00",
          "2024-09-27T05:31:00+00:00",
          "2024-09-27T06:15:00+00:00",
          "2024-09-27T07:48:00+00:00",
          "2024-09-27T09:03:00+00:00",
          "2024-09-27T10:05:00+00:00",
          "2024-09-27T10:17:00+00:00",
          "2024-09-27T10:19:00+00:00",
          "2024-09-27T11:01:00+00:00",
          "2024-09-27T11:36:00+00:00",
          "2024-09-27T11:41:00+00:00",
          "2024-09-27T12:31:00+00:00",
          "2024-09-27T13:00:00+00:00",
          "2024-09-27T13:01:00+00:00",
          "2024-09-27T14:33:00+00:00",
          "2024-09-27T15:22:00+00:00",
          "2024-09-27T15:44:00+00:00",
          "2024-09-27T15:50:00+00:00",
          "2024-09-27T16:04:00+00:00",
          "2024-09-27T19:35:00+00:00",
          "2024-09-27T19:36:00+00:00",
          "2024-09-28T01:01:00+00:00",
          "2024-09-28T01:25:00+00:00",
          "2024-09-28T04:49:00+00:00",
          "2024-09-28T05:21:00+00:00",
          "2024-09-28T05:36:00+00:00",
          "2024-09-28T06:27:00+00:00",
          "2024-09-28T10:26:00+00:00",
          "2024-09-28T10:39:00+00:00",
          "2024-09-28T10:48:00+00:00",
          "2024-09-28T13:20:00+00:00",
          "2024-09-28T13:23:00+00:00",
          "2024-09-28T16:07:00+00:00",
          "2024-09-28T16:46:00+00:00",
          "2024-09-28T21:24:00+00:00",
          "2024-09-28T21:56:00+00:00",
          "2024-09-29T02:12:00+00:00",
          "2024-09-29T02:24:00+00:00",
          "2024-09-29T03:48:00+00:00",
          "2024-09-29T05:59:00+00:00",
          "2024-09-29T07:07:00+00:00",
          "2024-09-29T07:09:00+00:00",
          "2024-09-29T09:04:00+00:00",
          "2024-09-29T11:27:00+00:00",
          "2024-09-29T11:48:00+00:00",
          "2024-09-29T14:30:00+00:00",
          "2024-09-29T14:56:00+00:00",
          "2024-09-29T18:02:00+00:00",
          "2024-09-30T02:06:00+00:00",
          "2024-09-30T09:22:00+00:00",
          "2024-09-30T10:27:00+00:00",
          "2024-09-30T10:37:00+00:00",
          "2024-09-30T10:59:00+00:00",
          "2024-09-30T12:30:00+00:00",
          "2024-09-30T15:47:00+00:00",
          "2024-09-30T16:26:00+00:00",
          "2024-09-30T21:53:00+00:00",
          "2024-09-30T23:46:00+00:00",
          "2024-10-01T06:43:00+00:00",
          "2024-10-01T09:57:00+00:00",
          "2024-10-01T11:26:00+00:00",
          "2024-10-01T11:43:00+00:00",
          "2024-10-01T11:51:00+00:00",
          "2024-10-01T12:29:00+00:00",
          "2024-10-01T12:39:00+00:00",
          "2024-10-01T14:47:00+00:00",
          "2024-10-01T16:13:00+00:00",
          "2024-10-01T16:14:00+00:00",
          "2024-10-01T16:30:00+00:00",
          "2024-10-01T16:47:00+00:00",
          "2024-10-01T16:55:00+00:00",
          "2024-10-01T16:56:00+00:00",
          "2024-10-01T17:21:00+00:00",
          "2024-10-01T17:54:00+00:00",
          "2024-10-01T19:03:00+00:00",
          "2024-10-01T20:35:00+00:00",
          "2024-10-01T21:11:00+00:00",
          "2024-10-01T22:20:00+00:00",
          "2024-10-01T23:44:00+00:00",
          "2024-10-02T00:00:00+00:00",
          "2024-10-02T00:58:00+00:00",
          "2024-10-02T01:00:00+00:00",
          "2024-10-02T02:13:00+00:00",
          "2024-10-02T02:16:00+00:00",
          "2024-10-02T02:17:00+00:00",
          "2024-10-02T02:29:00+00:00",
          "2024-10-02T02:32:00+00:00",
          "2024-10-02T03:34:00+00:00",
          "2024-10-02T03:43:00+00:00",
          "2024-10-02T03:51:00+00:00",
          "2024-10-02T06:15:00+00:00",
          "2024-10-02T06:29:00+00:00",
          "2024-10-02T07:10:00+00:00",
          "2024-10-02T09:09:00+00:00",
          "2024-10-02T09:11:00+00:00",
          "2024-10-02T09:16:00+00:00",
          "2024-10-02T10:15:00+00:00",
          "2024-10-02T11:21:00+00:00",
          "2024-10-02T11:58:00+00:00",
          "2024-10-02T12:00:00+00:00",
          "2024-10-02T12:26:00+00:00",
          "2024-10-02T12:46:00+00:00",
          "2024-10-02T16:04:00+00:00",
          "2024-10-02T16:15:00+00:00",
          "2024-10-02T16:50:00+00:00",
          "2024-10-02T17:17:00+00:00",
          "2024-10-02T18:02:00+00:00",
          "2024-10-02T19:31:00+00:00",
          "2024-10-02T22:42:00+00:00",
          "2024-10-03T00:22:00+00:00",
          "2024-10-03T01:21:00+00:00",
          "2024-10-03T02:45:00+00:00",
          "2024-10-03T02:49:00+00:00",
          "2024-10-03T02:51:00+00:00",
          "2024-10-03T03:18:00+00:00",
          "2024-10-03T03:24:00+00:00",
          "2024-10-03T03:27:00+00:00",
          "2024-10-03T04:10:00+00:00",
          "2024-10-03T04:19:00+00:00",
          "2024-10-03T05:30:00+00:00",
          "2024-10-03T05:58:00+00:00",
          "2024-10-03T06:57:00+00:00",
          "2024-10-03T07:28:00+00:00",
          "2024-10-03T07:30:00+00:00",
          "2024-10-03T09:27:00+00:00",
          "2024-10-03T10:48:00+00:00",
          "2024-10-03T11:01:00+00:00",
          "2024-10-03T12:36:00+00:00",
          "2024-10-03T13:00:00+00:00",
          "2024-10-03T14:13:00+00:00",
          "2024-10-03T15:30:00+00:00",
          "2024-10-03T15:54:00+00:00",
          "2024-10-03T16:37:00+00:00",
          "2024-10-03T21:37:00+00:00",
          "2024-10-03T21:55:00+00:00",
          "2024-10-03T22:21:00+00:00",
          "2024-10-03T23:16:00+00:00",
          "2024-10-04T02:31:00+00:00",
          "2024-10-04T02:37:00+00:00",
          "2024-10-04T03:52:00+00:00",
          "2024-10-04T05:19:00+00:00",
          "2024-10-04T06:40:00+00:00",
          "2024-10-04T07:17:00+00:00",
          "2024-10-04T10:32:00+00:00",
          "2024-10-04T10:43:00+00:00",
          "2024-10-04T11:02:00+00:00",
          "2024-10-04T12:08:00+00:00",
          "2024-10-04T13:02:00+00:00",
          "2024-10-04T13:44:00+00:00",
          "2024-10-04T14:43:00+00:00",
          "2024-10-04T15:24:00+00:00",
          "2024-10-04T16:36:00+00:00",
          "2024-10-04T17:19:00+00:00",
          "2024-10-04T20:16:00+00:00",
          "2024-10-05T01:01:00+00:00",
          "2024-10-05T02:59:00+00:00",
          "2024-10-05T05:00:00+00:00",
          "2024-10-05T05:32:00+00:00",
          "2024-10-05T07:41:00+00:00",
          "2024-10-05T10:14:00+00:00",
          "2024-10-05T10:24:00+00:00",
          "2024-10-05T11:24:00+00:00",
          "2024-10-05T11:50:00+00:00",
          "2024-10-05T12:28:00+00:00",
          "2024-10-05T13:03:00+00:00",
          "2024-10-05T13:27:00+00:00",
          "2024-10-05T13:31:00+00:00",
          "2024-10-05T15:15:00+00:00",
          "2024-10-05T16:08:00+00:00",
          "2024-10-05T17:08:00+00:00",
          "2024-10-06T00:15:00+00:00",
          "2024-10-06T05:52:00+00:00",
          "2024-10-06T09:36:00+00:00",
          "2024-10-06T13:19:00+00:00",
          "2024-10-06T16:37:00+00:00",
          "2024-10-07T01:16:00+00:00",
          "2024-10-07T09:09:00+00:00",
          "2024-10-07T09:34:00+00:00",
          "2024-10-07T10:15:00+00:00",
          "2024-10-07T12:44:00+00:00",
          "2024-10-07T16:30:00+00:00",
          "2024-10-07T22:22:00+00:00",
          "2024-10-08T05:57:00+00:00",
          "2024-10-08T07:36:00+00:00",
          "2024-10-08T09:10:00+00:00",
          "2024-10-08T15:06:00+00:00",
          "2024-10-09T02:05:00+00:00",
          "2024-10-09T03:08:00+00:00",
          "2024-10-09T07:47:00+00:00",
          "2024-10-09T09:51:00+00:00",
          "2024-10-09T11:10:00+00:00",
          "2024-10-09T13:08:00+00:00",
          "2024-10-09T14:52:00+00:00",
          "2024-10-09T15:00:00+00:00",
          "2024-10-09T15:04:00+00:00",
          "2024-10-09T15:08:00+00:00",
          "2024-10-09T15:16:00+00:00",
          "2024-10-09T15:17:00+00:00",
          "2024-10-09T15:27:00+00:00",
          "2024-10-09T15:29:00+00:00",
          "2024-10-09T16:05:00+00:00",
          "2024-10-09T19:08:00+00:00",
          "2024-10-09T21:08:00+00:00",
          "2024-10-09T21:30:00+00:00"
         ],
         "xaxis": "x",
         "y": [
          2,
          2,
          2,
          1,
          2,
          1,
          2,
          1,
          2,
          1,
          1,
          1,
          1,
          1,
          2,
          2,
          1,
          2,
          2,
          2,
          2,
          1,
          2,
          2,
          1,
          2,
          2,
          1,
          1,
          1,
          1,
          1,
          2,
          1,
          1,
          1,
          2,
          1,
          1,
          2,
          1,
          1,
          1,
          1,
          1,
          1,
          1,
          1,
          1,
          1,
          1,
          1,
          1,
          1,
          1,
          1,
          1,
          1,
          1,
          1,
          1,
          1,
          1,
          1,
          1,
          1,
          1,
          1,
          1,
          1,
          1,
          1,
          1,
          1,
          1,
          1,
          1,
          1,
          1,
          1,
          1,
          1,
          1,
          1,
          1,
          3,
          1,
          1,
          1,
          1,
          1,
          1,
          1,
          1,
          1,
          1,
          3,
          2,
          1,
          2,
          2,
          1,
          2,
          1,
          1,
          2,
          1,
          2,
          1,
          1,
          1,
          3,
          1,
          2,
          1,
          1,
          1,
          1,
          1,
          1,
          1,
          1,
          1,
          1,
          1,
          1,
          1,
          4,
          1,
          2,
          1,
          2,
          4,
          1,
          1,
          1,
          1,
          1,
          1,
          2,
          1,
          2,
          1,
          1,
          1,
          1,
          1,
          1,
          1,
          1,
          2,
          1,
          1,
          1,
          1,
          2,
          1,
          2,
          1,
          1,
          1,
          1,
          1,
          1,
          1,
          1,
          3,
          1,
          1,
          2,
          1,
          2,
          3,
          1,
          2,
          1,
          1,
          1,
          1,
          1,
          2,
          1,
          1,
          1,
          2,
          1,
          1,
          1,
          1,
          1,
          1,
          2,
          1,
          1,
          1,
          1,
          1,
          1,
          2,
          1,
          1,
          1,
          1,
          1,
          1,
          1,
          1,
          1,
          1,
          1,
          1,
          1,
          1,
          1,
          2,
          1,
          1,
          1,
          1,
          2,
          1,
          1,
          1,
          1,
          1,
          2,
          1,
          2,
          1,
          1,
          1,
          2,
          1,
          1,
          1,
          1,
          2,
          1,
          1,
          1,
          1,
          1,
          1,
          2,
          1,
          1,
          2,
          1,
          1,
          1,
          2,
          2,
          1,
          1,
          1,
          1,
          2,
          1,
          3,
          2,
          1,
          2,
          1,
          1,
          1,
          2,
          2,
          2,
          2,
          2,
          2,
          1,
          1,
          1,
          2,
          3,
          2,
          2,
          1,
          1,
          1,
          1,
          2,
          1,
          1,
          1,
          1,
          1,
          1,
          1,
          1,
          1,
          1,
          1,
          1,
          1,
          1,
          1,
          3,
          1,
          2,
          1,
          1,
          1,
          3,
          1,
          1,
          1,
          2,
          1,
          1,
          1,
          1,
          1,
          1,
          1,
          1,
          2,
          2,
          2,
          2,
          1,
          1,
          1,
          1,
          1,
          2,
          1,
          1,
          1,
          1,
          1,
          1,
          2,
          1,
          1,
          1,
          2,
          2,
          1,
          1,
          1,
          1,
          1,
          1,
          1,
          1,
          2,
          1,
          1,
          1,
          1,
          1,
          1,
          2,
          1,
          1,
          1,
          1,
          1,
          1,
          1,
          2,
          1,
          1,
          1,
          1,
          1,
          1,
          1,
          1,
          1,
          1,
          1,
          1,
          2,
          1,
          1,
          1,
          3,
          1,
          1,
          1,
          1,
          2,
          2,
          1,
          1,
          1,
          1,
          1,
          1,
          1,
          1,
          1,
          1,
          3,
          1,
          1,
          1,
          2,
          1,
          2,
          1,
          2,
          1,
          1,
          1,
          1,
          1,
          1,
          2,
          1,
          1,
          1,
          1,
          1,
          1,
          1,
          1,
          1,
          1,
          1,
          1,
          1,
          1,
          1,
          1,
          1,
          1,
          1,
          1,
          1,
          2,
          2,
          1,
          2,
          1,
          2,
          1,
          1,
          2,
          1,
          1,
          1,
          1,
          1,
          1,
          1,
          1,
          1,
          2,
          1,
          1,
          1,
          1,
          1,
          1,
          1,
          1,
          1,
          2,
          1,
          1,
          1,
          1,
          1,
          1,
          1,
          1,
          1,
          1,
          1,
          1,
          1,
          4,
          1,
          2,
          1,
          2,
          2,
          3,
          1,
          1,
          1,
          2,
          1,
          2,
          1,
          1,
          1,
          1,
          1,
          1,
          1,
          1,
          1,
          1,
          1,
          1,
          2,
          1,
          2,
          2,
          1,
          1,
          1,
          1,
          1,
          1,
          1,
          2,
          1,
          1,
          1,
          1,
          2,
          1,
          2,
          1,
          1,
          1,
          1,
          1,
          1,
          1,
          1,
          1,
          1,
          2,
          1,
          1,
          1,
          1,
          1,
          1,
          1,
          1,
          2,
          1,
          2,
          2,
          1,
          1,
          1,
          1,
          1,
          1,
          2,
          1,
          1,
          1,
          1,
          2,
          1,
          1,
          1,
          1,
          2,
          2,
          2,
          2,
          1,
          1,
          1,
          1,
          1,
          1,
          2,
          1,
          1,
          1,
          2,
          1,
          2,
          1,
          1,
          2,
          1,
          1,
          1,
          1,
          1,
          1,
          1,
          1,
          1,
          1,
          1,
          1,
          1,
          2,
          1,
          1,
          1,
          1,
          1,
          1,
          1,
          1,
          2,
          1,
          2,
          1,
          1,
          1,
          1,
          1,
          2,
          1,
          1,
          1,
          1,
          1,
          1,
          1,
          2,
          1,
          1,
          1,
          1,
          2,
          1,
          1,
          1,
          1,
          1,
          1,
          2,
          1,
          1,
          1,
          1,
          1,
          1,
          1,
          1,
          2,
          2,
          1,
          1,
          1,
          1,
          2,
          1,
          2,
          1,
          2,
          1,
          1,
          1,
          1,
          2,
          1,
          1,
          1,
          2,
          1,
          2,
          1,
          1,
          1,
          1,
          1,
          1,
          1,
          2,
          2,
          1,
          1,
          1,
          1,
          1,
          1,
          1,
          1,
          1,
          2,
          1,
          1,
          2,
          1,
          2,
          1,
          2,
          1,
          1,
          1,
          1,
          1,
          1,
          1
         ],
         "yaxis": "y",
         "type": "scattergl"
        },
        {
         "hovertemplate": "Sentiment=negative<br>Date=%{x}<br>Count=%{y}<extra></extra>",
         "legendgroup": "negative",
         "line": {
          "color": "#EF553B",
          "dash": "solid"
         },
         "marker": {
          "symbol": "circle"
         },
         "mode": "lines",
         "name": "negative",
         "showlegend": true,
         "x": [
          "2024-09-18T10:47:00+00:00",
          "2024-09-18T11:03:00+00:00",
          "2024-09-20T09:46:00+00:00",
          "2024-09-20T13:06:00+00:00",
          "2024-09-21T10:18:00+00:00",
          "2024-09-21T14:50:00+00:00",
          "2024-09-21T14:53:00+00:00",
          "2024-09-21T15:11:00+00:00",
          "2024-09-21T15:13:00+00:00",
          "2024-09-21T15:22:00+00:00",
          "2024-09-21T15:36:00+00:00",
          "2024-09-21T15:37:00+00:00",
          "2024-09-21T15:59:00+00:00",
          "2024-09-21T16:24:00+00:00",
          "2024-09-21T16:36:00+00:00",
          "2024-09-21T16:55:00+00:00",
          "2024-09-21T17:28:00+00:00",
          "2024-09-21T17:35:00+00:00",
          "2024-09-21T17:42:00+00:00",
          "2024-09-21T18:09:00+00:00",
          "2024-09-21T18:37:00+00:00",
          "2024-09-21T19:31:00+00:00",
          "2024-09-21T21:18:00+00:00",
          "2024-09-21T23:58:00+00:00",
          "2024-09-22T02:03:00+00:00",
          "2024-09-22T02:13:00+00:00",
          "2024-09-22T02:18:00+00:00",
          "2024-09-22T03:05:00+00:00",
          "2024-09-22T03:43:00+00:00",
          "2024-09-22T03:57:00+00:00",
          "2024-09-22T05:15:00+00:00",
          "2024-09-22T06:06:00+00:00",
          "2024-09-22T06:58:00+00:00",
          "2024-09-22T07:14:00+00:00",
          "2024-09-22T09:21:00+00:00",
          "2024-09-22T09:24:00+00:00",
          "2024-09-22T09:25:00+00:00",
          "2024-09-22T09:32:00+00:00",
          "2024-09-22T09:40:00+00:00",
          "2024-09-22T10:20:00+00:00",
          "2024-09-22T10:24:00+00:00",
          "2024-09-22T10:32:00+00:00",
          "2024-09-22T10:33:00+00:00",
          "2024-09-22T10:42:00+00:00",
          "2024-09-22T10:47:00+00:00",
          "2024-09-22T10:56:00+00:00",
          "2024-09-22T10:59:00+00:00",
          "2024-09-22T11:11:00+00:00",
          "2024-09-22T11:17:00+00:00",
          "2024-09-22T11:18:00+00:00",
          "2024-09-22T11:24:00+00:00",
          "2024-09-22T11:28:00+00:00",
          "2024-09-22T11:32:00+00:00",
          "2024-09-22T11:33:00+00:00",
          "2024-09-22T11:39:00+00:00",
          "2024-09-22T11:41:00+00:00",
          "2024-09-22T11:47:00+00:00",
          "2024-09-22T11:54:00+00:00",
          "2024-09-22T12:11:00+00:00",
          "2024-09-22T12:12:00+00:00",
          "2024-09-22T12:19:00+00:00",
          "2024-09-22T12:22:00+00:00",
          "2024-09-22T12:24:00+00:00",
          "2024-09-22T12:25:00+00:00",
          "2024-09-22T12:26:00+00:00",
          "2024-09-22T12:29:00+00:00",
          "2024-09-22T12:31:00+00:00",
          "2024-09-22T12:35:00+00:00",
          "2024-09-22T12:36:00+00:00",
          "2024-09-22T12:38:00+00:00",
          "2024-09-22T12:39:00+00:00",
          "2024-09-22T12:40:00+00:00",
          "2024-09-22T12:45:00+00:00",
          "2024-09-22T12:46:00+00:00",
          "2024-09-22T12:47:00+00:00",
          "2024-09-22T12:49:00+00:00",
          "2024-09-22T12:50:00+00:00",
          "2024-09-22T12:52:00+00:00",
          "2024-09-22T12:53:00+00:00",
          "2024-09-22T12:54:00+00:00",
          "2024-09-22T12:55:00+00:00",
          "2024-09-22T12:57:00+00:00",
          "2024-09-22T12:59:00+00:00",
          "2024-09-22T13:05:00+00:00",
          "2024-09-22T13:08:00+00:00",
          "2024-09-22T13:09:00+00:00",
          "2024-09-22T13:11:00+00:00",
          "2024-09-22T13:12:00+00:00",
          "2024-09-22T13:16:00+00:00",
          "2024-09-22T13:19:00+00:00",
          "2024-09-22T13:21:00+00:00",
          "2024-09-22T13:26:00+00:00",
          "2024-09-22T13:35:00+00:00",
          "2024-09-22T13:37:00+00:00",
          "2024-09-22T13:40:00+00:00",
          "2024-09-22T13:42:00+00:00",
          "2024-09-22T13:49:00+00:00",
          "2024-09-22T13:57:00+00:00",
          "2024-09-22T14:00:00+00:00",
          "2024-09-22T14:02:00+00:00",
          "2024-09-22T14:03:00+00:00",
          "2024-09-22T14:04:00+00:00",
          "2024-09-22T14:05:00+00:00",
          "2024-09-22T14:06:00+00:00",
          "2024-09-22T14:35:00+00:00",
          "2024-09-22T14:42:00+00:00",
          "2024-09-22T14:43:00+00:00",
          "2024-09-22T14:46:00+00:00",
          "2024-09-22T14:48:00+00:00",
          "2024-09-22T14:49:00+00:00",
          "2024-09-22T14:54:00+00:00",
          "2024-09-22T14:59:00+00:00",
          "2024-09-22T15:01:00+00:00",
          "2024-09-22T15:03:00+00:00",
          "2024-09-22T15:04:00+00:00",
          "2024-09-22T15:07:00+00:00",
          "2024-09-22T15:08:00+00:00",
          "2024-09-22T15:19:00+00:00",
          "2024-09-22T15:26:00+00:00",
          "2024-09-22T15:27:00+00:00",
          "2024-09-22T15:30:00+00:00",
          "2024-09-22T15:39:00+00:00",
          "2024-09-22T15:44:00+00:00",
          "2024-09-22T15:57:00+00:00",
          "2024-09-22T15:58:00+00:00",
          "2024-09-22T16:00:00+00:00",
          "2024-09-22T16:01:00+00:00",
          "2024-09-22T16:21:00+00:00",
          "2024-09-22T16:31:00+00:00",
          "2024-09-22T16:39:00+00:00",
          "2024-09-22T16:40:00+00:00",
          "2024-09-22T16:49:00+00:00",
          "2024-09-22T17:25:00+00:00",
          "2024-09-22T17:28:00+00:00",
          "2024-09-22T17:52:00+00:00",
          "2024-09-22T18:39:00+00:00",
          "2024-09-22T18:40:00+00:00",
          "2024-09-22T18:54:00+00:00",
          "2024-09-22T20:37:00+00:00",
          "2024-09-22T21:07:00+00:00",
          "2024-09-22T22:28:00+00:00",
          "2024-09-22T23:02:00+00:00",
          "2024-09-22T23:35:00+00:00",
          "2024-09-22T23:49:00+00:00",
          "2024-09-23T00:06:00+00:00",
          "2024-09-23T00:12:00+00:00",
          "2024-09-23T00:27:00+00:00",
          "2024-09-23T00:46:00+00:00",
          "2024-09-23T00:57:00+00:00",
          "2024-09-23T01:01:00+00:00",
          "2024-09-23T01:20:00+00:00",
          "2024-09-23T01:33:00+00:00",
          "2024-09-23T01:55:00+00:00",
          "2024-09-23T02:16:00+00:00",
          "2024-09-23T02:24:00+00:00",
          "2024-09-23T02:32:00+00:00",
          "2024-09-23T02:49:00+00:00",
          "2024-09-23T02:51:00+00:00",
          "2024-09-23T03:15:00+00:00",
          "2024-09-23T03:21:00+00:00",
          "2024-09-23T03:27:00+00:00",
          "2024-09-23T03:45:00+00:00",
          "2024-09-23T04:01:00+00:00",
          "2024-09-23T04:07:00+00:00",
          "2024-09-23T04:13:00+00:00",
          "2024-09-23T04:14:00+00:00",
          "2024-09-23T04:31:00+00:00",
          "2024-09-23T04:36:00+00:00",
          "2024-09-23T05:08:00+00:00",
          "2024-09-23T06:05:00+00:00",
          "2024-09-23T06:32:00+00:00",
          "2024-09-23T06:38:00+00:00",
          "2024-09-23T06:46:00+00:00",
          "2024-09-23T06:51:00+00:00",
          "2024-09-23T06:52:00+00:00",
          "2024-09-23T07:03:00+00:00",
          "2024-09-23T07:05:00+00:00",
          "2024-09-23T07:10:00+00:00",
          "2024-09-23T08:12:00+00:00",
          "2024-09-23T08:18:00+00:00",
          "2024-09-23T09:00:00+00:00",
          "2024-09-23T09:09:00+00:00",
          "2024-09-23T09:14:00+00:00",
          "2024-09-23T09:19:00+00:00",
          "2024-09-23T09:29:00+00:00",
          "2024-09-23T09:35:00+00:00",
          "2024-09-23T09:39:00+00:00",
          "2024-09-23T09:44:00+00:00",
          "2024-09-23T09:46:00+00:00",
          "2024-09-23T09:49:00+00:00",
          "2024-09-23T09:51:00+00:00",
          "2024-09-23T09:53:00+00:00",
          "2024-09-23T10:01:00+00:00",
          "2024-09-23T10:21:00+00:00",
          "2024-09-23T10:24:00+00:00",
          "2024-09-23T10:30:00+00:00",
          "2024-09-23T10:55:00+00:00",
          "2024-09-23T11:08:00+00:00",
          "2024-09-23T11:11:00+00:00",
          "2024-09-23T11:12:00+00:00",
          "2024-09-23T11:18:00+00:00",
          "2024-09-23T11:20:00+00:00",
          "2024-09-23T11:23:00+00:00",
          "2024-09-23T11:26:00+00:00",
          "2024-09-23T11:31:00+00:00",
          "2024-09-23T11:35:00+00:00",
          "2024-09-23T11:43:00+00:00",
          "2024-09-23T11:57:00+00:00",
          "2024-09-23T12:01:00+00:00",
          "2024-09-23T12:03:00+00:00",
          "2024-09-23T12:07:00+00:00",
          "2024-09-23T12:08:00+00:00",
          "2024-09-23T12:21:00+00:00",
          "2024-09-23T12:36:00+00:00",
          "2024-09-23T12:48:00+00:00",
          "2024-09-23T12:57:00+00:00",
          "2024-09-23T12:59:00+00:00",
          "2024-09-23T13:00:00+00:00",
          "2024-09-23T13:36:00+00:00",
          "2024-09-23T14:08:00+00:00",
          "2024-09-23T14:20:00+00:00",
          "2024-09-23T14:21:00+00:00",
          "2024-09-23T14:41:00+00:00",
          "2024-09-23T14:57:00+00:00",
          "2024-09-23T15:50:00+00:00",
          "2024-09-23T16:08:00+00:00",
          "2024-09-23T16:18:00+00:00",
          "2024-09-23T16:30:00+00:00",
          "2024-09-23T16:37:00+00:00",
          "2024-09-23T17:10:00+00:00",
          "2024-09-23T17:29:00+00:00",
          "2024-09-23T17:36:00+00:00",
          "2024-09-23T18:12:00+00:00",
          "2024-09-23T18:17:00+00:00",
          "2024-09-23T19:01:00+00:00",
          "2024-09-23T19:03:00+00:00",
          "2024-09-23T22:06:00+00:00",
          "2024-09-23T22:31:00+00:00",
          "2024-09-23T22:37:00+00:00",
          "2024-09-23T22:47:00+00:00",
          "2024-09-23T23:10:00+00:00",
          "2024-09-23T23:14:00+00:00",
          "2024-09-24T02:19:00+00:00",
          "2024-09-24T02:38:00+00:00",
          "2024-09-24T02:39:00+00:00",
          "2024-09-24T05:55:00+00:00",
          "2024-09-24T06:07:00+00:00",
          "2024-09-24T06:11:00+00:00",
          "2024-09-24T07:09:00+00:00",
          "2024-09-24T09:19:00+00:00",
          "2024-09-24T10:04:00+00:00",
          "2024-09-24T10:07:00+00:00",
          "2024-09-24T10:26:00+00:00",
          "2024-09-24T11:27:00+00:00",
          "2024-09-24T11:49:00+00:00",
          "2024-09-24T12:11:00+00:00",
          "2024-09-24T12:27:00+00:00",
          "2024-09-24T12:31:00+00:00",
          "2024-09-24T12:36:00+00:00",
          "2024-09-24T13:31:00+00:00",
          "2024-09-24T13:45:00+00:00",
          "2024-09-24T14:15:00+00:00",
          "2024-09-24T14:37:00+00:00",
          "2024-09-24T15:24:00+00:00",
          "2024-09-24T15:36:00+00:00",
          "2024-09-24T23:15:00+00:00",
          "2024-09-24T23:19:00+00:00",
          "2024-09-25T01:09:00+00:00",
          "2024-09-25T01:50:00+00:00",
          "2024-09-25T05:19:00+00:00",
          "2024-09-25T08:34:00+00:00",
          "2024-09-25T10:29:00+00:00",
          "2024-09-25T11:26:00+00:00",
          "2024-09-25T12:08:00+00:00",
          "2024-09-25T12:18:00+00:00",
          "2024-09-25T12:43:00+00:00",
          "2024-09-25T13:00:00+00:00",
          "2024-09-25T13:05:00+00:00",
          "2024-09-25T13:23:00+00:00",
          "2024-09-25T13:32:00+00:00",
          "2024-09-25T13:47:00+00:00",
          "2024-09-25T13:56:00+00:00",
          "2024-09-25T18:49:00+00:00",
          "2024-09-26T08:43:00+00:00",
          "2024-09-26T10:23:00+00:00",
          "2024-09-26T11:08:00+00:00",
          "2024-09-26T13:41:00+00:00",
          "2024-09-26T13:44:00+00:00",
          "2024-09-26T20:06:00+00:00",
          "2024-09-27T02:29:00+00:00",
          "2024-09-27T03:58:00+00:00",
          "2024-09-27T04:41:00+00:00",
          "2024-09-27T06:44:00+00:00",
          "2024-09-27T11:26:00+00:00",
          "2024-09-27T11:37:00+00:00",
          "2024-09-27T12:39:00+00:00",
          "2024-09-27T13:11:00+00:00",
          "2024-09-27T15:00:00+00:00",
          "2024-09-28T00:56:00+00:00",
          "2024-09-28T00:58:00+00:00",
          "2024-09-28T04:00:00+00:00",
          "2024-09-28T08:38:00+00:00",
          "2024-09-28T10:00:00+00:00",
          "2024-09-28T15:24:00+00:00",
          "2024-09-28T17:23:00+00:00",
          "2024-09-29T10:40:00+00:00",
          "2024-09-30T09:12:00+00:00",
          "2024-09-30T09:23:00+00:00",
          "2024-09-30T17:28:00+00:00",
          "2024-10-01T07:35:00+00:00",
          "2024-10-01T13:10:00+00:00",
          "2024-10-01T15:03:00+00:00",
          "2024-10-01T17:11:00+00:00",
          "2024-10-01T17:15:00+00:00",
          "2024-10-01T19:12:00+00:00",
          "2024-10-02T04:57:00+00:00",
          "2024-10-02T05:39:00+00:00",
          "2024-10-02T06:37:00+00:00",
          "2024-10-02T13:18:00+00:00",
          "2024-10-02T14:39:00+00:00",
          "2024-10-02T16:39:00+00:00",
          "2024-10-02T16:46:00+00:00",
          "2024-10-02T16:48:00+00:00",
          "2024-10-02T16:52:00+00:00",
          "2024-10-02T17:38:00+00:00",
          "2024-10-02T17:59:00+00:00",
          "2024-10-02T19:31:00+00:00",
          "2024-10-02T19:39:00+00:00",
          "2024-10-02T21:43:00+00:00",
          "2024-10-02T23:54:00+00:00",
          "2024-10-03T04:30:00+00:00",
          "2024-10-03T04:37:00+00:00",
          "2024-10-03T04:54:00+00:00",
          "2024-10-03T05:28:00+00:00",
          "2024-10-03T05:40:00+00:00",
          "2024-10-03T06:42:00+00:00",
          "2024-10-03T08:30:00+00:00",
          "2024-10-03T13:02:00+00:00",
          "2024-10-03T13:53:00+00:00",
          "2024-10-03T14:01:00+00:00",
          "2024-10-03T14:08:00+00:00",
          "2024-10-03T14:16:00+00:00",
          "2024-10-03T16:37:00+00:00",
          "2024-10-03T16:41:00+00:00",
          "2024-10-03T18:55:00+00:00",
          "2024-10-04T00:13:00+00:00",
          "2024-10-04T01:16:00+00:00",
          "2024-10-04T01:42:00+00:00",
          "2024-10-04T01:53:00+00:00",
          "2024-10-04T02:04:00+00:00",
          "2024-10-04T06:18:00+00:00",
          "2024-10-04T07:28:00+00:00",
          "2024-10-04T13:04:00+00:00",
          "2024-10-04T15:28:00+00:00",
          "2024-10-05T04:07:00+00:00",
          "2024-10-05T07:26:00+00:00",
          "2024-10-05T07:53:00+00:00",
          "2024-10-06T00:51:00+00:00",
          "2024-10-06T11:56:00+00:00",
          "2024-10-06T19:47:00+00:00",
          "2024-10-06T23:01:00+00:00",
          "2024-10-07T02:20:00+00:00",
          "2024-10-07T03:18:00+00:00",
          "2024-10-07T04:13:00+00:00",
          "2024-10-07T07:03:00+00:00",
          "2024-10-07T08:22:00+00:00",
          "2024-10-07T12:55:00+00:00",
          "2024-10-07T22:56:00+00:00",
          "2024-10-08T02:29:00+00:00",
          "2024-10-08T06:40:00+00:00",
          "2024-10-08T13:44:00+00:00",
          "2024-10-08T16:04:00+00:00",
          "2024-10-08T17:44:00+00:00",
          "2024-10-09T03:08:00+00:00",
          "2024-10-09T04:42:00+00:00",
          "2024-10-09T05:43:00+00:00",
          "2024-10-09T06:47:00+00:00",
          "2024-10-10T00:20:00+00:00",
          "2024-10-10T01:10:00+00:00"
         ],
         "xaxis": "x",
         "y": [
          1,
          1,
          1,
          2,
          1,
          1,
          2,
          1,
          1,
          1,
          1,
          1,
          1,
          1,
          1,
          1,
          1,
          1,
          1,
          1,
          1,
          1,
          1,
          1,
          1,
          1,
          1,
          1,
          1,
          1,
          1,
          1,
          1,
          1,
          1,
          1,
          1,
          1,
          1,
          1,
          1,
          1,
          1,
          1,
          2,
          1,
          2,
          1,
          1,
          1,
          1,
          1,
          1,
          1,
          1,
          2,
          1,
          1,
          1,
          1,
          1,
          1,
          1,
          2,
          1,
          2,
          1,
          1,
          2,
          2,
          1,
          1,
          1,
          1,
          1,
          1,
          1,
          2,
          1,
          1,
          2,
          1,
          1,
          1,
          1,
          1,
          1,
          1,
          1,
          2,
          1,
          1,
          1,
          1,
          1,
          1,
          1,
          1,
          1,
          1,
          1,
          1,
          3,
          1,
          1,
          1,
          1,
          2,
          1,
          1,
          1,
          1,
          1,
          3,
          1,
          1,
          1,
          1,
          1,
          1,
          2,
          1,
          1,
          2,
          1,
          1,
          1,
          2,
          1,
          1,
          1,
          1,
          1,
          2,
          1,
          2,
          1,
          1,
          2,
          1,
          1,
          1,
          1,
          1,
          1,
          1,
          1,
          1,
          2,
          1,
          1,
          1,
          1,
          1,
          1,
          1,
          1,
          1,
          1,
          1,
          2,
          1,
          2,
          1,
          1,
          1,
          1,
          1,
          1,
          1,
          1,
          1,
          2,
          1,
          1,
          1,
          1,
          1,
          2,
          1,
          1,
          1,
          1,
          3,
          2,
          1,
          1,
          2,
          2,
          1,
          1,
          2,
          2,
          1,
          1,
          1,
          1,
          1,
          1,
          1,
          2,
          1,
          1,
          1,
          2,
          2,
          1,
          1,
          1,
          1,
          1,
          2,
          1,
          1,
          1,
          1,
          1,
          1,
          1,
          1,
          5,
          1,
          1,
          1,
          2,
          2,
          1,
          1,
          2,
          1,
          1,
          1,
          1,
          1,
          1,
          1,
          2,
          1,
          1,
          1,
          2,
          2,
          1,
          1,
          1,
          1,
          1,
          1,
          1,
          1,
          1,
          1,
          1,
          1,
          1,
          1,
          1,
          1,
          2,
          2,
          1,
          1,
          1,
          1,
          1,
          1,
          1,
          1,
          1,
          1,
          1,
          2,
          1,
          1,
          1,
          1,
          1,
          1,
          2,
          1,
          1,
          1,
          2,
          1,
          1,
          1,
          1,
          1,
          1,
          1,
          1,
          1,
          1,
          1,
          1,
          1,
          1,
          1,
          1,
          1,
          1,
          1,
          1,
          1,
          1,
          1,
          1,
          1,
          1,
          1,
          1,
          2,
          1,
          1,
          1,
          1,
          1,
          1,
          1,
          1,
          1,
          1,
          1,
          1,
          1,
          2,
          1,
          1,
          1,
          1,
          2,
          1,
          1,
          1,
          1,
          1,
          1,
          2,
          1,
          1,
          1,
          2,
          1,
          2,
          2,
          1,
          2,
          1,
          1,
          1,
          1,
          1,
          1,
          1,
          2,
          2,
          1,
          1,
          1,
          1,
          1,
          1,
          1,
          1,
          1,
          1,
          1,
          1,
          1,
          1,
          2,
          2,
          1,
          2,
          1,
          1,
          1,
          1,
          1
         ],
         "yaxis": "y",
         "type": "scattergl"
        },
        {
         "hovertemplate": "Sentiment=neutral<br>Date=%{x}<br>Count=%{y}<extra></extra>",
         "legendgroup": "neutral",
         "line": {
          "color": "#00cc96",
          "dash": "solid"
         },
         "marker": {
          "symbol": "circle"
         },
         "mode": "lines",
         "name": "neutral",
         "showlegend": true,
         "x": [
          "2024-09-21T15:44:00+00:00",
          "2024-09-22T08:38:00+00:00",
          "2024-09-22T12:53:00+00:00",
          "2024-09-23T06:34:00+00:00",
          "2024-09-23T11:22:00+00:00",
          "2024-09-23T11:28:00+00:00",
          "2024-09-23T11:29:00+00:00",
          "2024-09-24T09:13:00+00:00",
          "2024-09-25T09:56:00+00:00",
          "2024-09-26T13:28:00+00:00",
          "2024-09-28T12:42:00+00:00",
          "2024-09-28T16:49:00+00:00",
          "2024-09-28T21:22:00+00:00",
          "2024-10-04T17:37:00+00:00"
         ],
         "xaxis": "x",
         "y": [
          1,
          1,
          1,
          2,
          2,
          1,
          1,
          1,
          1,
          1,
          1,
          1,
          1,
          2
         ],
         "yaxis": "y",
         "type": "scattergl"
        }
       ],
       "layout": {
        "template": {
         "data": {
          "histogram2dcontour": [
           {
            "type": "histogram2dcontour",
            "colorbar": {
             "outlinewidth": 0,
             "ticks": ""
            },
            "colorscale": [
             [
              0.0,
              "#0d0887"
             ],
             [
              0.1111111111111111,
              "#46039f"
             ],
             [
              0.2222222222222222,
              "#7201a8"
             ],
             [
              0.3333333333333333,
              "#9c179e"
             ],
             [
              0.4444444444444444,
              "#bd3786"
             ],
             [
              0.5555555555555556,
              "#d8576b"
             ],
             [
              0.6666666666666666,
              "#ed7953"
             ],
             [
              0.7777777777777778,
              "#fb9f3a"
             ],
             [
              0.8888888888888888,
              "#fdca26"
             ],
             [
              1.0,
              "#f0f921"
             ]
            ]
           }
          ],
          "choropleth": [
           {
            "type": "choropleth",
            "colorbar": {
             "outlinewidth": 0,
             "ticks": ""
            }
           }
          ],
          "histogram2d": [
           {
            "type": "histogram2d",
            "colorbar": {
             "outlinewidth": 0,
             "ticks": ""
            },
            "colorscale": [
             [
              0.0,
              "#0d0887"
             ],
             [
              0.1111111111111111,
              "#46039f"
             ],
             [
              0.2222222222222222,
              "#7201a8"
             ],
             [
              0.3333333333333333,
              "#9c179e"
             ],
             [
              0.4444444444444444,
              "#bd3786"
             ],
             [
              0.5555555555555556,
              "#d8576b"
             ],
             [
              0.6666666666666666,
              "#ed7953"
             ],
             [
              0.7777777777777778,
              "#fb9f3a"
             ],
             [
              0.8888888888888888,
              "#fdca26"
             ],
             [
              1.0,
              "#f0f921"
             ]
            ]
           }
          ],
          "heatmap": [
           {
            "type": "heatmap",
            "colorbar": {
             "outlinewidth": 0,
             "ticks": ""
            },
            "colorscale": [
             [
              0.0,
              "#0d0887"
             ],
             [
              0.1111111111111111,
              "#46039f"
             ],
             [
              0.2222222222222222,
              "#7201a8"
             ],
             [
              0.3333333333333333,
              "#9c179e"
             ],
             [
              0.4444444444444444,
              "#bd3786"
             ],
             [
              0.5555555555555556,
              "#d8576b"
             ],
             [
              0.6666666666666666,
              "#ed7953"
             ],
             [
              0.7777777777777778,
              "#fb9f3a"
             ],
             [
              0.8888888888888888,
              "#fdca26"
             ],
             [
              1.0,
              "#f0f921"
             ]
            ]
           }
          ],
          "heatmapgl": [
           {
            "type": "heatmapgl",
            "colorbar": {
             "outlinewidth": 0,
             "ticks": ""
            },
            "colorscale": [
             [
              0.0,
              "#0d0887"
             ],
             [
              0.1111111111111111,
              "#46039f"
             ],
             [
              0.2222222222222222,
              "#7201a8"
             ],
             [
              0.3333333333333333,
              "#9c179e"
             ],
             [
              0.4444444444444444,
              "#bd3786"
             ],
             [
              0.5555555555555556,
              "#d8576b"
             ],
             [
              0.6666666666666666,
              "#ed7953"
             ],
             [
              0.7777777777777778,
              "#fb9f3a"
             ],
             [
              0.8888888888888888,
              "#fdca26"
             ],
             [
              1.0,
              "#f0f921"
             ]
            ]
           }
          ],
          "contourcarpet": [
           {
            "type": "contourcarpet",
            "colorbar": {
             "outlinewidth": 0,
             "ticks": ""
            }
           }
          ],
          "contour": [
           {
            "type": "contour",
            "colorbar": {
             "outlinewidth": 0,
             "ticks": ""
            },
            "colorscale": [
             [
              0.0,
              "#0d0887"
             ],
             [
              0.1111111111111111,
              "#46039f"
             ],
             [
              0.2222222222222222,
              "#7201a8"
             ],
             [
              0.3333333333333333,
              "#9c179e"
             ],
             [
              0.4444444444444444,
              "#bd3786"
             ],
             [
              0.5555555555555556,
              "#d8576b"
             ],
             [
              0.6666666666666666,
              "#ed7953"
             ],
             [
              0.7777777777777778,
              "#fb9f3a"
             ],
             [
              0.8888888888888888,
              "#fdca26"
             ],
             [
              1.0,
              "#f0f921"
             ]
            ]
           }
          ],
          "surface": [
           {
            "type": "surface",
            "colorbar": {
             "outlinewidth": 0,
             "ticks": ""
            },
            "colorscale": [
             [
              0.0,
              "#0d0887"
             ],
             [
              0.1111111111111111,
              "#46039f"
             ],
             [
              0.2222222222222222,
              "#7201a8"
             ],
             [
              0.3333333333333333,
              "#9c179e"
             ],
             [
              0.4444444444444444,
              "#bd3786"
             ],
             [
              0.5555555555555556,
              "#d8576b"
             ],
             [
              0.6666666666666666,
              "#ed7953"
             ],
             [
              0.7777777777777778,
              "#fb9f3a"
             ],
             [
              0.8888888888888888,
              "#fdca26"
             ],
             [
              1.0,
              "#f0f921"
             ]
            ]
           }
          ],
          "mesh3d": [
           {
            "type": "mesh3d",
            "colorbar": {
             "outlinewidth": 0,
             "ticks": ""
            }
           }
          ],
          "scatter": [
           {
            "fillpattern": {
             "fillmode": "overlay",
             "size": 10,
             "solidity": 0.2
            },
            "type": "scatter"
           }
          ],
          "parcoords": [
           {
            "type": "parcoords",
            "line": {
             "colorbar": {
              "outlinewidth": 0,
              "ticks": ""
             }
            }
           }
          ],
          "scatterpolargl": [
           {
            "type": "scatterpolargl",
            "marker": {
             "colorbar": {
              "outlinewidth": 0,
              "ticks": ""
             }
            }
           }
          ],
          "bar": [
           {
            "error_x": {
             "color": "#2a3f5f"
            },
            "error_y": {
             "color": "#2a3f5f"
            },
            "marker": {
             "line": {
              "color": "#E5ECF6",
              "width": 0.5
             },
             "pattern": {
              "fillmode": "overlay",
              "size": 10,
              "solidity": 0.2
             }
            },
            "type": "bar"
           }
          ],
          "scattergeo": [
           {
            "type": "scattergeo",
            "marker": {
             "colorbar": {
              "outlinewidth": 0,
              "ticks": ""
             }
            }
           }
          ],
          "scatterpolar": [
           {
            "type": "scatterpolar",
            "marker": {
             "colorbar": {
              "outlinewidth": 0,
              "ticks": ""
             }
            }
           }
          ],
          "histogram": [
           {
            "marker": {
             "pattern": {
              "fillmode": "overlay",
              "size": 10,
              "solidity": 0.2
             }
            },
            "type": "histogram"
           }
          ],
          "scattergl": [
           {
            "type": "scattergl",
            "marker": {
             "colorbar": {
              "outlinewidth": 0,
              "ticks": ""
             }
            }
           }
          ],
          "scatter3d": [
           {
            "type": "scatter3d",
            "line": {
             "colorbar": {
              "outlinewidth": 0,
              "ticks": ""
             }
            },
            "marker": {
             "colorbar": {
              "outlinewidth": 0,
              "ticks": ""
             }
            }
           }
          ],
          "scattermapbox": [
           {
            "type": "scattermapbox",
            "marker": {
             "colorbar": {
              "outlinewidth": 0,
              "ticks": ""
             }
            }
           }
          ],
          "scatterternary": [
           {
            "type": "scatterternary",
            "marker": {
             "colorbar": {
              "outlinewidth": 0,
              "ticks": ""
             }
            }
           }
          ],
          "scattercarpet": [
           {
            "type": "scattercarpet",
            "marker": {
             "colorbar": {
              "outlinewidth": 0,
              "ticks": ""
             }
            }
           }
          ],
          "carpet": [
           {
            "aaxis": {
             "endlinecolor": "#2a3f5f",
             "gridcolor": "white",
             "linecolor": "white",
             "minorgridcolor": "white",
             "startlinecolor": "#2a3f5f"
            },
            "baxis": {
             "endlinecolor": "#2a3f5f",
             "gridcolor": "white",
             "linecolor": "white",
             "minorgridcolor": "white",
             "startlinecolor": "#2a3f5f"
            },
            "type": "carpet"
           }
          ],
          "table": [
           {
            "cells": {
             "fill": {
              "color": "#EBF0F8"
             },
             "line": {
              "color": "white"
             }
            },
            "header": {
             "fill": {
              "color": "#C8D4E3"
             },
             "line": {
              "color": "white"
             }
            },
            "type": "table"
           }
          ],
          "barpolar": [
           {
            "marker": {
             "line": {
              "color": "#E5ECF6",
              "width": 0.5
             },
             "pattern": {
              "fillmode": "overlay",
              "size": 10,
              "solidity": 0.2
             }
            },
            "type": "barpolar"
           }
          ],
          "pie": [
           {
            "automargin": true,
            "type": "pie"
           }
          ]
         },
         "layout": {
          "autotypenumbers": "strict",
          "colorway": [
           "#636efa",
           "#EF553B",
           "#00cc96",
           "#ab63fa",
           "#FFA15A",
           "#19d3f3",
           "#FF6692",
           "#B6E880",
           "#FF97FF",
           "#FECB52"
          ],
          "font": {
           "color": "#2a3f5f"
          },
          "hovermode": "closest",
          "hoverlabel": {
           "align": "left"
          },
          "paper_bgcolor": "white",
          "plot_bgcolor": "#E5ECF6",
          "polar": {
           "bgcolor": "#E5ECF6",
           "angularaxis": {
            "gridcolor": "white",
            "linecolor": "white",
            "ticks": ""
           },
           "radialaxis": {
            "gridcolor": "white",
            "linecolor": "white",
            "ticks": ""
           }
          },
          "ternary": {
           "bgcolor": "#E5ECF6",
           "aaxis": {
            "gridcolor": "white",
            "linecolor": "white",
            "ticks": ""
           },
           "baxis": {
            "gridcolor": "white",
            "linecolor": "white",
            "ticks": ""
           },
           "caxis": {
            "gridcolor": "white",
            "linecolor": "white",
            "ticks": ""
           }
          },
          "coloraxis": {
           "colorbar": {
            "outlinewidth": 0,
            "ticks": ""
           }
          },
          "colorscale": {
           "sequential": [
            [
             0.0,
             "#0d0887"
            ],
            [
             0.1111111111111111,
             "#46039f"
            ],
            [
             0.2222222222222222,
             "#7201a8"
            ],
            [
             0.3333333333333333,
             "#9c179e"
            ],
            [
             0.4444444444444444,
             "#bd3786"
            ],
            [
             0.5555555555555556,
             "#d8576b"
            ],
            [
             0.6666666666666666,
             "#ed7953"
            ],
            [
             0.7777777777777778,
             "#fb9f3a"
            ],
            [
             0.8888888888888888,
             "#fdca26"
            ],
            [
             1.0,
             "#f0f921"
            ]
           ],
           "sequentialminus": [
            [
             0.0,
             "#0d0887"
            ],
            [
             0.1111111111111111,
             "#46039f"
            ],
            [
             0.2222222222222222,
             "#7201a8"
            ],
            [
             0.3333333333333333,
             "#9c179e"
            ],
            [
             0.4444444444444444,
             "#bd3786"
            ],
            [
             0.5555555555555556,
             "#d8576b"
            ],
            [
             0.6666666666666666,
             "#ed7953"
            ],
            [
             0.7777777777777778,
             "#fb9f3a"
            ],
            [
             0.8888888888888888,
             "#fdca26"
            ],
            [
             1.0,
             "#f0f921"
            ]
           ],
           "diverging": [
            [
             0,
             "#8e0152"
            ],
            [
             0.1,
             "#c51b7d"
            ],
            [
             0.2,
             "#de77ae"
            ],
            [
             0.3,
             "#f1b6da"
            ],
            [
             0.4,
             "#fde0ef"
            ],
            [
             0.5,
             "#f7f7f7"
            ],
            [
             0.6,
             "#e6f5d0"
            ],
            [
             0.7,
             "#b8e186"
            ],
            [
             0.8,
             "#7fbc41"
            ],
            [
             0.9,
             "#4d9221"
            ],
            [
             1,
             "#276419"
            ]
           ]
          },
          "xaxis": {
           "gridcolor": "white",
           "linecolor": "white",
           "ticks": "",
           "title": {
            "standoff": 15
           },
           "zerolinecolor": "white",
           "automargin": true,
           "zerolinewidth": 2
          },
          "yaxis": {
           "gridcolor": "white",
           "linecolor": "white",
           "ticks": "",
           "title": {
            "standoff": 15
           },
           "zerolinecolor": "white",
           "automargin": true,
           "zerolinewidth": 2
          },
          "scene": {
           "xaxis": {
            "backgroundcolor": "#E5ECF6",
            "gridcolor": "white",
            "linecolor": "white",
            "showbackground": true,
            "ticks": "",
            "zerolinecolor": "white",
            "gridwidth": 2
           },
           "yaxis": {
            "backgroundcolor": "#E5ECF6",
            "gridcolor": "white",
            "linecolor": "white",
            "showbackground": true,
            "ticks": "",
            "zerolinecolor": "white",
            "gridwidth": 2
           },
           "zaxis": {
            "backgroundcolor": "#E5ECF6",
            "gridcolor": "white",
            "linecolor": "white",
            "showbackground": true,
            "ticks": "",
            "zerolinecolor": "white",
            "gridwidth": 2
           }
          },
          "shapedefaults": {
           "line": {
            "color": "#2a3f5f"
           }
          },
          "annotationdefaults": {
           "arrowcolor": "#2a3f5f",
           "arrowhead": 0,
           "arrowwidth": 1
          },
          "geo": {
           "bgcolor": "white",
           "landcolor": "#E5ECF6",
           "subunitcolor": "white",
           "showland": true,
           "showlakes": true,
           "lakecolor": "white"
          },
          "title": {
           "x": 0.05
          },
          "mapbox": {
           "style": "light"
          }
         }
        },
        "xaxis": {
         "anchor": "y",
         "domain": [
          0.0,
          1.0
         ],
         "title": {
          "text": "Date"
         }
        },
        "yaxis": {
         "anchor": "x",
         "domain": [
          0.0,
          1.0
         ],
         "title": {
          "text": "Count"
         }
        },
        "legend": {
         "title": {
          "text": "Sentiment"
         },
         "tracegroupgap": 0
        },
        "title": {
         "text": "Sentiment Trend Over Time"
        }
       },
       "config": {
        "plotlyServerURL": "https://plot.ly"
       }
      },
      "text/html": [
       "<div>                            <div id=\"09712307-07da-4aa8-bc52-89fa8647a188\" class=\"plotly-graph-div\" style=\"height:525px; width:100%;\"></div>            <script type=\"text/javascript\">                require([\"plotly\"], function(Plotly) {                    window.PLOTLYENV=window.PLOTLYENV || {};                                    if (document.getElementById(\"09712307-07da-4aa8-bc52-89fa8647a188\")) {                    Plotly.newPlot(                        \"09712307-07da-4aa8-bc52-89fa8647a188\",                        [{\"hovertemplate\":\"Sentiment=positive\\u003cbr\\u003eDate=%{x}\\u003cbr\\u003eCount=%{y}\\u003cextra\\u003e\\u003c\\u002fextra\\u003e\",\"legendgroup\":\"positive\",\"line\":{\"color\":\"#636efa\",\"dash\":\"solid\"},\"marker\":{\"symbol\":\"circle\"},\"mode\":\"lines\",\"name\":\"positive\",\"showlegend\":true,\"x\":[\"2022-08-22T10:34:00+00:00\",\"2023-10-02T09:00:00+00:00\",\"2023-11-17T03:36:00+00:00\",\"2024-03-03T15:14:00+00:00\",\"2024-05-19T16:27:00+00:00\",\"2024-08-08T20:45:00+00:00\",\"2024-08-17T06:28:00+00:00\",\"2024-09-18T05:09:00+00:00\",\"2024-09-18T10:11:00+00:00\",\"2024-09-18T11:02:00+00:00\",\"2024-09-18T11:26:00+00:00\",\"2024-09-18T13:50:00+00:00\",\"2024-09-19T01:03:00+00:00\",\"2024-09-19T01:39:00+00:00\",\"2024-09-19T09:00:00+00:00\",\"2024-09-19T10:48:00+00:00\",\"2024-09-20T03:08:00+00:00\",\"2024-09-20T03:50:00+00:00\",\"2024-09-20T05:59:00+00:00\",\"2024-09-20T06:45:00+00:00\",\"2024-09-20T06:48:00+00:00\",\"2024-09-20T09:19:00+00:00\",\"2024-09-20T11:43:00+00:00\",\"2024-09-20T13:48:00+00:00\",\"2024-09-20T20:42:00+00:00\",\"2024-09-21T10:16:00+00:00\",\"2024-09-21T10:21:00+00:00\",\"2024-09-21T11:50:00+00:00\",\"2024-09-21T12:27:00+00:00\",\"2024-09-21T13:03:00+00:00\",\"2024-09-21T13:33:00+00:00\",\"2024-09-21T13:52:00+00:00\",\"2024-09-21T14:44:00+00:00\",\"2024-09-21T14:52:00+00:00\",\"2024-09-21T14:53:00+00:00\",\"2024-09-21T14:54:00+00:00\",\"2024-09-21T14:55:00+00:00\",\"2024-09-21T14:58:00+00:00\",\"2024-09-21T14:59:00+00:00\",\"2024-09-21T15:04:00+00:00\",\"2024-09-21T15:07:00+00:00\",\"2024-09-21T15:16:00+00:00\",\"2024-09-21T15:23:00+00:00\",\"2024-09-21T15:26:00+00:00\",\"2024-09-21T15:40:00+00:00\",\"2024-09-21T15:56:00+00:00\",\"2024-09-21T16:01:00+00:00\",\"2024-09-21T16:04:00+00:00\",\"2024-09-21T16:19:00+00:00\",\"2024-09-21T16:21:00+00:00\",\"2024-09-21T16:26:00+00:00\",\"2024-09-21T16:30:00+00:00\",\"2024-09-21T16:31:00+00:00\",\"2024-09-21T16:47:00+00:00\",\"2024-09-21T17:00:00+00:00\",\"2024-09-21T18:07:00+00:00\",\"2024-09-21T18:15:00+00:00\",\"2024-09-21T18:23:00+00:00\",\"2024-09-21T18:29:00+00:00\",\"2024-09-21T18:31:00+00:00\",\"2024-09-21T18:59:00+00:00\",\"2024-09-21T20:16:00+00:00\",\"2024-09-21T23:26:00+00:00\",\"2024-09-21T23:36:00+00:00\",\"2024-09-22T00:55:00+00:00\",\"2024-09-22T01:32:00+00:00\",\"2024-09-22T01:38:00+00:00\",\"2024-09-22T02:26:00+00:00\",\"2024-09-22T04:47:00+00:00\",\"2024-09-22T05:00:00+00:00\",\"2024-09-22T06:21:00+00:00\",\"2024-09-22T06:49:00+00:00\",\"2024-09-22T06:51:00+00:00\",\"2024-09-22T08:08:00+00:00\",\"2024-09-22T08:11:00+00:00\",\"2024-09-22T08:39:00+00:00\",\"2024-09-22T08:50:00+00:00\",\"2024-09-22T09:23:00+00:00\",\"2024-09-22T10:19:00+00:00\",\"2024-09-22T10:22:00+00:00\",\"2024-09-22T10:35:00+00:00\",\"2024-09-22T10:36:00+00:00\",\"2024-09-22T10:37:00+00:00\",\"2024-09-22T10:38:00+00:00\",\"2024-09-22T10:40:00+00:00\",\"2024-09-22T10:42:00+00:00\",\"2024-09-22T10:51:00+00:00\",\"2024-09-22T10:53:00+00:00\",\"2024-09-22T11:00:00+00:00\",\"2024-09-22T11:03:00+00:00\",\"2024-09-22T11:13:00+00:00\",\"2024-09-22T11:23:00+00:00\",\"2024-09-22T11:30:00+00:00\",\"2024-09-22T11:33:00+00:00\",\"2024-09-22T11:37:00+00:00\",\"2024-09-22T11:38:00+00:00\",\"2024-09-22T11:39:00+00:00\",\"2024-09-22T11:40:00+00:00\",\"2024-09-22T11:43:00+00:00\",\"2024-09-22T11:44:00+00:00\",\"2024-09-22T11:46:00+00:00\",\"2024-09-22T11:50:00+00:00\",\"2024-09-22T11:51:00+00:00\",\"2024-09-22T11:54:00+00:00\",\"2024-09-22T11:57:00+00:00\",\"2024-09-22T12:00:00+00:00\",\"2024-09-22T12:03:00+00:00\",\"2024-09-22T12:05:00+00:00\",\"2024-09-22T12:06:00+00:00\",\"2024-09-22T12:07:00+00:00\",\"2024-09-22T12:08:00+00:00\",\"2024-09-22T12:09:00+00:00\",\"2024-09-22T12:10:00+00:00\",\"2024-09-22T12:12:00+00:00\",\"2024-09-22T12:13:00+00:00\",\"2024-09-22T12:15:00+00:00\",\"2024-09-22T12:16:00+00:00\",\"2024-09-22T12:17:00+00:00\",\"2024-09-22T12:18:00+00:00\",\"2024-09-22T12:20:00+00:00\",\"2024-09-22T12:21:00+00:00\",\"2024-09-22T12:22:00+00:00\",\"2024-09-22T12:23:00+00:00\",\"2024-09-22T12:26:00+00:00\",\"2024-09-22T12:28:00+00:00\",\"2024-09-22T12:30:00+00:00\",\"2024-09-22T12:33:00+00:00\",\"2024-09-22T12:38:00+00:00\",\"2024-09-22T12:40:00+00:00\",\"2024-09-22T12:42:00+00:00\",\"2024-09-22T12:44:00+00:00\",\"2024-09-22T12:48:00+00:00\",\"2024-09-22T12:51:00+00:00\",\"2024-09-22T12:53:00+00:00\",\"2024-09-22T12:54:00+00:00\",\"2024-09-22T12:59:00+00:00\",\"2024-09-22T13:01:00+00:00\",\"2024-09-22T13:02:00+00:00\",\"2024-09-22T13:04:00+00:00\",\"2024-09-22T13:06:00+00:00\",\"2024-09-22T13:07:00+00:00\",\"2024-09-22T13:09:00+00:00\",\"2024-09-22T13:10:00+00:00\",\"2024-09-22T13:13:00+00:00\",\"2024-09-22T13:14:00+00:00\",\"2024-09-22T13:15:00+00:00\",\"2024-09-22T13:18:00+00:00\",\"2024-09-22T13:22:00+00:00\",\"2024-09-22T13:25:00+00:00\",\"2024-09-22T13:26:00+00:00\",\"2024-09-22T13:27:00+00:00\",\"2024-09-22T13:29:00+00:00\",\"2024-09-22T13:30:00+00:00\",\"2024-09-22T13:33:00+00:00\",\"2024-09-22T13:34:00+00:00\",\"2024-09-22T13:39:00+00:00\",\"2024-09-22T13:41:00+00:00\",\"2024-09-22T13:45:00+00:00\",\"2024-09-22T13:49:00+00:00\",\"2024-09-22T13:50:00+00:00\",\"2024-09-22T13:51:00+00:00\",\"2024-09-22T13:52:00+00:00\",\"2024-09-22T13:55:00+00:00\",\"2024-09-22T13:56:00+00:00\",\"2024-09-22T13:58:00+00:00\",\"2024-09-22T14:02:00+00:00\",\"2024-09-22T14:06:00+00:00\",\"2024-09-22T14:12:00+00:00\",\"2024-09-22T14:14:00+00:00\",\"2024-09-22T14:19:00+00:00\",\"2024-09-22T14:24:00+00:00\",\"2024-09-22T14:29:00+00:00\",\"2024-09-22T14:32:00+00:00\",\"2024-09-22T14:33:00+00:00\",\"2024-09-22T14:34:00+00:00\",\"2024-09-22T14:37:00+00:00\",\"2024-09-22T14:47:00+00:00\",\"2024-09-22T14:59:00+00:00\",\"2024-09-22T15:09:00+00:00\",\"2024-09-22T15:12:00+00:00\",\"2024-09-22T15:13:00+00:00\",\"2024-09-22T15:17:00+00:00\",\"2024-09-22T15:25:00+00:00\",\"2024-09-22T15:30:00+00:00\",\"2024-09-22T15:32:00+00:00\",\"2024-09-22T15:33:00+00:00\",\"2024-09-22T15:41:00+00:00\",\"2024-09-22T15:42:00+00:00\",\"2024-09-22T15:48:00+00:00\",\"2024-09-22T15:51:00+00:00\",\"2024-09-22T15:59:00+00:00\",\"2024-09-22T16:09:00+00:00\",\"2024-09-22T16:17:00+00:00\",\"2024-09-22T16:33:00+00:00\",\"2024-09-22T16:50:00+00:00\",\"2024-09-22T16:54:00+00:00\",\"2024-09-22T16:56:00+00:00\",\"2024-09-22T16:58:00+00:00\",\"2024-09-22T17:03:00+00:00\",\"2024-09-22T17:07:00+00:00\",\"2024-09-22T17:08:00+00:00\",\"2024-09-22T17:16:00+00:00\",\"2024-09-22T17:20:00+00:00\",\"2024-09-22T17:26:00+00:00\",\"2024-09-22T17:27:00+00:00\",\"2024-09-22T17:31:00+00:00\",\"2024-09-22T17:36:00+00:00\",\"2024-09-22T17:53:00+00:00\",\"2024-09-22T18:17:00+00:00\",\"2024-09-22T18:26:00+00:00\",\"2024-09-22T18:37:00+00:00\",\"2024-09-22T18:44:00+00:00\",\"2024-09-22T19:07:00+00:00\",\"2024-09-22T19:16:00+00:00\",\"2024-09-22T19:56:00+00:00\",\"2024-09-22T21:34:00+00:00\",\"2024-09-22T22:10:00+00:00\",\"2024-09-22T22:47:00+00:00\",\"2024-09-22T23:30:00+00:00\",\"2024-09-22T23:37:00+00:00\",\"2024-09-22T23:44:00+00:00\",\"2024-09-22T23:58:00+00:00\",\"2024-09-23T00:13:00+00:00\",\"2024-09-23T00:18:00+00:00\",\"2024-09-23T00:35:00+00:00\",\"2024-09-23T00:38:00+00:00\",\"2024-09-23T00:41:00+00:00\",\"2024-09-23T00:47:00+00:00\",\"2024-09-23T00:48:00+00:00\",\"2024-09-23T00:51:00+00:00\",\"2024-09-23T01:03:00+00:00\",\"2024-09-23T01:14:00+00:00\",\"2024-09-23T01:20:00+00:00\",\"2024-09-23T01:37:00+00:00\",\"2024-09-23T01:39:00+00:00\",\"2024-09-23T01:54:00+00:00\",\"2024-09-23T01:58:00+00:00\",\"2024-09-23T02:01:00+00:00\",\"2024-09-23T02:45:00+00:00\",\"2024-09-23T02:48:00+00:00\",\"2024-09-23T03:24:00+00:00\",\"2024-09-23T03:28:00+00:00\",\"2024-09-23T03:48:00+00:00\",\"2024-09-23T03:58:00+00:00\",\"2024-09-23T04:15:00+00:00\",\"2024-09-23T04:36:00+00:00\",\"2024-09-23T04:53:00+00:00\",\"2024-09-23T05:08:00+00:00\",\"2024-09-23T05:45:00+00:00\",\"2024-09-23T05:56:00+00:00\",\"2024-09-23T06:23:00+00:00\",\"2024-09-23T06:32:00+00:00\",\"2024-09-23T06:39:00+00:00\",\"2024-09-23T06:44:00+00:00\",\"2024-09-23T06:47:00+00:00\",\"2024-09-23T07:03:00+00:00\",\"2024-09-23T07:42:00+00:00\",\"2024-09-23T07:57:00+00:00\",\"2024-09-23T08:56:00+00:00\",\"2024-09-23T09:06:00+00:00\",\"2024-09-23T09:14:00+00:00\",\"2024-09-23T09:16:00+00:00\",\"2024-09-23T09:17:00+00:00\",\"2024-09-23T09:19:00+00:00\",\"2024-09-23T09:20:00+00:00\",\"2024-09-23T09:22:00+00:00\",\"2024-09-23T09:27:00+00:00\",\"2024-09-23T09:30:00+00:00\",\"2024-09-23T09:35:00+00:00\",\"2024-09-23T09:45:00+00:00\",\"2024-09-23T09:47:00+00:00\",\"2024-09-23T09:49:00+00:00\",\"2024-09-23T09:50:00+00:00\",\"2024-09-23T09:52:00+00:00\",\"2024-09-23T09:53:00+00:00\",\"2024-09-23T09:56:00+00:00\",\"2024-09-23T10:03:00+00:00\",\"2024-09-23T10:20:00+00:00\",\"2024-09-23T10:21:00+00:00\",\"2024-09-23T10:22:00+00:00\",\"2024-09-23T10:30:00+00:00\",\"2024-09-23T10:31:00+00:00\",\"2024-09-23T10:33:00+00:00\",\"2024-09-23T10:37:00+00:00\",\"2024-09-23T10:49:00+00:00\",\"2024-09-23T10:51:00+00:00\",\"2024-09-23T10:55:00+00:00\",\"2024-09-23T10:58:00+00:00\",\"2024-09-23T10:59:00+00:00\",\"2024-09-23T11:05:00+00:00\",\"2024-09-23T11:07:00+00:00\",\"2024-09-23T11:10:00+00:00\",\"2024-09-23T11:14:00+00:00\",\"2024-09-23T11:21:00+00:00\",\"2024-09-23T11:23:00+00:00\",\"2024-09-23T11:27:00+00:00\",\"2024-09-23T11:28:00+00:00\",\"2024-09-23T11:33:00+00:00\",\"2024-09-23T11:35:00+00:00\",\"2024-09-23T11:40:00+00:00\",\"2024-09-23T11:50:00+00:00\",\"2024-09-23T11:52:00+00:00\",\"2024-09-23T11:59:00+00:00\",\"2024-09-23T12:02:00+00:00\",\"2024-09-23T12:03:00+00:00\",\"2024-09-23T12:04:00+00:00\",\"2024-09-23T12:05:00+00:00\",\"2024-09-23T12:10:00+00:00\",\"2024-09-23T12:11:00+00:00\",\"2024-09-23T12:12:00+00:00\",\"2024-09-23T12:21:00+00:00\",\"2024-09-23T12:24:00+00:00\",\"2024-09-23T12:36:00+00:00\",\"2024-09-23T12:42:00+00:00\",\"2024-09-23T12:46:00+00:00\",\"2024-09-23T12:50:00+00:00\",\"2024-09-23T12:53:00+00:00\",\"2024-09-23T12:57:00+00:00\",\"2024-09-23T13:04:00+00:00\",\"2024-09-23T13:08:00+00:00\",\"2024-09-23T13:11:00+00:00\",\"2024-09-23T13:15:00+00:00\",\"2024-09-23T13:17:00+00:00\",\"2024-09-23T13:20:00+00:00\",\"2024-09-23T13:25:00+00:00\",\"2024-09-23T13:28:00+00:00\",\"2024-09-23T13:29:00+00:00\",\"2024-09-23T13:31:00+00:00\",\"2024-09-23T13:35:00+00:00\",\"2024-09-23T13:41:00+00:00\",\"2024-09-23T13:45:00+00:00\",\"2024-09-23T13:46:00+00:00\",\"2024-09-23T14:10:00+00:00\",\"2024-09-23T14:14:00+00:00\",\"2024-09-23T14:23:00+00:00\",\"2024-09-23T14:45:00+00:00\",\"2024-09-23T14:49:00+00:00\",\"2024-09-23T14:52:00+00:00\",\"2024-09-23T14:54:00+00:00\",\"2024-09-23T15:15:00+00:00\",\"2024-09-23T15:21:00+00:00\",\"2024-09-23T15:26:00+00:00\",\"2024-09-23T15:32:00+00:00\",\"2024-09-23T15:40:00+00:00\",\"2024-09-23T16:09:00+00:00\",\"2024-09-23T16:14:00+00:00\",\"2024-09-23T16:20:00+00:00\",\"2024-09-23T16:28:00+00:00\",\"2024-09-23T16:51:00+00:00\",\"2024-09-23T17:05:00+00:00\",\"2024-09-23T18:28:00+00:00\",\"2024-09-23T19:07:00+00:00\",\"2024-09-23T19:21:00+00:00\",\"2024-09-23T19:48:00+00:00\",\"2024-09-23T20:55:00+00:00\",\"2024-09-23T21:23:00+00:00\",\"2024-09-23T23:18:00+00:00\",\"2024-09-23T23:46:00+00:00\",\"2024-09-24T00:00:00+00:00\",\"2024-09-24T00:52:00+00:00\",\"2024-09-24T00:58:00+00:00\",\"2024-09-24T01:41:00+00:00\",\"2024-09-24T01:54:00+00:00\",\"2024-09-24T02:48:00+00:00\",\"2024-09-24T02:51:00+00:00\",\"2024-09-24T02:59:00+00:00\",\"2024-09-24T03:12:00+00:00\",\"2024-09-24T03:48:00+00:00\",\"2024-09-24T04:51:00+00:00\",\"2024-09-24T05:29:00+00:00\",\"2024-09-24T05:36:00+00:00\",\"2024-09-24T06:36:00+00:00\",\"2024-09-24T07:53:00+00:00\",\"2024-09-24T08:12:00+00:00\",\"2024-09-24T08:39:00+00:00\",\"2024-09-24T08:41:00+00:00\",\"2024-09-24T08:48:00+00:00\",\"2024-09-24T09:14:00+00:00\",\"2024-09-24T09:18:00+00:00\",\"2024-09-24T09:24:00+00:00\",\"2024-09-24T09:52:00+00:00\",\"2024-09-24T10:00:00+00:00\",\"2024-09-24T10:40:00+00:00\",\"2024-09-24T10:51:00+00:00\",\"2024-09-24T10:57:00+00:00\",\"2024-09-24T11:16:00+00:00\",\"2024-09-24T11:17:00+00:00\",\"2024-09-24T11:26:00+00:00\",\"2024-09-24T11:27:00+00:00\",\"2024-09-24T11:31:00+00:00\",\"2024-09-24T11:40:00+00:00\",\"2024-09-24T11:53:00+00:00\",\"2024-09-24T12:01:00+00:00\",\"2024-09-24T12:03:00+00:00\",\"2024-09-24T12:27:00+00:00\",\"2024-09-24T12:37:00+00:00\",\"2024-09-24T12:42:00+00:00\",\"2024-09-24T12:50:00+00:00\",\"2024-09-24T12:54:00+00:00\",\"2024-09-24T12:59:00+00:00\",\"2024-09-24T13:00:00+00:00\",\"2024-09-24T13:03:00+00:00\",\"2024-09-24T13:05:00+00:00\",\"2024-09-24T13:14:00+00:00\",\"2024-09-24T13:22:00+00:00\",\"2024-09-24T13:23:00+00:00\",\"2024-09-24T13:26:00+00:00\",\"2024-09-24T13:28:00+00:00\",\"2024-09-24T13:35:00+00:00\",\"2024-09-24T13:45:00+00:00\",\"2024-09-24T13:55:00+00:00\",\"2024-09-24T14:01:00+00:00\",\"2024-09-24T14:04:00+00:00\",\"2024-09-24T14:26:00+00:00\",\"2024-09-24T14:33:00+00:00\",\"2024-09-24T14:40:00+00:00\",\"2024-09-24T14:52:00+00:00\",\"2024-09-24T16:02:00+00:00\",\"2024-09-25T00:19:00+00:00\",\"2024-09-25T04:55:00+00:00\",\"2024-09-25T05:28:00+00:00\",\"2024-09-25T05:48:00+00:00\",\"2024-09-25T07:37:00+00:00\",\"2024-09-25T08:45:00+00:00\",\"2024-09-25T09:00:00+00:00\",\"2024-09-25T09:36:00+00:00\",\"2024-09-25T10:05:00+00:00\",\"2024-09-25T10:18:00+00:00\",\"2024-09-25T10:24:00+00:00\",\"2024-09-25T10:44:00+00:00\",\"2024-09-25T11:01:00+00:00\",\"2024-09-25T11:08:00+00:00\",\"2024-09-25T11:12:00+00:00\",\"2024-09-25T11:39:00+00:00\",\"2024-09-25T12:14:00+00:00\",\"2024-09-25T12:20:00+00:00\",\"2024-09-25T12:31:00+00:00\",\"2024-09-25T12:38:00+00:00\",\"2024-09-25T12:40:00+00:00\",\"2024-09-25T12:42:00+00:00\",\"2024-09-25T12:45:00+00:00\",\"2024-09-25T12:46:00+00:00\",\"2024-09-25T12:54:00+00:00\",\"2024-09-25T12:55:00+00:00\",\"2024-09-25T12:58:00+00:00\",\"2024-09-25T13:00:00+00:00\",\"2024-09-25T13:04:00+00:00\",\"2024-09-25T13:07:00+00:00\",\"2024-09-25T13:11:00+00:00\",\"2024-09-25T13:15:00+00:00\",\"2024-09-25T13:21:00+00:00\",\"2024-09-25T13:22:00+00:00\",\"2024-09-25T13:23:00+00:00\",\"2024-09-25T13:34:00+00:00\",\"2024-09-25T13:52:00+00:00\",\"2024-09-25T14:27:00+00:00\",\"2024-09-25T14:32:00+00:00\",\"2024-09-25T14:35:00+00:00\",\"2024-09-25T14:59:00+00:00\",\"2024-09-25T15:17:00+00:00\",\"2024-09-25T15:56:00+00:00\",\"2024-09-25T16:39:00+00:00\",\"2024-09-25T22:00:00+00:00\",\"2024-09-25T22:21:00+00:00\",\"2024-09-25T23:19:00+00:00\",\"2024-09-26T00:46:00+00:00\",\"2024-09-26T01:43:00+00:00\",\"2024-09-26T03:55:00+00:00\",\"2024-09-26T05:35:00+00:00\",\"2024-09-26T09:49:00+00:00\",\"2024-09-26T10:38:00+00:00\",\"2024-09-26T11:04:00+00:00\",\"2024-09-26T11:20:00+00:00\",\"2024-09-26T11:23:00+00:00\",\"2024-09-26T11:30:00+00:00\",\"2024-09-26T12:55:00+00:00\",\"2024-09-26T12:56:00+00:00\",\"2024-09-26T13:08:00+00:00\",\"2024-09-26T13:14:00+00:00\",\"2024-09-26T13:20:00+00:00\",\"2024-09-26T14:25:00+00:00\",\"2024-09-26T15:30:00+00:00\",\"2024-09-26T16:14:00+00:00\",\"2024-09-26T16:58:00+00:00\",\"2024-09-26T17:24:00+00:00\",\"2024-09-27T00:03:00+00:00\",\"2024-09-27T02:28:00+00:00\",\"2024-09-27T02:36:00+00:00\",\"2024-09-27T05:23:00+00:00\",\"2024-09-27T05:31:00+00:00\",\"2024-09-27T06:15:00+00:00\",\"2024-09-27T07:48:00+00:00\",\"2024-09-27T09:03:00+00:00\",\"2024-09-27T10:05:00+00:00\",\"2024-09-27T10:17:00+00:00\",\"2024-09-27T10:19:00+00:00\",\"2024-09-27T11:01:00+00:00\",\"2024-09-27T11:36:00+00:00\",\"2024-09-27T11:41:00+00:00\",\"2024-09-27T12:31:00+00:00\",\"2024-09-27T13:00:00+00:00\",\"2024-09-27T13:01:00+00:00\",\"2024-09-27T14:33:00+00:00\",\"2024-09-27T15:22:00+00:00\",\"2024-09-27T15:44:00+00:00\",\"2024-09-27T15:50:00+00:00\",\"2024-09-27T16:04:00+00:00\",\"2024-09-27T19:35:00+00:00\",\"2024-09-27T19:36:00+00:00\",\"2024-09-28T01:01:00+00:00\",\"2024-09-28T01:25:00+00:00\",\"2024-09-28T04:49:00+00:00\",\"2024-09-28T05:21:00+00:00\",\"2024-09-28T05:36:00+00:00\",\"2024-09-28T06:27:00+00:00\",\"2024-09-28T10:26:00+00:00\",\"2024-09-28T10:39:00+00:00\",\"2024-09-28T10:48:00+00:00\",\"2024-09-28T13:20:00+00:00\",\"2024-09-28T13:23:00+00:00\",\"2024-09-28T16:07:00+00:00\",\"2024-09-28T16:46:00+00:00\",\"2024-09-28T21:24:00+00:00\",\"2024-09-28T21:56:00+00:00\",\"2024-09-29T02:12:00+00:00\",\"2024-09-29T02:24:00+00:00\",\"2024-09-29T03:48:00+00:00\",\"2024-09-29T05:59:00+00:00\",\"2024-09-29T07:07:00+00:00\",\"2024-09-29T07:09:00+00:00\",\"2024-09-29T09:04:00+00:00\",\"2024-09-29T11:27:00+00:00\",\"2024-09-29T11:48:00+00:00\",\"2024-09-29T14:30:00+00:00\",\"2024-09-29T14:56:00+00:00\",\"2024-09-29T18:02:00+00:00\",\"2024-09-30T02:06:00+00:00\",\"2024-09-30T09:22:00+00:00\",\"2024-09-30T10:27:00+00:00\",\"2024-09-30T10:37:00+00:00\",\"2024-09-30T10:59:00+00:00\",\"2024-09-30T12:30:00+00:00\",\"2024-09-30T15:47:00+00:00\",\"2024-09-30T16:26:00+00:00\",\"2024-09-30T21:53:00+00:00\",\"2024-09-30T23:46:00+00:00\",\"2024-10-01T06:43:00+00:00\",\"2024-10-01T09:57:00+00:00\",\"2024-10-01T11:26:00+00:00\",\"2024-10-01T11:43:00+00:00\",\"2024-10-01T11:51:00+00:00\",\"2024-10-01T12:29:00+00:00\",\"2024-10-01T12:39:00+00:00\",\"2024-10-01T14:47:00+00:00\",\"2024-10-01T16:13:00+00:00\",\"2024-10-01T16:14:00+00:00\",\"2024-10-01T16:30:00+00:00\",\"2024-10-01T16:47:00+00:00\",\"2024-10-01T16:55:00+00:00\",\"2024-10-01T16:56:00+00:00\",\"2024-10-01T17:21:00+00:00\",\"2024-10-01T17:54:00+00:00\",\"2024-10-01T19:03:00+00:00\",\"2024-10-01T20:35:00+00:00\",\"2024-10-01T21:11:00+00:00\",\"2024-10-01T22:20:00+00:00\",\"2024-10-01T23:44:00+00:00\",\"2024-10-02T00:00:00+00:00\",\"2024-10-02T00:58:00+00:00\",\"2024-10-02T01:00:00+00:00\",\"2024-10-02T02:13:00+00:00\",\"2024-10-02T02:16:00+00:00\",\"2024-10-02T02:17:00+00:00\",\"2024-10-02T02:29:00+00:00\",\"2024-10-02T02:32:00+00:00\",\"2024-10-02T03:34:00+00:00\",\"2024-10-02T03:43:00+00:00\",\"2024-10-02T03:51:00+00:00\",\"2024-10-02T06:15:00+00:00\",\"2024-10-02T06:29:00+00:00\",\"2024-10-02T07:10:00+00:00\",\"2024-10-02T09:09:00+00:00\",\"2024-10-02T09:11:00+00:00\",\"2024-10-02T09:16:00+00:00\",\"2024-10-02T10:15:00+00:00\",\"2024-10-02T11:21:00+00:00\",\"2024-10-02T11:58:00+00:00\",\"2024-10-02T12:00:00+00:00\",\"2024-10-02T12:26:00+00:00\",\"2024-10-02T12:46:00+00:00\",\"2024-10-02T16:04:00+00:00\",\"2024-10-02T16:15:00+00:00\",\"2024-10-02T16:50:00+00:00\",\"2024-10-02T17:17:00+00:00\",\"2024-10-02T18:02:00+00:00\",\"2024-10-02T19:31:00+00:00\",\"2024-10-02T22:42:00+00:00\",\"2024-10-03T00:22:00+00:00\",\"2024-10-03T01:21:00+00:00\",\"2024-10-03T02:45:00+00:00\",\"2024-10-03T02:49:00+00:00\",\"2024-10-03T02:51:00+00:00\",\"2024-10-03T03:18:00+00:00\",\"2024-10-03T03:24:00+00:00\",\"2024-10-03T03:27:00+00:00\",\"2024-10-03T04:10:00+00:00\",\"2024-10-03T04:19:00+00:00\",\"2024-10-03T05:30:00+00:00\",\"2024-10-03T05:58:00+00:00\",\"2024-10-03T06:57:00+00:00\",\"2024-10-03T07:28:00+00:00\",\"2024-10-03T07:30:00+00:00\",\"2024-10-03T09:27:00+00:00\",\"2024-10-03T10:48:00+00:00\",\"2024-10-03T11:01:00+00:00\",\"2024-10-03T12:36:00+00:00\",\"2024-10-03T13:00:00+00:00\",\"2024-10-03T14:13:00+00:00\",\"2024-10-03T15:30:00+00:00\",\"2024-10-03T15:54:00+00:00\",\"2024-10-03T16:37:00+00:00\",\"2024-10-03T21:37:00+00:00\",\"2024-10-03T21:55:00+00:00\",\"2024-10-03T22:21:00+00:00\",\"2024-10-03T23:16:00+00:00\",\"2024-10-04T02:31:00+00:00\",\"2024-10-04T02:37:00+00:00\",\"2024-10-04T03:52:00+00:00\",\"2024-10-04T05:19:00+00:00\",\"2024-10-04T06:40:00+00:00\",\"2024-10-04T07:17:00+00:00\",\"2024-10-04T10:32:00+00:00\",\"2024-10-04T10:43:00+00:00\",\"2024-10-04T11:02:00+00:00\",\"2024-10-04T12:08:00+00:00\",\"2024-10-04T13:02:00+00:00\",\"2024-10-04T13:44:00+00:00\",\"2024-10-04T14:43:00+00:00\",\"2024-10-04T15:24:00+00:00\",\"2024-10-04T16:36:00+00:00\",\"2024-10-04T17:19:00+00:00\",\"2024-10-04T20:16:00+00:00\",\"2024-10-05T01:01:00+00:00\",\"2024-10-05T02:59:00+00:00\",\"2024-10-05T05:00:00+00:00\",\"2024-10-05T05:32:00+00:00\",\"2024-10-05T07:41:00+00:00\",\"2024-10-05T10:14:00+00:00\",\"2024-10-05T10:24:00+00:00\",\"2024-10-05T11:24:00+00:00\",\"2024-10-05T11:50:00+00:00\",\"2024-10-05T12:28:00+00:00\",\"2024-10-05T13:03:00+00:00\",\"2024-10-05T13:27:00+00:00\",\"2024-10-05T13:31:00+00:00\",\"2024-10-05T15:15:00+00:00\",\"2024-10-05T16:08:00+00:00\",\"2024-10-05T17:08:00+00:00\",\"2024-10-06T00:15:00+00:00\",\"2024-10-06T05:52:00+00:00\",\"2024-10-06T09:36:00+00:00\",\"2024-10-06T13:19:00+00:00\",\"2024-10-06T16:37:00+00:00\",\"2024-10-07T01:16:00+00:00\",\"2024-10-07T09:09:00+00:00\",\"2024-10-07T09:34:00+00:00\",\"2024-10-07T10:15:00+00:00\",\"2024-10-07T12:44:00+00:00\",\"2024-10-07T16:30:00+00:00\",\"2024-10-07T22:22:00+00:00\",\"2024-10-08T05:57:00+00:00\",\"2024-10-08T07:36:00+00:00\",\"2024-10-08T09:10:00+00:00\",\"2024-10-08T15:06:00+00:00\",\"2024-10-09T02:05:00+00:00\",\"2024-10-09T03:08:00+00:00\",\"2024-10-09T07:47:00+00:00\",\"2024-10-09T09:51:00+00:00\",\"2024-10-09T11:10:00+00:00\",\"2024-10-09T13:08:00+00:00\",\"2024-10-09T14:52:00+00:00\",\"2024-10-09T15:00:00+00:00\",\"2024-10-09T15:04:00+00:00\",\"2024-10-09T15:08:00+00:00\",\"2024-10-09T15:16:00+00:00\",\"2024-10-09T15:17:00+00:00\",\"2024-10-09T15:27:00+00:00\",\"2024-10-09T15:29:00+00:00\",\"2024-10-09T16:05:00+00:00\",\"2024-10-09T19:08:00+00:00\",\"2024-10-09T21:08:00+00:00\",\"2024-10-09T21:30:00+00:00\"],\"xaxis\":\"x\",\"y\":[2,2,2,1,2,1,2,1,2,1,1,1,1,1,2,2,1,2,2,2,2,1,2,2,1,2,2,1,1,1,1,1,2,1,1,1,2,1,1,2,1,1,1,1,1,1,1,1,1,1,1,1,1,1,1,1,1,1,1,1,1,1,1,1,1,1,1,1,1,1,1,1,1,1,1,1,1,1,1,1,1,1,1,1,1,3,1,1,1,1,1,1,1,1,1,1,3,2,1,2,2,1,2,1,1,2,1,2,1,1,1,3,1,2,1,1,1,1,1,1,1,1,1,1,1,1,1,4,1,2,1,2,4,1,1,1,1,1,1,2,1,2,1,1,1,1,1,1,1,1,2,1,1,1,1,2,1,2,1,1,1,1,1,1,1,1,3,1,1,2,1,2,3,1,2,1,1,1,1,1,2,1,1,1,2,1,1,1,1,1,1,2,1,1,1,1,1,1,2,1,1,1,1,1,1,1,1,1,1,1,1,1,1,1,2,1,1,1,1,2,1,1,1,1,1,2,1,2,1,1,1,2,1,1,1,1,2,1,1,1,1,1,1,2,1,1,2,1,1,1,2,2,1,1,1,1,2,1,3,2,1,2,1,1,1,2,2,2,2,2,2,1,1,1,2,3,2,2,1,1,1,1,2,1,1,1,1,1,1,1,1,1,1,1,1,1,1,1,3,1,2,1,1,1,3,1,1,1,2,1,1,1,1,1,1,1,1,2,2,2,2,1,1,1,1,1,2,1,1,1,1,1,1,2,1,1,1,2,2,1,1,1,1,1,1,1,1,2,1,1,1,1,1,1,2,1,1,1,1,1,1,1,2,1,1,1,1,1,1,1,1,1,1,1,1,2,1,1,1,3,1,1,1,1,2,2,1,1,1,1,1,1,1,1,1,1,3,1,1,1,2,1,2,1,2,1,1,1,1,1,1,2,1,1,1,1,1,1,1,1,1,1,1,1,1,1,1,1,1,1,1,1,1,2,2,1,2,1,2,1,1,2,1,1,1,1,1,1,1,1,1,2,1,1,1,1,1,1,1,1,1,2,1,1,1,1,1,1,1,1,1,1,1,1,1,4,1,2,1,2,2,3,1,1,1,2,1,2,1,1,1,1,1,1,1,1,1,1,1,1,2,1,2,2,1,1,1,1,1,1,1,2,1,1,1,1,2,1,2,1,1,1,1,1,1,1,1,1,1,2,1,1,1,1,1,1,1,1,2,1,2,2,1,1,1,1,1,1,2,1,1,1,1,2,1,1,1,1,2,2,2,2,1,1,1,1,1,1,2,1,1,1,2,1,2,1,1,2,1,1,1,1,1,1,1,1,1,1,1,1,1,2,1,1,1,1,1,1,1,1,2,1,2,1,1,1,1,1,2,1,1,1,1,1,1,1,2,1,1,1,1,2,1,1,1,1,1,1,2,1,1,1,1,1,1,1,1,2,2,1,1,1,1,2,1,2,1,2,1,1,1,1,2,1,1,1,2,1,2,1,1,1,1,1,1,1,2,2,1,1,1,1,1,1,1,1,1,2,1,1,2,1,2,1,2,1,1,1,1,1,1,1],\"yaxis\":\"y\",\"type\":\"scattergl\"},{\"hovertemplate\":\"Sentiment=negative\\u003cbr\\u003eDate=%{x}\\u003cbr\\u003eCount=%{y}\\u003cextra\\u003e\\u003c\\u002fextra\\u003e\",\"legendgroup\":\"negative\",\"line\":{\"color\":\"#EF553B\",\"dash\":\"solid\"},\"marker\":{\"symbol\":\"circle\"},\"mode\":\"lines\",\"name\":\"negative\",\"showlegend\":true,\"x\":[\"2024-09-18T10:47:00+00:00\",\"2024-09-18T11:03:00+00:00\",\"2024-09-20T09:46:00+00:00\",\"2024-09-20T13:06:00+00:00\",\"2024-09-21T10:18:00+00:00\",\"2024-09-21T14:50:00+00:00\",\"2024-09-21T14:53:00+00:00\",\"2024-09-21T15:11:00+00:00\",\"2024-09-21T15:13:00+00:00\",\"2024-09-21T15:22:00+00:00\",\"2024-09-21T15:36:00+00:00\",\"2024-09-21T15:37:00+00:00\",\"2024-09-21T15:59:00+00:00\",\"2024-09-21T16:24:00+00:00\",\"2024-09-21T16:36:00+00:00\",\"2024-09-21T16:55:00+00:00\",\"2024-09-21T17:28:00+00:00\",\"2024-09-21T17:35:00+00:00\",\"2024-09-21T17:42:00+00:00\",\"2024-09-21T18:09:00+00:00\",\"2024-09-21T18:37:00+00:00\",\"2024-09-21T19:31:00+00:00\",\"2024-09-21T21:18:00+00:00\",\"2024-09-21T23:58:00+00:00\",\"2024-09-22T02:03:00+00:00\",\"2024-09-22T02:13:00+00:00\",\"2024-09-22T02:18:00+00:00\",\"2024-09-22T03:05:00+00:00\",\"2024-09-22T03:43:00+00:00\",\"2024-09-22T03:57:00+00:00\",\"2024-09-22T05:15:00+00:00\",\"2024-09-22T06:06:00+00:00\",\"2024-09-22T06:58:00+00:00\",\"2024-09-22T07:14:00+00:00\",\"2024-09-22T09:21:00+00:00\",\"2024-09-22T09:24:00+00:00\",\"2024-09-22T09:25:00+00:00\",\"2024-09-22T09:32:00+00:00\",\"2024-09-22T09:40:00+00:00\",\"2024-09-22T10:20:00+00:00\",\"2024-09-22T10:24:00+00:00\",\"2024-09-22T10:32:00+00:00\",\"2024-09-22T10:33:00+00:00\",\"2024-09-22T10:42:00+00:00\",\"2024-09-22T10:47:00+00:00\",\"2024-09-22T10:56:00+00:00\",\"2024-09-22T10:59:00+00:00\",\"2024-09-22T11:11:00+00:00\",\"2024-09-22T11:17:00+00:00\",\"2024-09-22T11:18:00+00:00\",\"2024-09-22T11:24:00+00:00\",\"2024-09-22T11:28:00+00:00\",\"2024-09-22T11:32:00+00:00\",\"2024-09-22T11:33:00+00:00\",\"2024-09-22T11:39:00+00:00\",\"2024-09-22T11:41:00+00:00\",\"2024-09-22T11:47:00+00:00\",\"2024-09-22T11:54:00+00:00\",\"2024-09-22T12:11:00+00:00\",\"2024-09-22T12:12:00+00:00\",\"2024-09-22T12:19:00+00:00\",\"2024-09-22T12:22:00+00:00\",\"2024-09-22T12:24:00+00:00\",\"2024-09-22T12:25:00+00:00\",\"2024-09-22T12:26:00+00:00\",\"2024-09-22T12:29:00+00:00\",\"2024-09-22T12:31:00+00:00\",\"2024-09-22T12:35:00+00:00\",\"2024-09-22T12:36:00+00:00\",\"2024-09-22T12:38:00+00:00\",\"2024-09-22T12:39:00+00:00\",\"2024-09-22T12:40:00+00:00\",\"2024-09-22T12:45:00+00:00\",\"2024-09-22T12:46:00+00:00\",\"2024-09-22T12:47:00+00:00\",\"2024-09-22T12:49:00+00:00\",\"2024-09-22T12:50:00+00:00\",\"2024-09-22T12:52:00+00:00\",\"2024-09-22T12:53:00+00:00\",\"2024-09-22T12:54:00+00:00\",\"2024-09-22T12:55:00+00:00\",\"2024-09-22T12:57:00+00:00\",\"2024-09-22T12:59:00+00:00\",\"2024-09-22T13:05:00+00:00\",\"2024-09-22T13:08:00+00:00\",\"2024-09-22T13:09:00+00:00\",\"2024-09-22T13:11:00+00:00\",\"2024-09-22T13:12:00+00:00\",\"2024-09-22T13:16:00+00:00\",\"2024-09-22T13:19:00+00:00\",\"2024-09-22T13:21:00+00:00\",\"2024-09-22T13:26:00+00:00\",\"2024-09-22T13:35:00+00:00\",\"2024-09-22T13:37:00+00:00\",\"2024-09-22T13:40:00+00:00\",\"2024-09-22T13:42:00+00:00\",\"2024-09-22T13:49:00+00:00\",\"2024-09-22T13:57:00+00:00\",\"2024-09-22T14:00:00+00:00\",\"2024-09-22T14:02:00+00:00\",\"2024-09-22T14:03:00+00:00\",\"2024-09-22T14:04:00+00:00\",\"2024-09-22T14:05:00+00:00\",\"2024-09-22T14:06:00+00:00\",\"2024-09-22T14:35:00+00:00\",\"2024-09-22T14:42:00+00:00\",\"2024-09-22T14:43:00+00:00\",\"2024-09-22T14:46:00+00:00\",\"2024-09-22T14:48:00+00:00\",\"2024-09-22T14:49:00+00:00\",\"2024-09-22T14:54:00+00:00\",\"2024-09-22T14:59:00+00:00\",\"2024-09-22T15:01:00+00:00\",\"2024-09-22T15:03:00+00:00\",\"2024-09-22T15:04:00+00:00\",\"2024-09-22T15:07:00+00:00\",\"2024-09-22T15:08:00+00:00\",\"2024-09-22T15:19:00+00:00\",\"2024-09-22T15:26:00+00:00\",\"2024-09-22T15:27:00+00:00\",\"2024-09-22T15:30:00+00:00\",\"2024-09-22T15:39:00+00:00\",\"2024-09-22T15:44:00+00:00\",\"2024-09-22T15:57:00+00:00\",\"2024-09-22T15:58:00+00:00\",\"2024-09-22T16:00:00+00:00\",\"2024-09-22T16:01:00+00:00\",\"2024-09-22T16:21:00+00:00\",\"2024-09-22T16:31:00+00:00\",\"2024-09-22T16:39:00+00:00\",\"2024-09-22T16:40:00+00:00\",\"2024-09-22T16:49:00+00:00\",\"2024-09-22T17:25:00+00:00\",\"2024-09-22T17:28:00+00:00\",\"2024-09-22T17:52:00+00:00\",\"2024-09-22T18:39:00+00:00\",\"2024-09-22T18:40:00+00:00\",\"2024-09-22T18:54:00+00:00\",\"2024-09-22T20:37:00+00:00\",\"2024-09-22T21:07:00+00:00\",\"2024-09-22T22:28:00+00:00\",\"2024-09-22T23:02:00+00:00\",\"2024-09-22T23:35:00+00:00\",\"2024-09-22T23:49:00+00:00\",\"2024-09-23T00:06:00+00:00\",\"2024-09-23T00:12:00+00:00\",\"2024-09-23T00:27:00+00:00\",\"2024-09-23T00:46:00+00:00\",\"2024-09-23T00:57:00+00:00\",\"2024-09-23T01:01:00+00:00\",\"2024-09-23T01:20:00+00:00\",\"2024-09-23T01:33:00+00:00\",\"2024-09-23T01:55:00+00:00\",\"2024-09-23T02:16:00+00:00\",\"2024-09-23T02:24:00+00:00\",\"2024-09-23T02:32:00+00:00\",\"2024-09-23T02:49:00+00:00\",\"2024-09-23T02:51:00+00:00\",\"2024-09-23T03:15:00+00:00\",\"2024-09-23T03:21:00+00:00\",\"2024-09-23T03:27:00+00:00\",\"2024-09-23T03:45:00+00:00\",\"2024-09-23T04:01:00+00:00\",\"2024-09-23T04:07:00+00:00\",\"2024-09-23T04:13:00+00:00\",\"2024-09-23T04:14:00+00:00\",\"2024-09-23T04:31:00+00:00\",\"2024-09-23T04:36:00+00:00\",\"2024-09-23T05:08:00+00:00\",\"2024-09-23T06:05:00+00:00\",\"2024-09-23T06:32:00+00:00\",\"2024-09-23T06:38:00+00:00\",\"2024-09-23T06:46:00+00:00\",\"2024-09-23T06:51:00+00:00\",\"2024-09-23T06:52:00+00:00\",\"2024-09-23T07:03:00+00:00\",\"2024-09-23T07:05:00+00:00\",\"2024-09-23T07:10:00+00:00\",\"2024-09-23T08:12:00+00:00\",\"2024-09-23T08:18:00+00:00\",\"2024-09-23T09:00:00+00:00\",\"2024-09-23T09:09:00+00:00\",\"2024-09-23T09:14:00+00:00\",\"2024-09-23T09:19:00+00:00\",\"2024-09-23T09:29:00+00:00\",\"2024-09-23T09:35:00+00:00\",\"2024-09-23T09:39:00+00:00\",\"2024-09-23T09:44:00+00:00\",\"2024-09-23T09:46:00+00:00\",\"2024-09-23T09:49:00+00:00\",\"2024-09-23T09:51:00+00:00\",\"2024-09-23T09:53:00+00:00\",\"2024-09-23T10:01:00+00:00\",\"2024-09-23T10:21:00+00:00\",\"2024-09-23T10:24:00+00:00\",\"2024-09-23T10:30:00+00:00\",\"2024-09-23T10:55:00+00:00\",\"2024-09-23T11:08:00+00:00\",\"2024-09-23T11:11:00+00:00\",\"2024-09-23T11:12:00+00:00\",\"2024-09-23T11:18:00+00:00\",\"2024-09-23T11:20:00+00:00\",\"2024-09-23T11:23:00+00:00\",\"2024-09-23T11:26:00+00:00\",\"2024-09-23T11:31:00+00:00\",\"2024-09-23T11:35:00+00:00\",\"2024-09-23T11:43:00+00:00\",\"2024-09-23T11:57:00+00:00\",\"2024-09-23T12:01:00+00:00\",\"2024-09-23T12:03:00+00:00\",\"2024-09-23T12:07:00+00:00\",\"2024-09-23T12:08:00+00:00\",\"2024-09-23T12:21:00+00:00\",\"2024-09-23T12:36:00+00:00\",\"2024-09-23T12:48:00+00:00\",\"2024-09-23T12:57:00+00:00\",\"2024-09-23T12:59:00+00:00\",\"2024-09-23T13:00:00+00:00\",\"2024-09-23T13:36:00+00:00\",\"2024-09-23T14:08:00+00:00\",\"2024-09-23T14:20:00+00:00\",\"2024-09-23T14:21:00+00:00\",\"2024-09-23T14:41:00+00:00\",\"2024-09-23T14:57:00+00:00\",\"2024-09-23T15:50:00+00:00\",\"2024-09-23T16:08:00+00:00\",\"2024-09-23T16:18:00+00:00\",\"2024-09-23T16:30:00+00:00\",\"2024-09-23T16:37:00+00:00\",\"2024-09-23T17:10:00+00:00\",\"2024-09-23T17:29:00+00:00\",\"2024-09-23T17:36:00+00:00\",\"2024-09-23T18:12:00+00:00\",\"2024-09-23T18:17:00+00:00\",\"2024-09-23T19:01:00+00:00\",\"2024-09-23T19:03:00+00:00\",\"2024-09-23T22:06:00+00:00\",\"2024-09-23T22:31:00+00:00\",\"2024-09-23T22:37:00+00:00\",\"2024-09-23T22:47:00+00:00\",\"2024-09-23T23:10:00+00:00\",\"2024-09-23T23:14:00+00:00\",\"2024-09-24T02:19:00+00:00\",\"2024-09-24T02:38:00+00:00\",\"2024-09-24T02:39:00+00:00\",\"2024-09-24T05:55:00+00:00\",\"2024-09-24T06:07:00+00:00\",\"2024-09-24T06:11:00+00:00\",\"2024-09-24T07:09:00+00:00\",\"2024-09-24T09:19:00+00:00\",\"2024-09-24T10:04:00+00:00\",\"2024-09-24T10:07:00+00:00\",\"2024-09-24T10:26:00+00:00\",\"2024-09-24T11:27:00+00:00\",\"2024-09-24T11:49:00+00:00\",\"2024-09-24T12:11:00+00:00\",\"2024-09-24T12:27:00+00:00\",\"2024-09-24T12:31:00+00:00\",\"2024-09-24T12:36:00+00:00\",\"2024-09-24T13:31:00+00:00\",\"2024-09-24T13:45:00+00:00\",\"2024-09-24T14:15:00+00:00\",\"2024-09-24T14:37:00+00:00\",\"2024-09-24T15:24:00+00:00\",\"2024-09-24T15:36:00+00:00\",\"2024-09-24T23:15:00+00:00\",\"2024-09-24T23:19:00+00:00\",\"2024-09-25T01:09:00+00:00\",\"2024-09-25T01:50:00+00:00\",\"2024-09-25T05:19:00+00:00\",\"2024-09-25T08:34:00+00:00\",\"2024-09-25T10:29:00+00:00\",\"2024-09-25T11:26:00+00:00\",\"2024-09-25T12:08:00+00:00\",\"2024-09-25T12:18:00+00:00\",\"2024-09-25T12:43:00+00:00\",\"2024-09-25T13:00:00+00:00\",\"2024-09-25T13:05:00+00:00\",\"2024-09-25T13:23:00+00:00\",\"2024-09-25T13:32:00+00:00\",\"2024-09-25T13:47:00+00:00\",\"2024-09-25T13:56:00+00:00\",\"2024-09-25T18:49:00+00:00\",\"2024-09-26T08:43:00+00:00\",\"2024-09-26T10:23:00+00:00\",\"2024-09-26T11:08:00+00:00\",\"2024-09-26T13:41:00+00:00\",\"2024-09-26T13:44:00+00:00\",\"2024-09-26T20:06:00+00:00\",\"2024-09-27T02:29:00+00:00\",\"2024-09-27T03:58:00+00:00\",\"2024-09-27T04:41:00+00:00\",\"2024-09-27T06:44:00+00:00\",\"2024-09-27T11:26:00+00:00\",\"2024-09-27T11:37:00+00:00\",\"2024-09-27T12:39:00+00:00\",\"2024-09-27T13:11:00+00:00\",\"2024-09-27T15:00:00+00:00\",\"2024-09-28T00:56:00+00:00\",\"2024-09-28T00:58:00+00:00\",\"2024-09-28T04:00:00+00:00\",\"2024-09-28T08:38:00+00:00\",\"2024-09-28T10:00:00+00:00\",\"2024-09-28T15:24:00+00:00\",\"2024-09-28T17:23:00+00:00\",\"2024-09-29T10:40:00+00:00\",\"2024-09-30T09:12:00+00:00\",\"2024-09-30T09:23:00+00:00\",\"2024-09-30T17:28:00+00:00\",\"2024-10-01T07:35:00+00:00\",\"2024-10-01T13:10:00+00:00\",\"2024-10-01T15:03:00+00:00\",\"2024-10-01T17:11:00+00:00\",\"2024-10-01T17:15:00+00:00\",\"2024-10-01T19:12:00+00:00\",\"2024-10-02T04:57:00+00:00\",\"2024-10-02T05:39:00+00:00\",\"2024-10-02T06:37:00+00:00\",\"2024-10-02T13:18:00+00:00\",\"2024-10-02T14:39:00+00:00\",\"2024-10-02T16:39:00+00:00\",\"2024-10-02T16:46:00+00:00\",\"2024-10-02T16:48:00+00:00\",\"2024-10-02T16:52:00+00:00\",\"2024-10-02T17:38:00+00:00\",\"2024-10-02T17:59:00+00:00\",\"2024-10-02T19:31:00+00:00\",\"2024-10-02T19:39:00+00:00\",\"2024-10-02T21:43:00+00:00\",\"2024-10-02T23:54:00+00:00\",\"2024-10-03T04:30:00+00:00\",\"2024-10-03T04:37:00+00:00\",\"2024-10-03T04:54:00+00:00\",\"2024-10-03T05:28:00+00:00\",\"2024-10-03T05:40:00+00:00\",\"2024-10-03T06:42:00+00:00\",\"2024-10-03T08:30:00+00:00\",\"2024-10-03T13:02:00+00:00\",\"2024-10-03T13:53:00+00:00\",\"2024-10-03T14:01:00+00:00\",\"2024-10-03T14:08:00+00:00\",\"2024-10-03T14:16:00+00:00\",\"2024-10-03T16:37:00+00:00\",\"2024-10-03T16:41:00+00:00\",\"2024-10-03T18:55:00+00:00\",\"2024-10-04T00:13:00+00:00\",\"2024-10-04T01:16:00+00:00\",\"2024-10-04T01:42:00+00:00\",\"2024-10-04T01:53:00+00:00\",\"2024-10-04T02:04:00+00:00\",\"2024-10-04T06:18:00+00:00\",\"2024-10-04T07:28:00+00:00\",\"2024-10-04T13:04:00+00:00\",\"2024-10-04T15:28:00+00:00\",\"2024-10-05T04:07:00+00:00\",\"2024-10-05T07:26:00+00:00\",\"2024-10-05T07:53:00+00:00\",\"2024-10-06T00:51:00+00:00\",\"2024-10-06T11:56:00+00:00\",\"2024-10-06T19:47:00+00:00\",\"2024-10-06T23:01:00+00:00\",\"2024-10-07T02:20:00+00:00\",\"2024-10-07T03:18:00+00:00\",\"2024-10-07T04:13:00+00:00\",\"2024-10-07T07:03:00+00:00\",\"2024-10-07T08:22:00+00:00\",\"2024-10-07T12:55:00+00:00\",\"2024-10-07T22:56:00+00:00\",\"2024-10-08T02:29:00+00:00\",\"2024-10-08T06:40:00+00:00\",\"2024-10-08T13:44:00+00:00\",\"2024-10-08T16:04:00+00:00\",\"2024-10-08T17:44:00+00:00\",\"2024-10-09T03:08:00+00:00\",\"2024-10-09T04:42:00+00:00\",\"2024-10-09T05:43:00+00:00\",\"2024-10-09T06:47:00+00:00\",\"2024-10-10T00:20:00+00:00\",\"2024-10-10T01:10:00+00:00\"],\"xaxis\":\"x\",\"y\":[1,1,1,2,1,1,2,1,1,1,1,1,1,1,1,1,1,1,1,1,1,1,1,1,1,1,1,1,1,1,1,1,1,1,1,1,1,1,1,1,1,1,1,1,2,1,2,1,1,1,1,1,1,1,1,2,1,1,1,1,1,1,1,2,1,2,1,1,2,2,1,1,1,1,1,1,1,2,1,1,2,1,1,1,1,1,1,1,1,2,1,1,1,1,1,1,1,1,1,1,1,1,3,1,1,1,1,2,1,1,1,1,1,3,1,1,1,1,1,1,2,1,1,2,1,1,1,2,1,1,1,1,1,2,1,2,1,1,2,1,1,1,1,1,1,1,1,1,2,1,1,1,1,1,1,1,1,1,1,1,2,1,2,1,1,1,1,1,1,1,1,1,2,1,1,1,1,1,2,1,1,1,1,3,2,1,1,2,2,1,1,2,2,1,1,1,1,1,1,1,2,1,1,1,2,2,1,1,1,1,1,2,1,1,1,1,1,1,1,1,5,1,1,1,2,2,1,1,2,1,1,1,1,1,1,1,2,1,1,1,2,2,1,1,1,1,1,1,1,1,1,1,1,1,1,1,1,1,2,2,1,1,1,1,1,1,1,1,1,1,1,2,1,1,1,1,1,1,2,1,1,1,2,1,1,1,1,1,1,1,1,1,1,1,1,1,1,1,1,1,1,1,1,1,1,1,1,1,1,1,1,2,1,1,1,1,1,1,1,1,1,1,1,1,1,2,1,1,1,1,2,1,1,1,1,1,1,2,1,1,1,2,1,2,2,1,2,1,1,1,1,1,1,1,2,2,1,1,1,1,1,1,1,1,1,1,1,1,1,1,2,2,1,2,1,1,1,1,1],\"yaxis\":\"y\",\"type\":\"scattergl\"},{\"hovertemplate\":\"Sentiment=neutral\\u003cbr\\u003eDate=%{x}\\u003cbr\\u003eCount=%{y}\\u003cextra\\u003e\\u003c\\u002fextra\\u003e\",\"legendgroup\":\"neutral\",\"line\":{\"color\":\"#00cc96\",\"dash\":\"solid\"},\"marker\":{\"symbol\":\"circle\"},\"mode\":\"lines\",\"name\":\"neutral\",\"showlegend\":true,\"x\":[\"2024-09-21T15:44:00+00:00\",\"2024-09-22T08:38:00+00:00\",\"2024-09-22T12:53:00+00:00\",\"2024-09-23T06:34:00+00:00\",\"2024-09-23T11:22:00+00:00\",\"2024-09-23T11:28:00+00:00\",\"2024-09-23T11:29:00+00:00\",\"2024-09-24T09:13:00+00:00\",\"2024-09-25T09:56:00+00:00\",\"2024-09-26T13:28:00+00:00\",\"2024-09-28T12:42:00+00:00\",\"2024-09-28T16:49:00+00:00\",\"2024-09-28T21:22:00+00:00\",\"2024-10-04T17:37:00+00:00\"],\"xaxis\":\"x\",\"y\":[1,1,1,2,2,1,1,1,1,1,1,1,1,2],\"yaxis\":\"y\",\"type\":\"scattergl\"}],                        {\"template\":{\"data\":{\"histogram2dcontour\":[{\"type\":\"histogram2dcontour\",\"colorbar\":{\"outlinewidth\":0,\"ticks\":\"\"},\"colorscale\":[[0.0,\"#0d0887\"],[0.1111111111111111,\"#46039f\"],[0.2222222222222222,\"#7201a8\"],[0.3333333333333333,\"#9c179e\"],[0.4444444444444444,\"#bd3786\"],[0.5555555555555556,\"#d8576b\"],[0.6666666666666666,\"#ed7953\"],[0.7777777777777778,\"#fb9f3a\"],[0.8888888888888888,\"#fdca26\"],[1.0,\"#f0f921\"]]}],\"choropleth\":[{\"type\":\"choropleth\",\"colorbar\":{\"outlinewidth\":0,\"ticks\":\"\"}}],\"histogram2d\":[{\"type\":\"histogram2d\",\"colorbar\":{\"outlinewidth\":0,\"ticks\":\"\"},\"colorscale\":[[0.0,\"#0d0887\"],[0.1111111111111111,\"#46039f\"],[0.2222222222222222,\"#7201a8\"],[0.3333333333333333,\"#9c179e\"],[0.4444444444444444,\"#bd3786\"],[0.5555555555555556,\"#d8576b\"],[0.6666666666666666,\"#ed7953\"],[0.7777777777777778,\"#fb9f3a\"],[0.8888888888888888,\"#fdca26\"],[1.0,\"#f0f921\"]]}],\"heatmap\":[{\"type\":\"heatmap\",\"colorbar\":{\"outlinewidth\":0,\"ticks\":\"\"},\"colorscale\":[[0.0,\"#0d0887\"],[0.1111111111111111,\"#46039f\"],[0.2222222222222222,\"#7201a8\"],[0.3333333333333333,\"#9c179e\"],[0.4444444444444444,\"#bd3786\"],[0.5555555555555556,\"#d8576b\"],[0.6666666666666666,\"#ed7953\"],[0.7777777777777778,\"#fb9f3a\"],[0.8888888888888888,\"#fdca26\"],[1.0,\"#f0f921\"]]}],\"heatmapgl\":[{\"type\":\"heatmapgl\",\"colorbar\":{\"outlinewidth\":0,\"ticks\":\"\"},\"colorscale\":[[0.0,\"#0d0887\"],[0.1111111111111111,\"#46039f\"],[0.2222222222222222,\"#7201a8\"],[0.3333333333333333,\"#9c179e\"],[0.4444444444444444,\"#bd3786\"],[0.5555555555555556,\"#d8576b\"],[0.6666666666666666,\"#ed7953\"],[0.7777777777777778,\"#fb9f3a\"],[0.8888888888888888,\"#fdca26\"],[1.0,\"#f0f921\"]]}],\"contourcarpet\":[{\"type\":\"contourcarpet\",\"colorbar\":{\"outlinewidth\":0,\"ticks\":\"\"}}],\"contour\":[{\"type\":\"contour\",\"colorbar\":{\"outlinewidth\":0,\"ticks\":\"\"},\"colorscale\":[[0.0,\"#0d0887\"],[0.1111111111111111,\"#46039f\"],[0.2222222222222222,\"#7201a8\"],[0.3333333333333333,\"#9c179e\"],[0.4444444444444444,\"#bd3786\"],[0.5555555555555556,\"#d8576b\"],[0.6666666666666666,\"#ed7953\"],[0.7777777777777778,\"#fb9f3a\"],[0.8888888888888888,\"#fdca26\"],[1.0,\"#f0f921\"]]}],\"surface\":[{\"type\":\"surface\",\"colorbar\":{\"outlinewidth\":0,\"ticks\":\"\"},\"colorscale\":[[0.0,\"#0d0887\"],[0.1111111111111111,\"#46039f\"],[0.2222222222222222,\"#7201a8\"],[0.3333333333333333,\"#9c179e\"],[0.4444444444444444,\"#bd3786\"],[0.5555555555555556,\"#d8576b\"],[0.6666666666666666,\"#ed7953\"],[0.7777777777777778,\"#fb9f3a\"],[0.8888888888888888,\"#fdca26\"],[1.0,\"#f0f921\"]]}],\"mesh3d\":[{\"type\":\"mesh3d\",\"colorbar\":{\"outlinewidth\":0,\"ticks\":\"\"}}],\"scatter\":[{\"fillpattern\":{\"fillmode\":\"overlay\",\"size\":10,\"solidity\":0.2},\"type\":\"scatter\"}],\"parcoords\":[{\"type\":\"parcoords\",\"line\":{\"colorbar\":{\"outlinewidth\":0,\"ticks\":\"\"}}}],\"scatterpolargl\":[{\"type\":\"scatterpolargl\",\"marker\":{\"colorbar\":{\"outlinewidth\":0,\"ticks\":\"\"}}}],\"bar\":[{\"error_x\":{\"color\":\"#2a3f5f\"},\"error_y\":{\"color\":\"#2a3f5f\"},\"marker\":{\"line\":{\"color\":\"#E5ECF6\",\"width\":0.5},\"pattern\":{\"fillmode\":\"overlay\",\"size\":10,\"solidity\":0.2}},\"type\":\"bar\"}],\"scattergeo\":[{\"type\":\"scattergeo\",\"marker\":{\"colorbar\":{\"outlinewidth\":0,\"ticks\":\"\"}}}],\"scatterpolar\":[{\"type\":\"scatterpolar\",\"marker\":{\"colorbar\":{\"outlinewidth\":0,\"ticks\":\"\"}}}],\"histogram\":[{\"marker\":{\"pattern\":{\"fillmode\":\"overlay\",\"size\":10,\"solidity\":0.2}},\"type\":\"histogram\"}],\"scattergl\":[{\"type\":\"scattergl\",\"marker\":{\"colorbar\":{\"outlinewidth\":0,\"ticks\":\"\"}}}],\"scatter3d\":[{\"type\":\"scatter3d\",\"line\":{\"colorbar\":{\"outlinewidth\":0,\"ticks\":\"\"}},\"marker\":{\"colorbar\":{\"outlinewidth\":0,\"ticks\":\"\"}}}],\"scattermapbox\":[{\"type\":\"scattermapbox\",\"marker\":{\"colorbar\":{\"outlinewidth\":0,\"ticks\":\"\"}}}],\"scatterternary\":[{\"type\":\"scatterternary\",\"marker\":{\"colorbar\":{\"outlinewidth\":0,\"ticks\":\"\"}}}],\"scattercarpet\":[{\"type\":\"scattercarpet\",\"marker\":{\"colorbar\":{\"outlinewidth\":0,\"ticks\":\"\"}}}],\"carpet\":[{\"aaxis\":{\"endlinecolor\":\"#2a3f5f\",\"gridcolor\":\"white\",\"linecolor\":\"white\",\"minorgridcolor\":\"white\",\"startlinecolor\":\"#2a3f5f\"},\"baxis\":{\"endlinecolor\":\"#2a3f5f\",\"gridcolor\":\"white\",\"linecolor\":\"white\",\"minorgridcolor\":\"white\",\"startlinecolor\":\"#2a3f5f\"},\"type\":\"carpet\"}],\"table\":[{\"cells\":{\"fill\":{\"color\":\"#EBF0F8\"},\"line\":{\"color\":\"white\"}},\"header\":{\"fill\":{\"color\":\"#C8D4E3\"},\"line\":{\"color\":\"white\"}},\"type\":\"table\"}],\"barpolar\":[{\"marker\":{\"line\":{\"color\":\"#E5ECF6\",\"width\":0.5},\"pattern\":{\"fillmode\":\"overlay\",\"size\":10,\"solidity\":0.2}},\"type\":\"barpolar\"}],\"pie\":[{\"automargin\":true,\"type\":\"pie\"}]},\"layout\":{\"autotypenumbers\":\"strict\",\"colorway\":[\"#636efa\",\"#EF553B\",\"#00cc96\",\"#ab63fa\",\"#FFA15A\",\"#19d3f3\",\"#FF6692\",\"#B6E880\",\"#FF97FF\",\"#FECB52\"],\"font\":{\"color\":\"#2a3f5f\"},\"hovermode\":\"closest\",\"hoverlabel\":{\"align\":\"left\"},\"paper_bgcolor\":\"white\",\"plot_bgcolor\":\"#E5ECF6\",\"polar\":{\"bgcolor\":\"#E5ECF6\",\"angularaxis\":{\"gridcolor\":\"white\",\"linecolor\":\"white\",\"ticks\":\"\"},\"radialaxis\":{\"gridcolor\":\"white\",\"linecolor\":\"white\",\"ticks\":\"\"}},\"ternary\":{\"bgcolor\":\"#E5ECF6\",\"aaxis\":{\"gridcolor\":\"white\",\"linecolor\":\"white\",\"ticks\":\"\"},\"baxis\":{\"gridcolor\":\"white\",\"linecolor\":\"white\",\"ticks\":\"\"},\"caxis\":{\"gridcolor\":\"white\",\"linecolor\":\"white\",\"ticks\":\"\"}},\"coloraxis\":{\"colorbar\":{\"outlinewidth\":0,\"ticks\":\"\"}},\"colorscale\":{\"sequential\":[[0.0,\"#0d0887\"],[0.1111111111111111,\"#46039f\"],[0.2222222222222222,\"#7201a8\"],[0.3333333333333333,\"#9c179e\"],[0.4444444444444444,\"#bd3786\"],[0.5555555555555556,\"#d8576b\"],[0.6666666666666666,\"#ed7953\"],[0.7777777777777778,\"#fb9f3a\"],[0.8888888888888888,\"#fdca26\"],[1.0,\"#f0f921\"]],\"sequentialminus\":[[0.0,\"#0d0887\"],[0.1111111111111111,\"#46039f\"],[0.2222222222222222,\"#7201a8\"],[0.3333333333333333,\"#9c179e\"],[0.4444444444444444,\"#bd3786\"],[0.5555555555555556,\"#d8576b\"],[0.6666666666666666,\"#ed7953\"],[0.7777777777777778,\"#fb9f3a\"],[0.8888888888888888,\"#fdca26\"],[1.0,\"#f0f921\"]],\"diverging\":[[0,\"#8e0152\"],[0.1,\"#c51b7d\"],[0.2,\"#de77ae\"],[0.3,\"#f1b6da\"],[0.4,\"#fde0ef\"],[0.5,\"#f7f7f7\"],[0.6,\"#e6f5d0\"],[0.7,\"#b8e186\"],[0.8,\"#7fbc41\"],[0.9,\"#4d9221\"],[1,\"#276419\"]]},\"xaxis\":{\"gridcolor\":\"white\",\"linecolor\":\"white\",\"ticks\":\"\",\"title\":{\"standoff\":15},\"zerolinecolor\":\"white\",\"automargin\":true,\"zerolinewidth\":2},\"yaxis\":{\"gridcolor\":\"white\",\"linecolor\":\"white\",\"ticks\":\"\",\"title\":{\"standoff\":15},\"zerolinecolor\":\"white\",\"automargin\":true,\"zerolinewidth\":2},\"scene\":{\"xaxis\":{\"backgroundcolor\":\"#E5ECF6\",\"gridcolor\":\"white\",\"linecolor\":\"white\",\"showbackground\":true,\"ticks\":\"\",\"zerolinecolor\":\"white\",\"gridwidth\":2},\"yaxis\":{\"backgroundcolor\":\"#E5ECF6\",\"gridcolor\":\"white\",\"linecolor\":\"white\",\"showbackground\":true,\"ticks\":\"\",\"zerolinecolor\":\"white\",\"gridwidth\":2},\"zaxis\":{\"backgroundcolor\":\"#E5ECF6\",\"gridcolor\":\"white\",\"linecolor\":\"white\",\"showbackground\":true,\"ticks\":\"\",\"zerolinecolor\":\"white\",\"gridwidth\":2}},\"shapedefaults\":{\"line\":{\"color\":\"#2a3f5f\"}},\"annotationdefaults\":{\"arrowcolor\":\"#2a3f5f\",\"arrowhead\":0,\"arrowwidth\":1},\"geo\":{\"bgcolor\":\"white\",\"landcolor\":\"#E5ECF6\",\"subunitcolor\":\"white\",\"showland\":true,\"showlakes\":true,\"lakecolor\":\"white\"},\"title\":{\"x\":0.05},\"mapbox\":{\"style\":\"light\"}}},\"xaxis\":{\"anchor\":\"y\",\"domain\":[0.0,1.0],\"title\":{\"text\":\"Date\"}},\"yaxis\":{\"anchor\":\"x\",\"domain\":[0.0,1.0],\"title\":{\"text\":\"Count\"}},\"legend\":{\"title\":{\"text\":\"Sentiment\"},\"tracegroupgap\":0},\"title\":{\"text\":\"Sentiment Trend Over Time\"}},                        {\"responsive\": true}                    ).then(function(){\n",
       "                            \n",
       "var gd = document.getElementById('09712307-07da-4aa8-bc52-89fa8647a188');\n",
       "var x = new MutationObserver(function (mutations, observer) {{\n",
       "        var display = window.getComputedStyle(gd).display;\n",
       "        if (!display || display === 'none') {{\n",
       "            console.log([gd, 'removed!']);\n",
       "            Plotly.purge(gd);\n",
       "            observer.disconnect();\n",
       "        }}\n",
       "}});\n",
       "\n",
       "// Listen for the removal of the full notebook cells\n",
       "var notebookContainer = gd.closest('#notebook-container');\n",
       "if (notebookContainer) {{\n",
       "    x.observe(notebookContainer, {childList: true});\n",
       "}}\n",
       "\n",
       "// Listen for the clearing of the current output cell\n",
       "var outputEl = gd.closest('.output');\n",
       "if (outputEl) {{\n",
       "    x.observe(outputEl, {childList: true});\n",
       "}}\n",
       "\n",
       "                        })                };                });            </script>        </div>"
      ]
     },
     "metadata": {},
     "output_type": "display_data"
    }
   ],
   "execution_count": 29
  },
  {
   "metadata": {
    "ExecuteTime": {
     "end_time": "2024-10-10T03:17:12.138981Z",
     "start_time": "2024-10-10T03:17:12.104137Z"
    }
   },
   "cell_type": "code",
   "source": [
    "# Average Sentiment Score Over Time\n",
    "sentiment_score_trend = df.groupby('timestamp')['sentiment_score'].mean().reset_index()\n",
    "\n",
    "fig = px.line(sentiment_score_trend, x='timestamp', y='sentiment_score', title='Average Sentiment Score Over Time')\n",
    "fig.show()\n"
   ],
   "id": "becea39f4ea31c7f",
   "outputs": [
    {
     "data": {
      "application/vnd.plotly.v1+json": {
       "data": [
        {
         "hovertemplate": "timestamp=%{x}<br>sentiment_score=%{y}<extra></extra>",
         "legendgroup": "",
         "line": {
          "color": "#636efa",
          "dash": "solid"
         },
         "marker": {
          "symbol": "circle"
         },
         "mode": "lines",
         "name": "",
         "showlegend": false,
         "x": [
          "2022-08-22T10:34:00+00:00",
          "2023-10-02T09:00:00+00:00",
          "2023-11-17T03:36:00+00:00",
          "2024-03-03T15:14:00+00:00",
          "2024-05-19T16:27:00+00:00",
          "2024-08-08T20:45:00+00:00",
          "2024-08-17T06:28:00+00:00",
          "2024-09-18T05:09:00+00:00",
          "2024-09-18T10:11:00+00:00",
          "2024-09-18T10:47:00+00:00",
          "2024-09-18T11:02:00+00:00",
          "2024-09-18T11:03:00+00:00",
          "2024-09-18T11:26:00+00:00",
          "2024-09-18T13:50:00+00:00",
          "2024-09-19T01:03:00+00:00",
          "2024-09-19T01:39:00+00:00",
          "2024-09-19T09:00:00+00:00",
          "2024-09-19T10:48:00+00:00",
          "2024-09-20T03:08:00+00:00",
          "2024-09-20T03:50:00+00:00",
          "2024-09-20T05:59:00+00:00",
          "2024-09-20T06:45:00+00:00",
          "2024-09-20T06:48:00+00:00",
          "2024-09-20T09:19:00+00:00",
          "2024-09-20T09:46:00+00:00",
          "2024-09-20T11:43:00+00:00",
          "2024-09-20T13:06:00+00:00",
          "2024-09-20T13:48:00+00:00",
          "2024-09-20T20:42:00+00:00",
          "2024-09-21T10:16:00+00:00",
          "2024-09-21T10:18:00+00:00",
          "2024-09-21T10:21:00+00:00",
          "2024-09-21T11:50:00+00:00",
          "2024-09-21T12:27:00+00:00",
          "2024-09-21T13:03:00+00:00",
          "2024-09-21T13:33:00+00:00",
          "2024-09-21T13:52:00+00:00",
          "2024-09-21T14:44:00+00:00",
          "2024-09-21T14:50:00+00:00",
          "2024-09-21T14:52:00+00:00",
          "2024-09-21T14:53:00+00:00",
          "2024-09-21T14:54:00+00:00",
          "2024-09-21T14:55:00+00:00",
          "2024-09-21T14:58:00+00:00",
          "2024-09-21T14:59:00+00:00",
          "2024-09-21T15:04:00+00:00",
          "2024-09-21T15:07:00+00:00",
          "2024-09-21T15:11:00+00:00",
          "2024-09-21T15:13:00+00:00",
          "2024-09-21T15:16:00+00:00",
          "2024-09-21T15:22:00+00:00",
          "2024-09-21T15:23:00+00:00",
          "2024-09-21T15:26:00+00:00",
          "2024-09-21T15:36:00+00:00",
          "2024-09-21T15:37:00+00:00",
          "2024-09-21T15:40:00+00:00",
          "2024-09-21T15:44:00+00:00",
          "2024-09-21T15:56:00+00:00",
          "2024-09-21T15:59:00+00:00",
          "2024-09-21T16:01:00+00:00",
          "2024-09-21T16:04:00+00:00",
          "2024-09-21T16:19:00+00:00",
          "2024-09-21T16:21:00+00:00",
          "2024-09-21T16:24:00+00:00",
          "2024-09-21T16:26:00+00:00",
          "2024-09-21T16:30:00+00:00",
          "2024-09-21T16:31:00+00:00",
          "2024-09-21T16:36:00+00:00",
          "2024-09-21T16:47:00+00:00",
          "2024-09-21T16:55:00+00:00",
          "2024-09-21T17:00:00+00:00",
          "2024-09-21T17:28:00+00:00",
          "2024-09-21T17:35:00+00:00",
          "2024-09-21T17:42:00+00:00",
          "2024-09-21T18:07:00+00:00",
          "2024-09-21T18:09:00+00:00",
          "2024-09-21T18:15:00+00:00",
          "2024-09-21T18:23:00+00:00",
          "2024-09-21T18:29:00+00:00",
          "2024-09-21T18:31:00+00:00",
          "2024-09-21T18:37:00+00:00",
          "2024-09-21T18:59:00+00:00",
          "2024-09-21T19:31:00+00:00",
          "2024-09-21T20:16:00+00:00",
          "2024-09-21T21:18:00+00:00",
          "2024-09-21T23:26:00+00:00",
          "2024-09-21T23:36:00+00:00",
          "2024-09-21T23:58:00+00:00",
          "2024-09-22T00:55:00+00:00",
          "2024-09-22T01:32:00+00:00",
          "2024-09-22T01:38:00+00:00",
          "2024-09-22T02:03:00+00:00",
          "2024-09-22T02:13:00+00:00",
          "2024-09-22T02:18:00+00:00",
          "2024-09-22T02:26:00+00:00",
          "2024-09-22T03:05:00+00:00",
          "2024-09-22T03:43:00+00:00",
          "2024-09-22T03:57:00+00:00",
          "2024-09-22T04:47:00+00:00",
          "2024-09-22T05:00:00+00:00",
          "2024-09-22T05:15:00+00:00",
          "2024-09-22T06:06:00+00:00",
          "2024-09-22T06:21:00+00:00",
          "2024-09-22T06:49:00+00:00",
          "2024-09-22T06:51:00+00:00",
          "2024-09-22T06:58:00+00:00",
          "2024-09-22T07:14:00+00:00",
          "2024-09-22T08:08:00+00:00",
          "2024-09-22T08:11:00+00:00",
          "2024-09-22T08:38:00+00:00",
          "2024-09-22T08:39:00+00:00",
          "2024-09-22T08:50:00+00:00",
          "2024-09-22T09:21:00+00:00",
          "2024-09-22T09:23:00+00:00",
          "2024-09-22T09:24:00+00:00",
          "2024-09-22T09:25:00+00:00",
          "2024-09-22T09:32:00+00:00",
          "2024-09-22T09:40:00+00:00",
          "2024-09-22T10:19:00+00:00",
          "2024-09-22T10:20:00+00:00",
          "2024-09-22T10:22:00+00:00",
          "2024-09-22T10:24:00+00:00",
          "2024-09-22T10:32:00+00:00",
          "2024-09-22T10:33:00+00:00",
          "2024-09-22T10:35:00+00:00",
          "2024-09-22T10:36:00+00:00",
          "2024-09-22T10:37:00+00:00",
          "2024-09-22T10:38:00+00:00",
          "2024-09-22T10:40:00+00:00",
          "2024-09-22T10:42:00+00:00",
          "2024-09-22T10:47:00+00:00",
          "2024-09-22T10:51:00+00:00",
          "2024-09-22T10:53:00+00:00",
          "2024-09-22T10:56:00+00:00",
          "2024-09-22T10:59:00+00:00",
          "2024-09-22T11:00:00+00:00",
          "2024-09-22T11:03:00+00:00",
          "2024-09-22T11:11:00+00:00",
          "2024-09-22T11:13:00+00:00",
          "2024-09-22T11:17:00+00:00",
          "2024-09-22T11:18:00+00:00",
          "2024-09-22T11:23:00+00:00",
          "2024-09-22T11:24:00+00:00",
          "2024-09-22T11:28:00+00:00",
          "2024-09-22T11:30:00+00:00",
          "2024-09-22T11:32:00+00:00",
          "2024-09-22T11:33:00+00:00",
          "2024-09-22T11:37:00+00:00",
          "2024-09-22T11:38:00+00:00",
          "2024-09-22T11:39:00+00:00",
          "2024-09-22T11:40:00+00:00",
          "2024-09-22T11:41:00+00:00",
          "2024-09-22T11:43:00+00:00",
          "2024-09-22T11:44:00+00:00",
          "2024-09-22T11:46:00+00:00",
          "2024-09-22T11:47:00+00:00",
          "2024-09-22T11:50:00+00:00",
          "2024-09-22T11:51:00+00:00",
          "2024-09-22T11:54:00+00:00",
          "2024-09-22T11:57:00+00:00",
          "2024-09-22T12:00:00+00:00",
          "2024-09-22T12:03:00+00:00",
          "2024-09-22T12:05:00+00:00",
          "2024-09-22T12:06:00+00:00",
          "2024-09-22T12:07:00+00:00",
          "2024-09-22T12:08:00+00:00",
          "2024-09-22T12:09:00+00:00",
          "2024-09-22T12:10:00+00:00",
          "2024-09-22T12:11:00+00:00",
          "2024-09-22T12:12:00+00:00",
          "2024-09-22T12:13:00+00:00",
          "2024-09-22T12:15:00+00:00",
          "2024-09-22T12:16:00+00:00",
          "2024-09-22T12:17:00+00:00",
          "2024-09-22T12:18:00+00:00",
          "2024-09-22T12:19:00+00:00",
          "2024-09-22T12:20:00+00:00",
          "2024-09-22T12:21:00+00:00",
          "2024-09-22T12:22:00+00:00",
          "2024-09-22T12:23:00+00:00",
          "2024-09-22T12:24:00+00:00",
          "2024-09-22T12:25:00+00:00",
          "2024-09-22T12:26:00+00:00",
          "2024-09-22T12:28:00+00:00",
          "2024-09-22T12:29:00+00:00",
          "2024-09-22T12:30:00+00:00",
          "2024-09-22T12:31:00+00:00",
          "2024-09-22T12:33:00+00:00",
          "2024-09-22T12:35:00+00:00",
          "2024-09-22T12:36:00+00:00",
          "2024-09-22T12:38:00+00:00",
          "2024-09-22T12:39:00+00:00",
          "2024-09-22T12:40:00+00:00",
          "2024-09-22T12:42:00+00:00",
          "2024-09-22T12:44:00+00:00",
          "2024-09-22T12:45:00+00:00",
          "2024-09-22T12:46:00+00:00",
          "2024-09-22T12:47:00+00:00",
          "2024-09-22T12:48:00+00:00",
          "2024-09-22T12:49:00+00:00",
          "2024-09-22T12:50:00+00:00",
          "2024-09-22T12:51:00+00:00",
          "2024-09-22T12:52:00+00:00",
          "2024-09-22T12:53:00+00:00",
          "2024-09-22T12:54:00+00:00",
          "2024-09-22T12:55:00+00:00",
          "2024-09-22T12:57:00+00:00",
          "2024-09-22T12:59:00+00:00",
          "2024-09-22T13:01:00+00:00",
          "2024-09-22T13:02:00+00:00",
          "2024-09-22T13:04:00+00:00",
          "2024-09-22T13:05:00+00:00",
          "2024-09-22T13:06:00+00:00",
          "2024-09-22T13:07:00+00:00",
          "2024-09-22T13:08:00+00:00",
          "2024-09-22T13:09:00+00:00",
          "2024-09-22T13:10:00+00:00",
          "2024-09-22T13:11:00+00:00",
          "2024-09-22T13:12:00+00:00",
          "2024-09-22T13:13:00+00:00",
          "2024-09-22T13:14:00+00:00",
          "2024-09-22T13:15:00+00:00",
          "2024-09-22T13:16:00+00:00",
          "2024-09-22T13:18:00+00:00",
          "2024-09-22T13:19:00+00:00",
          "2024-09-22T13:21:00+00:00",
          "2024-09-22T13:22:00+00:00",
          "2024-09-22T13:25:00+00:00",
          "2024-09-22T13:26:00+00:00",
          "2024-09-22T13:27:00+00:00",
          "2024-09-22T13:29:00+00:00",
          "2024-09-22T13:30:00+00:00",
          "2024-09-22T13:33:00+00:00",
          "2024-09-22T13:34:00+00:00",
          "2024-09-22T13:35:00+00:00",
          "2024-09-22T13:37:00+00:00",
          "2024-09-22T13:39:00+00:00",
          "2024-09-22T13:40:00+00:00",
          "2024-09-22T13:41:00+00:00",
          "2024-09-22T13:42:00+00:00",
          "2024-09-22T13:45:00+00:00",
          "2024-09-22T13:49:00+00:00",
          "2024-09-22T13:50:00+00:00",
          "2024-09-22T13:51:00+00:00",
          "2024-09-22T13:52:00+00:00",
          "2024-09-22T13:55:00+00:00",
          "2024-09-22T13:56:00+00:00",
          "2024-09-22T13:57:00+00:00",
          "2024-09-22T13:58:00+00:00",
          "2024-09-22T14:00:00+00:00",
          "2024-09-22T14:02:00+00:00",
          "2024-09-22T14:03:00+00:00",
          "2024-09-22T14:04:00+00:00",
          "2024-09-22T14:05:00+00:00",
          "2024-09-22T14:06:00+00:00",
          "2024-09-22T14:12:00+00:00",
          "2024-09-22T14:14:00+00:00",
          "2024-09-22T14:19:00+00:00",
          "2024-09-22T14:24:00+00:00",
          "2024-09-22T14:29:00+00:00",
          "2024-09-22T14:32:00+00:00",
          "2024-09-22T14:33:00+00:00",
          "2024-09-22T14:34:00+00:00",
          "2024-09-22T14:35:00+00:00",
          "2024-09-22T14:37:00+00:00",
          "2024-09-22T14:42:00+00:00",
          "2024-09-22T14:43:00+00:00",
          "2024-09-22T14:46:00+00:00",
          "2024-09-22T14:47:00+00:00",
          "2024-09-22T14:48:00+00:00",
          "2024-09-22T14:49:00+00:00",
          "2024-09-22T14:54:00+00:00",
          "2024-09-22T14:59:00+00:00",
          "2024-09-22T15:01:00+00:00",
          "2024-09-22T15:03:00+00:00",
          "2024-09-22T15:04:00+00:00",
          "2024-09-22T15:07:00+00:00",
          "2024-09-22T15:08:00+00:00",
          "2024-09-22T15:09:00+00:00",
          "2024-09-22T15:12:00+00:00",
          "2024-09-22T15:13:00+00:00",
          "2024-09-22T15:17:00+00:00",
          "2024-09-22T15:19:00+00:00",
          "2024-09-22T15:25:00+00:00",
          "2024-09-22T15:26:00+00:00",
          "2024-09-22T15:27:00+00:00",
          "2024-09-22T15:30:00+00:00",
          "2024-09-22T15:32:00+00:00",
          "2024-09-22T15:33:00+00:00",
          "2024-09-22T15:39:00+00:00",
          "2024-09-22T15:41:00+00:00",
          "2024-09-22T15:42:00+00:00",
          "2024-09-22T15:44:00+00:00",
          "2024-09-22T15:48:00+00:00",
          "2024-09-22T15:51:00+00:00",
          "2024-09-22T15:57:00+00:00",
          "2024-09-22T15:58:00+00:00",
          "2024-09-22T15:59:00+00:00",
          "2024-09-22T16:00:00+00:00",
          "2024-09-22T16:01:00+00:00",
          "2024-09-22T16:09:00+00:00",
          "2024-09-22T16:17:00+00:00",
          "2024-09-22T16:21:00+00:00",
          "2024-09-22T16:31:00+00:00",
          "2024-09-22T16:33:00+00:00",
          "2024-09-22T16:39:00+00:00",
          "2024-09-22T16:40:00+00:00",
          "2024-09-22T16:49:00+00:00",
          "2024-09-22T16:50:00+00:00",
          "2024-09-22T16:54:00+00:00",
          "2024-09-22T16:56:00+00:00",
          "2024-09-22T16:58:00+00:00",
          "2024-09-22T17:03:00+00:00",
          "2024-09-22T17:07:00+00:00",
          "2024-09-22T17:08:00+00:00",
          "2024-09-22T17:16:00+00:00",
          "2024-09-22T17:20:00+00:00",
          "2024-09-22T17:25:00+00:00",
          "2024-09-22T17:26:00+00:00",
          "2024-09-22T17:27:00+00:00",
          "2024-09-22T17:28:00+00:00",
          "2024-09-22T17:31:00+00:00",
          "2024-09-22T17:36:00+00:00",
          "2024-09-22T17:52:00+00:00",
          "2024-09-22T17:53:00+00:00",
          "2024-09-22T18:17:00+00:00",
          "2024-09-22T18:26:00+00:00",
          "2024-09-22T18:37:00+00:00",
          "2024-09-22T18:39:00+00:00",
          "2024-09-22T18:40:00+00:00",
          "2024-09-22T18:44:00+00:00",
          "2024-09-22T18:54:00+00:00",
          "2024-09-22T19:07:00+00:00",
          "2024-09-22T19:16:00+00:00",
          "2024-09-22T19:56:00+00:00",
          "2024-09-22T20:37:00+00:00",
          "2024-09-22T21:07:00+00:00",
          "2024-09-22T21:34:00+00:00",
          "2024-09-22T22:10:00+00:00",
          "2024-09-22T22:28:00+00:00",
          "2024-09-22T22:47:00+00:00",
          "2024-09-22T23:02:00+00:00",
          "2024-09-22T23:30:00+00:00",
          "2024-09-22T23:35:00+00:00",
          "2024-09-22T23:37:00+00:00",
          "2024-09-22T23:44:00+00:00",
          "2024-09-22T23:49:00+00:00",
          "2024-09-22T23:58:00+00:00",
          "2024-09-23T00:06:00+00:00",
          "2024-09-23T00:12:00+00:00",
          "2024-09-23T00:13:00+00:00",
          "2024-09-23T00:18:00+00:00",
          "2024-09-23T00:27:00+00:00",
          "2024-09-23T00:35:00+00:00",
          "2024-09-23T00:38:00+00:00",
          "2024-09-23T00:41:00+00:00",
          "2024-09-23T00:46:00+00:00",
          "2024-09-23T00:47:00+00:00",
          "2024-09-23T00:48:00+00:00",
          "2024-09-23T00:51:00+00:00",
          "2024-09-23T00:57:00+00:00",
          "2024-09-23T01:01:00+00:00",
          "2024-09-23T01:03:00+00:00",
          "2024-09-23T01:14:00+00:00",
          "2024-09-23T01:20:00+00:00",
          "2024-09-23T01:33:00+00:00",
          "2024-09-23T01:37:00+00:00",
          "2024-09-23T01:39:00+00:00",
          "2024-09-23T01:54:00+00:00",
          "2024-09-23T01:55:00+00:00",
          "2024-09-23T01:58:00+00:00",
          "2024-09-23T02:01:00+00:00",
          "2024-09-23T02:16:00+00:00",
          "2024-09-23T02:24:00+00:00",
          "2024-09-23T02:32:00+00:00",
          "2024-09-23T02:45:00+00:00",
          "2024-09-23T02:48:00+00:00",
          "2024-09-23T02:49:00+00:00",
          "2024-09-23T02:51:00+00:00",
          "2024-09-23T03:15:00+00:00",
          "2024-09-23T03:21:00+00:00",
          "2024-09-23T03:24:00+00:00",
          "2024-09-23T03:27:00+00:00",
          "2024-09-23T03:28:00+00:00",
          "2024-09-23T03:45:00+00:00",
          "2024-09-23T03:48:00+00:00",
          "2024-09-23T03:58:00+00:00",
          "2024-09-23T04:01:00+00:00",
          "2024-09-23T04:07:00+00:00",
          "2024-09-23T04:13:00+00:00",
          "2024-09-23T04:14:00+00:00",
          "2024-09-23T04:15:00+00:00",
          "2024-09-23T04:31:00+00:00",
          "2024-09-23T04:36:00+00:00",
          "2024-09-23T04:53:00+00:00",
          "2024-09-23T05:08:00+00:00",
          "2024-09-23T05:45:00+00:00",
          "2024-09-23T05:56:00+00:00",
          "2024-09-23T06:05:00+00:00",
          "2024-09-23T06:23:00+00:00",
          "2024-09-23T06:32:00+00:00",
          "2024-09-23T06:34:00+00:00",
          "2024-09-23T06:38:00+00:00",
          "2024-09-23T06:39:00+00:00",
          "2024-09-23T06:44:00+00:00",
          "2024-09-23T06:46:00+00:00",
          "2024-09-23T06:47:00+00:00",
          "2024-09-23T06:51:00+00:00",
          "2024-09-23T06:52:00+00:00",
          "2024-09-23T07:03:00+00:00",
          "2024-09-23T07:05:00+00:00",
          "2024-09-23T07:10:00+00:00",
          "2024-09-23T07:42:00+00:00",
          "2024-09-23T07:57:00+00:00",
          "2024-09-23T08:12:00+00:00",
          "2024-09-23T08:18:00+00:00",
          "2024-09-23T08:56:00+00:00",
          "2024-09-23T09:00:00+00:00",
          "2024-09-23T09:06:00+00:00",
          "2024-09-23T09:09:00+00:00",
          "2024-09-23T09:14:00+00:00",
          "2024-09-23T09:16:00+00:00",
          "2024-09-23T09:17:00+00:00",
          "2024-09-23T09:19:00+00:00",
          "2024-09-23T09:20:00+00:00",
          "2024-09-23T09:22:00+00:00",
          "2024-09-23T09:27:00+00:00",
          "2024-09-23T09:29:00+00:00",
          "2024-09-23T09:30:00+00:00",
          "2024-09-23T09:35:00+00:00",
          "2024-09-23T09:39:00+00:00",
          "2024-09-23T09:44:00+00:00",
          "2024-09-23T09:45:00+00:00",
          "2024-09-23T09:46:00+00:00",
          "2024-09-23T09:47:00+00:00",
          "2024-09-23T09:49:00+00:00",
          "2024-09-23T09:50:00+00:00",
          "2024-09-23T09:51:00+00:00",
          "2024-09-23T09:52:00+00:00",
          "2024-09-23T09:53:00+00:00",
          "2024-09-23T09:56:00+00:00",
          "2024-09-23T10:01:00+00:00",
          "2024-09-23T10:03:00+00:00",
          "2024-09-23T10:20:00+00:00",
          "2024-09-23T10:21:00+00:00",
          "2024-09-23T10:22:00+00:00",
          "2024-09-23T10:24:00+00:00",
          "2024-09-23T10:30:00+00:00",
          "2024-09-23T10:31:00+00:00",
          "2024-09-23T10:33:00+00:00",
          "2024-09-23T10:37:00+00:00",
          "2024-09-23T10:49:00+00:00",
          "2024-09-23T10:51:00+00:00",
          "2024-09-23T10:55:00+00:00",
          "2024-09-23T10:58:00+00:00",
          "2024-09-23T10:59:00+00:00",
          "2024-09-23T11:05:00+00:00",
          "2024-09-23T11:07:00+00:00",
          "2024-09-23T11:08:00+00:00",
          "2024-09-23T11:10:00+00:00",
          "2024-09-23T11:11:00+00:00",
          "2024-09-23T11:12:00+00:00",
          "2024-09-23T11:14:00+00:00",
          "2024-09-23T11:18:00+00:00",
          "2024-09-23T11:20:00+00:00",
          "2024-09-23T11:21:00+00:00",
          "2024-09-23T11:22:00+00:00",
          "2024-09-23T11:23:00+00:00",
          "2024-09-23T11:26:00+00:00",
          "2024-09-23T11:27:00+00:00",
          "2024-09-23T11:28:00+00:00",
          "2024-09-23T11:29:00+00:00",
          "2024-09-23T11:31:00+00:00",
          "2024-09-23T11:33:00+00:00",
          "2024-09-23T11:35:00+00:00",
          "2024-09-23T11:40:00+00:00",
          "2024-09-23T11:43:00+00:00",
          "2024-09-23T11:50:00+00:00",
          "2024-09-23T11:52:00+00:00",
          "2024-09-23T11:57:00+00:00",
          "2024-09-23T11:59:00+00:00",
          "2024-09-23T12:01:00+00:00",
          "2024-09-23T12:02:00+00:00",
          "2024-09-23T12:03:00+00:00",
          "2024-09-23T12:04:00+00:00",
          "2024-09-23T12:05:00+00:00",
          "2024-09-23T12:07:00+00:00",
          "2024-09-23T12:08:00+00:00",
          "2024-09-23T12:10:00+00:00",
          "2024-09-23T12:11:00+00:00",
          "2024-09-23T12:12:00+00:00",
          "2024-09-23T12:21:00+00:00",
          "2024-09-23T12:24:00+00:00",
          "2024-09-23T12:36:00+00:00",
          "2024-09-23T12:42:00+00:00",
          "2024-09-23T12:46:00+00:00",
          "2024-09-23T12:48:00+00:00",
          "2024-09-23T12:50:00+00:00",
          "2024-09-23T12:53:00+00:00",
          "2024-09-23T12:57:00+00:00",
          "2024-09-23T12:59:00+00:00",
          "2024-09-23T13:00:00+00:00",
          "2024-09-23T13:04:00+00:00",
          "2024-09-23T13:08:00+00:00",
          "2024-09-23T13:11:00+00:00",
          "2024-09-23T13:15:00+00:00",
          "2024-09-23T13:17:00+00:00",
          "2024-09-23T13:20:00+00:00",
          "2024-09-23T13:25:00+00:00",
          "2024-09-23T13:28:00+00:00",
          "2024-09-23T13:29:00+00:00",
          "2024-09-23T13:31:00+00:00",
          "2024-09-23T13:35:00+00:00",
          "2024-09-23T13:36:00+00:00",
          "2024-09-23T13:41:00+00:00",
          "2024-09-23T13:45:00+00:00",
          "2024-09-23T13:46:00+00:00",
          "2024-09-23T14:08:00+00:00",
          "2024-09-23T14:10:00+00:00",
          "2024-09-23T14:14:00+00:00",
          "2024-09-23T14:20:00+00:00",
          "2024-09-23T14:21:00+00:00",
          "2024-09-23T14:23:00+00:00",
          "2024-09-23T14:41:00+00:00",
          "2024-09-23T14:45:00+00:00",
          "2024-09-23T14:49:00+00:00",
          "2024-09-23T14:52:00+00:00",
          "2024-09-23T14:54:00+00:00",
          "2024-09-23T14:57:00+00:00",
          "2024-09-23T15:15:00+00:00",
          "2024-09-23T15:21:00+00:00",
          "2024-09-23T15:26:00+00:00",
          "2024-09-23T15:32:00+00:00",
          "2024-09-23T15:40:00+00:00",
          "2024-09-23T15:50:00+00:00",
          "2024-09-23T16:08:00+00:00",
          "2024-09-23T16:09:00+00:00",
          "2024-09-23T16:14:00+00:00",
          "2024-09-23T16:18:00+00:00",
          "2024-09-23T16:20:00+00:00",
          "2024-09-23T16:28:00+00:00",
          "2024-09-23T16:30:00+00:00",
          "2024-09-23T16:37:00+00:00",
          "2024-09-23T16:51:00+00:00",
          "2024-09-23T17:05:00+00:00",
          "2024-09-23T17:10:00+00:00",
          "2024-09-23T17:29:00+00:00",
          "2024-09-23T17:36:00+00:00",
          "2024-09-23T18:12:00+00:00",
          "2024-09-23T18:17:00+00:00",
          "2024-09-23T18:28:00+00:00",
          "2024-09-23T19:01:00+00:00",
          "2024-09-23T19:03:00+00:00",
          "2024-09-23T19:07:00+00:00",
          "2024-09-23T19:21:00+00:00",
          "2024-09-23T19:48:00+00:00",
          "2024-09-23T20:55:00+00:00",
          "2024-09-23T21:23:00+00:00",
          "2024-09-23T22:06:00+00:00",
          "2024-09-23T22:31:00+00:00",
          "2024-09-23T22:37:00+00:00",
          "2024-09-23T22:47:00+00:00",
          "2024-09-23T23:10:00+00:00",
          "2024-09-23T23:14:00+00:00",
          "2024-09-23T23:18:00+00:00",
          "2024-09-23T23:46:00+00:00",
          "2024-09-24T00:00:00+00:00",
          "2024-09-24T00:52:00+00:00",
          "2024-09-24T00:58:00+00:00",
          "2024-09-24T01:41:00+00:00",
          "2024-09-24T01:54:00+00:00",
          "2024-09-24T02:19:00+00:00",
          "2024-09-24T02:38:00+00:00",
          "2024-09-24T02:39:00+00:00",
          "2024-09-24T02:48:00+00:00",
          "2024-09-24T02:51:00+00:00",
          "2024-09-24T02:59:00+00:00",
          "2024-09-24T03:12:00+00:00",
          "2024-09-24T03:48:00+00:00",
          "2024-09-24T04:51:00+00:00",
          "2024-09-24T05:29:00+00:00",
          "2024-09-24T05:36:00+00:00",
          "2024-09-24T05:55:00+00:00",
          "2024-09-24T06:07:00+00:00",
          "2024-09-24T06:11:00+00:00",
          "2024-09-24T06:36:00+00:00",
          "2024-09-24T07:09:00+00:00",
          "2024-09-24T07:53:00+00:00",
          "2024-09-24T08:12:00+00:00",
          "2024-09-24T08:39:00+00:00",
          "2024-09-24T08:41:00+00:00",
          "2024-09-24T08:48:00+00:00",
          "2024-09-24T09:13:00+00:00",
          "2024-09-24T09:14:00+00:00",
          "2024-09-24T09:18:00+00:00",
          "2024-09-24T09:19:00+00:00",
          "2024-09-24T09:24:00+00:00",
          "2024-09-24T09:52:00+00:00",
          "2024-09-24T10:00:00+00:00",
          "2024-09-24T10:04:00+00:00",
          "2024-09-24T10:07:00+00:00",
          "2024-09-24T10:26:00+00:00",
          "2024-09-24T10:40:00+00:00",
          "2024-09-24T10:51:00+00:00",
          "2024-09-24T10:57:00+00:00",
          "2024-09-24T11:16:00+00:00",
          "2024-09-24T11:17:00+00:00",
          "2024-09-24T11:26:00+00:00",
          "2024-09-24T11:27:00+00:00",
          "2024-09-24T11:31:00+00:00",
          "2024-09-24T11:40:00+00:00",
          "2024-09-24T11:49:00+00:00",
          "2024-09-24T11:53:00+00:00",
          "2024-09-24T12:01:00+00:00",
          "2024-09-24T12:03:00+00:00",
          "2024-09-24T12:11:00+00:00",
          "2024-09-24T12:27:00+00:00",
          "2024-09-24T12:31:00+00:00",
          "2024-09-24T12:36:00+00:00",
          "2024-09-24T12:37:00+00:00",
          "2024-09-24T12:42:00+00:00",
          "2024-09-24T12:50:00+00:00",
          "2024-09-24T12:54:00+00:00",
          "2024-09-24T12:59:00+00:00",
          "2024-09-24T13:00:00+00:00",
          "2024-09-24T13:03:00+00:00",
          "2024-09-24T13:05:00+00:00",
          "2024-09-24T13:14:00+00:00",
          "2024-09-24T13:22:00+00:00",
          "2024-09-24T13:23:00+00:00",
          "2024-09-24T13:26:00+00:00",
          "2024-09-24T13:28:00+00:00",
          "2024-09-24T13:31:00+00:00",
          "2024-09-24T13:35:00+00:00",
          "2024-09-24T13:45:00+00:00",
          "2024-09-24T13:55:00+00:00",
          "2024-09-24T14:01:00+00:00",
          "2024-09-24T14:04:00+00:00",
          "2024-09-24T14:15:00+00:00",
          "2024-09-24T14:26:00+00:00",
          "2024-09-24T14:33:00+00:00",
          "2024-09-24T14:37:00+00:00",
          "2024-09-24T14:40:00+00:00",
          "2024-09-24T14:52:00+00:00",
          "2024-09-24T15:24:00+00:00",
          "2024-09-24T15:36:00+00:00",
          "2024-09-24T16:02:00+00:00",
          "2024-09-24T23:15:00+00:00",
          "2024-09-24T23:19:00+00:00",
          "2024-09-25T00:19:00+00:00",
          "2024-09-25T01:09:00+00:00",
          "2024-09-25T01:50:00+00:00",
          "2024-09-25T04:55:00+00:00",
          "2024-09-25T05:19:00+00:00",
          "2024-09-25T05:28:00+00:00",
          "2024-09-25T05:48:00+00:00",
          "2024-09-25T07:37:00+00:00",
          "2024-09-25T08:34:00+00:00",
          "2024-09-25T08:45:00+00:00",
          "2024-09-25T09:00:00+00:00",
          "2024-09-25T09:36:00+00:00",
          "2024-09-25T09:56:00+00:00",
          "2024-09-25T10:05:00+00:00",
          "2024-09-25T10:18:00+00:00",
          "2024-09-25T10:24:00+00:00",
          "2024-09-25T10:29:00+00:00",
          "2024-09-25T10:44:00+00:00",
          "2024-09-25T11:01:00+00:00",
          "2024-09-25T11:08:00+00:00",
          "2024-09-25T11:12:00+00:00",
          "2024-09-25T11:26:00+00:00",
          "2024-09-25T11:39:00+00:00",
          "2024-09-25T12:08:00+00:00",
          "2024-09-25T12:14:00+00:00",
          "2024-09-25T12:18:00+00:00",
          "2024-09-25T12:20:00+00:00",
          "2024-09-25T12:31:00+00:00",
          "2024-09-25T12:38:00+00:00",
          "2024-09-25T12:40:00+00:00",
          "2024-09-25T12:42:00+00:00",
          "2024-09-25T12:43:00+00:00",
          "2024-09-25T12:45:00+00:00",
          "2024-09-25T12:46:00+00:00",
          "2024-09-25T12:54:00+00:00",
          "2024-09-25T12:55:00+00:00",
          "2024-09-25T12:58:00+00:00",
          "2024-09-25T13:00:00+00:00",
          "2024-09-25T13:04:00+00:00",
          "2024-09-25T13:05:00+00:00",
          "2024-09-25T13:07:00+00:00",
          "2024-09-25T13:11:00+00:00",
          "2024-09-25T13:15:00+00:00",
          "2024-09-25T13:21:00+00:00",
          "2024-09-25T13:22:00+00:00",
          "2024-09-25T13:23:00+00:00",
          "2024-09-25T13:32:00+00:00",
          "2024-09-25T13:34:00+00:00",
          "2024-09-25T13:47:00+00:00",
          "2024-09-25T13:52:00+00:00",
          "2024-09-25T13:56:00+00:00",
          "2024-09-25T14:27:00+00:00",
          "2024-09-25T14:32:00+00:00",
          "2024-09-25T14:35:00+00:00",
          "2024-09-25T14:59:00+00:00",
          "2024-09-25T15:17:00+00:00",
          "2024-09-25T15:56:00+00:00",
          "2024-09-25T16:39:00+00:00",
          "2024-09-25T18:49:00+00:00",
          "2024-09-25T22:00:00+00:00",
          "2024-09-25T22:21:00+00:00",
          "2024-09-25T23:19:00+00:00",
          "2024-09-26T00:46:00+00:00",
          "2024-09-26T01:43:00+00:00",
          "2024-09-26T03:55:00+00:00",
          "2024-09-26T05:35:00+00:00",
          "2024-09-26T08:43:00+00:00",
          "2024-09-26T09:49:00+00:00",
          "2024-09-26T10:23:00+00:00",
          "2024-09-26T10:38:00+00:00",
          "2024-09-26T11:04:00+00:00",
          "2024-09-26T11:08:00+00:00",
          "2024-09-26T11:20:00+00:00",
          "2024-09-26T11:23:00+00:00",
          "2024-09-26T11:30:00+00:00",
          "2024-09-26T12:55:00+00:00",
          "2024-09-26T12:56:00+00:00",
          "2024-09-26T13:08:00+00:00",
          "2024-09-26T13:14:00+00:00",
          "2024-09-26T13:20:00+00:00",
          "2024-09-26T13:28:00+00:00",
          "2024-09-26T13:41:00+00:00",
          "2024-09-26T13:44:00+00:00",
          "2024-09-26T14:25:00+00:00",
          "2024-09-26T15:30:00+00:00",
          "2024-09-26T16:14:00+00:00",
          "2024-09-26T16:58:00+00:00",
          "2024-09-26T17:24:00+00:00",
          "2024-09-26T20:06:00+00:00",
          "2024-09-27T00:03:00+00:00",
          "2024-09-27T02:28:00+00:00",
          "2024-09-27T02:29:00+00:00",
          "2024-09-27T02:36:00+00:00",
          "2024-09-27T03:58:00+00:00",
          "2024-09-27T04:41:00+00:00",
          "2024-09-27T05:23:00+00:00",
          "2024-09-27T05:31:00+00:00",
          "2024-09-27T06:15:00+00:00",
          "2024-09-27T06:44:00+00:00",
          "2024-09-27T07:48:00+00:00",
          "2024-09-27T09:03:00+00:00",
          "2024-09-27T10:05:00+00:00",
          "2024-09-27T10:17:00+00:00",
          "2024-09-27T10:19:00+00:00",
          "2024-09-27T11:01:00+00:00",
          "2024-09-27T11:26:00+00:00",
          "2024-09-27T11:36:00+00:00",
          "2024-09-27T11:37:00+00:00",
          "2024-09-27T11:41:00+00:00",
          "2024-09-27T12:31:00+00:00",
          "2024-09-27T12:39:00+00:00",
          "2024-09-27T13:00:00+00:00",
          "2024-09-27T13:01:00+00:00",
          "2024-09-27T13:11:00+00:00",
          "2024-09-27T14:33:00+00:00",
          "2024-09-27T15:00:00+00:00",
          "2024-09-27T15:22:00+00:00",
          "2024-09-27T15:44:00+00:00",
          "2024-09-27T15:50:00+00:00",
          "2024-09-27T16:04:00+00:00",
          "2024-09-27T19:35:00+00:00",
          "2024-09-27T19:36:00+00:00",
          "2024-09-28T00:56:00+00:00",
          "2024-09-28T00:58:00+00:00",
          "2024-09-28T01:01:00+00:00",
          "2024-09-28T01:25:00+00:00",
          "2024-09-28T04:00:00+00:00",
          "2024-09-28T04:49:00+00:00",
          "2024-09-28T05:21:00+00:00",
          "2024-09-28T05:36:00+00:00",
          "2024-09-28T06:27:00+00:00",
          "2024-09-28T08:38:00+00:00",
          "2024-09-28T10:00:00+00:00",
          "2024-09-28T10:26:00+00:00",
          "2024-09-28T10:39:00+00:00",
          "2024-09-28T10:48:00+00:00",
          "2024-09-28T12:42:00+00:00",
          "2024-09-28T13:20:00+00:00",
          "2024-09-28T13:23:00+00:00",
          "2024-09-28T15:24:00+00:00",
          "2024-09-28T16:07:00+00:00",
          "2024-09-28T16:46:00+00:00",
          "2024-09-28T16:49:00+00:00",
          "2024-09-28T17:23:00+00:00",
          "2024-09-28T21:22:00+00:00",
          "2024-09-28T21:24:00+00:00",
          "2024-09-28T21:56:00+00:00",
          "2024-09-29T02:12:00+00:00",
          "2024-09-29T02:24:00+00:00",
          "2024-09-29T03:48:00+00:00",
          "2024-09-29T05:59:00+00:00",
          "2024-09-29T07:07:00+00:00",
          "2024-09-29T07:09:00+00:00",
          "2024-09-29T09:04:00+00:00",
          "2024-09-29T10:40:00+00:00",
          "2024-09-29T11:27:00+00:00",
          "2024-09-29T11:48:00+00:00",
          "2024-09-29T14:30:00+00:00",
          "2024-09-29T14:56:00+00:00",
          "2024-09-29T18:02:00+00:00",
          "2024-09-30T02:06:00+00:00",
          "2024-09-30T09:12:00+00:00",
          "2024-09-30T09:22:00+00:00",
          "2024-09-30T09:23:00+00:00",
          "2024-09-30T10:27:00+00:00",
          "2024-09-30T10:37:00+00:00",
          "2024-09-30T10:59:00+00:00",
          "2024-09-30T12:30:00+00:00",
          "2024-09-30T15:47:00+00:00",
          "2024-09-30T16:26:00+00:00",
          "2024-09-30T17:28:00+00:00",
          "2024-09-30T21:53:00+00:00",
          "2024-09-30T23:46:00+00:00",
          "2024-10-01T06:43:00+00:00",
          "2024-10-01T07:35:00+00:00",
          "2024-10-01T09:57:00+00:00",
          "2024-10-01T11:26:00+00:00",
          "2024-10-01T11:43:00+00:00",
          "2024-10-01T11:51:00+00:00",
          "2024-10-01T12:29:00+00:00",
          "2024-10-01T12:39:00+00:00",
          "2024-10-01T13:10:00+00:00",
          "2024-10-01T14:47:00+00:00",
          "2024-10-01T15:03:00+00:00",
          "2024-10-01T16:13:00+00:00",
          "2024-10-01T16:14:00+00:00",
          "2024-10-01T16:30:00+00:00",
          "2024-10-01T16:47:00+00:00",
          "2024-10-01T16:55:00+00:00",
          "2024-10-01T16:56:00+00:00",
          "2024-10-01T17:11:00+00:00",
          "2024-10-01T17:15:00+00:00",
          "2024-10-01T17:21:00+00:00",
          "2024-10-01T17:54:00+00:00",
          "2024-10-01T19:03:00+00:00",
          "2024-10-01T19:12:00+00:00",
          "2024-10-01T20:35:00+00:00",
          "2024-10-01T21:11:00+00:00",
          "2024-10-01T22:20:00+00:00",
          "2024-10-01T23:44:00+00:00",
          "2024-10-02T00:00:00+00:00",
          "2024-10-02T00:58:00+00:00",
          "2024-10-02T01:00:00+00:00",
          "2024-10-02T02:13:00+00:00",
          "2024-10-02T02:16:00+00:00",
          "2024-10-02T02:17:00+00:00",
          "2024-10-02T02:29:00+00:00",
          "2024-10-02T02:32:00+00:00",
          "2024-10-02T03:34:00+00:00",
          "2024-10-02T03:43:00+00:00",
          "2024-10-02T03:51:00+00:00",
          "2024-10-02T04:57:00+00:00",
          "2024-10-02T05:39:00+00:00",
          "2024-10-02T06:15:00+00:00",
          "2024-10-02T06:29:00+00:00",
          "2024-10-02T06:37:00+00:00",
          "2024-10-02T07:10:00+00:00",
          "2024-10-02T09:09:00+00:00",
          "2024-10-02T09:11:00+00:00",
          "2024-10-02T09:16:00+00:00",
          "2024-10-02T10:15:00+00:00",
          "2024-10-02T11:21:00+00:00",
          "2024-10-02T11:58:00+00:00",
          "2024-10-02T12:00:00+00:00",
          "2024-10-02T12:26:00+00:00",
          "2024-10-02T12:46:00+00:00",
          "2024-10-02T13:18:00+00:00",
          "2024-10-02T14:39:00+00:00",
          "2024-10-02T16:04:00+00:00",
          "2024-10-02T16:15:00+00:00",
          "2024-10-02T16:39:00+00:00",
          "2024-10-02T16:46:00+00:00",
          "2024-10-02T16:48:00+00:00",
          "2024-10-02T16:50:00+00:00",
          "2024-10-02T16:52:00+00:00",
          "2024-10-02T17:17:00+00:00",
          "2024-10-02T17:38:00+00:00",
          "2024-10-02T17:59:00+00:00",
          "2024-10-02T18:02:00+00:00",
          "2024-10-02T19:31:00+00:00",
          "2024-10-02T19:39:00+00:00",
          "2024-10-02T21:43:00+00:00",
          "2024-10-02T22:42:00+00:00",
          "2024-10-02T23:54:00+00:00",
          "2024-10-03T00:22:00+00:00",
          "2024-10-03T01:21:00+00:00",
          "2024-10-03T02:45:00+00:00",
          "2024-10-03T02:49:00+00:00",
          "2024-10-03T02:51:00+00:00",
          "2024-10-03T03:18:00+00:00",
          "2024-10-03T03:24:00+00:00",
          "2024-10-03T03:27:00+00:00",
          "2024-10-03T04:10:00+00:00",
          "2024-10-03T04:19:00+00:00",
          "2024-10-03T04:30:00+00:00",
          "2024-10-03T04:37:00+00:00",
          "2024-10-03T04:54:00+00:00",
          "2024-10-03T05:28:00+00:00",
          "2024-10-03T05:30:00+00:00",
          "2024-10-03T05:40:00+00:00",
          "2024-10-03T05:58:00+00:00",
          "2024-10-03T06:42:00+00:00",
          "2024-10-03T06:57:00+00:00",
          "2024-10-03T07:28:00+00:00",
          "2024-10-03T07:30:00+00:00",
          "2024-10-03T08:30:00+00:00",
          "2024-10-03T09:27:00+00:00",
          "2024-10-03T10:48:00+00:00",
          "2024-10-03T11:01:00+00:00",
          "2024-10-03T12:36:00+00:00",
          "2024-10-03T13:00:00+00:00",
          "2024-10-03T13:02:00+00:00",
          "2024-10-03T13:53:00+00:00",
          "2024-10-03T14:01:00+00:00",
          "2024-10-03T14:08:00+00:00",
          "2024-10-03T14:13:00+00:00",
          "2024-10-03T14:16:00+00:00",
          "2024-10-03T15:30:00+00:00",
          "2024-10-03T15:54:00+00:00",
          "2024-10-03T16:37:00+00:00",
          "2024-10-03T16:41:00+00:00",
          "2024-10-03T18:55:00+00:00",
          "2024-10-03T21:37:00+00:00",
          "2024-10-03T21:55:00+00:00",
          "2024-10-03T22:21:00+00:00",
          "2024-10-03T23:16:00+00:00",
          "2024-10-04T00:13:00+00:00",
          "2024-10-04T01:16:00+00:00",
          "2024-10-04T01:42:00+00:00",
          "2024-10-04T01:53:00+00:00",
          "2024-10-04T02:04:00+00:00",
          "2024-10-04T02:31:00+00:00",
          "2024-10-04T02:37:00+00:00",
          "2024-10-04T03:52:00+00:00",
          "2024-10-04T05:19:00+00:00",
          "2024-10-04T06:18:00+00:00",
          "2024-10-04T06:40:00+00:00",
          "2024-10-04T07:17:00+00:00",
          "2024-10-04T07:28:00+00:00",
          "2024-10-04T10:32:00+00:00",
          "2024-10-04T10:43:00+00:00",
          "2024-10-04T11:02:00+00:00",
          "2024-10-04T12:08:00+00:00",
          "2024-10-04T13:02:00+00:00",
          "2024-10-04T13:04:00+00:00",
          "2024-10-04T13:44:00+00:00",
          "2024-10-04T14:43:00+00:00",
          "2024-10-04T15:24:00+00:00",
          "2024-10-04T15:28:00+00:00",
          "2024-10-04T16:36:00+00:00",
          "2024-10-04T17:19:00+00:00",
          "2024-10-04T17:37:00+00:00",
          "2024-10-04T20:16:00+00:00",
          "2024-10-05T01:01:00+00:00",
          "2024-10-05T02:59:00+00:00",
          "2024-10-05T04:07:00+00:00",
          "2024-10-05T05:00:00+00:00",
          "2024-10-05T05:32:00+00:00",
          "2024-10-05T07:26:00+00:00",
          "2024-10-05T07:41:00+00:00",
          "2024-10-05T07:53:00+00:00",
          "2024-10-05T10:14:00+00:00",
          "2024-10-05T10:24:00+00:00",
          "2024-10-05T11:24:00+00:00",
          "2024-10-05T11:50:00+00:00",
          "2024-10-05T12:28:00+00:00",
          "2024-10-05T13:03:00+00:00",
          "2024-10-05T13:27:00+00:00",
          "2024-10-05T13:31:00+00:00",
          "2024-10-05T15:15:00+00:00",
          "2024-10-05T16:08:00+00:00",
          "2024-10-05T17:08:00+00:00",
          "2024-10-06T00:15:00+00:00",
          "2024-10-06T00:51:00+00:00",
          "2024-10-06T05:52:00+00:00",
          "2024-10-06T09:36:00+00:00",
          "2024-10-06T11:56:00+00:00",
          "2024-10-06T13:19:00+00:00",
          "2024-10-06T16:37:00+00:00",
          "2024-10-06T19:47:00+00:00",
          "2024-10-06T23:01:00+00:00",
          "2024-10-07T01:16:00+00:00",
          "2024-10-07T02:20:00+00:00",
          "2024-10-07T03:18:00+00:00",
          "2024-10-07T04:13:00+00:00",
          "2024-10-07T07:03:00+00:00",
          "2024-10-07T08:22:00+00:00",
          "2024-10-07T09:09:00+00:00",
          "2024-10-07T09:34:00+00:00",
          "2024-10-07T10:15:00+00:00",
          "2024-10-07T12:44:00+00:00",
          "2024-10-07T12:55:00+00:00",
          "2024-10-07T16:30:00+00:00",
          "2024-10-07T22:22:00+00:00",
          "2024-10-07T22:56:00+00:00",
          "2024-10-08T02:29:00+00:00",
          "2024-10-08T05:57:00+00:00",
          "2024-10-08T06:40:00+00:00",
          "2024-10-08T07:36:00+00:00",
          "2024-10-08T09:10:00+00:00",
          "2024-10-08T13:44:00+00:00",
          "2024-10-08T15:06:00+00:00",
          "2024-10-08T16:04:00+00:00",
          "2024-10-08T17:44:00+00:00",
          "2024-10-09T02:05:00+00:00",
          "2024-10-09T03:08:00+00:00",
          "2024-10-09T04:42:00+00:00",
          "2024-10-09T05:43:00+00:00",
          "2024-10-09T06:47:00+00:00",
          "2024-10-09T07:47:00+00:00",
          "2024-10-09T09:51:00+00:00",
          "2024-10-09T11:10:00+00:00",
          "2024-10-09T13:08:00+00:00",
          "2024-10-09T14:52:00+00:00",
          "2024-10-09T15:00:00+00:00",
          "2024-10-09T15:04:00+00:00",
          "2024-10-09T15:08:00+00:00",
          "2024-10-09T15:16:00+00:00",
          "2024-10-09T15:17:00+00:00",
          "2024-10-09T15:27:00+00:00",
          "2024-10-09T15:29:00+00:00",
          "2024-10-09T16:05:00+00:00",
          "2024-10-09T19:08:00+00:00",
          "2024-10-09T21:08:00+00:00",
          "2024-10-09T21:30:00+00:00",
          "2024-10-10T00:20:00+00:00",
          "2024-10-10T01:10:00+00:00"
         ],
         "xaxis": "x",
         "y": [
          0.6038839817047119,
          0.47867298126220703,
          0.6651702523231506,
          0.4616710841655731,
          0.5117530822753906,
          0.8812869191169739,
          0.7998373508453369,
          0.41327738761901855,
          0.48604634404182434,
          0.5841531753540039,
          0.5301676988601685,
          0.5325643420219421,
          0.4309678375720978,
          0.6104758381843567,
          0.6804435849189758,
          0.5306639075279236,
          0.5123255848884583,
          0.5191423296928406,
          0.5377163887023926,
          0.5873568058013916,
          0.49320074915885925,
          0.6355754137039185,
          0.5318599343299866,
          0.5506946444511414,
          0.5089477896690369,
          0.4369947016239166,
          0.4616348445415497,
          0.4884549379348755,
          0.580930769443512,
          0.3689216673374176,
          0.46154072880744934,
          0.6243802309036255,
          0.7905211448669434,
          0.5799171924591064,
          0.5446224808692932,
          0.6891207695007324,
          0.8747107982635498,
          0.9436502456665039,
          0.6921809911727905,
          0.8993020057678223,
          0.6460651755332947,
          0.942544162273407,
          0.8713084161281586,
          0.6620046496391296,
          0.7396665811538696,
          0.7515998184680939,
          0.43616628646850586,
          0.8525205850601196,
          0.4507494568824768,
          0.9331149458885193,
          0.938846230506897,
          0.9380580186843872,
          0.778937041759491,
          0.6089714169502258,
          0.4343971312046051,
          0.5782963037490845,
          0.3708031177520752,
          0.927847683429718,
          0.5932110548019409,
          0.4454672336578369,
          0.9079644083976746,
          0.4414029121398926,
          0.4414029121398926,
          0.4151933789253235,
          0.7954409122467041,
          0.8816211223602295,
          0.5365082025527954,
          0.4763457179069519,
          0.5747050642967224,
          0.5874612331390381,
          0.8340237140655518,
          0.5244988203048706,
          0.41150030493736267,
          0.35726258158683777,
          0.761222779750824,
          0.45082688331604004,
          0.6413230299949646,
          0.4140467941761017,
          0.4573327302932739,
          0.5092426538467407,
          0.4468192458152771,
          0.8069066405296326,
          0.7155333161354065,
          0.5360050201416016,
          0.5616133809089661,
          0.6666714549064636,
          0.9319285154342651,
          0.4067690968513489,
          0.7974246740341187,
          0.41083675622940063,
          0.9376319050788879,
          0.48517951369285583,
          0.5845749974250793,
          0.5989341139793396,
          0.8693364262580872,
          0.7613247036933899,
          0.894930899143219,
          0.4827456772327423,
          0.45376503467559814,
          0.6777509450912476,
          0.7834855318069458,
          0.4023647904396057,
          0.5399937629699707,
          0.6521387696266174,
          0.4518762528896332,
          0.6202693581581116,
          0.5293984413146973,
          0.4401107728481293,
          0.7675278186798096,
          0.35569339990615845,
          0.5379159450531006,
          0.6589135527610779,
          0.5717471241950989,
          0.40500712394714355,
          0.7765250205993652,
          0.5304211378097534,
          0.42604586482048035,
          0.4290202856063843,
          0.5443680882453918,
          0.5053512454032898,
          0.6314332485198975,
          0.488424688577652,
          0.708766758441925,
          0.4198452830314636,
          0.6243371963500977,
          0.4051057696342468,
          0.5790281295776367,
          0.5293784141540527,
          0.5508877038955688,
          0.6234279423952103,
          0.6977917551994324,
          0.6986343860626221,
          0.536257266998291,
          0.572425365447998,
          0.4331293851137161,
          0.4283200204372406,
          0.4998951852321625,
          0.7384951114654541,
          0.9097861647605896,
          0.4665427803993225,
          0.8459746241569519,
          0.6757407188415527,
          0.4148818552494049,
          0.4341751039028168,
          0.5212430953979492,
          0.513034462928772,
          0.7885305285453796,
          0.6156337261199951,
          0.5636008381843567,
          0.6048429757356644,
          0.692738950252533,
          0.6644574254751205,
          0.8943232297897339,
          0.5161800235509872,
          0.6119424104690552,
          0.6240796446800232,
          0.5045551657676697,
          0.4730982631444931,
          0.4100792109966278,
          0.4979519546031952,
          0.6880714893341064,
          0.5369307994842529,
          0.6559336185455322,
          0.46058329939842224,
          0.3992243707180023,
          0.6474754214286804,
          0.5415471295515696,
          0.7009102702140808,
          0.9276136755943298,
          0.5438886483510336,
          0.5151397585868835,
          0.45565101504325867,
          0.602254331111908,
          0.6939637064933777,
          0.578927218914032,
          0.5969895124435425,
          0.5060654878616333,
          0.4570220708847046,
          0.43145860731601715,
          0.4592987596988678,
          0.39498040080070496,
          0.6706285178661346,
          0.4576263576745987,
          0.47872859239578247,
          0.5881300270557404,
          0.5524547100067139,
          0.46975386142730713,
          0.4403649866580963,
          0.5765050649642944,
          0.5229531526565552,
          0.5237230956554413,
          0.580420732498169,
          0.5005562007427216,
          0.4662603735923767,
          0.5330958962440491,
          0.4055168032646179,
          0.611418604850769,
          0.3795554041862488,
          0.4302487075328827,
          0.6817762851715088,
          0.4749227464199066,
          0.5482424795627594,
          0.5060168951749802,
          0.6127056082089742,
          0.49694228172302246,
          0.6979835331439972,
          0.4052370488643646,
          0.4924269914627075,
          0.460569828748703,
          0.5400046110153198,
          0.5479593276977539,
          0.48345643281936646,
          0.5291844457387924,
          0.43232041597366333,
          0.5049236416816711,
          0.5111850599447886,
          0.44659051299095154,
          0.471269428730011,
          0.6400031447410583,
          0.49500587582588196,
          0.4980563819408417,
          0.603222131729126,
          0.4383818209171295,
          0.4982989728450775,
          0.4591466784477234,
          0.4357158839702606,
          0.47212815284729004,
          0.5902291536331177,
          0.6014130711555481,
          0.6464940309524536,
          0.6265312433242798,
          0.7887376546859741,
          0.5252217054367065,
          0.6224828958511353,
          0.9360420107841492,
          0.4559980630874634,
          0.6999102085828781,
          0.6221726536750793,
          0.4929615259170532,
          0.7346202731132507,
          0.5842714756727219,
          0.5183115303516388,
          0.7166333198547363,
          0.4190636873245239,
          0.9613491892814636,
          0.5442132949829102,
          0.7543043494224548,
          0.7399063110351562,
          0.5504482388496399,
          0.4253048896789551,
          0.5034639984369278,
          0.6350502371788025,
          0.4048169255256653,
          0.4704929192860921,
          0.6937683671712875,
          0.4007626473903656,
          0.503025472164154,
          0.631937563419342,
          0.5441558957099915,
          0.5968912541866302,
          0.5209793647130331,
          0.5572952032089233,
          0.705595850944519,
          0.5398468375205994,
          0.4642557203769684,
          0.6363165378570557,
          0.44202959537506104,
          0.6601163148880005,
          0.6397668123245239,
          0.6569281816482544,
          0.7439966201782227,
          0.7321457266807556,
          0.3896937221288681,
          0.7489132285118103,
          0.6524927417437235,
          0.6640942096710205,
          0.4138740599155426,
          0.6915691494941711,
          0.6151840686798096,
          0.7371249794960022,
          0.6187199801206589,
          0.5306005477905273,
          0.4704049825668335,
          0.4513608515262604,
          0.47815924882888794,
          0.39751431345939636,
          0.4723737835884094,
          0.4202694296836853,
          0.5523057579994202,
          0.6146824955940247,
          0.5958222150802612,
          0.8429198861122131,
          0.8097856044769287,
          0.812222957611084,
          0.4160236716270447,
          0.6557103395462036,
          0.6022151112556458,
          0.4162413775920868,
          0.4224107563495636,
          0.5959983468055725,
          0.8158321976661682,
          0.5340524911880493,
          0.3941919505596161,
          0.5410780906677246,
          0.7130579352378845,
          0.5003763437271118,
          0.6407418847084045,
          0.5982263684272766,
          0.5718199610710144,
          0.8616138696670532,
          0.6617664098739624,
          0.6113817691802979,
          0.7265164256095886,
          0.6107434034347534,
          0.5957932472229004,
          0.6096873879432678,
          0.6273700594902039,
          0.4896908402442932,
          0.3663007616996765,
          0.4868524670600891,
          0.43339288234710693,
          0.5744837522506714,
          0.5501515865325928,
          0.8779945373535156,
          0.9554464817047119,
          0.8831481337547302,
          0.42171457409858704,
          0.575528085231781,
          0.5231541991233826,
          0.49935877323150635,
          0.5348072052001953,
          0.5392612218856812,
          0.6075272560119629,
          0.5879632234573364,
          0.5592519640922546,
          0.5824562907218933,
          0.48801279067993164,
          0.7795249223709106,
          0.5700613260269165,
          0.8776136636734009,
          0.45777031779289246,
          0.847887396812439,
          0.7783284187316895,
          0.63246089220047,
          0.610156238079071,
          0.9282314777374268,
          0.6717730164527893,
          0.9345439672470093,
          0.8247389793395996,
          0.4016999900341034,
          0.38700467348098755,
          0.5405524969100952,
          0.8018346428871155,
          0.7721238136291504,
          0.9111617803573608,
          0.6098816990852356,
          0.5928462743759155,
          0.46673494577407837,
          0.6372321844100952,
          0.5552219748497009,
          0.545712411403656,
          0.5853146314620972,
          0.7091167569160461,
          0.697769045829773,
          0.45089974999427795,
          0.7234048247337341,
          0.5879632234573364,
          0.5253149271011353,
          0.47021204233169556,
          0.48885002732276917,
          0.5004347115755081,
          0.5305179953575134,
          0.4694637358188629,
          0.5005224943161011,
          0.8060444593429565,
          0.6667117476463318,
          0.4312171936035156,
          0.8435604572296143,
          0.6411908864974976,
          0.5365546941757202,
          0.49006471037864685,
          0.5039321780204773,
          0.5783387422561646,
          0.837003767490387,
          0.3963014483451843,
          0.5638748407363892,
          0.6007390022277832,
          0.5606359243392944,
          0.8954344391822815,
          0.5038207769393921,
          0.8077953457832336,
          0.5298503041267395,
          0.5816791653633118,
          0.608376145362854,
          0.5439885258674622,
          0.7875028550624847,
          0.973546028137207,
          0.8055864572525024,
          0.5392345786094666,
          0.6432148218154907,
          0.6983238657315572,
          0.35101717710494995,
          0.644599974155426,
          0.5642952919006348,
          0.7828758358955383,
          0.743175208568573,
          0.4445294141769409,
          0.47410884499549866,
          0.4599996507167816,
          0.5523588359355927,
          0.6037021279335022,
          0.6098591089248657,
          0.5458720326423645,
          0.7450588345527649,
          0.4732343554496765,
          0.5992990732192993,
          0.5718948841094971,
          0.7653037905693054,
          0.6053760051727295,
          0.4554497301578522,
          0.6209427416324615,
          0.6976999938488007,
          0.5647393465042114,
          0.5724488720297813,
          0.7256260514259338,
          0.7281199991703033,
          0.48294779658317566,
          0.5207458883523941,
          0.6375003010034561,
          0.5204113324483236,
          0.7824196219444275,
          0.5154770016670227,
          0.4596976041793823,
          0.6632839441299438,
          0.6696835160255432,
          0.6202964782714844,
          0.8080542087554932,
          0.45313870906829834,
          0.8803024291992188,
          0.5010816007852554,
          0.4942861795425415,
          0.3919115960597992,
          0.6955196857452393,
          0.5845743715763092,
          0.5363315045833588,
          0.5727716684341431,
          0.6314782500267029,
          0.607891321182251,
          0.6490073800086975,
          0.48528677225112915,
          0.883674144744873,
          0.5729796886444092,
          0.39904943108558655,
          0.5066222250461578,
          0.593177080154419,
          0.4816264808177948,
          0.8992027640342712,
          0.41995808482170105,
          0.5314041376113892,
          0.49193641543388367,
          0.45647522807121277,
          0.5719517469406128,
          0.847224235534668,
          0.5256469696760178,
          0.5720536112785339,
          0.49337655305862427,
          0.5266637206077576,
          0.7557472288608551,
          0.6870254874229431,
          0.7762277722358704,
          0.48490574955940247,
          0.3730907440185547,
          0.5715829730033875,
          0.4374110996723175,
          0.6874948024749756,
          0.4959087073802948,
          0.8069384098052979,
          0.7736484706401825,
          0.5892462730407715,
          0.5448603630065918,
          0.705447793006897,
          0.4144035279750824,
          0.4337449371814728,
          0.5743343681097031,
          0.5970273613929749,
          0.6637516617774963,
          0.5952497124671936,
          0.4378351867198944,
          0.8084160685539246,
          0.9457945823669434,
          0.6378939151763916,
          0.47774824500083923,
          0.4056834578514099,
          0.5869517475366592,
          0.5099648237228394,
          0.8776841759681702,
          0.612350344657898,
          0.5347687005996704,
          0.44571974873542786,
          0.784221351146698,
          0.6911446452140808,
          0.6175670027732849,
          0.46315500140190125,
          0.6007390022277832,
          0.5952367782592773,
          0.3991466760635376,
          0.5623964071273804,
          0.6038198471069336,
          0.45948103070259094,
          0.48365917801856995,
          0.3689216673374176,
          0.5091086626052856,
          0.48294779658317566,
          0.4468667805194855,
          0.38374441862106323,
          0.7135717272758484,
          0.44210219383239746,
          0.47173812985420227,
          0.5448302626609802,
          0.43243372440338135,
          0.5388998627662659,
          0.6038209199905396,
          0.604119598865509,
          0.7923576235771179,
          0.4856559932231903,
          0.44036999344825745,
          0.6573978662490845,
          0.4496079087257385,
          0.5453833341598511,
          0.5677075386047363,
          0.7055311799049377,
          0.7709985971450806,
          0.4444066286087036,
          0.4171963036060333,
          0.6325328946113586,
          0.6556138098239899,
          0.867110013961792,
          0.7303217649459839,
          0.5580863952636719,
          0.4303589463233948,
          0.5211423635482788,
          0.6884037256240845,
          0.8471174836158752,
          0.6798083186149597,
          0.4405806362628937,
          0.37805578112602234,
          0.8085348606109619,
          0.6193075180053711,
          0.5641574859619141,
          0.9024903178215027,
          0.6483964323997498,
          0.5127131938934326,
          0.45796990394592285,
          0.9243822693824768,
          0.6136978268623352,
          0.6530206799507141,
          0.4380705654621124,
          0.5246250629425049,
          0.6454209089279175,
          0.5850396156311035,
          0.7802876234054565,
          0.4892638027667999,
          0.7847945690155029,
          0.6485897898674011,
          0.5714011788368225,
          0.6479219794273376,
          0.5100771188735962,
          0.5041503310203552,
          0.469060480594635,
          0.7851603031158447,
          0.7468727231025696,
          0.552315354347229,
          0.6039138436317444,
          0.5097628831863403,
          0.48294779658317566,
          0.5921115875244141,
          0.5880228281021118,
          0.49588078260421753,
          0.38673850893974304,
          0.8087630867958069,
          0.7558555006980896,
          0.9168842434883118,
          0.5717791318893433,
          0.725860059261322,
          0.561320960521698,
          0.504427433013916,
          0.48082685470581055,
          0.7069223523139954,
          0.6035186648368835,
          0.4670916795730591,
          0.4427643120288849,
          0.44848352670669556,
          0.389111191034317,
          0.5057479739189148,
          0.4302608072757721,
          0.84124755859375,
          0.6742581923802694,
          0.4302608072757721,
          0.593856930732727,
          0.6275486350059509,
          0.4340982437133789,
          0.6128883957862854,
          0.6234195828437805,
          0.5670734643936157,
          0.3848034739494324,
          0.47835013270378113,
          0.523457944393158,
          0.43523067235946655,
          0.4968559145927429,
          0.5972620248794556,
          0.40369823575019836,
          0.41491544246673584,
          0.6027266383171082,
          0.5022256970405579,
          0.4633772373199463,
          0.5402604341506958,
          0.6315151751041412,
          0.4102076292037964,
          0.599285364151001,
          0.958277702331543,
          0.8190664052963257,
          0.6578562259674072,
          0.4199700653553009,
          0.46746522188186646,
          0.5662855505943298,
          0.6122791767120361,
          0.4312337040901184,
          0.579712986946106,
          0.4914856255054474,
          0.5731247663497925,
          0.5154657959938049,
          0.950642466545105,
          0.5500214397907257,
          0.4286123812198639,
          0.5916450023651123,
          0.4371735155582428,
          0.6913132667541504,
          0.8199856281280518,
          0.3933672308921814,
          0.46502751111984253,
          0.4518100321292877,
          0.7502574920654297,
          0.9034489989280701,
          0.5563647747039795,
          0.5154383778572083,
          0.7381603717803955,
          0.7355128526687622,
          0.40035566687583923,
          0.6740444302558899,
          0.4378255605697632,
          0.6582282185554504,
          0.6199774146080017,
          0.44278112053871155,
          0.40929797291755676,
          0.5814900398254395,
          0.5365126729011536,
          0.6175134778022766,
          0.9515715837478638,
          0.6324315071105957,
          0.656692624092102,
          0.715236246585846,
          0.4472215175628662,
          0.5582166314125061,
          0.9257267117500305,
          0.8087995052337646,
          0.41376394033432007,
          0.4521772563457489,
          0.43456241488456726,
          0.5663415789604187,
          0.4131704568862915,
          0.3576410412788391,
          0.8947640657424927,
          0.6731137633323669,
          0.6707048267126083,
          0.7661338448524475,
          0.8026653528213501,
          0.5650785565376282,
          0.9291819334030151,
          0.8075276017189026,
          0.5090602040290833,
          0.8035826086997986,
          0.8607668280601501,
          0.6562710404396057,
          0.6542877554893494,
          0.6163714528083801,
          0.6865786910057068,
          0.6096358001232147,
          0.9411307573318481,
          0.5081802606582642,
          0.5613700747489929,
          0.8515539765357971,
          0.5199201703071594,
          0.3915437161922455,
          0.44229407608509064,
          0.5945275624593099,
          0.4242791533470154,
          0.7601912021636963,
          0.5107479691505432,
          0.5591902732849121,
          0.6664533019065857,
          0.5261768698692322,
          0.5749807953834534,
          0.4063844680786133,
          0.4055032432079315,
          0.7809658646583557,
          0.8843791484832764,
          0.505678117275238,
          0.4742864668369293,
          0.7441714406013489,
          0.46236640214920044,
          0.530180037021637,
          0.5037605166435242,
          0.5759073495864868,
          0.5904618501663208,
          0.6040908694267273,
          0.766041100025177,
          0.5410161018371582,
          0.6216054558753967,
          0.6503576040267944,
          0.6737338304519653,
          0.4319627285003662,
          0.5935981273651123,
          0.5806488394737244,
          0.6187819838523865,
          0.7421540319919586,
          0.6640928983688354,
          0.5143637657165527,
          0.9361982941627502,
          0.7879068851470947,
          0.46321603655815125,
          0.5272637605667114,
          0.5470089912414551,
          0.8660281300544739,
          0.7394800384839376,
          0.5452619194984436,
          0.4679279625415802,
          0.8908395171165466,
          0.540429413318634,
          0.5989266037940979,
          0.5104325413703918,
          0.5072797536849976,
          0.7181457877159119,
          0.4246777296066284,
          0.429800808429718,
          0.721136212348938,
          0.7396636009216309,
          0.4923708140850067,
          0.47931861877441406,
          0.8227532505989075,
          0.7523963451385498,
          0.48973551392555237,
          0.591576099395752,
          0.5269097089767456,
          0.7622288465499878,
          0.721968948841095,
          0.4551137685775757,
          0.6574788093566895,
          0.7502050399780273,
          0.6229574084281921,
          0.7786917686462402,
          0.8937713503837585,
          0.5901257395744324,
          0.40507063269615173,
          0.521367609500885,
          0.5169603228569031,
          0.4883589446544647,
          0.7118489742279053,
          0.5330244898796082,
          0.6091644167900085,
          0.5260297060012817,
          0.5669990181922913,
          0.9219229221343994,
          0.7539407014846802,
          0.6885899901390076,
          0.5928164720535278,
          0.8161828517913818,
          0.6712676882743835,
          0.5794400572776794,
          0.4912358820438385,
          0.5620375275611877,
          0.4370361268520355,
          0.431125670671463,
          0.5092023611068726,
          0.5262601375579834,
          0.39509060978889465,
          0.415917307138443,
          0.6646566987037659,
          0.5980689525604248,
          0.6774435043334961,
          0.5514284372329712,
          0.6721556782722473,
          0.418366938829422,
          0.5107070207595825,
          0.43137818574905396,
          0.9651128053665161,
          0.6044896245002747,
          0.520725667476654,
          0.9212521314620972,
          0.42530661821365356,
          0.38299936056137085,
          0.5692890882492065,
          0.9694339632987976,
          0.8707287907600403,
          0.38632646203041077,
          0.5439243912696838,
          0.4629772901535034,
          0.5094382762908936,
          0.5320950746536255,
          0.7540737390518188,
          0.5605222582817078,
          0.5996853113174438,
          0.5253769159317017,
          0.5416737198829651,
          0.8575080037117004,
          0.4473409056663513,
          0.3982974588871002,
          0.6174538135528564,
          0.43498700857162476,
          0.6703813672065735,
          0.619651198387146,
          0.7843459248542786,
          0.4004180431365967,
          0.8519039750099182,
          0.9667050242424011,
          0.7100386619567871,
          0.7286758422851562,
          0.577113926410675,
          0.49776914715766907,
          0.4808252453804016,
          0.9304130673408508,
          0.40809208154678345,
          0.5873998999595642,
          0.782558262348175,
          0.6024948954582214,
          0.581210196018219,
          0.48582398891448975,
          0.4961960017681122,
          0.5671281218528748,
          0.5502653121948242,
          0.5094885230064392,
          0.6131963133811951,
          0.48301151394844055,
          0.5479409098625183,
          0.6966502666473389,
          0.570314347743988,
          0.7368898391723633,
          0.5119023323059082,
          0.6000663042068481,
          0.5249167680740356,
          0.8619974851608276,
          0.5323076844215393,
          0.5766280889511108,
          0.7210687398910522,
          0.7171088457107544,
          0.5662506222724915,
          0.8608816266059875,
          0.5653665661811829,
          0.6951118111610413,
          0.7277432084083557,
          0.44589507579803467,
          0.5284988284111023,
          0.43281176686286926,
          0.9093018770217896,
          0.749884307384491,
          0.5926586985588074,
          0.5261180400848389,
          0.5703858137130737,
          0.5976586937904358,
          0.46287715435028076,
          0.4838191270828247,
          0.7062235474586487,
          0.530847430229187,
          0.46860888600349426,
          0.7269250154495239,
          0.8402422666549683,
          0.40020236372947693,
          0.44664669036865234,
          0.684785783290863,
          0.9690659642219543,
          0.38679468631744385,
          0.7446954846382141,
          0.40621185302734375,
          0.7207203507423401,
          0.446140855550766,
          0.47939690947532654,
          0.5465144515037537,
          0.8040657639503479,
          0.9545134902000427,
          0.5791490375995636,
          0.8767275214195251,
          0.5827586650848389,
          0.9533776640892029,
          0.6389470100402832,
          0.44163259863853455,
          0.5592058300971985,
          0.8278642892837524,
          0.6120390594005585,
          0.5822564363479614,
          0.8293757438659668,
          0.5461110472679138,
          0.7574687600135803,
          0.4160507023334503,
          0.6754676103591919,
          0.7994571328163147,
          0.6972865462303162,
          0.8224138617515564,
          0.4489956796169281,
          0.43238455057144165,
          0.7755904793739319,
          0.49916180968284607,
          0.6320459842681885,
          0.4881702959537506,
          0.5996823310852051,
          0.8220064043998718,
          0.45958900451660156,
          0.41402754187583923,
          0.716018557548523,
          0.5367510914802551,
          0.9225672483444214,
          0.9242281317710876,
          0.5922918319702148,
          0.7065626978874207,
          0.804591178894043,
          0.4373624920845032,
          0.49163946509361267,
          0.6529942154884338,
          0.5935948491096497,
          0.8587700724601746,
          0.4674109071493149,
          0.5092498064041138,
          0.636880099773407,
          0.48661109805107117,
          0.46970221400260925,
          0.3984396755695343,
          0.48569008708000183,
          0.5138810873031616,
          0.5807919502258301,
          0.7214968204498291,
          0.4679771363735199,
          0.6967191696166992,
          0.5022717714309692,
          0.5813137888908386,
          0.7500811815261841,
          0.541167676448822,
          0.6204709410667419,
          0.9517666697502136,
          0.41869378089904785,
          0.46918755769729614,
          0.8703833818435669,
          0.6378318071365356,
          0.41286346316337585,
          0.48729977011680603,
          0.8950195908546448,
          0.5417978763580322,
          0.6246676445007324,
          0.6159601807594299,
          0.6038286685943604,
          0.46838173270225525,
          0.9812350869178772,
          0.43536415696144104,
          0.46731990575790405,
          0.5620313286781311,
          0.8562714457511902,
          0.9054670333862305,
          0.5589624643325806,
          0.5810001492500305,
          0.6290618181228638,
          0.6599113941192627,
          0.5969851613044739,
          0.5542303323745728,
          0.4591456651687622,
          0.4619878828525543,
          0.6139182448387146,
          0.6975789666175842,
          0.8560792803764343,
          0.6761490106582642,
          0.49157750606536865,
          0.5791859030723572,
          0.5161730051040649,
          0.8139408826828003,
          0.6265286803245544,
          0.4921022951602936,
          0.742436945438385,
          0.5767878293991089,
          0.6521209478378296,
          0.7177253365516663,
          0.4585624635219574,
          0.5640085339546204,
          0.38991469144821167,
          0.705183207988739,
          0.8712623715400696,
          0.6025490164756775,
          0.5688600540161133,
          0.6638351082801819,
          0.7870871424674988,
          0.8694341778755188,
          0.7188377976417542,
          0.534719705581665,
          0.4628831446170807,
          0.6674728393554688,
          0.7473376393318176,
          0.5161458849906921,
          0.5380675792694092,
          0.5615359544754028,
          0.46801137924194336,
          0.4651274085044861,
          0.6373591423034668,
          0.5813454389572144,
          0.6301981806755066,
          0.47270944714546204,
          0.5703836679458618,
          0.8586248755455017,
          0.47018152475357056,
          0.5345150232315063,
          0.5992210308710734,
          0.7381165027618408,
          0.5642617344856262,
          0.6417533159255981,
          0.5924780964851379,
          0.409065842628479,
          0.6459749341011047,
          0.8527123332023621,
          0.5052995681762695,
          0.5418853163719177,
          0.4895700216293335,
          0.5189386010169983,
          0.6998464465141296,
          0.6757405996322632,
          0.557112455368042,
          0.9466269016265869,
          0.5428995490074158,
          0.7074417471885681,
          0.8587087988853455,
          0.6607192754745483,
          0.8181844353675842,
          0.6747496724128723
         ],
         "yaxis": "y",
         "type": "scattergl"
        }
       ],
       "layout": {
        "template": {
         "data": {
          "histogram2dcontour": [
           {
            "type": "histogram2dcontour",
            "colorbar": {
             "outlinewidth": 0,
             "ticks": ""
            },
            "colorscale": [
             [
              0.0,
              "#0d0887"
             ],
             [
              0.1111111111111111,
              "#46039f"
             ],
             [
              0.2222222222222222,
              "#7201a8"
             ],
             [
              0.3333333333333333,
              "#9c179e"
             ],
             [
              0.4444444444444444,
              "#bd3786"
             ],
             [
              0.5555555555555556,
              "#d8576b"
             ],
             [
              0.6666666666666666,
              "#ed7953"
             ],
             [
              0.7777777777777778,
              "#fb9f3a"
             ],
             [
              0.8888888888888888,
              "#fdca26"
             ],
             [
              1.0,
              "#f0f921"
             ]
            ]
           }
          ],
          "choropleth": [
           {
            "type": "choropleth",
            "colorbar": {
             "outlinewidth": 0,
             "ticks": ""
            }
           }
          ],
          "histogram2d": [
           {
            "type": "histogram2d",
            "colorbar": {
             "outlinewidth": 0,
             "ticks": ""
            },
            "colorscale": [
             [
              0.0,
              "#0d0887"
             ],
             [
              0.1111111111111111,
              "#46039f"
             ],
             [
              0.2222222222222222,
              "#7201a8"
             ],
             [
              0.3333333333333333,
              "#9c179e"
             ],
             [
              0.4444444444444444,
              "#bd3786"
             ],
             [
              0.5555555555555556,
              "#d8576b"
             ],
             [
              0.6666666666666666,
              "#ed7953"
             ],
             [
              0.7777777777777778,
              "#fb9f3a"
             ],
             [
              0.8888888888888888,
              "#fdca26"
             ],
             [
              1.0,
              "#f0f921"
             ]
            ]
           }
          ],
          "heatmap": [
           {
            "type": "heatmap",
            "colorbar": {
             "outlinewidth": 0,
             "ticks": ""
            },
            "colorscale": [
             [
              0.0,
              "#0d0887"
             ],
             [
              0.1111111111111111,
              "#46039f"
             ],
             [
              0.2222222222222222,
              "#7201a8"
             ],
             [
              0.3333333333333333,
              "#9c179e"
             ],
             [
              0.4444444444444444,
              "#bd3786"
             ],
             [
              0.5555555555555556,
              "#d8576b"
             ],
             [
              0.6666666666666666,
              "#ed7953"
             ],
             [
              0.7777777777777778,
              "#fb9f3a"
             ],
             [
              0.8888888888888888,
              "#fdca26"
             ],
             [
              1.0,
              "#f0f921"
             ]
            ]
           }
          ],
          "heatmapgl": [
           {
            "type": "heatmapgl",
            "colorbar": {
             "outlinewidth": 0,
             "ticks": ""
            },
            "colorscale": [
             [
              0.0,
              "#0d0887"
             ],
             [
              0.1111111111111111,
              "#46039f"
             ],
             [
              0.2222222222222222,
              "#7201a8"
             ],
             [
              0.3333333333333333,
              "#9c179e"
             ],
             [
              0.4444444444444444,
              "#bd3786"
             ],
             [
              0.5555555555555556,
              "#d8576b"
             ],
             [
              0.6666666666666666,
              "#ed7953"
             ],
             [
              0.7777777777777778,
              "#fb9f3a"
             ],
             [
              0.8888888888888888,
              "#fdca26"
             ],
             [
              1.0,
              "#f0f921"
             ]
            ]
           }
          ],
          "contourcarpet": [
           {
            "type": "contourcarpet",
            "colorbar": {
             "outlinewidth": 0,
             "ticks": ""
            }
           }
          ],
          "contour": [
           {
            "type": "contour",
            "colorbar": {
             "outlinewidth": 0,
             "ticks": ""
            },
            "colorscale": [
             [
              0.0,
              "#0d0887"
             ],
             [
              0.1111111111111111,
              "#46039f"
             ],
             [
              0.2222222222222222,
              "#7201a8"
             ],
             [
              0.3333333333333333,
              "#9c179e"
             ],
             [
              0.4444444444444444,
              "#bd3786"
             ],
             [
              0.5555555555555556,
              "#d8576b"
             ],
             [
              0.6666666666666666,
              "#ed7953"
             ],
             [
              0.7777777777777778,
              "#fb9f3a"
             ],
             [
              0.8888888888888888,
              "#fdca26"
             ],
             [
              1.0,
              "#f0f921"
             ]
            ]
           }
          ],
          "surface": [
           {
            "type": "surface",
            "colorbar": {
             "outlinewidth": 0,
             "ticks": ""
            },
            "colorscale": [
             [
              0.0,
              "#0d0887"
             ],
             [
              0.1111111111111111,
              "#46039f"
             ],
             [
              0.2222222222222222,
              "#7201a8"
             ],
             [
              0.3333333333333333,
              "#9c179e"
             ],
             [
              0.4444444444444444,
              "#bd3786"
             ],
             [
              0.5555555555555556,
              "#d8576b"
             ],
             [
              0.6666666666666666,
              "#ed7953"
             ],
             [
              0.7777777777777778,
              "#fb9f3a"
             ],
             [
              0.8888888888888888,
              "#fdca26"
             ],
             [
              1.0,
              "#f0f921"
             ]
            ]
           }
          ],
          "mesh3d": [
           {
            "type": "mesh3d",
            "colorbar": {
             "outlinewidth": 0,
             "ticks": ""
            }
           }
          ],
          "scatter": [
           {
            "fillpattern": {
             "fillmode": "overlay",
             "size": 10,
             "solidity": 0.2
            },
            "type": "scatter"
           }
          ],
          "parcoords": [
           {
            "type": "parcoords",
            "line": {
             "colorbar": {
              "outlinewidth": 0,
              "ticks": ""
             }
            }
           }
          ],
          "scatterpolargl": [
           {
            "type": "scatterpolargl",
            "marker": {
             "colorbar": {
              "outlinewidth": 0,
              "ticks": ""
             }
            }
           }
          ],
          "bar": [
           {
            "error_x": {
             "color": "#2a3f5f"
            },
            "error_y": {
             "color": "#2a3f5f"
            },
            "marker": {
             "line": {
              "color": "#E5ECF6",
              "width": 0.5
             },
             "pattern": {
              "fillmode": "overlay",
              "size": 10,
              "solidity": 0.2
             }
            },
            "type": "bar"
           }
          ],
          "scattergeo": [
           {
            "type": "scattergeo",
            "marker": {
             "colorbar": {
              "outlinewidth": 0,
              "ticks": ""
             }
            }
           }
          ],
          "scatterpolar": [
           {
            "type": "scatterpolar",
            "marker": {
             "colorbar": {
              "outlinewidth": 0,
              "ticks": ""
             }
            }
           }
          ],
          "histogram": [
           {
            "marker": {
             "pattern": {
              "fillmode": "overlay",
              "size": 10,
              "solidity": 0.2
             }
            },
            "type": "histogram"
           }
          ],
          "scattergl": [
           {
            "type": "scattergl",
            "marker": {
             "colorbar": {
              "outlinewidth": 0,
              "ticks": ""
             }
            }
           }
          ],
          "scatter3d": [
           {
            "type": "scatter3d",
            "line": {
             "colorbar": {
              "outlinewidth": 0,
              "ticks": ""
             }
            },
            "marker": {
             "colorbar": {
              "outlinewidth": 0,
              "ticks": ""
             }
            }
           }
          ],
          "scattermapbox": [
           {
            "type": "scattermapbox",
            "marker": {
             "colorbar": {
              "outlinewidth": 0,
              "ticks": ""
             }
            }
           }
          ],
          "scatterternary": [
           {
            "type": "scatterternary",
            "marker": {
             "colorbar": {
              "outlinewidth": 0,
              "ticks": ""
             }
            }
           }
          ],
          "scattercarpet": [
           {
            "type": "scattercarpet",
            "marker": {
             "colorbar": {
              "outlinewidth": 0,
              "ticks": ""
             }
            }
           }
          ],
          "carpet": [
           {
            "aaxis": {
             "endlinecolor": "#2a3f5f",
             "gridcolor": "white",
             "linecolor": "white",
             "minorgridcolor": "white",
             "startlinecolor": "#2a3f5f"
            },
            "baxis": {
             "endlinecolor": "#2a3f5f",
             "gridcolor": "white",
             "linecolor": "white",
             "minorgridcolor": "white",
             "startlinecolor": "#2a3f5f"
            },
            "type": "carpet"
           }
          ],
          "table": [
           {
            "cells": {
             "fill": {
              "color": "#EBF0F8"
             },
             "line": {
              "color": "white"
             }
            },
            "header": {
             "fill": {
              "color": "#C8D4E3"
             },
             "line": {
              "color": "white"
             }
            },
            "type": "table"
           }
          ],
          "barpolar": [
           {
            "marker": {
             "line": {
              "color": "#E5ECF6",
              "width": 0.5
             },
             "pattern": {
              "fillmode": "overlay",
              "size": 10,
              "solidity": 0.2
             }
            },
            "type": "barpolar"
           }
          ],
          "pie": [
           {
            "automargin": true,
            "type": "pie"
           }
          ]
         },
         "layout": {
          "autotypenumbers": "strict",
          "colorway": [
           "#636efa",
           "#EF553B",
           "#00cc96",
           "#ab63fa",
           "#FFA15A",
           "#19d3f3",
           "#FF6692",
           "#B6E880",
           "#FF97FF",
           "#FECB52"
          ],
          "font": {
           "color": "#2a3f5f"
          },
          "hovermode": "closest",
          "hoverlabel": {
           "align": "left"
          },
          "paper_bgcolor": "white",
          "plot_bgcolor": "#E5ECF6",
          "polar": {
           "bgcolor": "#E5ECF6",
           "angularaxis": {
            "gridcolor": "white",
            "linecolor": "white",
            "ticks": ""
           },
           "radialaxis": {
            "gridcolor": "white",
            "linecolor": "white",
            "ticks": ""
           }
          },
          "ternary": {
           "bgcolor": "#E5ECF6",
           "aaxis": {
            "gridcolor": "white",
            "linecolor": "white",
            "ticks": ""
           },
           "baxis": {
            "gridcolor": "white",
            "linecolor": "white",
            "ticks": ""
           },
           "caxis": {
            "gridcolor": "white",
            "linecolor": "white",
            "ticks": ""
           }
          },
          "coloraxis": {
           "colorbar": {
            "outlinewidth": 0,
            "ticks": ""
           }
          },
          "colorscale": {
           "sequential": [
            [
             0.0,
             "#0d0887"
            ],
            [
             0.1111111111111111,
             "#46039f"
            ],
            [
             0.2222222222222222,
             "#7201a8"
            ],
            [
             0.3333333333333333,
             "#9c179e"
            ],
            [
             0.4444444444444444,
             "#bd3786"
            ],
            [
             0.5555555555555556,
             "#d8576b"
            ],
            [
             0.6666666666666666,
             "#ed7953"
            ],
            [
             0.7777777777777778,
             "#fb9f3a"
            ],
            [
             0.8888888888888888,
             "#fdca26"
            ],
            [
             1.0,
             "#f0f921"
            ]
           ],
           "sequentialminus": [
            [
             0.0,
             "#0d0887"
            ],
            [
             0.1111111111111111,
             "#46039f"
            ],
            [
             0.2222222222222222,
             "#7201a8"
            ],
            [
             0.3333333333333333,
             "#9c179e"
            ],
            [
             0.4444444444444444,
             "#bd3786"
            ],
            [
             0.5555555555555556,
             "#d8576b"
            ],
            [
             0.6666666666666666,
             "#ed7953"
            ],
            [
             0.7777777777777778,
             "#fb9f3a"
            ],
            [
             0.8888888888888888,
             "#fdca26"
            ],
            [
             1.0,
             "#f0f921"
            ]
           ],
           "diverging": [
            [
             0,
             "#8e0152"
            ],
            [
             0.1,
             "#c51b7d"
            ],
            [
             0.2,
             "#de77ae"
            ],
            [
             0.3,
             "#f1b6da"
            ],
            [
             0.4,
             "#fde0ef"
            ],
            [
             0.5,
             "#f7f7f7"
            ],
            [
             0.6,
             "#e6f5d0"
            ],
            [
             0.7,
             "#b8e186"
            ],
            [
             0.8,
             "#7fbc41"
            ],
            [
             0.9,
             "#4d9221"
            ],
            [
             1,
             "#276419"
            ]
           ]
          },
          "xaxis": {
           "gridcolor": "white",
           "linecolor": "white",
           "ticks": "",
           "title": {
            "standoff": 15
           },
           "zerolinecolor": "white",
           "automargin": true,
           "zerolinewidth": 2
          },
          "yaxis": {
           "gridcolor": "white",
           "linecolor": "white",
           "ticks": "",
           "title": {
            "standoff": 15
           },
           "zerolinecolor": "white",
           "automargin": true,
           "zerolinewidth": 2
          },
          "scene": {
           "xaxis": {
            "backgroundcolor": "#E5ECF6",
            "gridcolor": "white",
            "linecolor": "white",
            "showbackground": true,
            "ticks": "",
            "zerolinecolor": "white",
            "gridwidth": 2
           },
           "yaxis": {
            "backgroundcolor": "#E5ECF6",
            "gridcolor": "white",
            "linecolor": "white",
            "showbackground": true,
            "ticks": "",
            "zerolinecolor": "white",
            "gridwidth": 2
           },
           "zaxis": {
            "backgroundcolor": "#E5ECF6",
            "gridcolor": "white",
            "linecolor": "white",
            "showbackground": true,
            "ticks": "",
            "zerolinecolor": "white",
            "gridwidth": 2
           }
          },
          "shapedefaults": {
           "line": {
            "color": "#2a3f5f"
           }
          },
          "annotationdefaults": {
           "arrowcolor": "#2a3f5f",
           "arrowhead": 0,
           "arrowwidth": 1
          },
          "geo": {
           "bgcolor": "white",
           "landcolor": "#E5ECF6",
           "subunitcolor": "white",
           "showland": true,
           "showlakes": true,
           "lakecolor": "white"
          },
          "title": {
           "x": 0.05
          },
          "mapbox": {
           "style": "light"
          }
         }
        },
        "xaxis": {
         "anchor": "y",
         "domain": [
          0.0,
          1.0
         ],
         "title": {
          "text": "timestamp"
         }
        },
        "yaxis": {
         "anchor": "x",
         "domain": [
          0.0,
          1.0
         ],
         "title": {
          "text": "sentiment_score"
         }
        },
        "legend": {
         "tracegroupgap": 0
        },
        "title": {
         "text": "Average Sentiment Score Over Time"
        }
       },
       "config": {
        "plotlyServerURL": "https://plot.ly"
       }
      },
      "text/html": [
       "<div>                            <div id=\"75cf0a79-dc9f-4e28-99ce-b9d4eb3984b4\" class=\"plotly-graph-div\" style=\"height:525px; width:100%;\"></div>            <script type=\"text/javascript\">                require([\"plotly\"], function(Plotly) {                    window.PLOTLYENV=window.PLOTLYENV || {};                                    if (document.getElementById(\"75cf0a79-dc9f-4e28-99ce-b9d4eb3984b4\")) {                    Plotly.newPlot(                        \"75cf0a79-dc9f-4e28-99ce-b9d4eb3984b4\",                        [{\"hovertemplate\":\"timestamp=%{x}\\u003cbr\\u003esentiment_score=%{y}\\u003cextra\\u003e\\u003c\\u002fextra\\u003e\",\"legendgroup\":\"\",\"line\":{\"color\":\"#636efa\",\"dash\":\"solid\"},\"marker\":{\"symbol\":\"circle\"},\"mode\":\"lines\",\"name\":\"\",\"showlegend\":false,\"x\":[\"2022-08-22T10:34:00+00:00\",\"2023-10-02T09:00:00+00:00\",\"2023-11-17T03:36:00+00:00\",\"2024-03-03T15:14:00+00:00\",\"2024-05-19T16:27:00+00:00\",\"2024-08-08T20:45:00+00:00\",\"2024-08-17T06:28:00+00:00\",\"2024-09-18T05:09:00+00:00\",\"2024-09-18T10:11:00+00:00\",\"2024-09-18T10:47:00+00:00\",\"2024-09-18T11:02:00+00:00\",\"2024-09-18T11:03:00+00:00\",\"2024-09-18T11:26:00+00:00\",\"2024-09-18T13:50:00+00:00\",\"2024-09-19T01:03:00+00:00\",\"2024-09-19T01:39:00+00:00\",\"2024-09-19T09:00:00+00:00\",\"2024-09-19T10:48:00+00:00\",\"2024-09-20T03:08:00+00:00\",\"2024-09-20T03:50:00+00:00\",\"2024-09-20T05:59:00+00:00\",\"2024-09-20T06:45:00+00:00\",\"2024-09-20T06:48:00+00:00\",\"2024-09-20T09:19:00+00:00\",\"2024-09-20T09:46:00+00:00\",\"2024-09-20T11:43:00+00:00\",\"2024-09-20T13:06:00+00:00\",\"2024-09-20T13:48:00+00:00\",\"2024-09-20T20:42:00+00:00\",\"2024-09-21T10:16:00+00:00\",\"2024-09-21T10:18:00+00:00\",\"2024-09-21T10:21:00+00:00\",\"2024-09-21T11:50:00+00:00\",\"2024-09-21T12:27:00+00:00\",\"2024-09-21T13:03:00+00:00\",\"2024-09-21T13:33:00+00:00\",\"2024-09-21T13:52:00+00:00\",\"2024-09-21T14:44:00+00:00\",\"2024-09-21T14:50:00+00:00\",\"2024-09-21T14:52:00+00:00\",\"2024-09-21T14:53:00+00:00\",\"2024-09-21T14:54:00+00:00\",\"2024-09-21T14:55:00+00:00\",\"2024-09-21T14:58:00+00:00\",\"2024-09-21T14:59:00+00:00\",\"2024-09-21T15:04:00+00:00\",\"2024-09-21T15:07:00+00:00\",\"2024-09-21T15:11:00+00:00\",\"2024-09-21T15:13:00+00:00\",\"2024-09-21T15:16:00+00:00\",\"2024-09-21T15:22:00+00:00\",\"2024-09-21T15:23:00+00:00\",\"2024-09-21T15:26:00+00:00\",\"2024-09-21T15:36:00+00:00\",\"2024-09-21T15:37:00+00:00\",\"2024-09-21T15:40:00+00:00\",\"2024-09-21T15:44:00+00:00\",\"2024-09-21T15:56:00+00:00\",\"2024-09-21T15:59:00+00:00\",\"2024-09-21T16:01:00+00:00\",\"2024-09-21T16:04:00+00:00\",\"2024-09-21T16:19:00+00:00\",\"2024-09-21T16:21:00+00:00\",\"2024-09-21T16:24:00+00:00\",\"2024-09-21T16:26:00+00:00\",\"2024-09-21T16:30:00+00:00\",\"2024-09-21T16:31:00+00:00\",\"2024-09-21T16:36:00+00:00\",\"2024-09-21T16:47:00+00:00\",\"2024-09-21T16:55:00+00:00\",\"2024-09-21T17:00:00+00:00\",\"2024-09-21T17:28:00+00:00\",\"2024-09-21T17:35:00+00:00\",\"2024-09-21T17:42:00+00:00\",\"2024-09-21T18:07:00+00:00\",\"2024-09-21T18:09:00+00:00\",\"2024-09-21T18:15:00+00:00\",\"2024-09-21T18:23:00+00:00\",\"2024-09-21T18:29:00+00:00\",\"2024-09-21T18:31:00+00:00\",\"2024-09-21T18:37:00+00:00\",\"2024-09-21T18:59:00+00:00\",\"2024-09-21T19:31:00+00:00\",\"2024-09-21T20:16:00+00:00\",\"2024-09-21T21:18:00+00:00\",\"2024-09-21T23:26:00+00:00\",\"2024-09-21T23:36:00+00:00\",\"2024-09-21T23:58:00+00:00\",\"2024-09-22T00:55:00+00:00\",\"2024-09-22T01:32:00+00:00\",\"2024-09-22T01:38:00+00:00\",\"2024-09-22T02:03:00+00:00\",\"2024-09-22T02:13:00+00:00\",\"2024-09-22T02:18:00+00:00\",\"2024-09-22T02:26:00+00:00\",\"2024-09-22T03:05:00+00:00\",\"2024-09-22T03:43:00+00:00\",\"2024-09-22T03:57:00+00:00\",\"2024-09-22T04:47:00+00:00\",\"2024-09-22T05:00:00+00:00\",\"2024-09-22T05:15:00+00:00\",\"2024-09-22T06:06:00+00:00\",\"2024-09-22T06:21:00+00:00\",\"2024-09-22T06:49:00+00:00\",\"2024-09-22T06:51:00+00:00\",\"2024-09-22T06:58:00+00:00\",\"2024-09-22T07:14:00+00:00\",\"2024-09-22T08:08:00+00:00\",\"2024-09-22T08:11:00+00:00\",\"2024-09-22T08:38:00+00:00\",\"2024-09-22T08:39:00+00:00\",\"2024-09-22T08:50:00+00:00\",\"2024-09-22T09:21:00+00:00\",\"2024-09-22T09:23:00+00:00\",\"2024-09-22T09:24:00+00:00\",\"2024-09-22T09:25:00+00:00\",\"2024-09-22T09:32:00+00:00\",\"2024-09-22T09:40:00+00:00\",\"2024-09-22T10:19:00+00:00\",\"2024-09-22T10:20:00+00:00\",\"2024-09-22T10:22:00+00:00\",\"2024-09-22T10:24:00+00:00\",\"2024-09-22T10:32:00+00:00\",\"2024-09-22T10:33:00+00:00\",\"2024-09-22T10:35:00+00:00\",\"2024-09-22T10:36:00+00:00\",\"2024-09-22T10:37:00+00:00\",\"2024-09-22T10:38:00+00:00\",\"2024-09-22T10:40:00+00:00\",\"2024-09-22T10:42:00+00:00\",\"2024-09-22T10:47:00+00:00\",\"2024-09-22T10:51:00+00:00\",\"2024-09-22T10:53:00+00:00\",\"2024-09-22T10:56:00+00:00\",\"2024-09-22T10:59:00+00:00\",\"2024-09-22T11:00:00+00:00\",\"2024-09-22T11:03:00+00:00\",\"2024-09-22T11:11:00+00:00\",\"2024-09-22T11:13:00+00:00\",\"2024-09-22T11:17:00+00:00\",\"2024-09-22T11:18:00+00:00\",\"2024-09-22T11:23:00+00:00\",\"2024-09-22T11:24:00+00:00\",\"2024-09-22T11:28:00+00:00\",\"2024-09-22T11:30:00+00:00\",\"2024-09-22T11:32:00+00:00\",\"2024-09-22T11:33:00+00:00\",\"2024-09-22T11:37:00+00:00\",\"2024-09-22T11:38:00+00:00\",\"2024-09-22T11:39:00+00:00\",\"2024-09-22T11:40:00+00:00\",\"2024-09-22T11:41:00+00:00\",\"2024-09-22T11:43:00+00:00\",\"2024-09-22T11:44:00+00:00\",\"2024-09-22T11:46:00+00:00\",\"2024-09-22T11:47:00+00:00\",\"2024-09-22T11:50:00+00:00\",\"2024-09-22T11:51:00+00:00\",\"2024-09-22T11:54:00+00:00\",\"2024-09-22T11:57:00+00:00\",\"2024-09-22T12:00:00+00:00\",\"2024-09-22T12:03:00+00:00\",\"2024-09-22T12:05:00+00:00\",\"2024-09-22T12:06:00+00:00\",\"2024-09-22T12:07:00+00:00\",\"2024-09-22T12:08:00+00:00\",\"2024-09-22T12:09:00+00:00\",\"2024-09-22T12:10:00+00:00\",\"2024-09-22T12:11:00+00:00\",\"2024-09-22T12:12:00+00:00\",\"2024-09-22T12:13:00+00:00\",\"2024-09-22T12:15:00+00:00\",\"2024-09-22T12:16:00+00:00\",\"2024-09-22T12:17:00+00:00\",\"2024-09-22T12:18:00+00:00\",\"2024-09-22T12:19:00+00:00\",\"2024-09-22T12:20:00+00:00\",\"2024-09-22T12:21:00+00:00\",\"2024-09-22T12:22:00+00:00\",\"2024-09-22T12:23:00+00:00\",\"2024-09-22T12:24:00+00:00\",\"2024-09-22T12:25:00+00:00\",\"2024-09-22T12:26:00+00:00\",\"2024-09-22T12:28:00+00:00\",\"2024-09-22T12:29:00+00:00\",\"2024-09-22T12:30:00+00:00\",\"2024-09-22T12:31:00+00:00\",\"2024-09-22T12:33:00+00:00\",\"2024-09-22T12:35:00+00:00\",\"2024-09-22T12:36:00+00:00\",\"2024-09-22T12:38:00+00:00\",\"2024-09-22T12:39:00+00:00\",\"2024-09-22T12:40:00+00:00\",\"2024-09-22T12:42:00+00:00\",\"2024-09-22T12:44:00+00:00\",\"2024-09-22T12:45:00+00:00\",\"2024-09-22T12:46:00+00:00\",\"2024-09-22T12:47:00+00:00\",\"2024-09-22T12:48:00+00:00\",\"2024-09-22T12:49:00+00:00\",\"2024-09-22T12:50:00+00:00\",\"2024-09-22T12:51:00+00:00\",\"2024-09-22T12:52:00+00:00\",\"2024-09-22T12:53:00+00:00\",\"2024-09-22T12:54:00+00:00\",\"2024-09-22T12:55:00+00:00\",\"2024-09-22T12:57:00+00:00\",\"2024-09-22T12:59:00+00:00\",\"2024-09-22T13:01:00+00:00\",\"2024-09-22T13:02:00+00:00\",\"2024-09-22T13:04:00+00:00\",\"2024-09-22T13:05:00+00:00\",\"2024-09-22T13:06:00+00:00\",\"2024-09-22T13:07:00+00:00\",\"2024-09-22T13:08:00+00:00\",\"2024-09-22T13:09:00+00:00\",\"2024-09-22T13:10:00+00:00\",\"2024-09-22T13:11:00+00:00\",\"2024-09-22T13:12:00+00:00\",\"2024-09-22T13:13:00+00:00\",\"2024-09-22T13:14:00+00:00\",\"2024-09-22T13:15:00+00:00\",\"2024-09-22T13:16:00+00:00\",\"2024-09-22T13:18:00+00:00\",\"2024-09-22T13:19:00+00:00\",\"2024-09-22T13:21:00+00:00\",\"2024-09-22T13:22:00+00:00\",\"2024-09-22T13:25:00+00:00\",\"2024-09-22T13:26:00+00:00\",\"2024-09-22T13:27:00+00:00\",\"2024-09-22T13:29:00+00:00\",\"2024-09-22T13:30:00+00:00\",\"2024-09-22T13:33:00+00:00\",\"2024-09-22T13:34:00+00:00\",\"2024-09-22T13:35:00+00:00\",\"2024-09-22T13:37:00+00:00\",\"2024-09-22T13:39:00+00:00\",\"2024-09-22T13:40:00+00:00\",\"2024-09-22T13:41:00+00:00\",\"2024-09-22T13:42:00+00:00\",\"2024-09-22T13:45:00+00:00\",\"2024-09-22T13:49:00+00:00\",\"2024-09-22T13:50:00+00:00\",\"2024-09-22T13:51:00+00:00\",\"2024-09-22T13:52:00+00:00\",\"2024-09-22T13:55:00+00:00\",\"2024-09-22T13:56:00+00:00\",\"2024-09-22T13:57:00+00:00\",\"2024-09-22T13:58:00+00:00\",\"2024-09-22T14:00:00+00:00\",\"2024-09-22T14:02:00+00:00\",\"2024-09-22T14:03:00+00:00\",\"2024-09-22T14:04:00+00:00\",\"2024-09-22T14:05:00+00:00\",\"2024-09-22T14:06:00+00:00\",\"2024-09-22T14:12:00+00:00\",\"2024-09-22T14:14:00+00:00\",\"2024-09-22T14:19:00+00:00\",\"2024-09-22T14:24:00+00:00\",\"2024-09-22T14:29:00+00:00\",\"2024-09-22T14:32:00+00:00\",\"2024-09-22T14:33:00+00:00\",\"2024-09-22T14:34:00+00:00\",\"2024-09-22T14:35:00+00:00\",\"2024-09-22T14:37:00+00:00\",\"2024-09-22T14:42:00+00:00\",\"2024-09-22T14:43:00+00:00\",\"2024-09-22T14:46:00+00:00\",\"2024-09-22T14:47:00+00:00\",\"2024-09-22T14:48:00+00:00\",\"2024-09-22T14:49:00+00:00\",\"2024-09-22T14:54:00+00:00\",\"2024-09-22T14:59:00+00:00\",\"2024-09-22T15:01:00+00:00\",\"2024-09-22T15:03:00+00:00\",\"2024-09-22T15:04:00+00:00\",\"2024-09-22T15:07:00+00:00\",\"2024-09-22T15:08:00+00:00\",\"2024-09-22T15:09:00+00:00\",\"2024-09-22T15:12:00+00:00\",\"2024-09-22T15:13:00+00:00\",\"2024-09-22T15:17:00+00:00\",\"2024-09-22T15:19:00+00:00\",\"2024-09-22T15:25:00+00:00\",\"2024-09-22T15:26:00+00:00\",\"2024-09-22T15:27:00+00:00\",\"2024-09-22T15:30:00+00:00\",\"2024-09-22T15:32:00+00:00\",\"2024-09-22T15:33:00+00:00\",\"2024-09-22T15:39:00+00:00\",\"2024-09-22T15:41:00+00:00\",\"2024-09-22T15:42:00+00:00\",\"2024-09-22T15:44:00+00:00\",\"2024-09-22T15:48:00+00:00\",\"2024-09-22T15:51:00+00:00\",\"2024-09-22T15:57:00+00:00\",\"2024-09-22T15:58:00+00:00\",\"2024-09-22T15:59:00+00:00\",\"2024-09-22T16:00:00+00:00\",\"2024-09-22T16:01:00+00:00\",\"2024-09-22T16:09:00+00:00\",\"2024-09-22T16:17:00+00:00\",\"2024-09-22T16:21:00+00:00\",\"2024-09-22T16:31:00+00:00\",\"2024-09-22T16:33:00+00:00\",\"2024-09-22T16:39:00+00:00\",\"2024-09-22T16:40:00+00:00\",\"2024-09-22T16:49:00+00:00\",\"2024-09-22T16:50:00+00:00\",\"2024-09-22T16:54:00+00:00\",\"2024-09-22T16:56:00+00:00\",\"2024-09-22T16:58:00+00:00\",\"2024-09-22T17:03:00+00:00\",\"2024-09-22T17:07:00+00:00\",\"2024-09-22T17:08:00+00:00\",\"2024-09-22T17:16:00+00:00\",\"2024-09-22T17:20:00+00:00\",\"2024-09-22T17:25:00+00:00\",\"2024-09-22T17:26:00+00:00\",\"2024-09-22T17:27:00+00:00\",\"2024-09-22T17:28:00+00:00\",\"2024-09-22T17:31:00+00:00\",\"2024-09-22T17:36:00+00:00\",\"2024-09-22T17:52:00+00:00\",\"2024-09-22T17:53:00+00:00\",\"2024-09-22T18:17:00+00:00\",\"2024-09-22T18:26:00+00:00\",\"2024-09-22T18:37:00+00:00\",\"2024-09-22T18:39:00+00:00\",\"2024-09-22T18:40:00+00:00\",\"2024-09-22T18:44:00+00:00\",\"2024-09-22T18:54:00+00:00\",\"2024-09-22T19:07:00+00:00\",\"2024-09-22T19:16:00+00:00\",\"2024-09-22T19:56:00+00:00\",\"2024-09-22T20:37:00+00:00\",\"2024-09-22T21:07:00+00:00\",\"2024-09-22T21:34:00+00:00\",\"2024-09-22T22:10:00+00:00\",\"2024-09-22T22:28:00+00:00\",\"2024-09-22T22:47:00+00:00\",\"2024-09-22T23:02:00+00:00\",\"2024-09-22T23:30:00+00:00\",\"2024-09-22T23:35:00+00:00\",\"2024-09-22T23:37:00+00:00\",\"2024-09-22T23:44:00+00:00\",\"2024-09-22T23:49:00+00:00\",\"2024-09-22T23:58:00+00:00\",\"2024-09-23T00:06:00+00:00\",\"2024-09-23T00:12:00+00:00\",\"2024-09-23T00:13:00+00:00\",\"2024-09-23T00:18:00+00:00\",\"2024-09-23T00:27:00+00:00\",\"2024-09-23T00:35:00+00:00\",\"2024-09-23T00:38:00+00:00\",\"2024-09-23T00:41:00+00:00\",\"2024-09-23T00:46:00+00:00\",\"2024-09-23T00:47:00+00:00\",\"2024-09-23T00:48:00+00:00\",\"2024-09-23T00:51:00+00:00\",\"2024-09-23T00:57:00+00:00\",\"2024-09-23T01:01:00+00:00\",\"2024-09-23T01:03:00+00:00\",\"2024-09-23T01:14:00+00:00\",\"2024-09-23T01:20:00+00:00\",\"2024-09-23T01:33:00+00:00\",\"2024-09-23T01:37:00+00:00\",\"2024-09-23T01:39:00+00:00\",\"2024-09-23T01:54:00+00:00\",\"2024-09-23T01:55:00+00:00\",\"2024-09-23T01:58:00+00:00\",\"2024-09-23T02:01:00+00:00\",\"2024-09-23T02:16:00+00:00\",\"2024-09-23T02:24:00+00:00\",\"2024-09-23T02:32:00+00:00\",\"2024-09-23T02:45:00+00:00\",\"2024-09-23T02:48:00+00:00\",\"2024-09-23T02:49:00+00:00\",\"2024-09-23T02:51:00+00:00\",\"2024-09-23T03:15:00+00:00\",\"2024-09-23T03:21:00+00:00\",\"2024-09-23T03:24:00+00:00\",\"2024-09-23T03:27:00+00:00\",\"2024-09-23T03:28:00+00:00\",\"2024-09-23T03:45:00+00:00\",\"2024-09-23T03:48:00+00:00\",\"2024-09-23T03:58:00+00:00\",\"2024-09-23T04:01:00+00:00\",\"2024-09-23T04:07:00+00:00\",\"2024-09-23T04:13:00+00:00\",\"2024-09-23T04:14:00+00:00\",\"2024-09-23T04:15:00+00:00\",\"2024-09-23T04:31:00+00:00\",\"2024-09-23T04:36:00+00:00\",\"2024-09-23T04:53:00+00:00\",\"2024-09-23T05:08:00+00:00\",\"2024-09-23T05:45:00+00:00\",\"2024-09-23T05:56:00+00:00\",\"2024-09-23T06:05:00+00:00\",\"2024-09-23T06:23:00+00:00\",\"2024-09-23T06:32:00+00:00\",\"2024-09-23T06:34:00+00:00\",\"2024-09-23T06:38:00+00:00\",\"2024-09-23T06:39:00+00:00\",\"2024-09-23T06:44:00+00:00\",\"2024-09-23T06:46:00+00:00\",\"2024-09-23T06:47:00+00:00\",\"2024-09-23T06:51:00+00:00\",\"2024-09-23T06:52:00+00:00\",\"2024-09-23T07:03:00+00:00\",\"2024-09-23T07:05:00+00:00\",\"2024-09-23T07:10:00+00:00\",\"2024-09-23T07:42:00+00:00\",\"2024-09-23T07:57:00+00:00\",\"2024-09-23T08:12:00+00:00\",\"2024-09-23T08:18:00+00:00\",\"2024-09-23T08:56:00+00:00\",\"2024-09-23T09:00:00+00:00\",\"2024-09-23T09:06:00+00:00\",\"2024-09-23T09:09:00+00:00\",\"2024-09-23T09:14:00+00:00\",\"2024-09-23T09:16:00+00:00\",\"2024-09-23T09:17:00+00:00\",\"2024-09-23T09:19:00+00:00\",\"2024-09-23T09:20:00+00:00\",\"2024-09-23T09:22:00+00:00\",\"2024-09-23T09:27:00+00:00\",\"2024-09-23T09:29:00+00:00\",\"2024-09-23T09:30:00+00:00\",\"2024-09-23T09:35:00+00:00\",\"2024-09-23T09:39:00+00:00\",\"2024-09-23T09:44:00+00:00\",\"2024-09-23T09:45:00+00:00\",\"2024-09-23T09:46:00+00:00\",\"2024-09-23T09:47:00+00:00\",\"2024-09-23T09:49:00+00:00\",\"2024-09-23T09:50:00+00:00\",\"2024-09-23T09:51:00+00:00\",\"2024-09-23T09:52:00+00:00\",\"2024-09-23T09:53:00+00:00\",\"2024-09-23T09:56:00+00:00\",\"2024-09-23T10:01:00+00:00\",\"2024-09-23T10:03:00+00:00\",\"2024-09-23T10:20:00+00:00\",\"2024-09-23T10:21:00+00:00\",\"2024-09-23T10:22:00+00:00\",\"2024-09-23T10:24:00+00:00\",\"2024-09-23T10:30:00+00:00\",\"2024-09-23T10:31:00+00:00\",\"2024-09-23T10:33:00+00:00\",\"2024-09-23T10:37:00+00:00\",\"2024-09-23T10:49:00+00:00\",\"2024-09-23T10:51:00+00:00\",\"2024-09-23T10:55:00+00:00\",\"2024-09-23T10:58:00+00:00\",\"2024-09-23T10:59:00+00:00\",\"2024-09-23T11:05:00+00:00\",\"2024-09-23T11:07:00+00:00\",\"2024-09-23T11:08:00+00:00\",\"2024-09-23T11:10:00+00:00\",\"2024-09-23T11:11:00+00:00\",\"2024-09-23T11:12:00+00:00\",\"2024-09-23T11:14:00+00:00\",\"2024-09-23T11:18:00+00:00\",\"2024-09-23T11:20:00+00:00\",\"2024-09-23T11:21:00+00:00\",\"2024-09-23T11:22:00+00:00\",\"2024-09-23T11:23:00+00:00\",\"2024-09-23T11:26:00+00:00\",\"2024-09-23T11:27:00+00:00\",\"2024-09-23T11:28:00+00:00\",\"2024-09-23T11:29:00+00:00\",\"2024-09-23T11:31:00+00:00\",\"2024-09-23T11:33:00+00:00\",\"2024-09-23T11:35:00+00:00\",\"2024-09-23T11:40:00+00:00\",\"2024-09-23T11:43:00+00:00\",\"2024-09-23T11:50:00+00:00\",\"2024-09-23T11:52:00+00:00\",\"2024-09-23T11:57:00+00:00\",\"2024-09-23T11:59:00+00:00\",\"2024-09-23T12:01:00+00:00\",\"2024-09-23T12:02:00+00:00\",\"2024-09-23T12:03:00+00:00\",\"2024-09-23T12:04:00+00:00\",\"2024-09-23T12:05:00+00:00\",\"2024-09-23T12:07:00+00:00\",\"2024-09-23T12:08:00+00:00\",\"2024-09-23T12:10:00+00:00\",\"2024-09-23T12:11:00+00:00\",\"2024-09-23T12:12:00+00:00\",\"2024-09-23T12:21:00+00:00\",\"2024-09-23T12:24:00+00:00\",\"2024-09-23T12:36:00+00:00\",\"2024-09-23T12:42:00+00:00\",\"2024-09-23T12:46:00+00:00\",\"2024-09-23T12:48:00+00:00\",\"2024-09-23T12:50:00+00:00\",\"2024-09-23T12:53:00+00:00\",\"2024-09-23T12:57:00+00:00\",\"2024-09-23T12:59:00+00:00\",\"2024-09-23T13:00:00+00:00\",\"2024-09-23T13:04:00+00:00\",\"2024-09-23T13:08:00+00:00\",\"2024-09-23T13:11:00+00:00\",\"2024-09-23T13:15:00+00:00\",\"2024-09-23T13:17:00+00:00\",\"2024-09-23T13:20:00+00:00\",\"2024-09-23T13:25:00+00:00\",\"2024-09-23T13:28:00+00:00\",\"2024-09-23T13:29:00+00:00\",\"2024-09-23T13:31:00+00:00\",\"2024-09-23T13:35:00+00:00\",\"2024-09-23T13:36:00+00:00\",\"2024-09-23T13:41:00+00:00\",\"2024-09-23T13:45:00+00:00\",\"2024-09-23T13:46:00+00:00\",\"2024-09-23T14:08:00+00:00\",\"2024-09-23T14:10:00+00:00\",\"2024-09-23T14:14:00+00:00\",\"2024-09-23T14:20:00+00:00\",\"2024-09-23T14:21:00+00:00\",\"2024-09-23T14:23:00+00:00\",\"2024-09-23T14:41:00+00:00\",\"2024-09-23T14:45:00+00:00\",\"2024-09-23T14:49:00+00:00\",\"2024-09-23T14:52:00+00:00\",\"2024-09-23T14:54:00+00:00\",\"2024-09-23T14:57:00+00:00\",\"2024-09-23T15:15:00+00:00\",\"2024-09-23T15:21:00+00:00\",\"2024-09-23T15:26:00+00:00\",\"2024-09-23T15:32:00+00:00\",\"2024-09-23T15:40:00+00:00\",\"2024-09-23T15:50:00+00:00\",\"2024-09-23T16:08:00+00:00\",\"2024-09-23T16:09:00+00:00\",\"2024-09-23T16:14:00+00:00\",\"2024-09-23T16:18:00+00:00\",\"2024-09-23T16:20:00+00:00\",\"2024-09-23T16:28:00+00:00\",\"2024-09-23T16:30:00+00:00\",\"2024-09-23T16:37:00+00:00\",\"2024-09-23T16:51:00+00:00\",\"2024-09-23T17:05:00+00:00\",\"2024-09-23T17:10:00+00:00\",\"2024-09-23T17:29:00+00:00\",\"2024-09-23T17:36:00+00:00\",\"2024-09-23T18:12:00+00:00\",\"2024-09-23T18:17:00+00:00\",\"2024-09-23T18:28:00+00:00\",\"2024-09-23T19:01:00+00:00\",\"2024-09-23T19:03:00+00:00\",\"2024-09-23T19:07:00+00:00\",\"2024-09-23T19:21:00+00:00\",\"2024-09-23T19:48:00+00:00\",\"2024-09-23T20:55:00+00:00\",\"2024-09-23T21:23:00+00:00\",\"2024-09-23T22:06:00+00:00\",\"2024-09-23T22:31:00+00:00\",\"2024-09-23T22:37:00+00:00\",\"2024-09-23T22:47:00+00:00\",\"2024-09-23T23:10:00+00:00\",\"2024-09-23T23:14:00+00:00\",\"2024-09-23T23:18:00+00:00\",\"2024-09-23T23:46:00+00:00\",\"2024-09-24T00:00:00+00:00\",\"2024-09-24T00:52:00+00:00\",\"2024-09-24T00:58:00+00:00\",\"2024-09-24T01:41:00+00:00\",\"2024-09-24T01:54:00+00:00\",\"2024-09-24T02:19:00+00:00\",\"2024-09-24T02:38:00+00:00\",\"2024-09-24T02:39:00+00:00\",\"2024-09-24T02:48:00+00:00\",\"2024-09-24T02:51:00+00:00\",\"2024-09-24T02:59:00+00:00\",\"2024-09-24T03:12:00+00:00\",\"2024-09-24T03:48:00+00:00\",\"2024-09-24T04:51:00+00:00\",\"2024-09-24T05:29:00+00:00\",\"2024-09-24T05:36:00+00:00\",\"2024-09-24T05:55:00+00:00\",\"2024-09-24T06:07:00+00:00\",\"2024-09-24T06:11:00+00:00\",\"2024-09-24T06:36:00+00:00\",\"2024-09-24T07:09:00+00:00\",\"2024-09-24T07:53:00+00:00\",\"2024-09-24T08:12:00+00:00\",\"2024-09-24T08:39:00+00:00\",\"2024-09-24T08:41:00+00:00\",\"2024-09-24T08:48:00+00:00\",\"2024-09-24T09:13:00+00:00\",\"2024-09-24T09:14:00+00:00\",\"2024-09-24T09:18:00+00:00\",\"2024-09-24T09:19:00+00:00\",\"2024-09-24T09:24:00+00:00\",\"2024-09-24T09:52:00+00:00\",\"2024-09-24T10:00:00+00:00\",\"2024-09-24T10:04:00+00:00\",\"2024-09-24T10:07:00+00:00\",\"2024-09-24T10:26:00+00:00\",\"2024-09-24T10:40:00+00:00\",\"2024-09-24T10:51:00+00:00\",\"2024-09-24T10:57:00+00:00\",\"2024-09-24T11:16:00+00:00\",\"2024-09-24T11:17:00+00:00\",\"2024-09-24T11:26:00+00:00\",\"2024-09-24T11:27:00+00:00\",\"2024-09-24T11:31:00+00:00\",\"2024-09-24T11:40:00+00:00\",\"2024-09-24T11:49:00+00:00\",\"2024-09-24T11:53:00+00:00\",\"2024-09-24T12:01:00+00:00\",\"2024-09-24T12:03:00+00:00\",\"2024-09-24T12:11:00+00:00\",\"2024-09-24T12:27:00+00:00\",\"2024-09-24T12:31:00+00:00\",\"2024-09-24T12:36:00+00:00\",\"2024-09-24T12:37:00+00:00\",\"2024-09-24T12:42:00+00:00\",\"2024-09-24T12:50:00+00:00\",\"2024-09-24T12:54:00+00:00\",\"2024-09-24T12:59:00+00:00\",\"2024-09-24T13:00:00+00:00\",\"2024-09-24T13:03:00+00:00\",\"2024-09-24T13:05:00+00:00\",\"2024-09-24T13:14:00+00:00\",\"2024-09-24T13:22:00+00:00\",\"2024-09-24T13:23:00+00:00\",\"2024-09-24T13:26:00+00:00\",\"2024-09-24T13:28:00+00:00\",\"2024-09-24T13:31:00+00:00\",\"2024-09-24T13:35:00+00:00\",\"2024-09-24T13:45:00+00:00\",\"2024-09-24T13:55:00+00:00\",\"2024-09-24T14:01:00+00:00\",\"2024-09-24T14:04:00+00:00\",\"2024-09-24T14:15:00+00:00\",\"2024-09-24T14:26:00+00:00\",\"2024-09-24T14:33:00+00:00\",\"2024-09-24T14:37:00+00:00\",\"2024-09-24T14:40:00+00:00\",\"2024-09-24T14:52:00+00:00\",\"2024-09-24T15:24:00+00:00\",\"2024-09-24T15:36:00+00:00\",\"2024-09-24T16:02:00+00:00\",\"2024-09-24T23:15:00+00:00\",\"2024-09-24T23:19:00+00:00\",\"2024-09-25T00:19:00+00:00\",\"2024-09-25T01:09:00+00:00\",\"2024-09-25T01:50:00+00:00\",\"2024-09-25T04:55:00+00:00\",\"2024-09-25T05:19:00+00:00\",\"2024-09-25T05:28:00+00:00\",\"2024-09-25T05:48:00+00:00\",\"2024-09-25T07:37:00+00:00\",\"2024-09-25T08:34:00+00:00\",\"2024-09-25T08:45:00+00:00\",\"2024-09-25T09:00:00+00:00\",\"2024-09-25T09:36:00+00:00\",\"2024-09-25T09:56:00+00:00\",\"2024-09-25T10:05:00+00:00\",\"2024-09-25T10:18:00+00:00\",\"2024-09-25T10:24:00+00:00\",\"2024-09-25T10:29:00+00:00\",\"2024-09-25T10:44:00+00:00\",\"2024-09-25T11:01:00+00:00\",\"2024-09-25T11:08:00+00:00\",\"2024-09-25T11:12:00+00:00\",\"2024-09-25T11:26:00+00:00\",\"2024-09-25T11:39:00+00:00\",\"2024-09-25T12:08:00+00:00\",\"2024-09-25T12:14:00+00:00\",\"2024-09-25T12:18:00+00:00\",\"2024-09-25T12:20:00+00:00\",\"2024-09-25T12:31:00+00:00\",\"2024-09-25T12:38:00+00:00\",\"2024-09-25T12:40:00+00:00\",\"2024-09-25T12:42:00+00:00\",\"2024-09-25T12:43:00+00:00\",\"2024-09-25T12:45:00+00:00\",\"2024-09-25T12:46:00+00:00\",\"2024-09-25T12:54:00+00:00\",\"2024-09-25T12:55:00+00:00\",\"2024-09-25T12:58:00+00:00\",\"2024-09-25T13:00:00+00:00\",\"2024-09-25T13:04:00+00:00\",\"2024-09-25T13:05:00+00:00\",\"2024-09-25T13:07:00+00:00\",\"2024-09-25T13:11:00+00:00\",\"2024-09-25T13:15:00+00:00\",\"2024-09-25T13:21:00+00:00\",\"2024-09-25T13:22:00+00:00\",\"2024-09-25T13:23:00+00:00\",\"2024-09-25T13:32:00+00:00\",\"2024-09-25T13:34:00+00:00\",\"2024-09-25T13:47:00+00:00\",\"2024-09-25T13:52:00+00:00\",\"2024-09-25T13:56:00+00:00\",\"2024-09-25T14:27:00+00:00\",\"2024-09-25T14:32:00+00:00\",\"2024-09-25T14:35:00+00:00\",\"2024-09-25T14:59:00+00:00\",\"2024-09-25T15:17:00+00:00\",\"2024-09-25T15:56:00+00:00\",\"2024-09-25T16:39:00+00:00\",\"2024-09-25T18:49:00+00:00\",\"2024-09-25T22:00:00+00:00\",\"2024-09-25T22:21:00+00:00\",\"2024-09-25T23:19:00+00:00\",\"2024-09-26T00:46:00+00:00\",\"2024-09-26T01:43:00+00:00\",\"2024-09-26T03:55:00+00:00\",\"2024-09-26T05:35:00+00:00\",\"2024-09-26T08:43:00+00:00\",\"2024-09-26T09:49:00+00:00\",\"2024-09-26T10:23:00+00:00\",\"2024-09-26T10:38:00+00:00\",\"2024-09-26T11:04:00+00:00\",\"2024-09-26T11:08:00+00:00\",\"2024-09-26T11:20:00+00:00\",\"2024-09-26T11:23:00+00:00\",\"2024-09-26T11:30:00+00:00\",\"2024-09-26T12:55:00+00:00\",\"2024-09-26T12:56:00+00:00\",\"2024-09-26T13:08:00+00:00\",\"2024-09-26T13:14:00+00:00\",\"2024-09-26T13:20:00+00:00\",\"2024-09-26T13:28:00+00:00\",\"2024-09-26T13:41:00+00:00\",\"2024-09-26T13:44:00+00:00\",\"2024-09-26T14:25:00+00:00\",\"2024-09-26T15:30:00+00:00\",\"2024-09-26T16:14:00+00:00\",\"2024-09-26T16:58:00+00:00\",\"2024-09-26T17:24:00+00:00\",\"2024-09-26T20:06:00+00:00\",\"2024-09-27T00:03:00+00:00\",\"2024-09-27T02:28:00+00:00\",\"2024-09-27T02:29:00+00:00\",\"2024-09-27T02:36:00+00:00\",\"2024-09-27T03:58:00+00:00\",\"2024-09-27T04:41:00+00:00\",\"2024-09-27T05:23:00+00:00\",\"2024-09-27T05:31:00+00:00\",\"2024-09-27T06:15:00+00:00\",\"2024-09-27T06:44:00+00:00\",\"2024-09-27T07:48:00+00:00\",\"2024-09-27T09:03:00+00:00\",\"2024-09-27T10:05:00+00:00\",\"2024-09-27T10:17:00+00:00\",\"2024-09-27T10:19:00+00:00\",\"2024-09-27T11:01:00+00:00\",\"2024-09-27T11:26:00+00:00\",\"2024-09-27T11:36:00+00:00\",\"2024-09-27T11:37:00+00:00\",\"2024-09-27T11:41:00+00:00\",\"2024-09-27T12:31:00+00:00\",\"2024-09-27T12:39:00+00:00\",\"2024-09-27T13:00:00+00:00\",\"2024-09-27T13:01:00+00:00\",\"2024-09-27T13:11:00+00:00\",\"2024-09-27T14:33:00+00:00\",\"2024-09-27T15:00:00+00:00\",\"2024-09-27T15:22:00+00:00\",\"2024-09-27T15:44:00+00:00\",\"2024-09-27T15:50:00+00:00\",\"2024-09-27T16:04:00+00:00\",\"2024-09-27T19:35:00+00:00\",\"2024-09-27T19:36:00+00:00\",\"2024-09-28T00:56:00+00:00\",\"2024-09-28T00:58:00+00:00\",\"2024-09-28T01:01:00+00:00\",\"2024-09-28T01:25:00+00:00\",\"2024-09-28T04:00:00+00:00\",\"2024-09-28T04:49:00+00:00\",\"2024-09-28T05:21:00+00:00\",\"2024-09-28T05:36:00+00:00\",\"2024-09-28T06:27:00+00:00\",\"2024-09-28T08:38:00+00:00\",\"2024-09-28T10:00:00+00:00\",\"2024-09-28T10:26:00+00:00\",\"2024-09-28T10:39:00+00:00\",\"2024-09-28T10:48:00+00:00\",\"2024-09-28T12:42:00+00:00\",\"2024-09-28T13:20:00+00:00\",\"2024-09-28T13:23:00+00:00\",\"2024-09-28T15:24:00+00:00\",\"2024-09-28T16:07:00+00:00\",\"2024-09-28T16:46:00+00:00\",\"2024-09-28T16:49:00+00:00\",\"2024-09-28T17:23:00+00:00\",\"2024-09-28T21:22:00+00:00\",\"2024-09-28T21:24:00+00:00\",\"2024-09-28T21:56:00+00:00\",\"2024-09-29T02:12:00+00:00\",\"2024-09-29T02:24:00+00:00\",\"2024-09-29T03:48:00+00:00\",\"2024-09-29T05:59:00+00:00\",\"2024-09-29T07:07:00+00:00\",\"2024-09-29T07:09:00+00:00\",\"2024-09-29T09:04:00+00:00\",\"2024-09-29T10:40:00+00:00\",\"2024-09-29T11:27:00+00:00\",\"2024-09-29T11:48:00+00:00\",\"2024-09-29T14:30:00+00:00\",\"2024-09-29T14:56:00+00:00\",\"2024-09-29T18:02:00+00:00\",\"2024-09-30T02:06:00+00:00\",\"2024-09-30T09:12:00+00:00\",\"2024-09-30T09:22:00+00:00\",\"2024-09-30T09:23:00+00:00\",\"2024-09-30T10:27:00+00:00\",\"2024-09-30T10:37:00+00:00\",\"2024-09-30T10:59:00+00:00\",\"2024-09-30T12:30:00+00:00\",\"2024-09-30T15:47:00+00:00\",\"2024-09-30T16:26:00+00:00\",\"2024-09-30T17:28:00+00:00\",\"2024-09-30T21:53:00+00:00\",\"2024-09-30T23:46:00+00:00\",\"2024-10-01T06:43:00+00:00\",\"2024-10-01T07:35:00+00:00\",\"2024-10-01T09:57:00+00:00\",\"2024-10-01T11:26:00+00:00\",\"2024-10-01T11:43:00+00:00\",\"2024-10-01T11:51:00+00:00\",\"2024-10-01T12:29:00+00:00\",\"2024-10-01T12:39:00+00:00\",\"2024-10-01T13:10:00+00:00\",\"2024-10-01T14:47:00+00:00\",\"2024-10-01T15:03:00+00:00\",\"2024-10-01T16:13:00+00:00\",\"2024-10-01T16:14:00+00:00\",\"2024-10-01T16:30:00+00:00\",\"2024-10-01T16:47:00+00:00\",\"2024-10-01T16:55:00+00:00\",\"2024-10-01T16:56:00+00:00\",\"2024-10-01T17:11:00+00:00\",\"2024-10-01T17:15:00+00:00\",\"2024-10-01T17:21:00+00:00\",\"2024-10-01T17:54:00+00:00\",\"2024-10-01T19:03:00+00:00\",\"2024-10-01T19:12:00+00:00\",\"2024-10-01T20:35:00+00:00\",\"2024-10-01T21:11:00+00:00\",\"2024-10-01T22:20:00+00:00\",\"2024-10-01T23:44:00+00:00\",\"2024-10-02T00:00:00+00:00\",\"2024-10-02T00:58:00+00:00\",\"2024-10-02T01:00:00+00:00\",\"2024-10-02T02:13:00+00:00\",\"2024-10-02T02:16:00+00:00\",\"2024-10-02T02:17:00+00:00\",\"2024-10-02T02:29:00+00:00\",\"2024-10-02T02:32:00+00:00\",\"2024-10-02T03:34:00+00:00\",\"2024-10-02T03:43:00+00:00\",\"2024-10-02T03:51:00+00:00\",\"2024-10-02T04:57:00+00:00\",\"2024-10-02T05:39:00+00:00\",\"2024-10-02T06:15:00+00:00\",\"2024-10-02T06:29:00+00:00\",\"2024-10-02T06:37:00+00:00\",\"2024-10-02T07:10:00+00:00\",\"2024-10-02T09:09:00+00:00\",\"2024-10-02T09:11:00+00:00\",\"2024-10-02T09:16:00+00:00\",\"2024-10-02T10:15:00+00:00\",\"2024-10-02T11:21:00+00:00\",\"2024-10-02T11:58:00+00:00\",\"2024-10-02T12:00:00+00:00\",\"2024-10-02T12:26:00+00:00\",\"2024-10-02T12:46:00+00:00\",\"2024-10-02T13:18:00+00:00\",\"2024-10-02T14:39:00+00:00\",\"2024-10-02T16:04:00+00:00\",\"2024-10-02T16:15:00+00:00\",\"2024-10-02T16:39:00+00:00\",\"2024-10-02T16:46:00+00:00\",\"2024-10-02T16:48:00+00:00\",\"2024-10-02T16:50:00+00:00\",\"2024-10-02T16:52:00+00:00\",\"2024-10-02T17:17:00+00:00\",\"2024-10-02T17:38:00+00:00\",\"2024-10-02T17:59:00+00:00\",\"2024-10-02T18:02:00+00:00\",\"2024-10-02T19:31:00+00:00\",\"2024-10-02T19:39:00+00:00\",\"2024-10-02T21:43:00+00:00\",\"2024-10-02T22:42:00+00:00\",\"2024-10-02T23:54:00+00:00\",\"2024-10-03T00:22:00+00:00\",\"2024-10-03T01:21:00+00:00\",\"2024-10-03T02:45:00+00:00\",\"2024-10-03T02:49:00+00:00\",\"2024-10-03T02:51:00+00:00\",\"2024-10-03T03:18:00+00:00\",\"2024-10-03T03:24:00+00:00\",\"2024-10-03T03:27:00+00:00\",\"2024-10-03T04:10:00+00:00\",\"2024-10-03T04:19:00+00:00\",\"2024-10-03T04:30:00+00:00\",\"2024-10-03T04:37:00+00:00\",\"2024-10-03T04:54:00+00:00\",\"2024-10-03T05:28:00+00:00\",\"2024-10-03T05:30:00+00:00\",\"2024-10-03T05:40:00+00:00\",\"2024-10-03T05:58:00+00:00\",\"2024-10-03T06:42:00+00:00\",\"2024-10-03T06:57:00+00:00\",\"2024-10-03T07:28:00+00:00\",\"2024-10-03T07:30:00+00:00\",\"2024-10-03T08:30:00+00:00\",\"2024-10-03T09:27:00+00:00\",\"2024-10-03T10:48:00+00:00\",\"2024-10-03T11:01:00+00:00\",\"2024-10-03T12:36:00+00:00\",\"2024-10-03T13:00:00+00:00\",\"2024-10-03T13:02:00+00:00\",\"2024-10-03T13:53:00+00:00\",\"2024-10-03T14:01:00+00:00\",\"2024-10-03T14:08:00+00:00\",\"2024-10-03T14:13:00+00:00\",\"2024-10-03T14:16:00+00:00\",\"2024-10-03T15:30:00+00:00\",\"2024-10-03T15:54:00+00:00\",\"2024-10-03T16:37:00+00:00\",\"2024-10-03T16:41:00+00:00\",\"2024-10-03T18:55:00+00:00\",\"2024-10-03T21:37:00+00:00\",\"2024-10-03T21:55:00+00:00\",\"2024-10-03T22:21:00+00:00\",\"2024-10-03T23:16:00+00:00\",\"2024-10-04T00:13:00+00:00\",\"2024-10-04T01:16:00+00:00\",\"2024-10-04T01:42:00+00:00\",\"2024-10-04T01:53:00+00:00\",\"2024-10-04T02:04:00+00:00\",\"2024-10-04T02:31:00+00:00\",\"2024-10-04T02:37:00+00:00\",\"2024-10-04T03:52:00+00:00\",\"2024-10-04T05:19:00+00:00\",\"2024-10-04T06:18:00+00:00\",\"2024-10-04T06:40:00+00:00\",\"2024-10-04T07:17:00+00:00\",\"2024-10-04T07:28:00+00:00\",\"2024-10-04T10:32:00+00:00\",\"2024-10-04T10:43:00+00:00\",\"2024-10-04T11:02:00+00:00\",\"2024-10-04T12:08:00+00:00\",\"2024-10-04T13:02:00+00:00\",\"2024-10-04T13:04:00+00:00\",\"2024-10-04T13:44:00+00:00\",\"2024-10-04T14:43:00+00:00\",\"2024-10-04T15:24:00+00:00\",\"2024-10-04T15:28:00+00:00\",\"2024-10-04T16:36:00+00:00\",\"2024-10-04T17:19:00+00:00\",\"2024-10-04T17:37:00+00:00\",\"2024-10-04T20:16:00+00:00\",\"2024-10-05T01:01:00+00:00\",\"2024-10-05T02:59:00+00:00\",\"2024-10-05T04:07:00+00:00\",\"2024-10-05T05:00:00+00:00\",\"2024-10-05T05:32:00+00:00\",\"2024-10-05T07:26:00+00:00\",\"2024-10-05T07:41:00+00:00\",\"2024-10-05T07:53:00+00:00\",\"2024-10-05T10:14:00+00:00\",\"2024-10-05T10:24:00+00:00\",\"2024-10-05T11:24:00+00:00\",\"2024-10-05T11:50:00+00:00\",\"2024-10-05T12:28:00+00:00\",\"2024-10-05T13:03:00+00:00\",\"2024-10-05T13:27:00+00:00\",\"2024-10-05T13:31:00+00:00\",\"2024-10-05T15:15:00+00:00\",\"2024-10-05T16:08:00+00:00\",\"2024-10-05T17:08:00+00:00\",\"2024-10-06T00:15:00+00:00\",\"2024-10-06T00:51:00+00:00\",\"2024-10-06T05:52:00+00:00\",\"2024-10-06T09:36:00+00:00\",\"2024-10-06T11:56:00+00:00\",\"2024-10-06T13:19:00+00:00\",\"2024-10-06T16:37:00+00:00\",\"2024-10-06T19:47:00+00:00\",\"2024-10-06T23:01:00+00:00\",\"2024-10-07T01:16:00+00:00\",\"2024-10-07T02:20:00+00:00\",\"2024-10-07T03:18:00+00:00\",\"2024-10-07T04:13:00+00:00\",\"2024-10-07T07:03:00+00:00\",\"2024-10-07T08:22:00+00:00\",\"2024-10-07T09:09:00+00:00\",\"2024-10-07T09:34:00+00:00\",\"2024-10-07T10:15:00+00:00\",\"2024-10-07T12:44:00+00:00\",\"2024-10-07T12:55:00+00:00\",\"2024-10-07T16:30:00+00:00\",\"2024-10-07T22:22:00+00:00\",\"2024-10-07T22:56:00+00:00\",\"2024-10-08T02:29:00+00:00\",\"2024-10-08T05:57:00+00:00\",\"2024-10-08T06:40:00+00:00\",\"2024-10-08T07:36:00+00:00\",\"2024-10-08T09:10:00+00:00\",\"2024-10-08T13:44:00+00:00\",\"2024-10-08T15:06:00+00:00\",\"2024-10-08T16:04:00+00:00\",\"2024-10-08T17:44:00+00:00\",\"2024-10-09T02:05:00+00:00\",\"2024-10-09T03:08:00+00:00\",\"2024-10-09T04:42:00+00:00\",\"2024-10-09T05:43:00+00:00\",\"2024-10-09T06:47:00+00:00\",\"2024-10-09T07:47:00+00:00\",\"2024-10-09T09:51:00+00:00\",\"2024-10-09T11:10:00+00:00\",\"2024-10-09T13:08:00+00:00\",\"2024-10-09T14:52:00+00:00\",\"2024-10-09T15:00:00+00:00\",\"2024-10-09T15:04:00+00:00\",\"2024-10-09T15:08:00+00:00\",\"2024-10-09T15:16:00+00:00\",\"2024-10-09T15:17:00+00:00\",\"2024-10-09T15:27:00+00:00\",\"2024-10-09T15:29:00+00:00\",\"2024-10-09T16:05:00+00:00\",\"2024-10-09T19:08:00+00:00\",\"2024-10-09T21:08:00+00:00\",\"2024-10-09T21:30:00+00:00\",\"2024-10-10T00:20:00+00:00\",\"2024-10-10T01:10:00+00:00\"],\"xaxis\":\"x\",\"y\":[0.6038839817047119,0.47867298126220703,0.6651702523231506,0.4616710841655731,0.5117530822753906,0.8812869191169739,0.7998373508453369,0.41327738761901855,0.48604634404182434,0.5841531753540039,0.5301676988601685,0.5325643420219421,0.4309678375720978,0.6104758381843567,0.6804435849189758,0.5306639075279236,0.5123255848884583,0.5191423296928406,0.5377163887023926,0.5873568058013916,0.49320074915885925,0.6355754137039185,0.5318599343299866,0.5506946444511414,0.5089477896690369,0.4369947016239166,0.4616348445415497,0.4884549379348755,0.580930769443512,0.3689216673374176,0.46154072880744934,0.6243802309036255,0.7905211448669434,0.5799171924591064,0.5446224808692932,0.6891207695007324,0.8747107982635498,0.9436502456665039,0.6921809911727905,0.8993020057678223,0.6460651755332947,0.942544162273407,0.8713084161281586,0.6620046496391296,0.7396665811538696,0.7515998184680939,0.43616628646850586,0.8525205850601196,0.4507494568824768,0.9331149458885193,0.938846230506897,0.9380580186843872,0.778937041759491,0.6089714169502258,0.4343971312046051,0.5782963037490845,0.3708031177520752,0.927847683429718,0.5932110548019409,0.4454672336578369,0.9079644083976746,0.4414029121398926,0.4414029121398926,0.4151933789253235,0.7954409122467041,0.8816211223602295,0.5365082025527954,0.4763457179069519,0.5747050642967224,0.5874612331390381,0.8340237140655518,0.5244988203048706,0.41150030493736267,0.35726258158683777,0.761222779750824,0.45082688331604004,0.6413230299949646,0.4140467941761017,0.4573327302932739,0.5092426538467407,0.4468192458152771,0.8069066405296326,0.7155333161354065,0.5360050201416016,0.5616133809089661,0.6666714549064636,0.9319285154342651,0.4067690968513489,0.7974246740341187,0.41083675622940063,0.9376319050788879,0.48517951369285583,0.5845749974250793,0.5989341139793396,0.8693364262580872,0.7613247036933899,0.894930899143219,0.4827456772327423,0.45376503467559814,0.6777509450912476,0.7834855318069458,0.4023647904396057,0.5399937629699707,0.6521387696266174,0.4518762528896332,0.6202693581581116,0.5293984413146973,0.4401107728481293,0.7675278186798096,0.35569339990615845,0.5379159450531006,0.6589135527610779,0.5717471241950989,0.40500712394714355,0.7765250205993652,0.5304211378097534,0.42604586482048035,0.4290202856063843,0.5443680882453918,0.5053512454032898,0.6314332485198975,0.488424688577652,0.708766758441925,0.4198452830314636,0.6243371963500977,0.4051057696342468,0.5790281295776367,0.5293784141540527,0.5508877038955688,0.6234279423952103,0.6977917551994324,0.6986343860626221,0.536257266998291,0.572425365447998,0.4331293851137161,0.4283200204372406,0.4998951852321625,0.7384951114654541,0.9097861647605896,0.4665427803993225,0.8459746241569519,0.6757407188415527,0.4148818552494049,0.4341751039028168,0.5212430953979492,0.513034462928772,0.7885305285453796,0.6156337261199951,0.5636008381843567,0.6048429757356644,0.692738950252533,0.6644574254751205,0.8943232297897339,0.5161800235509872,0.6119424104690552,0.6240796446800232,0.5045551657676697,0.4730982631444931,0.4100792109966278,0.4979519546031952,0.6880714893341064,0.5369307994842529,0.6559336185455322,0.46058329939842224,0.3992243707180023,0.6474754214286804,0.5415471295515696,0.7009102702140808,0.9276136755943298,0.5438886483510336,0.5151397585868835,0.45565101504325867,0.602254331111908,0.6939637064933777,0.578927218914032,0.5969895124435425,0.5060654878616333,0.4570220708847046,0.43145860731601715,0.4592987596988678,0.39498040080070496,0.6706285178661346,0.4576263576745987,0.47872859239578247,0.5881300270557404,0.5524547100067139,0.46975386142730713,0.4403649866580963,0.5765050649642944,0.5229531526565552,0.5237230956554413,0.580420732498169,0.5005562007427216,0.4662603735923767,0.5330958962440491,0.4055168032646179,0.611418604850769,0.3795554041862488,0.4302487075328827,0.6817762851715088,0.4749227464199066,0.5482424795627594,0.5060168951749802,0.6127056082089742,0.49694228172302246,0.6979835331439972,0.4052370488643646,0.4924269914627075,0.460569828748703,0.5400046110153198,0.5479593276977539,0.48345643281936646,0.5291844457387924,0.43232041597366333,0.5049236416816711,0.5111850599447886,0.44659051299095154,0.471269428730011,0.6400031447410583,0.49500587582588196,0.4980563819408417,0.603222131729126,0.4383818209171295,0.4982989728450775,0.4591466784477234,0.4357158839702606,0.47212815284729004,0.5902291536331177,0.6014130711555481,0.6464940309524536,0.6265312433242798,0.7887376546859741,0.5252217054367065,0.6224828958511353,0.9360420107841492,0.4559980630874634,0.6999102085828781,0.6221726536750793,0.4929615259170532,0.7346202731132507,0.5842714756727219,0.5183115303516388,0.7166333198547363,0.4190636873245239,0.9613491892814636,0.5442132949829102,0.7543043494224548,0.7399063110351562,0.5504482388496399,0.4253048896789551,0.5034639984369278,0.6350502371788025,0.4048169255256653,0.4704929192860921,0.6937683671712875,0.4007626473903656,0.503025472164154,0.631937563419342,0.5441558957099915,0.5968912541866302,0.5209793647130331,0.5572952032089233,0.705595850944519,0.5398468375205994,0.4642557203769684,0.6363165378570557,0.44202959537506104,0.6601163148880005,0.6397668123245239,0.6569281816482544,0.7439966201782227,0.7321457266807556,0.3896937221288681,0.7489132285118103,0.6524927417437235,0.6640942096710205,0.4138740599155426,0.6915691494941711,0.6151840686798096,0.7371249794960022,0.6187199801206589,0.5306005477905273,0.4704049825668335,0.4513608515262604,0.47815924882888794,0.39751431345939636,0.4723737835884094,0.4202694296836853,0.5523057579994202,0.6146824955940247,0.5958222150802612,0.8429198861122131,0.8097856044769287,0.812222957611084,0.4160236716270447,0.6557103395462036,0.6022151112556458,0.4162413775920868,0.4224107563495636,0.5959983468055725,0.8158321976661682,0.5340524911880493,0.3941919505596161,0.5410780906677246,0.7130579352378845,0.5003763437271118,0.6407418847084045,0.5982263684272766,0.5718199610710144,0.8616138696670532,0.6617664098739624,0.6113817691802979,0.7265164256095886,0.6107434034347534,0.5957932472229004,0.6096873879432678,0.6273700594902039,0.4896908402442932,0.3663007616996765,0.4868524670600891,0.43339288234710693,0.5744837522506714,0.5501515865325928,0.8779945373535156,0.9554464817047119,0.8831481337547302,0.42171457409858704,0.575528085231781,0.5231541991233826,0.49935877323150635,0.5348072052001953,0.5392612218856812,0.6075272560119629,0.5879632234573364,0.5592519640922546,0.5824562907218933,0.48801279067993164,0.7795249223709106,0.5700613260269165,0.8776136636734009,0.45777031779289246,0.847887396812439,0.7783284187316895,0.63246089220047,0.610156238079071,0.9282314777374268,0.6717730164527893,0.9345439672470093,0.8247389793395996,0.4016999900341034,0.38700467348098755,0.5405524969100952,0.8018346428871155,0.7721238136291504,0.9111617803573608,0.6098816990852356,0.5928462743759155,0.46673494577407837,0.6372321844100952,0.5552219748497009,0.545712411403656,0.5853146314620972,0.7091167569160461,0.697769045829773,0.45089974999427795,0.7234048247337341,0.5879632234573364,0.5253149271011353,0.47021204233169556,0.48885002732276917,0.5004347115755081,0.5305179953575134,0.4694637358188629,0.5005224943161011,0.8060444593429565,0.6667117476463318,0.4312171936035156,0.8435604572296143,0.6411908864974976,0.5365546941757202,0.49006471037864685,0.5039321780204773,0.5783387422561646,0.837003767490387,0.3963014483451843,0.5638748407363892,0.6007390022277832,0.5606359243392944,0.8954344391822815,0.5038207769393921,0.8077953457832336,0.5298503041267395,0.5816791653633118,0.608376145362854,0.5439885258674622,0.7875028550624847,0.973546028137207,0.8055864572525024,0.5392345786094666,0.6432148218154907,0.6983238657315572,0.35101717710494995,0.644599974155426,0.5642952919006348,0.7828758358955383,0.743175208568573,0.4445294141769409,0.47410884499549866,0.4599996507167816,0.5523588359355927,0.6037021279335022,0.6098591089248657,0.5458720326423645,0.7450588345527649,0.4732343554496765,0.5992990732192993,0.5718948841094971,0.7653037905693054,0.6053760051727295,0.4554497301578522,0.6209427416324615,0.6976999938488007,0.5647393465042114,0.5724488720297813,0.7256260514259338,0.7281199991703033,0.48294779658317566,0.5207458883523941,0.6375003010034561,0.5204113324483236,0.7824196219444275,0.5154770016670227,0.4596976041793823,0.6632839441299438,0.6696835160255432,0.6202964782714844,0.8080542087554932,0.45313870906829834,0.8803024291992188,0.5010816007852554,0.4942861795425415,0.3919115960597992,0.6955196857452393,0.5845743715763092,0.5363315045833588,0.5727716684341431,0.6314782500267029,0.607891321182251,0.6490073800086975,0.48528677225112915,0.883674144744873,0.5729796886444092,0.39904943108558655,0.5066222250461578,0.593177080154419,0.4816264808177948,0.8992027640342712,0.41995808482170105,0.5314041376113892,0.49193641543388367,0.45647522807121277,0.5719517469406128,0.847224235534668,0.5256469696760178,0.5720536112785339,0.49337655305862427,0.5266637206077576,0.7557472288608551,0.6870254874229431,0.7762277722358704,0.48490574955940247,0.3730907440185547,0.5715829730033875,0.4374110996723175,0.6874948024749756,0.4959087073802948,0.8069384098052979,0.7736484706401825,0.5892462730407715,0.5448603630065918,0.705447793006897,0.4144035279750824,0.4337449371814728,0.5743343681097031,0.5970273613929749,0.6637516617774963,0.5952497124671936,0.4378351867198944,0.8084160685539246,0.9457945823669434,0.6378939151763916,0.47774824500083923,0.4056834578514099,0.5869517475366592,0.5099648237228394,0.8776841759681702,0.612350344657898,0.5347687005996704,0.44571974873542786,0.784221351146698,0.6911446452140808,0.6175670027732849,0.46315500140190125,0.6007390022277832,0.5952367782592773,0.3991466760635376,0.5623964071273804,0.6038198471069336,0.45948103070259094,0.48365917801856995,0.3689216673374176,0.5091086626052856,0.48294779658317566,0.4468667805194855,0.38374441862106323,0.7135717272758484,0.44210219383239746,0.47173812985420227,0.5448302626609802,0.43243372440338135,0.5388998627662659,0.6038209199905396,0.604119598865509,0.7923576235771179,0.4856559932231903,0.44036999344825745,0.6573978662490845,0.4496079087257385,0.5453833341598511,0.5677075386047363,0.7055311799049377,0.7709985971450806,0.4444066286087036,0.4171963036060333,0.6325328946113586,0.6556138098239899,0.867110013961792,0.7303217649459839,0.5580863952636719,0.4303589463233948,0.5211423635482788,0.6884037256240845,0.8471174836158752,0.6798083186149597,0.4405806362628937,0.37805578112602234,0.8085348606109619,0.6193075180053711,0.5641574859619141,0.9024903178215027,0.6483964323997498,0.5127131938934326,0.45796990394592285,0.9243822693824768,0.6136978268623352,0.6530206799507141,0.4380705654621124,0.5246250629425049,0.6454209089279175,0.5850396156311035,0.7802876234054565,0.4892638027667999,0.7847945690155029,0.6485897898674011,0.5714011788368225,0.6479219794273376,0.5100771188735962,0.5041503310203552,0.469060480594635,0.7851603031158447,0.7468727231025696,0.552315354347229,0.6039138436317444,0.5097628831863403,0.48294779658317566,0.5921115875244141,0.5880228281021118,0.49588078260421753,0.38673850893974304,0.8087630867958069,0.7558555006980896,0.9168842434883118,0.5717791318893433,0.725860059261322,0.561320960521698,0.504427433013916,0.48082685470581055,0.7069223523139954,0.6035186648368835,0.4670916795730591,0.4427643120288849,0.44848352670669556,0.389111191034317,0.5057479739189148,0.4302608072757721,0.84124755859375,0.6742581923802694,0.4302608072757721,0.593856930732727,0.6275486350059509,0.4340982437133789,0.6128883957862854,0.6234195828437805,0.5670734643936157,0.3848034739494324,0.47835013270378113,0.523457944393158,0.43523067235946655,0.4968559145927429,0.5972620248794556,0.40369823575019836,0.41491544246673584,0.6027266383171082,0.5022256970405579,0.4633772373199463,0.5402604341506958,0.6315151751041412,0.4102076292037964,0.599285364151001,0.958277702331543,0.8190664052963257,0.6578562259674072,0.4199700653553009,0.46746522188186646,0.5662855505943298,0.6122791767120361,0.4312337040901184,0.579712986946106,0.4914856255054474,0.5731247663497925,0.5154657959938049,0.950642466545105,0.5500214397907257,0.4286123812198639,0.5916450023651123,0.4371735155582428,0.6913132667541504,0.8199856281280518,0.3933672308921814,0.46502751111984253,0.4518100321292877,0.7502574920654297,0.9034489989280701,0.5563647747039795,0.5154383778572083,0.7381603717803955,0.7355128526687622,0.40035566687583923,0.6740444302558899,0.4378255605697632,0.6582282185554504,0.6199774146080017,0.44278112053871155,0.40929797291755676,0.5814900398254395,0.5365126729011536,0.6175134778022766,0.9515715837478638,0.6324315071105957,0.656692624092102,0.715236246585846,0.4472215175628662,0.5582166314125061,0.9257267117500305,0.8087995052337646,0.41376394033432007,0.4521772563457489,0.43456241488456726,0.5663415789604187,0.4131704568862915,0.3576410412788391,0.8947640657424927,0.6731137633323669,0.6707048267126083,0.7661338448524475,0.8026653528213501,0.5650785565376282,0.9291819334030151,0.8075276017189026,0.5090602040290833,0.8035826086997986,0.8607668280601501,0.6562710404396057,0.6542877554893494,0.6163714528083801,0.6865786910057068,0.6096358001232147,0.9411307573318481,0.5081802606582642,0.5613700747489929,0.8515539765357971,0.5199201703071594,0.3915437161922455,0.44229407608509064,0.5945275624593099,0.4242791533470154,0.7601912021636963,0.5107479691505432,0.5591902732849121,0.6664533019065857,0.5261768698692322,0.5749807953834534,0.4063844680786133,0.4055032432079315,0.7809658646583557,0.8843791484832764,0.505678117275238,0.4742864668369293,0.7441714406013489,0.46236640214920044,0.530180037021637,0.5037605166435242,0.5759073495864868,0.5904618501663208,0.6040908694267273,0.766041100025177,0.5410161018371582,0.6216054558753967,0.6503576040267944,0.6737338304519653,0.4319627285003662,0.5935981273651123,0.5806488394737244,0.6187819838523865,0.7421540319919586,0.6640928983688354,0.5143637657165527,0.9361982941627502,0.7879068851470947,0.46321603655815125,0.5272637605667114,0.5470089912414551,0.8660281300544739,0.7394800384839376,0.5452619194984436,0.4679279625415802,0.8908395171165466,0.540429413318634,0.5989266037940979,0.5104325413703918,0.5072797536849976,0.7181457877159119,0.4246777296066284,0.429800808429718,0.721136212348938,0.7396636009216309,0.4923708140850067,0.47931861877441406,0.8227532505989075,0.7523963451385498,0.48973551392555237,0.591576099395752,0.5269097089767456,0.7622288465499878,0.721968948841095,0.4551137685775757,0.6574788093566895,0.7502050399780273,0.6229574084281921,0.7786917686462402,0.8937713503837585,0.5901257395744324,0.40507063269615173,0.521367609500885,0.5169603228569031,0.4883589446544647,0.7118489742279053,0.5330244898796082,0.6091644167900085,0.5260297060012817,0.5669990181922913,0.9219229221343994,0.7539407014846802,0.6885899901390076,0.5928164720535278,0.8161828517913818,0.6712676882743835,0.5794400572776794,0.4912358820438385,0.5620375275611877,0.4370361268520355,0.431125670671463,0.5092023611068726,0.5262601375579834,0.39509060978889465,0.415917307138443,0.6646566987037659,0.5980689525604248,0.6774435043334961,0.5514284372329712,0.6721556782722473,0.418366938829422,0.5107070207595825,0.43137818574905396,0.9651128053665161,0.6044896245002747,0.520725667476654,0.9212521314620972,0.42530661821365356,0.38299936056137085,0.5692890882492065,0.9694339632987976,0.8707287907600403,0.38632646203041077,0.5439243912696838,0.4629772901535034,0.5094382762908936,0.5320950746536255,0.7540737390518188,0.5605222582817078,0.5996853113174438,0.5253769159317017,0.5416737198829651,0.8575080037117004,0.4473409056663513,0.3982974588871002,0.6174538135528564,0.43498700857162476,0.6703813672065735,0.619651198387146,0.7843459248542786,0.4004180431365967,0.8519039750099182,0.9667050242424011,0.7100386619567871,0.7286758422851562,0.577113926410675,0.49776914715766907,0.4808252453804016,0.9304130673408508,0.40809208154678345,0.5873998999595642,0.782558262348175,0.6024948954582214,0.581210196018219,0.48582398891448975,0.4961960017681122,0.5671281218528748,0.5502653121948242,0.5094885230064392,0.6131963133811951,0.48301151394844055,0.5479409098625183,0.6966502666473389,0.570314347743988,0.7368898391723633,0.5119023323059082,0.6000663042068481,0.5249167680740356,0.8619974851608276,0.5323076844215393,0.5766280889511108,0.7210687398910522,0.7171088457107544,0.5662506222724915,0.8608816266059875,0.5653665661811829,0.6951118111610413,0.7277432084083557,0.44589507579803467,0.5284988284111023,0.43281176686286926,0.9093018770217896,0.749884307384491,0.5926586985588074,0.5261180400848389,0.5703858137130737,0.5976586937904358,0.46287715435028076,0.4838191270828247,0.7062235474586487,0.530847430229187,0.46860888600349426,0.7269250154495239,0.8402422666549683,0.40020236372947693,0.44664669036865234,0.684785783290863,0.9690659642219543,0.38679468631744385,0.7446954846382141,0.40621185302734375,0.7207203507423401,0.446140855550766,0.47939690947532654,0.5465144515037537,0.8040657639503479,0.9545134902000427,0.5791490375995636,0.8767275214195251,0.5827586650848389,0.9533776640892029,0.6389470100402832,0.44163259863853455,0.5592058300971985,0.8278642892837524,0.6120390594005585,0.5822564363479614,0.8293757438659668,0.5461110472679138,0.7574687600135803,0.4160507023334503,0.6754676103591919,0.7994571328163147,0.6972865462303162,0.8224138617515564,0.4489956796169281,0.43238455057144165,0.7755904793739319,0.49916180968284607,0.6320459842681885,0.4881702959537506,0.5996823310852051,0.8220064043998718,0.45958900451660156,0.41402754187583923,0.716018557548523,0.5367510914802551,0.9225672483444214,0.9242281317710876,0.5922918319702148,0.7065626978874207,0.804591178894043,0.4373624920845032,0.49163946509361267,0.6529942154884338,0.5935948491096497,0.8587700724601746,0.4674109071493149,0.5092498064041138,0.636880099773407,0.48661109805107117,0.46970221400260925,0.3984396755695343,0.48569008708000183,0.5138810873031616,0.5807919502258301,0.7214968204498291,0.4679771363735199,0.6967191696166992,0.5022717714309692,0.5813137888908386,0.7500811815261841,0.541167676448822,0.6204709410667419,0.9517666697502136,0.41869378089904785,0.46918755769729614,0.8703833818435669,0.6378318071365356,0.41286346316337585,0.48729977011680603,0.8950195908546448,0.5417978763580322,0.6246676445007324,0.6159601807594299,0.6038286685943604,0.46838173270225525,0.9812350869178772,0.43536415696144104,0.46731990575790405,0.5620313286781311,0.8562714457511902,0.9054670333862305,0.5589624643325806,0.5810001492500305,0.6290618181228638,0.6599113941192627,0.5969851613044739,0.5542303323745728,0.4591456651687622,0.4619878828525543,0.6139182448387146,0.6975789666175842,0.8560792803764343,0.6761490106582642,0.49157750606536865,0.5791859030723572,0.5161730051040649,0.8139408826828003,0.6265286803245544,0.4921022951602936,0.742436945438385,0.5767878293991089,0.6521209478378296,0.7177253365516663,0.4585624635219574,0.5640085339546204,0.38991469144821167,0.705183207988739,0.8712623715400696,0.6025490164756775,0.5688600540161133,0.6638351082801819,0.7870871424674988,0.8694341778755188,0.7188377976417542,0.534719705581665,0.4628831446170807,0.6674728393554688,0.7473376393318176,0.5161458849906921,0.5380675792694092,0.5615359544754028,0.46801137924194336,0.4651274085044861,0.6373591423034668,0.5813454389572144,0.6301981806755066,0.47270944714546204,0.5703836679458618,0.8586248755455017,0.47018152475357056,0.5345150232315063,0.5992210308710734,0.7381165027618408,0.5642617344856262,0.6417533159255981,0.5924780964851379,0.409065842628479,0.6459749341011047,0.8527123332023621,0.5052995681762695,0.5418853163719177,0.4895700216293335,0.5189386010169983,0.6998464465141296,0.6757405996322632,0.557112455368042,0.9466269016265869,0.5428995490074158,0.7074417471885681,0.8587087988853455,0.6607192754745483,0.8181844353675842,0.6747496724128723],\"yaxis\":\"y\",\"type\":\"scattergl\"}],                        {\"template\":{\"data\":{\"histogram2dcontour\":[{\"type\":\"histogram2dcontour\",\"colorbar\":{\"outlinewidth\":0,\"ticks\":\"\"},\"colorscale\":[[0.0,\"#0d0887\"],[0.1111111111111111,\"#46039f\"],[0.2222222222222222,\"#7201a8\"],[0.3333333333333333,\"#9c179e\"],[0.4444444444444444,\"#bd3786\"],[0.5555555555555556,\"#d8576b\"],[0.6666666666666666,\"#ed7953\"],[0.7777777777777778,\"#fb9f3a\"],[0.8888888888888888,\"#fdca26\"],[1.0,\"#f0f921\"]]}],\"choropleth\":[{\"type\":\"choropleth\",\"colorbar\":{\"outlinewidth\":0,\"ticks\":\"\"}}],\"histogram2d\":[{\"type\":\"histogram2d\",\"colorbar\":{\"outlinewidth\":0,\"ticks\":\"\"},\"colorscale\":[[0.0,\"#0d0887\"],[0.1111111111111111,\"#46039f\"],[0.2222222222222222,\"#7201a8\"],[0.3333333333333333,\"#9c179e\"],[0.4444444444444444,\"#bd3786\"],[0.5555555555555556,\"#d8576b\"],[0.6666666666666666,\"#ed7953\"],[0.7777777777777778,\"#fb9f3a\"],[0.8888888888888888,\"#fdca26\"],[1.0,\"#f0f921\"]]}],\"heatmap\":[{\"type\":\"heatmap\",\"colorbar\":{\"outlinewidth\":0,\"ticks\":\"\"},\"colorscale\":[[0.0,\"#0d0887\"],[0.1111111111111111,\"#46039f\"],[0.2222222222222222,\"#7201a8\"],[0.3333333333333333,\"#9c179e\"],[0.4444444444444444,\"#bd3786\"],[0.5555555555555556,\"#d8576b\"],[0.6666666666666666,\"#ed7953\"],[0.7777777777777778,\"#fb9f3a\"],[0.8888888888888888,\"#fdca26\"],[1.0,\"#f0f921\"]]}],\"heatmapgl\":[{\"type\":\"heatmapgl\",\"colorbar\":{\"outlinewidth\":0,\"ticks\":\"\"},\"colorscale\":[[0.0,\"#0d0887\"],[0.1111111111111111,\"#46039f\"],[0.2222222222222222,\"#7201a8\"],[0.3333333333333333,\"#9c179e\"],[0.4444444444444444,\"#bd3786\"],[0.5555555555555556,\"#d8576b\"],[0.6666666666666666,\"#ed7953\"],[0.7777777777777778,\"#fb9f3a\"],[0.8888888888888888,\"#fdca26\"],[1.0,\"#f0f921\"]]}],\"contourcarpet\":[{\"type\":\"contourcarpet\",\"colorbar\":{\"outlinewidth\":0,\"ticks\":\"\"}}],\"contour\":[{\"type\":\"contour\",\"colorbar\":{\"outlinewidth\":0,\"ticks\":\"\"},\"colorscale\":[[0.0,\"#0d0887\"],[0.1111111111111111,\"#46039f\"],[0.2222222222222222,\"#7201a8\"],[0.3333333333333333,\"#9c179e\"],[0.4444444444444444,\"#bd3786\"],[0.5555555555555556,\"#d8576b\"],[0.6666666666666666,\"#ed7953\"],[0.7777777777777778,\"#fb9f3a\"],[0.8888888888888888,\"#fdca26\"],[1.0,\"#f0f921\"]]}],\"surface\":[{\"type\":\"surface\",\"colorbar\":{\"outlinewidth\":0,\"ticks\":\"\"},\"colorscale\":[[0.0,\"#0d0887\"],[0.1111111111111111,\"#46039f\"],[0.2222222222222222,\"#7201a8\"],[0.3333333333333333,\"#9c179e\"],[0.4444444444444444,\"#bd3786\"],[0.5555555555555556,\"#d8576b\"],[0.6666666666666666,\"#ed7953\"],[0.7777777777777778,\"#fb9f3a\"],[0.8888888888888888,\"#fdca26\"],[1.0,\"#f0f921\"]]}],\"mesh3d\":[{\"type\":\"mesh3d\",\"colorbar\":{\"outlinewidth\":0,\"ticks\":\"\"}}],\"scatter\":[{\"fillpattern\":{\"fillmode\":\"overlay\",\"size\":10,\"solidity\":0.2},\"type\":\"scatter\"}],\"parcoords\":[{\"type\":\"parcoords\",\"line\":{\"colorbar\":{\"outlinewidth\":0,\"ticks\":\"\"}}}],\"scatterpolargl\":[{\"type\":\"scatterpolargl\",\"marker\":{\"colorbar\":{\"outlinewidth\":0,\"ticks\":\"\"}}}],\"bar\":[{\"error_x\":{\"color\":\"#2a3f5f\"},\"error_y\":{\"color\":\"#2a3f5f\"},\"marker\":{\"line\":{\"color\":\"#E5ECF6\",\"width\":0.5},\"pattern\":{\"fillmode\":\"overlay\",\"size\":10,\"solidity\":0.2}},\"type\":\"bar\"}],\"scattergeo\":[{\"type\":\"scattergeo\",\"marker\":{\"colorbar\":{\"outlinewidth\":0,\"ticks\":\"\"}}}],\"scatterpolar\":[{\"type\":\"scatterpolar\",\"marker\":{\"colorbar\":{\"outlinewidth\":0,\"ticks\":\"\"}}}],\"histogram\":[{\"marker\":{\"pattern\":{\"fillmode\":\"overlay\",\"size\":10,\"solidity\":0.2}},\"type\":\"histogram\"}],\"scattergl\":[{\"type\":\"scattergl\",\"marker\":{\"colorbar\":{\"outlinewidth\":0,\"ticks\":\"\"}}}],\"scatter3d\":[{\"type\":\"scatter3d\",\"line\":{\"colorbar\":{\"outlinewidth\":0,\"ticks\":\"\"}},\"marker\":{\"colorbar\":{\"outlinewidth\":0,\"ticks\":\"\"}}}],\"scattermapbox\":[{\"type\":\"scattermapbox\",\"marker\":{\"colorbar\":{\"outlinewidth\":0,\"ticks\":\"\"}}}],\"scatterternary\":[{\"type\":\"scatterternary\",\"marker\":{\"colorbar\":{\"outlinewidth\":0,\"ticks\":\"\"}}}],\"scattercarpet\":[{\"type\":\"scattercarpet\",\"marker\":{\"colorbar\":{\"outlinewidth\":0,\"ticks\":\"\"}}}],\"carpet\":[{\"aaxis\":{\"endlinecolor\":\"#2a3f5f\",\"gridcolor\":\"white\",\"linecolor\":\"white\",\"minorgridcolor\":\"white\",\"startlinecolor\":\"#2a3f5f\"},\"baxis\":{\"endlinecolor\":\"#2a3f5f\",\"gridcolor\":\"white\",\"linecolor\":\"white\",\"minorgridcolor\":\"white\",\"startlinecolor\":\"#2a3f5f\"},\"type\":\"carpet\"}],\"table\":[{\"cells\":{\"fill\":{\"color\":\"#EBF0F8\"},\"line\":{\"color\":\"white\"}},\"header\":{\"fill\":{\"color\":\"#C8D4E3\"},\"line\":{\"color\":\"white\"}},\"type\":\"table\"}],\"barpolar\":[{\"marker\":{\"line\":{\"color\":\"#E5ECF6\",\"width\":0.5},\"pattern\":{\"fillmode\":\"overlay\",\"size\":10,\"solidity\":0.2}},\"type\":\"barpolar\"}],\"pie\":[{\"automargin\":true,\"type\":\"pie\"}]},\"layout\":{\"autotypenumbers\":\"strict\",\"colorway\":[\"#636efa\",\"#EF553B\",\"#00cc96\",\"#ab63fa\",\"#FFA15A\",\"#19d3f3\",\"#FF6692\",\"#B6E880\",\"#FF97FF\",\"#FECB52\"],\"font\":{\"color\":\"#2a3f5f\"},\"hovermode\":\"closest\",\"hoverlabel\":{\"align\":\"left\"},\"paper_bgcolor\":\"white\",\"plot_bgcolor\":\"#E5ECF6\",\"polar\":{\"bgcolor\":\"#E5ECF6\",\"angularaxis\":{\"gridcolor\":\"white\",\"linecolor\":\"white\",\"ticks\":\"\"},\"radialaxis\":{\"gridcolor\":\"white\",\"linecolor\":\"white\",\"ticks\":\"\"}},\"ternary\":{\"bgcolor\":\"#E5ECF6\",\"aaxis\":{\"gridcolor\":\"white\",\"linecolor\":\"white\",\"ticks\":\"\"},\"baxis\":{\"gridcolor\":\"white\",\"linecolor\":\"white\",\"ticks\":\"\"},\"caxis\":{\"gridcolor\":\"white\",\"linecolor\":\"white\",\"ticks\":\"\"}},\"coloraxis\":{\"colorbar\":{\"outlinewidth\":0,\"ticks\":\"\"}},\"colorscale\":{\"sequential\":[[0.0,\"#0d0887\"],[0.1111111111111111,\"#46039f\"],[0.2222222222222222,\"#7201a8\"],[0.3333333333333333,\"#9c179e\"],[0.4444444444444444,\"#bd3786\"],[0.5555555555555556,\"#d8576b\"],[0.6666666666666666,\"#ed7953\"],[0.7777777777777778,\"#fb9f3a\"],[0.8888888888888888,\"#fdca26\"],[1.0,\"#f0f921\"]],\"sequentialminus\":[[0.0,\"#0d0887\"],[0.1111111111111111,\"#46039f\"],[0.2222222222222222,\"#7201a8\"],[0.3333333333333333,\"#9c179e\"],[0.4444444444444444,\"#bd3786\"],[0.5555555555555556,\"#d8576b\"],[0.6666666666666666,\"#ed7953\"],[0.7777777777777778,\"#fb9f3a\"],[0.8888888888888888,\"#fdca26\"],[1.0,\"#f0f921\"]],\"diverging\":[[0,\"#8e0152\"],[0.1,\"#c51b7d\"],[0.2,\"#de77ae\"],[0.3,\"#f1b6da\"],[0.4,\"#fde0ef\"],[0.5,\"#f7f7f7\"],[0.6,\"#e6f5d0\"],[0.7,\"#b8e186\"],[0.8,\"#7fbc41\"],[0.9,\"#4d9221\"],[1,\"#276419\"]]},\"xaxis\":{\"gridcolor\":\"white\",\"linecolor\":\"white\",\"ticks\":\"\",\"title\":{\"standoff\":15},\"zerolinecolor\":\"white\",\"automargin\":true,\"zerolinewidth\":2},\"yaxis\":{\"gridcolor\":\"white\",\"linecolor\":\"white\",\"ticks\":\"\",\"title\":{\"standoff\":15},\"zerolinecolor\":\"white\",\"automargin\":true,\"zerolinewidth\":2},\"scene\":{\"xaxis\":{\"backgroundcolor\":\"#E5ECF6\",\"gridcolor\":\"white\",\"linecolor\":\"white\",\"showbackground\":true,\"ticks\":\"\",\"zerolinecolor\":\"white\",\"gridwidth\":2},\"yaxis\":{\"backgroundcolor\":\"#E5ECF6\",\"gridcolor\":\"white\",\"linecolor\":\"white\",\"showbackground\":true,\"ticks\":\"\",\"zerolinecolor\":\"white\",\"gridwidth\":2},\"zaxis\":{\"backgroundcolor\":\"#E5ECF6\",\"gridcolor\":\"white\",\"linecolor\":\"white\",\"showbackground\":true,\"ticks\":\"\",\"zerolinecolor\":\"white\",\"gridwidth\":2}},\"shapedefaults\":{\"line\":{\"color\":\"#2a3f5f\"}},\"annotationdefaults\":{\"arrowcolor\":\"#2a3f5f\",\"arrowhead\":0,\"arrowwidth\":1},\"geo\":{\"bgcolor\":\"white\",\"landcolor\":\"#E5ECF6\",\"subunitcolor\":\"white\",\"showland\":true,\"showlakes\":true,\"lakecolor\":\"white\"},\"title\":{\"x\":0.05},\"mapbox\":{\"style\":\"light\"}}},\"xaxis\":{\"anchor\":\"y\",\"domain\":[0.0,1.0],\"title\":{\"text\":\"timestamp\"}},\"yaxis\":{\"anchor\":\"x\",\"domain\":[0.0,1.0],\"title\":{\"text\":\"sentiment_score\"}},\"legend\":{\"tracegroupgap\":0},\"title\":{\"text\":\"Average Sentiment Score Over Time\"}},                        {\"responsive\": true}                    ).then(function(){\n",
       "                            \n",
       "var gd = document.getElementById('75cf0a79-dc9f-4e28-99ce-b9d4eb3984b4');\n",
       "var x = new MutationObserver(function (mutations, observer) {{\n",
       "        var display = window.getComputedStyle(gd).display;\n",
       "        if (!display || display === 'none') {{\n",
       "            console.log([gd, 'removed!']);\n",
       "            Plotly.purge(gd);\n",
       "            observer.disconnect();\n",
       "        }}\n",
       "}});\n",
       "\n",
       "// Listen for the removal of the full notebook cells\n",
       "var notebookContainer = gd.closest('#notebook-container');\n",
       "if (notebookContainer) {{\n",
       "    x.observe(notebookContainer, {childList: true});\n",
       "}}\n",
       "\n",
       "// Listen for the clearing of the current output cell\n",
       "var outputEl = gd.closest('.output');\n",
       "if (outputEl) {{\n",
       "    x.observe(outputEl, {childList: true});\n",
       "}}\n",
       "\n",
       "                        })                };                });            </script>        </div>"
      ]
     },
     "metadata": {},
     "output_type": "display_data"
    }
   ],
   "execution_count": 31
  },
  {
   "metadata": {
    "ExecuteTime": {
     "end_time": "2024-10-10T03:17:40.101726Z",
     "start_time": "2024-10-10T03:17:40.096181Z"
    }
   },
   "cell_type": "code",
   "source": [
    "# analyze the sentiment score\n",
    "df['sentiment_score'].describe()\n"
   ],
   "id": "fa0abd5778ff4aae",
   "outputs": [
    {
     "data": {
      "text/plain": [
       "count    1324.000000\n",
       "mean        0.598872\n",
       "std         0.149250\n",
       "min         0.351017\n",
       "25%         0.483608\n",
       "50%         0.570188\n",
       "75%         0.689002\n",
       "max         0.981235\n",
       "Name: sentiment_score, dtype: float64"
      ]
     },
     "execution_count": 32,
     "metadata": {},
     "output_type": "execute_result"
    }
   ],
   "execution_count": 32
  },
  {
   "metadata": {},
   "cell_type": "code",
   "outputs": [],
   "execution_count": null,
   "source": "",
   "id": "c204ec860ca25775"
  }
 ],
 "metadata": {
  "kernelspec": {
   "display_name": "Python 3",
   "language": "python",
   "name": "python3"
  },
  "language_info": {
   "codemirror_mode": {
    "name": "ipython",
    "version": 2
   },
   "file_extension": ".py",
   "mimetype": "text/x-python",
   "name": "python",
   "nbconvert_exporter": "python",
   "pygments_lexer": "ipython2",
   "version": "2.7.6"
  }
 },
 "nbformat": 4,
 "nbformat_minor": 5
}
